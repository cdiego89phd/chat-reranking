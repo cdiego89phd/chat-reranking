{
 "cells": [
  {
   "cell_type": "code",
   "id": "initial_id",
   "metadata": {
    "collapsed": true,
    "ExecuteTime": {
     "end_time": "2024-05-03T15:34:49.174909Z",
     "start_time": "2024-05-03T15:34:48.717937Z"
    }
   },
   "source": [
    "import numpy as np\n",
    "import pandas as pd\n",
    "import random\n",
    "import pickle\n",
    "import json"
   ],
   "outputs": [],
   "execution_count": 1
  },
  {
   "cell_type": "code",
   "execution_count": null,
   "outputs": [],
   "source": [],
   "metadata": {
    "collapsed": false
   },
   "id": "623eddde8c590500"
  },
  {
   "cell_type": "markdown",
   "source": [
    "<h2>Tuning the # of candidate items<h2>"
   ],
   "metadata": {
    "collapsed": false
   },
   "id": "3ff292496084483d"
  },
  {
   "cell_type": "code",
   "execution_count": 29,
   "outputs": [],
   "source": [
    "recs_folder = \"/home/diego/chat-reranking/experiments/goodreads/recs/reranked\"\n",
    "recs_name = \"chatgpt0613-div-p1-pzt-fold_0_50_20\"\n",
    "top_n = 10\n",
    "\n",
    "# read JSON file\n",
    "f = open(f\"{recs_folder}/{recs_name}.json\")\n",
    "data = json.load(f)\n",
    "f.close()"
   ],
   "metadata": {
    "collapsed": false,
    "ExecuteTime": {
     "end_time": "2023-11-10T16:58:01.040379836Z",
     "start_time": "2023-11-10T16:58:01.020347039Z"
    }
   },
   "id": "d133709257207090"
  },
  {
   "cell_type": "code",
   "execution_count": 30,
   "outputs": [
    {
     "name": "stdout",
     "output_type": "stream",
     "text": [
      "Tune the length of the candidate set: chatgpt\n",
      "Average max reranking pos: 36.689655172413794\n",
      "Average std reranking pos: 14.692487989764354\n"
     ]
    }
   ],
   "source": [
    "print(\"Tune the length of the candidate set: chatgpt\")\n",
    "max_pos = []\n",
    "for entry in data:\n",
    "    base = entry['recs']\n",
    "    re_ranked = entry['reranked_recs']\n",
    "    if len(re_ranked) == 0:\n",
    "        continue\n",
    "\n",
    "    def return_pos(j):\n",
    "        if j in base:\n",
    "            return base.index(j)\n",
    "        else:\n",
    "            return 0\n",
    "\n",
    "    pos = [return_pos(r) for r in re_ranked]\n",
    "    max_pos.append(max(pos))\n",
    "\n",
    "print(f\"Average max reranking pos: {np.mean(max_pos)}\") \n",
    "print(f\"Average std reranking pos: {np.std(max_pos)}\")   "
   ],
   "metadata": {
    "collapsed": false,
    "ExecuteTime": {
     "end_time": "2023-11-10T16:58:02.244277119Z",
     "start_time": "2023-11-10T16:58:02.238303101Z"
    }
   },
   "id": "c6cc3f0ccac887c4"
  },
  {
   "cell_type": "code",
   "execution_count": 28,
   "outputs": [
    {
     "name": "stdout",
     "output_type": "stream",
     "text": [
      "Tune the length of the candidate set: baseline reranker Random-pzt-fold_0_50_20\n",
      "Average max reranking pos: 45.45333333333333\n",
      "Average std reranking pos: 3.9800949179078073\n"
     ]
    }
   ],
   "source": [
    "rerankers = [\"MMR-pzt-fold_0_50_20\", \"RxQuAD-pzt-fold_0_50_20\", \"xQuAD-pzt-fold_0_50_20\", \"Random-pzt-fold_0_50_20\"]\n",
    "\n",
    "print(f\"Tune the length of the candidate set: baseline reranker {rerankers[3]}\")\n",
    "base_recs = pd.read_csv(f\"/home/diego/chat-reranking/experiments/goodreads/recs/baselines/pzt-fold_0_50_20\", \n",
    "                            names=[\"userid\", \"itemid\", \"rating\"], sep=\"\\t\")\n",
    "re_ranked = pd.read_csv(f\"/home/diego/chat-reranking/experiments/goodreads/recs/reranked/{rerankers[3]}\", \n",
    "                            names=[\"userid\", \"itemid\", \"rating\"], sep=\"\\t\")\n",
    "\n",
    "max_pos = []\n",
    "for userid in re_ranked[\"userid\"].unique()[:300]:\n",
    "    base = list(base_recs[base_recs[\"userid\"] == userid][\"itemid\"].values[:50])\n",
    "    recs = re_ranked[re_ranked[\"userid\"] == userid][\"itemid\"].values.tolist()\n",
    "        \n",
    "    pos = [base.index(r) for r in recs]\n",
    "    max_pos.append(max(pos))\n",
    "print(f\"Average max reranking pos: {np.mean(max_pos)}\") \n",
    "print(f\"Average std reranking pos: {np.std(max_pos)}\")  "
   ],
   "metadata": {
    "collapsed": false,
    "ExecuteTime": {
     "end_time": "2023-11-10T14:42:30.686327195Z",
     "start_time": "2023-11-10T14:42:21.426604766Z"
    }
   },
   "id": "725b19516463ab93"
  },
  {
   "cell_type": "code",
   "execution_count": null,
   "outputs": [],
   "source": [],
   "metadata": {
    "collapsed": false
   },
   "id": "e91f472b3189f4b5"
  },
  {
   "cell_type": "code",
   "execution_count": null,
   "outputs": [],
   "source": [],
   "metadata": {
    "collapsed": false
   },
   "id": "47fa43f0af79ef69"
  },
  {
   "cell_type": "markdown",
   "source": [
    "<h2>Convert rec files for Ranksys</h2>"
   ],
   "metadata": {
    "collapsed": false
   },
   "id": "5afc009b3dc0cd99"
  },
  {
   "cell_type": "code",
   "source": [
    "recs_folder = \"/home/diego/chat-reranking/experiments/goodreads/recs/reranked_final\"\n",
    "recs_name = \"Llama-2-13b-chat-hf-div-p12-pzt-fold_0\"\n",
    "top_n = 10\n",
    "\n",
    "# read JSON file\n",
    "f = open(f\"{recs_folder}/{recs_name}.json\")\n",
    "data = json.load(f)\n",
    "f.close()"
   ],
   "metadata": {
    "collapsed": false,
    "ExecuteTime": {
     "end_time": "2024-04-27T14:37:18.235772Z",
     "start_time": "2024-04-27T14:37:18.172745Z"
    }
   },
   "id": "aecbe8306ce61525",
   "outputs": [],
   "execution_count": 27
  },
  {
   "cell_type": "code",
   "source": [
    "train_folder = f\"/home/diego/chat-reranking/experiments/goodreads/fold_0/train_data.csv\"\n",
    "training_data = pd.read_csv(f'{train_folder}', names=[\"userid\", \"itemid\", \"rating\"], sep=\"\\t\")"
   ],
   "metadata": {
    "collapsed": false,
    "ExecuteTime": {
     "end_time": "2024-04-27T14:37:19.612807Z",
     "start_time": "2024-04-27T14:37:18.365884Z"
    }
   },
   "id": "7d92290f84da6090",
   "outputs": [],
   "execution_count": 28
  },
  {
   "cell_type": "markdown",
   "source": [
    "Some recommendations might contain \n",
    "- less than 10 items\n",
    "- items that are from the training\n",
    "\n",
    "We need to remove these items from the recommenations (and count them)"
   ],
   "metadata": {
    "collapsed": false
   },
   "id": "177afbd5b1cc9ae5"
  },
  {
   "cell_type": "code",
   "source": [
    "# check whether some recommendations don't intersect with the candidate set\n",
    "recs = {}\n",
    "candidate_set = {}\n",
    "tot_rec_before_pruning = 0\n",
    "tot_rec_after_pruning = 0\n",
    "for entry in data:\n",
    "    userid = entry['userid']\n",
    "    recs[userid] = entry['reranked_recs']\n",
    "    candidate_set[userid] = entry['recs']\n",
    "    tot_rec_before_pruning += len(recs[userid])\n",
    "    user_train = training_data[training_data[\"userid\"] == entry['userid']][\"itemid\"].values.tolist()\n",
    "    to_prune = recs[userid]\n",
    "    for i, item in enumerate(recs[userid]):\n",
    "        if item not in candidate_set[userid]:\n",
    "            del to_prune[i]\n",
    "            # print(f\"user {entry['userid']}: {item}\")\n",
    "            # print(item)\n",
    "            # print(entry['recs'])\n",
    "            # print(\"######\")\n",
    "    recs[userid] = to_prune\n",
    "    tot_rec_after_pruning += len(to_prune)\n",
    "print(f\"# recs before pruning: {tot_rec_before_pruning}\")\n",
    "print(f\"# recs after pruning: {tot_rec_after_pruning}\")"
   ],
   "metadata": {
    "collapsed": false,
    "ExecuteTime": {
     "end_time": "2024-04-27T14:37:22.263077Z",
     "start_time": "2024-04-27T14:37:19.614349Z"
    }
   },
   "id": "4d5b3b9674d55643",
   "outputs": [
    {
     "name": "stdout",
     "output_type": "stream",
     "text": [
      "# recs before pruning: 5000\n",
      "# recs after pruning: 5000\n"
     ]
    }
   ],
   "execution_count": 29
  },
  {
   "cell_type": "code",
   "source": [
    "# count users with less than 10 recommendations\n",
    "count = 0\n",
    "count_none = 0\n",
    "avg_len = []\n",
    "for userid in recs:\n",
    "    avg_len.append(len(recs[userid]))\n",
    "    if len(recs[userid]) < 10:\n",
    "        count += 1\n",
    "    if len(recs[userid]) == 0:\n",
    "        count_none += 1\n",
    "print(f\"# of users with less than 10 recommendations: {count}\")\n",
    "print(f\"# of users with no recommendations: {count_none}\")\n",
    "print(f\"avg number of recommendations per user: {np.mean(avg_len)}\")"
   ],
   "metadata": {
    "collapsed": false,
    "ExecuteTime": {
     "end_time": "2024-04-27T14:37:22.269295Z",
     "start_time": "2024-04-27T14:37:22.264355Z"
    }
   },
   "id": "918e3db857157950",
   "outputs": [
    {
     "name": "stdout",
     "output_type": "stream",
     "text": [
      "# of users with less than 10 recommendations: 0\n",
      "# of users with no recommendations: 0\n",
      "avg number of recommendations per user: 10.0\n"
     ]
    }
   ],
   "execution_count": 30
  },
  {
   "cell_type": "code",
   "source": [
    "# print final recommendations\n",
    "exclude_violating_recs = True\n",
    "excluded = 0\n",
    "with open(f\"{recs_folder}/{recs_name}\", \"w\") as f:\n",
    "    for userid in recs:\n",
    "        if len(recs[userid]) < 10:\n",
    "            excluded += 1\n",
    "            continue\n",
    "        score = float(top_n)\n",
    "        usr_str = \"\"\n",
    "        for r in recs[userid]:\n",
    "            usr_str += f\"{userid}\\t{r}\\t{score}\\n\"\n",
    "            score -= 1.0\n",
    "        f.write(usr_str)\n",
    "print(\"Printed!\")\n",
    "print(f\"# of excluded users: {excluded}\")"
   ],
   "metadata": {
    "collapsed": false,
    "ExecuteTime": {
     "end_time": "2024-04-27T14:37:22.287998Z",
     "start_time": "2024-04-27T14:37:22.271454Z"
    }
   },
   "id": "3910f3f2ac9e502a",
   "outputs": [
    {
     "name": "stdout",
     "output_type": "stream",
     "text": [
      "Printed!\n",
      "# of excluded users: 0\n"
     ]
    }
   ],
   "execution_count": 31
  },
  {
   "cell_type": "code",
   "execution_count": 135,
   "outputs": [],
   "source": [],
   "metadata": {
    "collapsed": false,
    "ExecuteTime": {
     "end_time": "2023-12-01T15:54:44.823616762Z",
     "start_time": "2023-12-01T15:54:44.781404801Z"
    }
   },
   "id": "cd7dded7ba16574a"
  },
  {
   "cell_type": "code",
   "execution_count": 105,
   "outputs": [],
   "source": [],
   "metadata": {
    "collapsed": false,
    "ExecuteTime": {
     "end_time": "2023-12-01T15:51:45.014886432Z",
     "start_time": "2023-12-01T15:51:44.997567134Z"
    }
   },
   "id": "9b9eb52261ec4801"
  },
  {
   "cell_type": "markdown",
   "source": [
    "<h2>Results goodreads (dataset features)</h2>"
   ],
   "metadata": {
    "collapsed": false
   },
   "id": "e311e59a11ff8973"
  },
  {
   "cell_type": "code",
   "execution_count": 136,
   "outputs": [],
   "source": [
    "results_path = \"/home/diego/chat-reranking/experiments/goodreads/results/ranksys_eval\"\n",
    "baseline_recs = pd.read_csv(f\"{results_path}/pzt-fold_0-@10.csv\")\n",
    "random_recs = pd.read_csv(f\"{results_path}/Random-pzt-fold_0-@10.csv\")\n",
    "mmr_recs = pd.read_csv(f\"{results_path}/MMR-pzt-fold_0-@10.csv\")\n",
    "xquad_recs = pd.read_csv(f\"{results_path}/xQuAD-pzt-fold_0-@10.csv\")\n",
    "rxquad_recs = pd.read_csv(f\"{results_path}/RxQuAD-pzt-fold_0-@10.csv\")"
   ],
   "metadata": {
    "collapsed": false,
    "ExecuteTime": {
     "end_time": "2023-12-04T14:44:21.694423871Z",
     "start_time": "2023-12-04T14:44:21.637140294Z"
    }
   },
   "id": "1e5240635a111c7e"
  },
  {
   "cell_type": "code",
   "execution_count": 137,
   "outputs": [],
   "source": [
    "d = {\"reranker\": [\"baseline (MF)\", \"Random\", \"MMR\", \"xQuAD\", \"RxQuAD\"]}\n",
    "for col in baseline_recs.columns:\n",
    "    d[col] = [baseline_recs[col][0], random_recs[col][0], mmr_recs[col][0], xquad_recs[col][0], rxquad_recs[col][0]]\n",
    "results = pd.DataFrame(data=d)"
   ],
   "metadata": {
    "collapsed": false,
    "ExecuteTime": {
     "end_time": "2023-12-04T14:44:29.695741725Z",
     "start_time": "2023-12-04T14:44:29.655741847Z"
    }
   },
   "id": "99d4c1036ec60304"
  },
  {
   "cell_type": "code",
   "execution_count": 138,
   "outputs": [
    {
     "data": {
      "text/plain": "     prec      ndcg    a_ndcg  eild_rel  eild_norel  s_recall_rel  \\\n0  0.1602  0.248728  0.270909  0.092359    0.688506      0.354750   \n1  0.0728  0.083711  0.109312  0.026492    0.702416      0.199375   \n2  0.1508  0.237113  0.253010  0.090090    0.810339      0.335875   \n3  0.1524  0.229247  0.308145  0.083743    0.631831      0.386000   \n4  0.1528  0.228629  0.303107  0.084458    0.635340      0.380875   \n\n   s_recall_norel       reranker  \n0        0.871000  baseline (MF)  \n1        0.889000         Random  \n2        0.933750            MMR  \n3        0.958250          xQuAD  \n4        0.945875         RxQuAD  ",
      "text/html": "<div>\n<style scoped>\n    .dataframe tbody tr th:only-of-type {\n        vertical-align: middle;\n    }\n\n    .dataframe tbody tr th {\n        vertical-align: top;\n    }\n\n    .dataframe thead th {\n        text-align: right;\n    }\n</style>\n<table border=\"1\" class=\"dataframe\">\n  <thead>\n    <tr style=\"text-align: right;\">\n      <th></th>\n      <th>prec</th>\n      <th>ndcg</th>\n      <th>a_ndcg</th>\n      <th>eild_rel</th>\n      <th>eild_norel</th>\n      <th>s_recall_rel</th>\n      <th>s_recall_norel</th>\n      <th>reranker</th>\n    </tr>\n  </thead>\n  <tbody>\n    <tr>\n      <th>0</th>\n      <td>0.1602</td>\n      <td>0.248728</td>\n      <td>0.270909</td>\n      <td>0.092359</td>\n      <td>0.688506</td>\n      <td>0.354750</td>\n      <td>0.871000</td>\n      <td>baseline (MF)</td>\n    </tr>\n    <tr>\n      <th>1</th>\n      <td>0.0728</td>\n      <td>0.083711</td>\n      <td>0.109312</td>\n      <td>0.026492</td>\n      <td>0.702416</td>\n      <td>0.199375</td>\n      <td>0.889000</td>\n      <td>Random</td>\n    </tr>\n    <tr>\n      <th>2</th>\n      <td>0.1508</td>\n      <td>0.237113</td>\n      <td>0.253010</td>\n      <td>0.090090</td>\n      <td>0.810339</td>\n      <td>0.335875</td>\n      <td>0.933750</td>\n      <td>MMR</td>\n    </tr>\n    <tr>\n      <th>3</th>\n      <td>0.1524</td>\n      <td>0.229247</td>\n      <td>0.308145</td>\n      <td>0.083743</td>\n      <td>0.631831</td>\n      <td>0.386000</td>\n      <td>0.958250</td>\n      <td>xQuAD</td>\n    </tr>\n    <tr>\n      <th>4</th>\n      <td>0.1528</td>\n      <td>0.228629</td>\n      <td>0.303107</td>\n      <td>0.084458</td>\n      <td>0.635340</td>\n      <td>0.380875</td>\n      <td>0.945875</td>\n      <td>RxQuAD</td>\n    </tr>\n  </tbody>\n</table>\n</div>"
     },
     "execution_count": 138,
     "metadata": {},
     "output_type": "execute_result"
    }
   ],
   "source": [
    "results = results[[\"prec\", \"ndcg\", \"a_ndcg\", \"eild_rel\", \"eild_norel\", \"s_recall_rel\", \"s_recall_norel\"]]\n",
    "results[\"reranker\"] = [\"baseline (MF)\", \"Random\", \"MMR\", \"xQuAD\", \"RxQuAD\"]\n",
    "results"
   ],
   "metadata": {
    "collapsed": false,
    "ExecuteTime": {
     "end_time": "2023-12-04T14:44:38.847824867Z",
     "start_time": "2023-12-04T14:44:38.802021140Z"
    }
   },
   "id": "1ab1685b56dd2024"
  },
  {
   "cell_type": "code",
   "execution_count": 138,
   "outputs": [],
   "source": [],
   "metadata": {
    "collapsed": false,
    "ExecuteTime": {
     "end_time": "2023-12-04T14:46:05.175821527Z",
     "start_time": "2023-12-04T14:46:05.133151290Z"
    }
   },
   "id": "cf42549c753ce973"
  },
  {
   "cell_type": "code",
   "execution_count": 139,
   "outputs": [
    {
     "data": {
      "text/plain": "     prec      ndcg    a_ndcg  eild_rel  eild_norel  s_recall_rel  \\\n0  0.1012  0.160837  0.210004  0.045334    0.655494      0.268625   \n1  0.1160  0.179655  0.227201  0.058571    0.672305      0.296375   \n2  0.0972  0.155974  0.208587  0.045594    0.651504      0.265625   \n3  0.0924  0.149393  0.203716  0.038615    0.650217      0.261000   \n4  0.1194  0.188387  0.242346  0.061045    0.661821      0.318250   \n5  0.1072  0.174440  0.233803  0.051542    0.651506      0.301500   \n\n   s_recall_norel     reranker  \n0        0.877375  chat-gpt-p1  \n1        0.886125  chat-gpt-p2  \n2        0.882625  chat-gpt-p3  \n3        0.883625  chat-gpt-p4  \n4        0.893000  chat-gpt-p5  \n5        0.902625  chat-gpt-p6  ",
      "text/html": "<div>\n<style scoped>\n    .dataframe tbody tr th:only-of-type {\n        vertical-align: middle;\n    }\n\n    .dataframe tbody tr th {\n        vertical-align: top;\n    }\n\n    .dataframe thead th {\n        text-align: right;\n    }\n</style>\n<table border=\"1\" class=\"dataframe\">\n  <thead>\n    <tr style=\"text-align: right;\">\n      <th></th>\n      <th>prec</th>\n      <th>ndcg</th>\n      <th>a_ndcg</th>\n      <th>eild_rel</th>\n      <th>eild_norel</th>\n      <th>s_recall_rel</th>\n      <th>s_recall_norel</th>\n      <th>reranker</th>\n    </tr>\n  </thead>\n  <tbody>\n    <tr>\n      <th>0</th>\n      <td>0.1012</td>\n      <td>0.160837</td>\n      <td>0.210004</td>\n      <td>0.045334</td>\n      <td>0.655494</td>\n      <td>0.268625</td>\n      <td>0.877375</td>\n      <td>chat-gpt-p1</td>\n    </tr>\n    <tr>\n      <th>1</th>\n      <td>0.1160</td>\n      <td>0.179655</td>\n      <td>0.227201</td>\n      <td>0.058571</td>\n      <td>0.672305</td>\n      <td>0.296375</td>\n      <td>0.886125</td>\n      <td>chat-gpt-p2</td>\n    </tr>\n    <tr>\n      <th>2</th>\n      <td>0.0972</td>\n      <td>0.155974</td>\n      <td>0.208587</td>\n      <td>0.045594</td>\n      <td>0.651504</td>\n      <td>0.265625</td>\n      <td>0.882625</td>\n      <td>chat-gpt-p3</td>\n    </tr>\n    <tr>\n      <th>3</th>\n      <td>0.0924</td>\n      <td>0.149393</td>\n      <td>0.203716</td>\n      <td>0.038615</td>\n      <td>0.650217</td>\n      <td>0.261000</td>\n      <td>0.883625</td>\n      <td>chat-gpt-p4</td>\n    </tr>\n    <tr>\n      <th>4</th>\n      <td>0.1194</td>\n      <td>0.188387</td>\n      <td>0.242346</td>\n      <td>0.061045</td>\n      <td>0.661821</td>\n      <td>0.318250</td>\n      <td>0.893000</td>\n      <td>chat-gpt-p5</td>\n    </tr>\n    <tr>\n      <th>5</th>\n      <td>0.1072</td>\n      <td>0.174440</td>\n      <td>0.233803</td>\n      <td>0.051542</td>\n      <td>0.651506</td>\n      <td>0.301500</td>\n      <td>0.902625</td>\n      <td>chat-gpt-p6</td>\n    </tr>\n  </tbody>\n</table>\n</div>"
     },
     "execution_count": 139,
     "metadata": {},
     "output_type": "execute_result"
    }
   ],
   "source": [
    "results_path = \"/home/diego/chat-reranking/experiments/goodreads/results/ranksys_eval\"\n",
    "chat_p1 = pd.read_csv(f\"{results_path}/chatgpt0613-div-p1-pzt-fold_0-@10.csv\")\n",
    "chat_p2 = pd.read_csv(f\"{results_path}/chatgpt0613-div-p2-pzt-fold_0-@10.csv\")\n",
    "chat_p3 = pd.read_csv(f\"{results_path}/chatgpt0613-div-p3-pzt-fold_0-@10.csv\")\n",
    "chat_p4 = pd.read_csv(f\"{results_path}/chatgpt0613-div-p4-pzt-fold_0-@10.csv\")\n",
    "chat_p5 = pd.read_csv(f\"{results_path}/chatgpt0613-div-p5-pzt-fold_0-@10.csv\")\n",
    "chat_p6 = pd.read_csv(f\"{results_path}/chatgpt0613-div-p6-pzt-fold_0-@10.csv\")\n",
    "d = {}\n",
    "for col in chat_p1.columns:\n",
    "    d[col] = [chat_p1[col][0], \n",
    "              chat_p2[col][0], \n",
    "              chat_p3[col][0], \n",
    "              chat_p4[col][0],\n",
    "              chat_p5[col][0],\n",
    "              chat_p6[col][0],\n",
    "              ]\n",
    "results = pd.DataFrame(data=d)\n",
    "results = results[[\"prec\", \"ndcg\", \"a_ndcg\", \"eild_rel\", \"eild_norel\", \"s_recall_rel\", \"s_recall_norel\"]]\n",
    "results[\"reranker\"] = [\"chat-gpt-p1\", \"chat-gpt-p2\", \"chat-gpt-p3\", \"chat-gpt-p4\", \n",
    "                       \"chat-gpt-p5\", \"chat-gpt-p6\"]\n",
    "results"
   ],
   "metadata": {
    "collapsed": false,
    "ExecuteTime": {
     "end_time": "2023-12-04T14:46:21.499240758Z",
     "start_time": "2023-12-04T14:46:21.393047652Z"
    }
   },
   "id": "ed6f12a207c69b4a"
  },
  {
   "cell_type": "code",
   "execution_count": 139,
   "outputs": [],
   "source": [],
   "metadata": {
    "collapsed": false,
    "ExecuteTime": {
     "end_time": "2023-12-04T14:47:12.297071459Z",
     "start_time": "2023-12-04T14:47:12.240646044Z"
    }
   },
   "id": "a9896618b3592546"
  },
  {
   "cell_type": "code",
   "execution_count": 140,
   "outputs": [
    {
     "data": {
      "text/plain": "     prec      ndcg    a_ndcg  eild_rel  eild_norel  s_recall_rel  \\\n0  0.0738  0.113704  0.171466  0.028628    0.657708      0.228750   \n1  0.0830  0.125341  0.178910  0.036538    0.663570      0.235125   \n2  0.0782  0.118541  0.173185  0.033652    0.657504      0.228500   \n3  0.0714  0.108988  0.163489  0.027856    0.658583      0.224625   \n4  0.0806  0.122949  0.183720  0.032771    0.652392      0.241250   \n5  0.0802  0.121771  0.180183  0.032782    0.651839      0.244000   \n\n   s_recall_norel         reranker  \n0        0.878750  instruct-gpt-p1  \n1        0.888625  instruct-gpt-p2  \n2        0.881625  instruct-gpt-p3  \n3        0.882125  instruct-gpt-p4  \n4        0.886750  instruct-gpt-p5  \n5        0.892125  instruct-gpt-p6  ",
      "text/html": "<div>\n<style scoped>\n    .dataframe tbody tr th:only-of-type {\n        vertical-align: middle;\n    }\n\n    .dataframe tbody tr th {\n        vertical-align: top;\n    }\n\n    .dataframe thead th {\n        text-align: right;\n    }\n</style>\n<table border=\"1\" class=\"dataframe\">\n  <thead>\n    <tr style=\"text-align: right;\">\n      <th></th>\n      <th>prec</th>\n      <th>ndcg</th>\n      <th>a_ndcg</th>\n      <th>eild_rel</th>\n      <th>eild_norel</th>\n      <th>s_recall_rel</th>\n      <th>s_recall_norel</th>\n      <th>reranker</th>\n    </tr>\n  </thead>\n  <tbody>\n    <tr>\n      <th>0</th>\n      <td>0.0738</td>\n      <td>0.113704</td>\n      <td>0.171466</td>\n      <td>0.028628</td>\n      <td>0.657708</td>\n      <td>0.228750</td>\n      <td>0.878750</td>\n      <td>instruct-gpt-p1</td>\n    </tr>\n    <tr>\n      <th>1</th>\n      <td>0.0830</td>\n      <td>0.125341</td>\n      <td>0.178910</td>\n      <td>0.036538</td>\n      <td>0.663570</td>\n      <td>0.235125</td>\n      <td>0.888625</td>\n      <td>instruct-gpt-p2</td>\n    </tr>\n    <tr>\n      <th>2</th>\n      <td>0.0782</td>\n      <td>0.118541</td>\n      <td>0.173185</td>\n      <td>0.033652</td>\n      <td>0.657504</td>\n      <td>0.228500</td>\n      <td>0.881625</td>\n      <td>instruct-gpt-p3</td>\n    </tr>\n    <tr>\n      <th>3</th>\n      <td>0.0714</td>\n      <td>0.108988</td>\n      <td>0.163489</td>\n      <td>0.027856</td>\n      <td>0.658583</td>\n      <td>0.224625</td>\n      <td>0.882125</td>\n      <td>instruct-gpt-p4</td>\n    </tr>\n    <tr>\n      <th>4</th>\n      <td>0.0806</td>\n      <td>0.122949</td>\n      <td>0.183720</td>\n      <td>0.032771</td>\n      <td>0.652392</td>\n      <td>0.241250</td>\n      <td>0.886750</td>\n      <td>instruct-gpt-p5</td>\n    </tr>\n    <tr>\n      <th>5</th>\n      <td>0.0802</td>\n      <td>0.121771</td>\n      <td>0.180183</td>\n      <td>0.032782</td>\n      <td>0.651839</td>\n      <td>0.244000</td>\n      <td>0.892125</td>\n      <td>instruct-gpt-p6</td>\n    </tr>\n  </tbody>\n</table>\n</div>"
     },
     "execution_count": 140,
     "metadata": {},
     "output_type": "execute_result"
    }
   ],
   "source": [
    "results_path = \"/home/diego/chat-reranking/experiments/goodreads/results/ranksys_eval\"\n",
    "instruct_p1 = pd.read_csv(f\"{results_path}/instructgpt-div-p1-pzt-fold_0-@10.csv\")\n",
    "instruct_p2 = pd.read_csv(f\"{results_path}/instructgpt-div-p2-pzt-fold_0-@10.csv\")\n",
    "instruct_p3 = pd.read_csv(f\"{results_path}/instructgpt-div-p3-pzt-fold_0-@10.csv\")\n",
    "instruct_p4 = pd.read_csv(f\"{results_path}/instructgpt-div-p4-pzt-fold_0-@10.csv\")\n",
    "instruct_p5 = pd.read_csv(f\"{results_path}/instructgpt-div-p5-pzt-fold_0-@10.csv\")\n",
    "instruct_p6 = pd.read_csv(f\"{results_path}/instructgpt-div-p6-pzt-fold_0-@10.csv\")\n",
    "\n",
    "d = {}\n",
    "for col in chat_p1.columns:\n",
    "    d[col] = [instruct_p1[col][0], \n",
    "              instruct_p2[col][0], \n",
    "              instruct_p3[col][0], \n",
    "              instruct_p4[col][0],\n",
    "              instruct_p5[col][0],\n",
    "              instruct_p6[col][0],\n",
    "              ]\n",
    "results = pd.DataFrame(data=d)\n",
    "results = results[[\"prec\", \"ndcg\", \"a_ndcg\", \"eild_rel\", \"eild_norel\", \"s_recall_rel\", \"s_recall_norel\"]]\n",
    "results[\"reranker\"] = [\"instruct-gpt-p1\", \"instruct-gpt-p2\", \"instruct-gpt-p3\", \"instruct-gpt-p4\", \n",
    "                       \"instruct-gpt-p5\", \"instruct-gpt-p6\"]\n",
    "results"
   ],
   "metadata": {
    "collapsed": false,
    "ExecuteTime": {
     "end_time": "2023-12-04T14:47:17.697587208Z",
     "start_time": "2023-12-04T14:47:17.643661833Z"
    }
   },
   "id": "c6677afb130b6252"
  },
  {
   "cell_type": "code",
   "execution_count": 140,
   "outputs": [],
   "source": [],
   "metadata": {
    "collapsed": false,
    "ExecuteTime": {
     "end_time": "2023-12-04T14:48:04.389591793Z",
     "start_time": "2023-12-04T14:48:04.349990420Z"
    }
   },
   "id": "db5db2d1113f4f61"
  },
  {
   "cell_type": "code",
   "execution_count": 141,
   "outputs": [
    {
     "data": {
      "text/plain": "     prec      ndcg    a_ndcg  eild_rel  eild_norel  s_recall_rel  \\\n0  0.0760  0.116526  0.159599  0.029694    0.674222      0.215125   \n1  0.0680  0.099860  0.143350  0.025016    0.674884      0.199875   \n2  0.0646  0.084020  0.113013  0.020622    0.681182      0.175750   \n3  0.0748  0.117595  0.156011  0.026004    0.678364      0.214750   \n4  0.0782  0.110596  0.141796  0.034682    0.672678      0.209750   \n5  0.0790  0.111764  0.145816  0.032566    0.673620      0.209125   \n\n   s_recall_norel   reranker  \n0        0.885250   llama-p7  \n1        0.875125   llama-p8  \n2        0.879250   llama-p9  \n3        0.891500  llama-p10  \n4        0.875500  llama-p11  \n5        0.871625  llama-p12  ",
      "text/html": "<div>\n<style scoped>\n    .dataframe tbody tr th:only-of-type {\n        vertical-align: middle;\n    }\n\n    .dataframe tbody tr th {\n        vertical-align: top;\n    }\n\n    .dataframe thead th {\n        text-align: right;\n    }\n</style>\n<table border=\"1\" class=\"dataframe\">\n  <thead>\n    <tr style=\"text-align: right;\">\n      <th></th>\n      <th>prec</th>\n      <th>ndcg</th>\n      <th>a_ndcg</th>\n      <th>eild_rel</th>\n      <th>eild_norel</th>\n      <th>s_recall_rel</th>\n      <th>s_recall_norel</th>\n      <th>reranker</th>\n    </tr>\n  </thead>\n  <tbody>\n    <tr>\n      <th>0</th>\n      <td>0.0760</td>\n      <td>0.116526</td>\n      <td>0.159599</td>\n      <td>0.029694</td>\n      <td>0.674222</td>\n      <td>0.215125</td>\n      <td>0.885250</td>\n      <td>llama-p7</td>\n    </tr>\n    <tr>\n      <th>1</th>\n      <td>0.0680</td>\n      <td>0.099860</td>\n      <td>0.143350</td>\n      <td>0.025016</td>\n      <td>0.674884</td>\n      <td>0.199875</td>\n      <td>0.875125</td>\n      <td>llama-p8</td>\n    </tr>\n    <tr>\n      <th>2</th>\n      <td>0.0646</td>\n      <td>0.084020</td>\n      <td>0.113013</td>\n      <td>0.020622</td>\n      <td>0.681182</td>\n      <td>0.175750</td>\n      <td>0.879250</td>\n      <td>llama-p9</td>\n    </tr>\n    <tr>\n      <th>3</th>\n      <td>0.0748</td>\n      <td>0.117595</td>\n      <td>0.156011</td>\n      <td>0.026004</td>\n      <td>0.678364</td>\n      <td>0.214750</td>\n      <td>0.891500</td>\n      <td>llama-p10</td>\n    </tr>\n    <tr>\n      <th>4</th>\n      <td>0.0782</td>\n      <td>0.110596</td>\n      <td>0.141796</td>\n      <td>0.034682</td>\n      <td>0.672678</td>\n      <td>0.209750</td>\n      <td>0.875500</td>\n      <td>llama-p11</td>\n    </tr>\n    <tr>\n      <th>5</th>\n      <td>0.0790</td>\n      <td>0.111764</td>\n      <td>0.145816</td>\n      <td>0.032566</td>\n      <td>0.673620</td>\n      <td>0.209125</td>\n      <td>0.871625</td>\n      <td>llama-p12</td>\n    </tr>\n  </tbody>\n</table>\n</div>"
     },
     "execution_count": 141,
     "metadata": {},
     "output_type": "execute_result"
    }
   ],
   "source": [
    "results_path = \"/home/diego/chat-reranking/experiments/goodreads/results/ranksys_eval\"\n",
    "llama_p7 = pd.read_csv(f\"{results_path}/Llama-2-7b-chat-hf-div-p7-pzt-fold_0-@10.csv\")\n",
    "llama_p8 = pd.read_csv(f\"{results_path}/Llama-2-7b-chat-hf-div-p8-pzt-fold_0-@10.csv\")\n",
    "llama_p9 = pd.read_csv(f\"{results_path}/Llama-2-7b-chat-hf-div-p9-pzt-fold_0-@10.csv\")\n",
    "llama_p10 = pd.read_csv(f\"{results_path}/Llama-2-7b-chat-hf-div-p10-pzt-fold_0-@10.csv\")\n",
    "llama_p11 = pd.read_csv(f\"{results_path}/Llama-2-7b-chat-hf-div-p11-pzt-fold_0-@10.csv\")\n",
    "llama_p12 = pd.read_csv(f\"{results_path}/Llama-2-7b-chat-hf-div-p12-pzt-fold_0-@10.csv\")\n",
    "\n",
    "d = {}\n",
    "for col in chat_p1.columns:\n",
    "    d[col] = [llama_p7[col][0], \n",
    "              llama_p8[col][0], \n",
    "              llama_p9[col][0], \n",
    "              llama_p10[col][0],\n",
    "              llama_p11[col][0],\n",
    "              llama_p12[col][0],\n",
    "              ]\n",
    "results = pd.DataFrame(data=d)\n",
    "results = results[[\"prec\", \"ndcg\", \"a_ndcg\", \"eild_rel\", \"eild_norel\", \"s_recall_rel\", \"s_recall_norel\"]]\n",
    "results[\"reranker\"] = [\"llama-p7\", \"llama-p8\", \"llama-p9\", \"llama-p10\", \n",
    "                       \"llama-p11\", \"llama-p12\"]\n",
    "results"
   ],
   "metadata": {
    "collapsed": false,
    "ExecuteTime": {
     "end_time": "2023-12-04T14:48:18.212200706Z",
     "start_time": "2023-12-04T14:48:18.061518025Z"
    }
   },
   "id": "b6d9604cac52782b"
  },
  {
   "cell_type": "code",
   "source": [],
   "metadata": {
    "collapsed": false,
    "ExecuteTime": {
     "end_time": "2024-04-29T21:36:24.749603Z",
     "start_time": "2024-04-29T21:36:24.743804Z"
    }
   },
   "id": "7708a21a44d5b233",
   "outputs": [],
   "execution_count": null
  },
  {
   "metadata": {
    "ExecuteTime": {
     "end_time": "2024-04-29T21:36:24.759748Z",
     "start_time": "2024-04-29T21:36:24.754490Z"
    }
   },
   "cell_type": "code",
   "source": "",
   "id": "85ba05fa276a9654",
   "outputs": [],
   "execution_count": null
  },
  {
   "metadata": {
    "ExecuteTime": {
     "end_time": "2024-04-29T21:36:24.769483Z",
     "start_time": "2024-04-29T21:36:24.763847Z"
    }
   },
   "cell_type": "code",
   "source": "",
   "id": "8dec383408bac2fc",
   "outputs": [],
   "execution_count": null
  },
  {
   "metadata": {
    "ExecuteTime": {
     "end_time": "2024-05-03T15:39:42.672161Z",
     "start_time": "2024-05-03T15:39:42.650681Z"
    }
   },
   "cell_type": "code",
   "source": [
    "results_dir = \"/home/diego/chat-reranking/experiments/goodreads/results/ranksys_eval/\"\n",
    "rankers = [\"chatgpt0613-div-p{}-pzt-fold_0-@10\"]\n",
    "prompts = [\"1\", \"2\", \"3\", \"4\", \"5\", \"6\"]\n",
    "metrics = [\"ndcg\",\"a_ndcg\",\"eild_rel\",\"eild_norel\",\"s_recall_rel\",\"s_recall_norel\"]\n",
    "for ranker in rankers:\n",
    "    for prompt_id in prompts:\n",
    "        name = ranker.format(prompt_id)\n",
    "        # read results file\n",
    "        df = pd.read_csv(f\"{results_dir}/{name}.csv\", sep=\",\")\n",
    "        df = df[metrics]\n",
    "        # print(prompt_id)\n",
    "        print(df.iloc[2].values)\n",
    "        # print(\"######\")"
   ],
   "id": "c39f31f0058a5c9e",
   "outputs": [
    {
     "name": "stdout",
     "output_type": "stream",
     "text": [
      "[0.01809988 0.02232658 0.00808304 0.00699123 0.02465946 0.00856547]\n",
      "[0.01839946 0.02195506 0.00872737 0.00651224 0.02472889 0.00844862]\n",
      "[0.01744318 0.02201203 0.00748719 0.00682517 0.02434978 0.00923737]\n",
      "[0.01696868 0.0218325  0.00691286 0.0065114  0.02416265 0.00807192]\n",
      "[0.01864291 0.02254626 0.00873262 0.00668937 0.02551504 0.00783436]\n",
      "[0.01825141 0.02257929 0.00808794 0.00669338 0.02530568 0.00761993]\n"
     ]
    }
   ],
   "execution_count": 4
  },
  {
   "metadata": {},
   "cell_type": "code",
   "outputs": [],
   "execution_count": null,
   "source": "",
   "id": "3330cded80b20ab4"
  }
 ],
 "metadata": {
  "kernelspec": {
   "display_name": "Python 3",
   "language": "python",
   "name": "python3"
  },
  "language_info": {
   "codemirror_mode": {
    "name": "ipython",
    "version": 2
   },
   "file_extension": ".py",
   "mimetype": "text/x-python",
   "name": "python",
   "nbconvert_exporter": "python",
   "pygments_lexer": "ipython2",
   "version": "2.7.6"
  }
 },
 "nbformat": 4,
 "nbformat_minor": 5
}
