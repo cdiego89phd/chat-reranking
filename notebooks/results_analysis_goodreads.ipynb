{
 "cells": [
  {
   "cell_type": "code",
   "execution_count": 36,
   "id": "initial_id",
   "metadata": {
    "collapsed": true,
    "ExecuteTime": {
     "end_time": "2023-11-14T11:29:45.426545823Z",
     "start_time": "2023-11-14T11:29:45.361447677Z"
    }
   },
   "outputs": [],
   "source": [
    "import numpy as np\n",
    "import pandas as pd\n",
    "import random\n",
    "import pickle\n",
    "import json"
   ]
  },
  {
   "cell_type": "code",
   "execution_count": null,
   "outputs": [],
   "source": [],
   "metadata": {
    "collapsed": false
   },
   "id": "623eddde8c590500"
  },
  {
   "cell_type": "markdown",
   "source": [
    "<h2>Tuning the # of candidate items<h2>"
   ],
   "metadata": {
    "collapsed": false
   },
   "id": "3ff292496084483d"
  },
  {
   "cell_type": "code",
   "execution_count": 29,
   "outputs": [],
   "source": [
    "recs_folder = \"/home/diego/chat-reranking/experiments/goodreads/recs/reranked\"\n",
    "recs_name = \"chatgpt0613-div-p1-pzt-fold_0_50_20\"\n",
    "top_n = 10\n",
    "\n",
    "# read JSON file\n",
    "f = open(f\"{recs_folder}/{recs_name}.json\")\n",
    "data = json.load(f)\n",
    "f.close()"
   ],
   "metadata": {
    "collapsed": false,
    "ExecuteTime": {
     "end_time": "2023-11-10T16:58:01.040379836Z",
     "start_time": "2023-11-10T16:58:01.020347039Z"
    }
   },
   "id": "d133709257207090"
  },
  {
   "cell_type": "code",
   "execution_count": 30,
   "outputs": [
    {
     "name": "stdout",
     "output_type": "stream",
     "text": [
      "Tune the length of the candidate set: chatgpt\n",
      "Average max reranking pos: 36.689655172413794\n",
      "Average std reranking pos: 14.692487989764354\n"
     ]
    }
   ],
   "source": [
    "print(\"Tune the length of the candidate set: chatgpt\")\n",
    "max_pos = []\n",
    "for entry in data:\n",
    "    base = entry['recs']\n",
    "    re_ranked = entry['reranked_recs']\n",
    "    if len(re_ranked) == 0:\n",
    "        continue\n",
    "\n",
    "    def return_pos(j):\n",
    "        if j in base:\n",
    "            return base.index(j)\n",
    "        else:\n",
    "            return 0\n",
    "\n",
    "    pos = [return_pos(r) for r in re_ranked]\n",
    "    max_pos.append(max(pos))\n",
    "\n",
    "print(f\"Average max reranking pos: {np.mean(max_pos)}\") \n",
    "print(f\"Average std reranking pos: {np.std(max_pos)}\")   "
   ],
   "metadata": {
    "collapsed": false,
    "ExecuteTime": {
     "end_time": "2023-11-10T16:58:02.244277119Z",
     "start_time": "2023-11-10T16:58:02.238303101Z"
    }
   },
   "id": "c6cc3f0ccac887c4"
  },
  {
   "cell_type": "code",
   "execution_count": 28,
   "outputs": [
    {
     "name": "stdout",
     "output_type": "stream",
     "text": [
      "Tune the length of the candidate set: baseline reranker Random-pzt-fold_0_50_20\n",
      "Average max reranking pos: 45.45333333333333\n",
      "Average std reranking pos: 3.9800949179078073\n"
     ]
    }
   ],
   "source": [
    "rerankers = [\"MMR-pzt-fold_0_50_20\", \"RxQuAD-pzt-fold_0_50_20\", \"xQuAD-pzt-fold_0_50_20\", \"Random-pzt-fold_0_50_20\"]\n",
    "\n",
    "print(f\"Tune the length of the candidate set: baseline reranker {rerankers[3]}\")\n",
    "base_recs = pd.read_csv(f\"/home/diego/chat-reranking/experiments/goodreads/recs/baselines/pzt-fold_0_50_20\", \n",
    "                            names=[\"userid\", \"itemid\", \"rating\"], sep=\"\\t\")\n",
    "re_ranked = pd.read_csv(f\"/home/diego/chat-reranking/experiments/goodreads/recs/reranked/{rerankers[3]}\", \n",
    "                            names=[\"userid\", \"itemid\", \"rating\"], sep=\"\\t\")\n",
    "\n",
    "max_pos = []\n",
    "for userid in re_ranked[\"userid\"].unique()[:300]:\n",
    "    base = list(base_recs[base_recs[\"userid\"] == userid][\"itemid\"].values[:50])\n",
    "    recs = re_ranked[re_ranked[\"userid\"] == userid][\"itemid\"].values.tolist()\n",
    "        \n",
    "    pos = [base.index(r) for r in recs]\n",
    "    max_pos.append(max(pos))\n",
    "print(f\"Average max reranking pos: {np.mean(max_pos)}\") \n",
    "print(f\"Average std reranking pos: {np.std(max_pos)}\")  "
   ],
   "metadata": {
    "collapsed": false,
    "ExecuteTime": {
     "end_time": "2023-11-10T14:42:30.686327195Z",
     "start_time": "2023-11-10T14:42:21.426604766Z"
    }
   },
   "id": "725b19516463ab93"
  },
  {
   "cell_type": "code",
   "execution_count": null,
   "outputs": [],
   "source": [],
   "metadata": {
    "collapsed": false
   },
   "id": "e91f472b3189f4b5"
  },
  {
   "cell_type": "code",
   "execution_count": null,
   "outputs": [],
   "source": [],
   "metadata": {
    "collapsed": false
   },
   "id": "47fa43f0af79ef69"
  },
  {
   "cell_type": "markdown",
   "source": [
    "<h2>Convert rec files for Ranksys</h2>"
   ],
   "metadata": {
    "collapsed": false
   },
   "id": "5afc009b3dc0cd99"
  },
  {
   "cell_type": "code",
   "execution_count": 47,
   "outputs": [],
   "source": [
    "recs_folder = \"/home/diego/chat-reranking/experiments/goodreads/recs/reranked\"\n",
    "recs_name = \"chatgpt0613-div-p4-pzt-fold_0\"\n",
    "top_n = 10\n",
    "\n",
    "# read JSON file\n",
    "f = open(f\"{recs_folder}/{recs_name}.json\")\n",
    "data = json.load(f)\n",
    "f.close()"
   ],
   "metadata": {
    "collapsed": false,
    "ExecuteTime": {
     "end_time": "2023-11-14T11:32:41.619711527Z",
     "start_time": "2023-11-14T11:32:41.599336866Z"
    }
   },
   "id": "aecbe8306ce61525"
  },
  {
   "cell_type": "code",
   "execution_count": 48,
   "outputs": [],
   "source": [
    "train_folder = f\"/home/diego/chat-reranking/experiments/goodreads/fold_0/train_data.csv\"\n",
    "training_data = pd.read_csv(f'{train_folder}', names=[\"userid\", \"itemid\", \"rating\"], sep=\"\\t\")"
   ],
   "metadata": {
    "collapsed": false,
    "ExecuteTime": {
     "end_time": "2023-11-14T11:32:43.338859671Z",
     "start_time": "2023-11-14T11:32:41.970433650Z"
    }
   },
   "id": "7d92290f84da6090"
  },
  {
   "cell_type": "markdown",
   "source": [
    "Some recommendations might contain \n",
    "- less than 10 items\n",
    "- items that are from the training\n",
    "\n",
    "We need to remove these items from the recommenations (and count them)"
   ],
   "metadata": {
    "collapsed": false
   },
   "id": "177afbd5b1cc9ae5"
  },
  {
   "cell_type": "code",
   "execution_count": 49,
   "outputs": [
    {
     "name": "stdout",
     "output_type": "stream",
     "text": [
      "# recs before pruning: 4878\n",
      "# recs after pruning: 4857\n"
     ]
    }
   ],
   "source": [
    "# check whether some recommendations don't intersect with the candidate set\n",
    "recs = {}\n",
    "candidate_set = {}\n",
    "tot_rec_before_pruning = 0\n",
    "tot_rec_after_pruning = 0\n",
    "for entry in data:\n",
    "    userid = entry['userid']\n",
    "    recs[userid] = entry['reranked_recs']\n",
    "    candidate_set[userid] = entry['recs']\n",
    "    tot_rec_before_pruning += len(recs[userid])\n",
    "    user_train = training_data[training_data[\"userid\"] == entry['userid']][\"itemid\"].values.tolist()\n",
    "    to_prune = recs[userid]\n",
    "    for i, item in enumerate(recs[userid]):\n",
    "        if item not in candidate_set[userid]:\n",
    "            del to_prune[i]\n",
    "            # print(f\"user {entry['userid']}: {item}\")\n",
    "            # print(item)\n",
    "            # print(entry['recs'])\n",
    "            # print(\"######\")\n",
    "    recs[userid] = to_prune\n",
    "    tot_rec_after_pruning += len(to_prune)\n",
    "print(f\"# recs before pruning: {tot_rec_before_pruning}\")\n",
    "print(f\"# recs after pruning: {tot_rec_after_pruning}\")"
   ],
   "metadata": {
    "collapsed": false,
    "ExecuteTime": {
     "end_time": "2023-11-14T11:32:46.597335053Z",
     "start_time": "2023-11-14T11:32:43.334905491Z"
    }
   },
   "id": "4d5b3b9674d55643"
  },
  {
   "cell_type": "code",
   "execution_count": 50,
   "outputs": [
    {
     "name": "stdout",
     "output_type": "stream",
     "text": [
      "# of users with less than 10 recommendations: 72\n",
      "# of users with no recommendations: 6\n",
      "avg number of recommendations per user: 9.714\n"
     ]
    }
   ],
   "source": [
    "# count users with less than 10 recommendations\n",
    "count = 0\n",
    "count_none = 0\n",
    "avg_len = []\n",
    "for userid in recs:\n",
    "    avg_len.append(len(recs[userid]))\n",
    "    if len(recs[userid]) < 10:\n",
    "        count += 1\n",
    "    if len(recs[userid]) == 0:\n",
    "        count_none += 1\n",
    "print(f\"# of users with less than 10 recommendations: {count}\")\n",
    "print(f\"# of users with no recommendations: {count_none}\")\n",
    "print(f\"avg number of recommendations per user: {np.mean(avg_len)}\")"
   ],
   "metadata": {
    "collapsed": false,
    "ExecuteTime": {
     "end_time": "2023-11-14T11:32:46.609728054Z",
     "start_time": "2023-11-14T11:32:46.537938274Z"
    }
   },
   "id": "918e3db857157950"
  },
  {
   "cell_type": "code",
   "execution_count": 51,
   "outputs": [
    {
     "name": "stdout",
     "output_type": "stream",
     "text": [
      "Printed!\n",
      "# of excluded users: 72\n"
     ]
    }
   ],
   "source": [
    "# print final recommendations\n",
    "exclude_violating_recs = True\n",
    "excluded = 0\n",
    "with open(f\"{recs_folder}/{recs_name}\", \"w\") as f:\n",
    "    for userid in recs:\n",
    "        if len(recs[userid]) < 10:\n",
    "            excluded += 1\n",
    "            continue\n",
    "        score = float(top_n)\n",
    "        usr_str = \"\"\n",
    "        for r in recs[userid]:\n",
    "            usr_str += f\"{userid}\\t{r}\\t{score}\\n\"\n",
    "            score -= 1.0\n",
    "        f.write(usr_str)\n",
    "print(\"Printed!\")\n",
    "print(f\"# of excluded users: {excluded}\")"
   ],
   "metadata": {
    "collapsed": false,
    "ExecuteTime": {
     "end_time": "2023-11-14T11:32:46.610029705Z",
     "start_time": "2023-11-14T11:32:46.538053232Z"
    }
   },
   "id": "3910f3f2ac9e502a"
  },
  {
   "cell_type": "code",
   "execution_count": 17,
   "outputs": [],
   "source": [],
   "metadata": {
    "collapsed": false,
    "ExecuteTime": {
     "end_time": "2023-11-10T10:57:16.763233563Z",
     "start_time": "2023-11-10T10:57:16.713106480Z"
    }
   },
   "id": "cd7dded7ba16574a"
  },
  {
   "cell_type": "code",
   "execution_count": null,
   "outputs": [],
   "source": [],
   "metadata": {
    "collapsed": false
   },
   "id": "9b9eb52261ec4801"
  }
 ],
 "metadata": {
  "kernelspec": {
   "display_name": "Python 3",
   "language": "python",
   "name": "python3"
  },
  "language_info": {
   "codemirror_mode": {
    "name": "ipython",
    "version": 2
   },
   "file_extension": ".py",
   "mimetype": "text/x-python",
   "name": "python",
   "nbconvert_exporter": "python",
   "pygments_lexer": "ipython2",
   "version": "2.7.6"
  }
 },
 "nbformat": 4,
 "nbformat_minor": 5
}
