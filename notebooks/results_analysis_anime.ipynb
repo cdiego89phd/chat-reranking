{
 "cells": [
  {
   "cell_type": "code",
   "metadata": {
    "collapsed": true,
    "ExecuteTime": {
     "end_time": "2024-05-22T07:39:46.597736Z",
     "start_time": "2024-05-22T07:39:46.174215Z"
    }
   },
   "source": [
    "import numpy as np\n",
    "import pandas as pd\n",
    "import json\n",
    "import itertools\n",
    "from ast import literal_eval"
   ],
   "outputs": [],
   "execution_count": 1
  },
  {
   "cell_type": "markdown",
   "source": [
    "<h2>Tuning the # of candidate items<h2>"
   ],
   "metadata": {
    "collapsed": false
   }
  },
  {
   "cell_type": "code",
   "execution_count": 22,
   "outputs": [],
   "source": [
    "# filename = f\"/home/diego/chat-reranking/experiments/anime/itemid_to_name.pkl\"\n",
    "# with open(f\"{filename}\", 'rb') as fp:\n",
    "#     itemid_to_name = pickle.load(fp)\n",
    "# filename = f\"/home/diego/chat-reranking/experiments/anime/itemname_to_id.pkl\"\n",
    "# with open(f\"{filename}\", 'rb') as fp:\n",
    "#     itemname_to_id = pickle.load(fp)"
   ],
   "metadata": {
    "collapsed": false,
    "ExecuteTime": {
     "end_time": "2023-10-27T15:25:07.398079878Z",
     "start_time": "2023-10-27T15:25:07.379629046Z"
    }
   }
  },
  {
   "cell_type": "code",
   "execution_count": 23,
   "outputs": [],
   "source": [
    "# for i in [16498,31964,30276,20583,32182,33352,24833,34599,13601]:\n",
    "#     print(f\"{i}: {itemid_to_name[i]}\")\n",
    "# itemname_to_id[\"Assassination Classroom Second Season\"]"
   ],
   "metadata": {
    "collapsed": false,
    "ExecuteTime": {
     "end_time": "2023-10-27T15:25:07.581986709Z",
     "start_time": "2023-10-27T15:25:07.561658335Z"
    }
   }
  },
  {
   "cell_type": "code",
   "execution_count": 11,
   "outputs": [],
   "source": [
    "recs_folder = \"/home/diego/chat-reranking/experiments/anime/recs/reranked\"\n",
    "recs_name = \"chatgpt0613-div-p1-pzt-fold_0_50_20\"\n",
    "top_n = 10\n",
    "\n",
    "# read JSON file\n",
    "f = open(f\"{recs_folder}/{recs_name}.json\")\n",
    "data = json.load(f)\n",
    "f.close()"
   ],
   "metadata": {
    "collapsed": false,
    "ExecuteTime": {
     "end_time": "2023-11-09T12:32:59.039182611Z",
     "start_time": "2023-11-09T12:32:59.008759066Z"
    }
   }
  },
  {
   "cell_type": "code",
   "execution_count": 12,
   "outputs": [
    {
     "name": "stdout",
     "output_type": "stream",
     "text": [
      "Tune the length of the candidate set: chatgpt\n",
      "Average max reranking pos: 34.06666666666667\n",
      "Average std reranking pos: 15.167802155296668\n"
     ]
    }
   ],
   "source": [
    "print(\"Tune the length of the candidate set: chatgpt\")\n",
    "max_pos = []\n",
    "for entry in data:\n",
    "    base = entry['recs']\n",
    "    re_ranked = entry['reranked_recs']\n",
    "    if len(re_ranked) == 0:\n",
    "        continue\n",
    "\n",
    "    def return_pos(j):\n",
    "        if j in base:\n",
    "            return base.index(j)\n",
    "        else:\n",
    "            return 0\n",
    "\n",
    "    pos = [return_pos(r) for r in re_ranked]\n",
    "    max_pos.append(max(pos))\n",
    "\n",
    "print(f\"Average max reranking pos: {np.mean(max_pos)}\") \n",
    "print(f\"Average std reranking pos: {np.std(max_pos)}\")   "
   ],
   "metadata": {
    "collapsed": false,
    "ExecuteTime": {
     "end_time": "2023-11-09T12:33:02.748332526Z",
     "start_time": "2023-11-09T12:33:02.733181388Z"
    }
   }
  },
  {
   "cell_type": "code",
   "execution_count": 21,
   "outputs": [],
   "source": [],
   "metadata": {
    "collapsed": false,
    "ExecuteTime": {
     "end_time": "2023-10-27T15:24:52.012649400Z",
     "start_time": "2023-10-27T15:24:51.998850438Z"
    }
   }
  },
  {
   "cell_type": "code",
   "execution_count": 10,
   "outputs": [
    {
     "name": "stdout",
     "output_type": "stream",
     "text": [
      "Tune the length of the candidate set: baseline reranker Random-pzt-fold_0_50_20\n",
      "Average max reranking pos: 44.95666666666666\n",
      "Average std reranking pos: 3.8385920451239524\n"
     ]
    }
   ],
   "source": [
    "rerankers = [\"MMR-pzt-fold_0_50_20\", \"RxQuAD-pzt-fold_0_50_20\", \"xQuAD-pzt-fold_0_50_20\", \"Random-pzt-fold_0_50_20\"]\n",
    "\n",
    "print(f\"Tune the length of the candidate set: baseline reranker {rerankers[3]}\")\n",
    "base_recs = pd.read_csv(f\"/home/diego/chat-reranking/experiments/anime/recs/baselines/pzt-fold_0_50_20\", \n",
    "                            names=[\"userid\", \"itemid\", \"rating\"], sep=\"\\t\")\n",
    "re_ranked = pd.read_csv(f\"/home/diego/chat-reranking/experiments/anime/recs/reranked/{rerankers[3]}\", \n",
    "                            names=[\"userid\", \"itemid\", \"rating\"], sep=\"\\t\")\n",
    "\n",
    "max_pos = []\n",
    "for userid in re_ranked[\"userid\"].unique()[:300]:\n",
    "    base = list(base_recs[base_recs[\"userid\"] == userid][\"itemid\"].values[:50])\n",
    "    recs = re_ranked[re_ranked[\"userid\"] == userid][\"itemid\"].values.tolist()\n",
    "        \n",
    "    pos = [base.index(r) for r in recs]\n",
    "    max_pos.append(max(pos))\n",
    "print(f\"Average max reranking pos: {np.mean(max_pos)}\") \n",
    "print(f\"Average std reranking pos: {np.std(max_pos)}\")  "
   ],
   "metadata": {
    "collapsed": false,
    "ExecuteTime": {
     "end_time": "2023-11-09T12:22:47.666961288Z",
     "start_time": "2023-11-09T12:22:37.330999679Z"
    }
   }
  },
  {
   "cell_type": "markdown",
   "source": [
    "<h2>Convert rec files for Ranksys</h2>"
   ],
   "metadata": {
    "collapsed": false
   }
  },
  {
   "cell_type": "code",
   "source": [
    "recs_folder = \"/home/diego/chat-reranking/experiments/anime/recs/reranked_final/\"\n",
    "recs_name = \"Llama-3-8b-instruct-div-p47-pzt-fold_0\"\n",
    "top_n = 10\n",
    "\n",
    "# read JSON file\n",
    "f = open(f\"{recs_folder}/{recs_name}.json\")\n",
    "data = json.load(f)\n",
    "f.close()"
   ],
   "metadata": {
    "collapsed": false,
    "ExecuteTime": {
     "end_time": "2024-05-13T11:07:11.358172Z",
     "start_time": "2024-05-13T11:07:11.342373Z"
    }
   },
   "outputs": [],
   "execution_count": 2
  },
  {
   "cell_type": "code",
   "source": [
    "train_folder = f\"/home/diego/chat-reranking/experiments/anime/fold_0/train_data.csv\"\n",
    "training_data = pd.read_csv(f'{train_folder}', names=[\"userid\", \"itemid\", \"rating\"], sep=\"\\t\")"
   ],
   "metadata": {
    "collapsed": false,
    "ExecuteTime": {
     "end_time": "2024-05-13T11:07:16.455101Z",
     "start_time": "2024-05-13T11:07:13.312915Z"
    }
   },
   "outputs": [],
   "execution_count": 3
  },
  {
   "cell_type": "markdown",
   "source": [
    "Some recommendations might contain \n",
    "- less than 10 items\n",
    "- items that are from the training\n",
    "\n",
    "We need to remove these items from the recommenations (and count them)"
   ],
   "metadata": {
    "collapsed": false
   }
  },
  {
   "cell_type": "code",
   "source": [
    "# check whether some recommendations don't intersect with the candidate set\n",
    "recs = {}\n",
    "candidate_set = {}\n",
    "tot_rec_before_pruning = 0\n",
    "tot_rec_after_pruning = 0\n",
    "for entry in data:\n",
    "    userid = entry['userid']\n",
    "    recs[userid] = entry['reranked_recs']\n",
    "    candidate_set[userid] = entry['recs']\n",
    "    tot_rec_before_pruning += len(recs[userid])\n",
    "    user_train = training_data[training_data[\"userid\"] == entry['userid']][\"itemid\"].values.tolist()\n",
    "    to_prune = recs[userid]\n",
    "    for i, item in enumerate(recs[userid]):\n",
    "        if item not in candidate_set[userid]:\n",
    "            del to_prune[i]\n",
    "            # print(f\"user {entry['userid']}: {item}\")\n",
    "            # print(item)\n",
    "            # print(entry['recs'])\n",
    "            # print(\"######\")\n",
    "    recs[userid] = to_prune\n",
    "    tot_rec_after_pruning += len(to_prune)\n",
    "print(f\"# recs before pruning: {tot_rec_before_pruning}\")\n",
    "print(f\"# recs after pruning: {tot_rec_after_pruning}\")"
   ],
   "metadata": {
    "collapsed": false,
    "ExecuteTime": {
     "end_time": "2024-05-13T11:07:22.509273Z",
     "start_time": "2024-05-13T11:07:16.457247Z"
    }
   },
   "outputs": [
    {
     "name": "stdout",
     "output_type": "stream",
     "text": [
      "# recs before pruning: 5000\n",
      "# recs after pruning: 5000\n"
     ]
    }
   ],
   "execution_count": 4
  },
  {
   "cell_type": "code",
   "source": [
    "# count users with less than 10 recommendations\n",
    "count = 0\n",
    "count_none = 0\n",
    "avg_len = []\n",
    "for userid in recs:\n",
    "    avg_len.append(len(recs[userid]))\n",
    "    if len(recs[userid]) < 10:\n",
    "        count += 1\n",
    "    if len(recs[userid]) == 0:\n",
    "        count_none += 1\n",
    "print(f\"# of users with less than 10 recommendations: {count}\")\n",
    "print(f\"# of users with no recommendations: {count_none}\")\n",
    "print(f\"avg number of recommendations per user: {np.mean(avg_len)}\")"
   ],
   "metadata": {
    "collapsed": false,
    "ExecuteTime": {
     "end_time": "2024-05-13T11:07:22.522444Z",
     "start_time": "2024-05-13T11:07:22.511317Z"
    }
   },
   "outputs": [
    {
     "name": "stdout",
     "output_type": "stream",
     "text": [
      "# of users with less than 10 recommendations: 0\n",
      "# of users with no recommendations: 0\n",
      "avg number of recommendations per user: 10.0\n"
     ]
    }
   ],
   "execution_count": 5
  },
  {
   "cell_type": "code",
   "source": [
    "# print final recommendations\n",
    "exclude_violating_recs = True\n",
    "excluded = 0\n",
    "with open(f\"{recs_folder}/{recs_name}\", \"w\") as f:\n",
    "    for userid in recs:\n",
    "        if len(recs[userid]) < 10:\n",
    "            excluded += 1\n",
    "            continue\n",
    "        score = float(top_n)\n",
    "        usr_str = \"\"\n",
    "        for r in recs[userid]:\n",
    "            usr_str += f\"{userid}\\t{r}\\t{score}\\n\"\n",
    "            score -= 1.0\n",
    "        f.write(usr_str)\n",
    "print(\"Printed!\")\n",
    "print(f\"# of excluded users: {excluded}\")"
   ],
   "metadata": {
    "collapsed": false,
    "ExecuteTime": {
     "end_time": "2024-05-13T11:07:22.538205Z",
     "start_time": "2024-05-13T11:07:22.524410Z"
    }
   },
   "outputs": [
    {
     "name": "stdout",
     "output_type": "stream",
     "text": [
      "Printed!\n",
      "# of excluded users: 0\n"
     ]
    }
   ],
   "execution_count": 6
  },
  {
   "cell_type": "code",
   "source": [],
   "metadata": {
    "collapsed": false,
    "ExecuteTime": {
     "end_time": "2024-05-10T15:35:45.777852Z",
     "start_time": "2024-05-10T15:35:45.774712Z"
    }
   },
   "outputs": [],
   "execution_count": 11
  },
  {
   "cell_type": "code",
   "source": [],
   "metadata": {
    "collapsed": false,
    "ExecuteTime": {
     "end_time": "2024-05-07T19:53:56.211145Z",
     "start_time": "2024-05-07T19:53:56.209068Z"
    }
   },
   "outputs": [],
   "execution_count": 104
  },
  {
   "metadata": {},
   "cell_type": "markdown",
   "source": "<h2>Output tokens<h2>"
  },
  {
   "cell_type": "code",
   "source": [
    "# load raw_file\n",
    "prompt_id = 5\n",
    "input_file = f\"/home/diego/chat-reranking/experiments/goodreads/recs/reranked_final/chatgpt0613-div-p{prompt_id}-pzt-fold_0.json\"\n",
    "f = open(input_file)\n",
    "data = json.load(f)\n",
    "\n",
    "tot_len = 0\n",
    "for entry in data:\n",
    "    tot_len += len(entry['raw_gpt_outputs'])\n",
    "    # entry['raw_gpt_output'] = recs[entry['userid']]\n",
    "\n",
    "print(tot_len)"
   ],
   "metadata": {
    "collapsed": false,
    "ExecuteTime": {
     "end_time": "2024-05-22T07:50:11.645245Z",
     "start_time": "2024-05-22T07:50:11.613235Z"
    }
   },
   "outputs": [
    {
     "name": "stdout",
     "output_type": "stream",
     "text": [
      "277163\n"
     ]
    }
   ],
   "execution_count": 14
  },
  {
   "metadata": {
    "ExecuteTime": {
     "end_time": "2024-05-22T07:49:28.367441Z",
     "start_time": "2024-05-22T07:49:28.349441Z"
    }
   },
   "cell_type": "code",
   "source": [
    "# load raw_file\n",
    "prompt_id = 1\n",
    "input_file = f\"/home/diego/chat-reranking/experiments/goodreads/recs/reranked_final/instructgpt-div-p{prompt_id}-pzt-fold_0.json\"\n",
    "f = open(input_file)\n",
    "data = json.load(f)\n",
    "\n",
    "tot_len = 0\n",
    "for entry in data:\n",
    "    tot_len += len(entry['raw_gpt_outputs'])\n",
    "    # entry['raw_gpt_output'] = recs[entry['userid']]\n",
    "\n",
    "print(tot_len)"
   ],
   "outputs": [
    {
     "name": "stdout",
     "output_type": "stream",
     "text": [
      "220780\n"
     ]
    }
   ],
   "execution_count": 11
  },
  {
   "metadata": {
    "ExecuteTime": {
     "end_time": "2024-05-22T07:49:17.610010Z",
     "start_time": "2024-05-22T07:49:17.607585Z"
    }
   },
   "cell_type": "code",
   "source": "",
   "outputs": [],
   "execution_count": 10
  },
  {
   "cell_type": "markdown",
   "source": [
    "<h2>Results anime (dataset features)</h2>"
   ],
   "metadata": {
    "collapsed": false
   }
  },
  {
   "cell_type": "code",
   "execution_count": 123,
   "outputs": [],
   "source": [
    "results_path = \"/home/diego/chat-reranking/experiments/anime/results/ranksys_eval\"\n",
    "baseline_recs = pd.read_csv(f\"{results_path}/pzt-fold_0-@10.csv\")\n",
    "random_recs = pd.read_csv(f\"{results_path}/Random-pzt-fold_0-@10.csv\")\n",
    "# gpt_recs = pd.read_csv(f\"{results_path}/chatgpt0613-div-p1-pzt-fold_0-@10.csv\")\n",
    "mmr_recs = pd.read_csv(f\"{results_path}/MMR-pzt-fold_0-@10.csv\")\n",
    "xquad_recs = pd.read_csv(f\"{results_path}/xQuAD-pzt-fold_0-@10.csv\")\n",
    "rxquad_recs = pd.read_csv(f\"{results_path}/RxQuAD-pzt-fold_0-@10.csv\")"
   ],
   "metadata": {
    "collapsed": false,
    "ExecuteTime": {
     "end_time": "2023-12-04T14:26:14.388597052Z",
     "start_time": "2023-12-04T14:26:14.355491122Z"
    }
   }
  },
  {
   "cell_type": "code",
   "execution_count": 126,
   "outputs": [],
   "source": [
    "d = {\"reranker\": [\"baseline (MF)\", \"Random\", \"MMR\", \"xQuAD\", \"RxQuAD\"]}\n",
    "# print(\"ChatGPT better than baseline in the following metrics:\")\n",
    "for col in baseline_recs.columns:\n",
    "    d[col] = [baseline_recs[col][0], random_recs[col][0], mmr_recs[col][0], xquad_recs[col][0], rxquad_recs[col][0]]\n",
    "    # if gpt_recs[col][0] > baseline_recs[col][0]:\n",
    "    #     print(col)\n",
    "results = pd.DataFrame(data=d)"
   ],
   "metadata": {
    "collapsed": false,
    "ExecuteTime": {
     "end_time": "2023-12-04T14:26:47.434219428Z",
     "start_time": "2023-12-04T14:26:47.416830233Z"
    }
   }
  },
  {
   "cell_type": "code",
   "execution_count": 127,
   "outputs": [
    {
     "data": {
      "text/plain": "     prec      ndcg    a_ndcg  eild_rel  eild_norel  s_recall_rel  \\\n0  0.2914  0.316022  0.324519  0.221073    0.775894       0.23365   \n1  0.1468  0.130343  0.153897  0.094422    0.810569       0.14475   \n2  0.2720  0.298836  0.313375  0.221876    0.874003       0.23715   \n3  0.2830  0.301404  0.350005  0.211741    0.779803       0.25115   \n4  0.2796  0.295440  0.337932  0.206974    0.769586       0.24370   \n\n   s_recall_norel       reranker  \n0         0.47285  baseline (MF)  \n1         0.49925         Random  \n2         0.54365            MMR  \n3         0.53890          xQuAD  \n4         0.50615         RxQuAD  ",
      "text/html": "<div>\n<style scoped>\n    .dataframe tbody tr th:only-of-type {\n        vertical-align: middle;\n    }\n\n    .dataframe tbody tr th {\n        vertical-align: top;\n    }\n\n    .dataframe thead th {\n        text-align: right;\n    }\n</style>\n<table border=\"1\" class=\"dataframe\">\n  <thead>\n    <tr style=\"text-align: right;\">\n      <th></th>\n      <th>prec</th>\n      <th>ndcg</th>\n      <th>a_ndcg</th>\n      <th>eild_rel</th>\n      <th>eild_norel</th>\n      <th>s_recall_rel</th>\n      <th>s_recall_norel</th>\n      <th>reranker</th>\n    </tr>\n  </thead>\n  <tbody>\n    <tr>\n      <th>0</th>\n      <td>0.2914</td>\n      <td>0.316022</td>\n      <td>0.324519</td>\n      <td>0.221073</td>\n      <td>0.775894</td>\n      <td>0.23365</td>\n      <td>0.47285</td>\n      <td>baseline (MF)</td>\n    </tr>\n    <tr>\n      <th>1</th>\n      <td>0.1468</td>\n      <td>0.130343</td>\n      <td>0.153897</td>\n      <td>0.094422</td>\n      <td>0.810569</td>\n      <td>0.14475</td>\n      <td>0.49925</td>\n      <td>Random</td>\n    </tr>\n    <tr>\n      <th>2</th>\n      <td>0.2720</td>\n      <td>0.298836</td>\n      <td>0.313375</td>\n      <td>0.221876</td>\n      <td>0.874003</td>\n      <td>0.23715</td>\n      <td>0.54365</td>\n      <td>MMR</td>\n    </tr>\n    <tr>\n      <th>3</th>\n      <td>0.2830</td>\n      <td>0.301404</td>\n      <td>0.350005</td>\n      <td>0.211741</td>\n      <td>0.779803</td>\n      <td>0.25115</td>\n      <td>0.53890</td>\n      <td>xQuAD</td>\n    </tr>\n    <tr>\n      <th>4</th>\n      <td>0.2796</td>\n      <td>0.295440</td>\n      <td>0.337932</td>\n      <td>0.206974</td>\n      <td>0.769586</td>\n      <td>0.24370</td>\n      <td>0.50615</td>\n      <td>RxQuAD</td>\n    </tr>\n  </tbody>\n</table>\n</div>"
     },
     "execution_count": 127,
     "metadata": {},
     "output_type": "execute_result"
    }
   ],
   "source": [
    "results = results[[\"prec\", \"ndcg\", \"a_ndcg\", \"eild_rel\", \"eild_norel\", \"s_recall_rel\", \"s_recall_norel\"]]\n",
    "results[\"reranker\"] = [\"baseline (MF)\", \"Random\", \"MMR\", \"xQuAD\", \"RxQuAD\"]\n",
    "results"
   ],
   "metadata": {
    "collapsed": false,
    "ExecuteTime": {
     "end_time": "2023-12-04T14:26:51.466105537Z",
     "start_time": "2023-12-04T14:26:51.388998126Z"
    }
   }
  },
  {
   "cell_type": "code",
   "execution_count": 133,
   "outputs": [],
   "source": [
    "results_path = \"/home/diego/chat-reranking/experiments/anime/results/ranksys_eval\"\n",
    "chat_p1 = pd.read_csv(f\"{results_path}/chatgpt0613-div-p1-pzt-fold_0-@10.csv\")\n",
    "chat_p2 = pd.read_csv(f\"{results_path}/chatgpt0613-div-p2-pzt-fold_0-@10.csv\")\n",
    "chat_p3 = pd.read_csv(f\"{results_path}/chatgpt0613-div-p3-pzt-fold_0-@10.csv\")\n",
    "chat_p4 = pd.read_csv(f\"{results_path}/chatgpt0613-div-p4-pzt-fold_0-@10.csv\")\n",
    "chat_p5 = pd.read_csv(f\"{results_path}/chatgpt0613-div-p5-pzt-fold_0-@10.csv\")\n",
    "chat_p6 = pd.read_csv(f\"{results_path}/chatgpt0613-div-p6-pzt-fold_0-@10.csv\")"
   ],
   "metadata": {
    "collapsed": false,
    "ExecuteTime": {
     "end_time": "2023-12-04T14:33:53.670257916Z",
     "start_time": "2023-12-04T14:33:53.591318833Z"
    }
   }
  },
  {
   "cell_type": "code",
   "execution_count": 134,
   "outputs": [
    {
     "data": {
      "text/plain": "     prec      ndcg    a_ndcg  eild_rel  eild_norel  s_recall_rel  \\\n0  0.2452  0.270062  0.286624  0.185838    0.812312       0.21485   \n1  0.2710  0.295994  0.312172  0.211770    0.812039       0.23160   \n2  0.2540  0.276861  0.299468  0.195332    0.815794       0.22390   \n3  0.2302  0.251550  0.275403  0.173522    0.817197       0.20865   \n4  0.2540  0.275740  0.296433  0.193743    0.813080       0.22125   \n5  0.2506  0.272173  0.296205  0.193616    0.817579       0.22310   \n\n   s_recall_norel     reranker  \n0         0.50335  chat-gpt-p1  \n1         0.50230  chat-gpt-p2  \n2         0.51065  chat-gpt-p3  \n3         0.51405  chat-gpt-p4  \n4         0.50740  chat-gpt-p5  \n5         0.51355  chat-gpt-p6  ",
      "text/html": "<div>\n<style scoped>\n    .dataframe tbody tr th:only-of-type {\n        vertical-align: middle;\n    }\n\n    .dataframe tbody tr th {\n        vertical-align: top;\n    }\n\n    .dataframe thead th {\n        text-align: right;\n    }\n</style>\n<table border=\"1\" class=\"dataframe\">\n  <thead>\n    <tr style=\"text-align: right;\">\n      <th></th>\n      <th>prec</th>\n      <th>ndcg</th>\n      <th>a_ndcg</th>\n      <th>eild_rel</th>\n      <th>eild_norel</th>\n      <th>s_recall_rel</th>\n      <th>s_recall_norel</th>\n      <th>reranker</th>\n    </tr>\n  </thead>\n  <tbody>\n    <tr>\n      <th>0</th>\n      <td>0.2452</td>\n      <td>0.270062</td>\n      <td>0.286624</td>\n      <td>0.185838</td>\n      <td>0.812312</td>\n      <td>0.21485</td>\n      <td>0.50335</td>\n      <td>chat-gpt-p1</td>\n    </tr>\n    <tr>\n      <th>1</th>\n      <td>0.2710</td>\n      <td>0.295994</td>\n      <td>0.312172</td>\n      <td>0.211770</td>\n      <td>0.812039</td>\n      <td>0.23160</td>\n      <td>0.50230</td>\n      <td>chat-gpt-p2</td>\n    </tr>\n    <tr>\n      <th>2</th>\n      <td>0.2540</td>\n      <td>0.276861</td>\n      <td>0.299468</td>\n      <td>0.195332</td>\n      <td>0.815794</td>\n      <td>0.22390</td>\n      <td>0.51065</td>\n      <td>chat-gpt-p3</td>\n    </tr>\n    <tr>\n      <th>3</th>\n      <td>0.2302</td>\n      <td>0.251550</td>\n      <td>0.275403</td>\n      <td>0.173522</td>\n      <td>0.817197</td>\n      <td>0.20865</td>\n      <td>0.51405</td>\n      <td>chat-gpt-p4</td>\n    </tr>\n    <tr>\n      <th>4</th>\n      <td>0.2540</td>\n      <td>0.275740</td>\n      <td>0.296433</td>\n      <td>0.193743</td>\n      <td>0.813080</td>\n      <td>0.22125</td>\n      <td>0.50740</td>\n      <td>chat-gpt-p5</td>\n    </tr>\n    <tr>\n      <th>5</th>\n      <td>0.2506</td>\n      <td>0.272173</td>\n      <td>0.296205</td>\n      <td>0.193616</td>\n      <td>0.817579</td>\n      <td>0.22310</td>\n      <td>0.51355</td>\n      <td>chat-gpt-p6</td>\n    </tr>\n  </tbody>\n</table>\n</div>"
     },
     "execution_count": 134,
     "metadata": {},
     "output_type": "execute_result"
    }
   ],
   "source": [
    "d = {}\n",
    "for col in chat_p1.columns:\n",
    "    d[col] = [chat_p1[col][0], \n",
    "              chat_p2[col][0], \n",
    "              chat_p3[col][0], \n",
    "              chat_p4[col][0],\n",
    "              chat_p5[col][0],\n",
    "              chat_p6[col][0],\n",
    "              ]\n",
    "results = pd.DataFrame(data=d)\n",
    "results = results[[\"prec\", \"ndcg\", \"a_ndcg\", \"eild_rel\", \"eild_norel\", \"s_recall_rel\", \"s_recall_norel\"]]\n",
    "results[\"reranker\"] = [\"chat-gpt-p1\", \"chat-gpt-p2\", \"chat-gpt-p3\", \"chat-gpt-p4\", \n",
    "                       \"chat-gpt-p5\", \"chat-gpt-p6\"]\n",
    "results"
   ],
   "metadata": {
    "collapsed": false,
    "ExecuteTime": {
     "end_time": "2023-12-04T14:33:53.935799156Z",
     "start_time": "2023-12-04T14:33:53.855944294Z"
    }
   }
  },
  {
   "cell_type": "code",
   "execution_count": null,
   "outputs": [],
   "source": [],
   "metadata": {
    "collapsed": false
   }
  },
  {
   "cell_type": "code",
   "execution_count": 135,
   "outputs": [
    {
     "data": {
      "text/plain": "     prec      ndcg    a_ndcg  eild_rel  eild_norel  s_recall_rel  \\\n0  0.2430  0.262564  0.286618  0.185676    0.812275       0.21915   \n1  0.2454  0.272404  0.291284  0.186974    0.813067       0.21710   \n2  0.2372  0.260093  0.281940  0.181968    0.818466       0.21340   \n3  0.2394  0.257365  0.283150  0.181650    0.813911       0.21585   \n4  0.2466  0.270360  0.292655  0.188584    0.815421       0.21930   \n5  0.2462  0.274018  0.294508  0.188309    0.813147       0.21825   \n\n   s_recall_norel         reranker  \n0         0.51010  instruct-gpt-p1  \n1         0.50565  instruct-gpt-p2  \n2         0.51370  instruct-gpt-p3  \n3         0.51060  instruct-gpt-p4  \n4         0.50480  instruct-gpt-p5  \n5         0.50360  instruct-gpt-p6  ",
      "text/html": "<div>\n<style scoped>\n    .dataframe tbody tr th:only-of-type {\n        vertical-align: middle;\n    }\n\n    .dataframe tbody tr th {\n        vertical-align: top;\n    }\n\n    .dataframe thead th {\n        text-align: right;\n    }\n</style>\n<table border=\"1\" class=\"dataframe\">\n  <thead>\n    <tr style=\"text-align: right;\">\n      <th></th>\n      <th>prec</th>\n      <th>ndcg</th>\n      <th>a_ndcg</th>\n      <th>eild_rel</th>\n      <th>eild_norel</th>\n      <th>s_recall_rel</th>\n      <th>s_recall_norel</th>\n      <th>reranker</th>\n    </tr>\n  </thead>\n  <tbody>\n    <tr>\n      <th>0</th>\n      <td>0.2430</td>\n      <td>0.262564</td>\n      <td>0.286618</td>\n      <td>0.185676</td>\n      <td>0.812275</td>\n      <td>0.21915</td>\n      <td>0.51010</td>\n      <td>instruct-gpt-p1</td>\n    </tr>\n    <tr>\n      <th>1</th>\n      <td>0.2454</td>\n      <td>0.272404</td>\n      <td>0.291284</td>\n      <td>0.186974</td>\n      <td>0.813067</td>\n      <td>0.21710</td>\n      <td>0.50565</td>\n      <td>instruct-gpt-p2</td>\n    </tr>\n    <tr>\n      <th>2</th>\n      <td>0.2372</td>\n      <td>0.260093</td>\n      <td>0.281940</td>\n      <td>0.181968</td>\n      <td>0.818466</td>\n      <td>0.21340</td>\n      <td>0.51370</td>\n      <td>instruct-gpt-p3</td>\n    </tr>\n    <tr>\n      <th>3</th>\n      <td>0.2394</td>\n      <td>0.257365</td>\n      <td>0.283150</td>\n      <td>0.181650</td>\n      <td>0.813911</td>\n      <td>0.21585</td>\n      <td>0.51060</td>\n      <td>instruct-gpt-p4</td>\n    </tr>\n    <tr>\n      <th>4</th>\n      <td>0.2466</td>\n      <td>0.270360</td>\n      <td>0.292655</td>\n      <td>0.188584</td>\n      <td>0.815421</td>\n      <td>0.21930</td>\n      <td>0.50480</td>\n      <td>instruct-gpt-p5</td>\n    </tr>\n    <tr>\n      <th>5</th>\n      <td>0.2462</td>\n      <td>0.274018</td>\n      <td>0.294508</td>\n      <td>0.188309</td>\n      <td>0.813147</td>\n      <td>0.21825</td>\n      <td>0.50360</td>\n      <td>instruct-gpt-p6</td>\n    </tr>\n  </tbody>\n</table>\n</div>"
     },
     "execution_count": 135,
     "metadata": {},
     "output_type": "execute_result"
    }
   ],
   "source": [
    "results_path = \"/home/diego/chat-reranking/experiments/anime/results/ranksys_eval\"\n",
    "instruct_p1 = pd.read_csv(f\"{results_path}/instructgpt-div-p1-pzt-fold_0-@10.csv\")\n",
    "instruct_p2 = pd.read_csv(f\"{results_path}/instructgpt-div-p2-pzt-fold_0-@10.csv\")\n",
    "instruct_p3 = pd.read_csv(f\"{results_path}/instructgpt-div-p3-pzt-fold_0-@10.csv\")\n",
    "instruct_p4 = pd.read_csv(f\"{results_path}/instructgpt-div-p4-pzt-fold_0-@10.csv\")\n",
    "instruct_p5 = pd.read_csv(f\"{results_path}/instructgpt-div-p5-pzt-fold_0-@10.csv\")\n",
    "instruct_p6 = pd.read_csv(f\"{results_path}/instructgpt-div-p6-pzt-fold_0-@10.csv\")\n",
    "\n",
    "d = {}\n",
    "for col in chat_p1.columns:\n",
    "    d[col] = [instruct_p1[col][0], \n",
    "              instruct_p2[col][0], \n",
    "              instruct_p3[col][0], \n",
    "              instruct_p4[col][0],\n",
    "              instruct_p5[col][0],\n",
    "              instruct_p6[col][0],\n",
    "              ]\n",
    "results = pd.DataFrame(data=d)\n",
    "results = results[[\"prec\", \"ndcg\", \"a_ndcg\", \"eild_rel\", \"eild_norel\", \"s_recall_rel\", \"s_recall_norel\"]]\n",
    "results[\"reranker\"] = [\"instruct-gpt-p1\", \"instruct-gpt-p2\", \"instruct-gpt-p3\", \"instruct-gpt-p4\", \n",
    "                       \"instruct-gpt-p5\", \"instruct-gpt-p6\"]\n",
    "results"
   ],
   "metadata": {
    "collapsed": false,
    "ExecuteTime": {
     "end_time": "2023-12-04T14:34:35.326717517Z",
     "start_time": "2023-12-04T14:34:35.271937274Z"
    }
   }
  },
  {
   "cell_type": "code",
   "execution_count": 135,
   "outputs": [],
   "source": [],
   "metadata": {
    "collapsed": false,
    "ExecuteTime": {
     "end_time": "2023-12-04T14:35:33.208951433Z",
     "start_time": "2023-12-04T14:35:33.165954601Z"
    }
   }
  },
  {
   "cell_type": "code",
   "execution_count": 137,
   "outputs": [
    {
     "data": {
      "text/plain": "     prec      ndcg    a_ndcg  eild_rel  eild_norel  s_recall_rel  \\\n0  0.2296  0.250901  0.277415  0.169752    0.812883       0.21020   \n1  0.2106  0.233646  0.255733  0.156441    0.818012       0.19515   \n2  0.2126  0.234732  0.259793  0.155878    0.818021       0.19620   \n3  0.2318  0.253362  0.281120  0.173538    0.810288       0.21395   \n4  0.2210  0.235086  0.269004  0.164583    0.806263       0.20665   \n5  0.2232  0.241760  0.271037  0.166399    0.805794       0.20610   \n\n   s_recall_norel   reranker  \n0         0.51205   llama-p7  \n1         0.50245   llama-p8  \n2         0.51005   llama-p9  \n3         0.51190  llama-p10  \n4         0.51185  llama-p11  \n5         0.51135  llama-p12  ",
      "text/html": "<div>\n<style scoped>\n    .dataframe tbody tr th:only-of-type {\n        vertical-align: middle;\n    }\n\n    .dataframe tbody tr th {\n        vertical-align: top;\n    }\n\n    .dataframe thead th {\n        text-align: right;\n    }\n</style>\n<table border=\"1\" class=\"dataframe\">\n  <thead>\n    <tr style=\"text-align: right;\">\n      <th></th>\n      <th>prec</th>\n      <th>ndcg</th>\n      <th>a_ndcg</th>\n      <th>eild_rel</th>\n      <th>eild_norel</th>\n      <th>s_recall_rel</th>\n      <th>s_recall_norel</th>\n      <th>reranker</th>\n    </tr>\n  </thead>\n  <tbody>\n    <tr>\n      <th>0</th>\n      <td>0.2296</td>\n      <td>0.250901</td>\n      <td>0.277415</td>\n      <td>0.169752</td>\n      <td>0.812883</td>\n      <td>0.21020</td>\n      <td>0.51205</td>\n      <td>llama-p7</td>\n    </tr>\n    <tr>\n      <th>1</th>\n      <td>0.2106</td>\n      <td>0.233646</td>\n      <td>0.255733</td>\n      <td>0.156441</td>\n      <td>0.818012</td>\n      <td>0.19515</td>\n      <td>0.50245</td>\n      <td>llama-p8</td>\n    </tr>\n    <tr>\n      <th>2</th>\n      <td>0.2126</td>\n      <td>0.234732</td>\n      <td>0.259793</td>\n      <td>0.155878</td>\n      <td>0.818021</td>\n      <td>0.19620</td>\n      <td>0.51005</td>\n      <td>llama-p9</td>\n    </tr>\n    <tr>\n      <th>3</th>\n      <td>0.2318</td>\n      <td>0.253362</td>\n      <td>0.281120</td>\n      <td>0.173538</td>\n      <td>0.810288</td>\n      <td>0.21395</td>\n      <td>0.51190</td>\n      <td>llama-p10</td>\n    </tr>\n    <tr>\n      <th>4</th>\n      <td>0.2210</td>\n      <td>0.235086</td>\n      <td>0.269004</td>\n      <td>0.164583</td>\n      <td>0.806263</td>\n      <td>0.20665</td>\n      <td>0.51185</td>\n      <td>llama-p11</td>\n    </tr>\n    <tr>\n      <th>5</th>\n      <td>0.2232</td>\n      <td>0.241760</td>\n      <td>0.271037</td>\n      <td>0.166399</td>\n      <td>0.805794</td>\n      <td>0.20610</td>\n      <td>0.51135</td>\n      <td>llama-p12</td>\n    </tr>\n  </tbody>\n</table>\n</div>"
     },
     "execution_count": 137,
     "metadata": {},
     "output_type": "execute_result"
    }
   ],
   "source": [
    "results_path = \"/home/diego/chat-reranking/experiments/anime/results/ranksys_eval\"\n",
    "llama_p7 = pd.read_csv(f\"{results_path}/Llama-2-7b-chat-hf-div-p7-pzt-fold_0-@10.csv\")\n",
    "llama_p8 = pd.read_csv(f\"{results_path}/Llama-2-7b-chat-hf-div-p8-pzt-fold_0-@10.csv\")\n",
    "llama_p9 = pd.read_csv(f\"{results_path}/Llama-2-7b-chat-hf-div-p9-pzt-fold_0-@10.csv\")\n",
    "llama_p10 = pd.read_csv(f\"{results_path}/Llama-2-7b-chat-hf-div-p10-pzt-fold_0-@10.csv\")\n",
    "llama_p11 = pd.read_csv(f\"{results_path}/Llama-2-7b-chat-hf-div-p11-pzt-fold_0-@10.csv\")\n",
    "llama_p12 = pd.read_csv(f\"{results_path}/Llama-2-7b-chat-hf-div-p12-pzt-fold_0-@10.csv\")\n",
    "\n",
    "d = {}\n",
    "for col in chat_p1.columns:\n",
    "    d[col] = [llama_p7[col][0], \n",
    "              llama_p8[col][0], \n",
    "              llama_p9[col][0], \n",
    "              llama_p10[col][0],\n",
    "              llama_p11[col][0],\n",
    "              llama_p12[col][0],\n",
    "              ]\n",
    "results = pd.DataFrame(data=d)\n",
    "results = results[[\"prec\", \"ndcg\", \"a_ndcg\", \"eild_rel\", \"eild_norel\", \"s_recall_rel\", \"s_recall_norel\"]]\n",
    "results[\"reranker\"] = [\"llama-p7\", \"llama-p8\", \"llama-p9\", \"llama-p10\", \n",
    "                       \"llama-p11\", \"llama-p12\"]\n",
    "results"
   ],
   "metadata": {
    "collapsed": false,
    "ExecuteTime": {
     "end_time": "2023-12-04T14:39:00.829053886Z",
     "start_time": "2023-12-04T14:39:00.764989895Z"
    }
   }
  },
  {
   "cell_type": "code",
   "execution_count": 137,
   "outputs": [],
   "source": [],
   "metadata": {
    "collapsed": false,
    "ExecuteTime": {
     "end_time": "2023-12-04T17:25:53.841167015Z",
     "start_time": "2023-12-04T17:25:53.802398630Z"
    }
   }
  },
  {
   "cell_type": "markdown",
   "source": [
    "<h2>Results anime (ChatGPT features)</h2>"
   ],
   "metadata": {
    "collapsed": false
   }
  },
  {
   "cell_type": "code",
   "execution_count": 139,
   "outputs": [],
   "source": [
    "results_path = \"/home/diego/chat-reranking/experiments/anime/results/ranksys_eval_gpt_genres\"\n",
    "baseline_recs = pd.read_csv(f\"{results_path}/pzt-fold_0-@10.csv\")\n",
    "random_recs = pd.read_csv(f\"{results_path}/Random-pzt-fold_0-@10.csv\")\n",
    "mmr_recs = pd.read_csv(f\"{results_path}/MMR-pzt-fold_0-@10.csv\")\n",
    "xquad_recs = pd.read_csv(f\"{results_path}/xQuAD-pzt-fold_0-@10.csv\")\n",
    "rxquad_recs = pd.read_csv(f\"{results_path}/RxQuAD-pzt-fold_0-@10.csv\")"
   ],
   "metadata": {
    "collapsed": false,
    "ExecuteTime": {
     "end_time": "2023-12-04T17:39:21.874304530Z",
     "start_time": "2023-12-04T17:39:21.851449337Z"
    }
   }
  },
  {
   "cell_type": "code",
   "execution_count": 140,
   "outputs": [],
   "source": [
    "d = {\"reranker\": [\"baseline (MF)\", \"Random\", \"MMR\", \"xQuAD\", \"RxQuAD\"]}\n",
    "# print(\"ChatGPT better than baseline in the following metrics:\")\n",
    "for col in baseline_recs.columns:\n",
    "    d[col] = [baseline_recs[col][0], random_recs[col][0], mmr_recs[col][0], xquad_recs[col][0], rxquad_recs[col][0]]\n",
    "    # if gpt_recs[col][0] > baseline_recs[col][0]:\n",
    "    #     print(col)\n",
    "results = pd.DataFrame(data=d)"
   ],
   "metadata": {
    "collapsed": false,
    "ExecuteTime": {
     "end_time": "2023-12-04T17:39:23.873188905Z",
     "start_time": "2023-12-04T17:39:23.817112722Z"
    }
   }
  },
  {
   "cell_type": "code",
   "execution_count": 141,
   "outputs": [
    {
     "data": {
      "text/plain": "     prec      ndcg    a_ndcg  eild_rel  eild_norel  s_recall_rel  \\\n0  0.2914  0.316022  0.324541  0.220494    0.775826      0.196826   \n1  0.1600  0.141438  0.166716  0.106664    0.807197      0.130478   \n2  0.2774  0.303519  0.316902  0.224497    0.862324      0.201087   \n3  0.2840  0.302617  0.349881  0.212250    0.783798      0.210826   \n4  0.2820  0.297959  0.337899  0.210053    0.772049      0.205522   \n\n   s_recall_norel       reranker  \n0        0.398348  baseline (MF)  \n1        0.420130         Random  \n2        0.451130            MMR  \n3        0.452826          xQuAD  \n4        0.425174         RxQuAD  ",
      "text/html": "<div>\n<style scoped>\n    .dataframe tbody tr th:only-of-type {\n        vertical-align: middle;\n    }\n\n    .dataframe tbody tr th {\n        vertical-align: top;\n    }\n\n    .dataframe thead th {\n        text-align: right;\n    }\n</style>\n<table border=\"1\" class=\"dataframe\">\n  <thead>\n    <tr style=\"text-align: right;\">\n      <th></th>\n      <th>prec</th>\n      <th>ndcg</th>\n      <th>a_ndcg</th>\n      <th>eild_rel</th>\n      <th>eild_norel</th>\n      <th>s_recall_rel</th>\n      <th>s_recall_norel</th>\n      <th>reranker</th>\n    </tr>\n  </thead>\n  <tbody>\n    <tr>\n      <th>0</th>\n      <td>0.2914</td>\n      <td>0.316022</td>\n      <td>0.324541</td>\n      <td>0.220494</td>\n      <td>0.775826</td>\n      <td>0.196826</td>\n      <td>0.398348</td>\n      <td>baseline (MF)</td>\n    </tr>\n    <tr>\n      <th>1</th>\n      <td>0.1600</td>\n      <td>0.141438</td>\n      <td>0.166716</td>\n      <td>0.106664</td>\n      <td>0.807197</td>\n      <td>0.130478</td>\n      <td>0.420130</td>\n      <td>Random</td>\n    </tr>\n    <tr>\n      <th>2</th>\n      <td>0.2774</td>\n      <td>0.303519</td>\n      <td>0.316902</td>\n      <td>0.224497</td>\n      <td>0.862324</td>\n      <td>0.201087</td>\n      <td>0.451130</td>\n      <td>MMR</td>\n    </tr>\n    <tr>\n      <th>3</th>\n      <td>0.2840</td>\n      <td>0.302617</td>\n      <td>0.349881</td>\n      <td>0.212250</td>\n      <td>0.783798</td>\n      <td>0.210826</td>\n      <td>0.452826</td>\n      <td>xQuAD</td>\n    </tr>\n    <tr>\n      <th>4</th>\n      <td>0.2820</td>\n      <td>0.297959</td>\n      <td>0.337899</td>\n      <td>0.210053</td>\n      <td>0.772049</td>\n      <td>0.205522</td>\n      <td>0.425174</td>\n      <td>RxQuAD</td>\n    </tr>\n  </tbody>\n</table>\n</div>"
     },
     "execution_count": 141,
     "metadata": {},
     "output_type": "execute_result"
    }
   ],
   "source": [
    "results = results[[\"prec\", \"ndcg\", \"a_ndcg\", \"eild_rel\", \"eild_norel\", \"s_recall_rel\", \"s_recall_norel\"]]\n",
    "results[\"reranker\"] = [\"baseline (MF)\", \"Random\", \"MMR\", \"xQuAD\", \"RxQuAD\"]\n",
    "results"
   ],
   "metadata": {
    "collapsed": false,
    "ExecuteTime": {
     "end_time": "2023-12-04T17:39:35.293338452Z",
     "start_time": "2023-12-04T17:39:35.132110326Z"
    }
   }
  },
  {
   "cell_type": "code",
   "execution_count": 141,
   "outputs": [],
   "source": [],
   "metadata": {
    "collapsed": false,
    "ExecuteTime": {
     "end_time": "2023-12-04T17:40:08.704858368Z",
     "start_time": "2023-12-04T17:40:08.634211174Z"
    }
   }
  },
  {
   "cell_type": "code",
   "execution_count": 142,
   "outputs": [
    {
     "data": {
      "text/plain": "     prec      ndcg    a_ndcg  eild_rel  eild_norel  s_recall_rel  \\\n0  0.2452  0.270062  0.286624  0.185838    0.812312       0.21485   \n1  0.2710  0.295994  0.312172  0.211770    0.812039       0.23160   \n2  0.2540  0.276861  0.299468  0.195332    0.815794       0.22390   \n3  0.2302  0.251550  0.275403  0.173522    0.817197       0.20865   \n4  0.2540  0.275740  0.296433  0.193743    0.813080       0.22125   \n5  0.2506  0.272173  0.296205  0.193616    0.817579       0.22310   \n\n   s_recall_norel     reranker  \n0         0.50335  chat-gpt-p1  \n1         0.50230  chat-gpt-p2  \n2         0.51065  chat-gpt-p3  \n3         0.51405  chat-gpt-p4  \n4         0.50740  chat-gpt-p5  \n5         0.51355  chat-gpt-p6  ",
      "text/html": "<div>\n<style scoped>\n    .dataframe tbody tr th:only-of-type {\n        vertical-align: middle;\n    }\n\n    .dataframe tbody tr th {\n        vertical-align: top;\n    }\n\n    .dataframe thead th {\n        text-align: right;\n    }\n</style>\n<table border=\"1\" class=\"dataframe\">\n  <thead>\n    <tr style=\"text-align: right;\">\n      <th></th>\n      <th>prec</th>\n      <th>ndcg</th>\n      <th>a_ndcg</th>\n      <th>eild_rel</th>\n      <th>eild_norel</th>\n      <th>s_recall_rel</th>\n      <th>s_recall_norel</th>\n      <th>reranker</th>\n    </tr>\n  </thead>\n  <tbody>\n    <tr>\n      <th>0</th>\n      <td>0.2452</td>\n      <td>0.270062</td>\n      <td>0.286624</td>\n      <td>0.185838</td>\n      <td>0.812312</td>\n      <td>0.21485</td>\n      <td>0.50335</td>\n      <td>chat-gpt-p1</td>\n    </tr>\n    <tr>\n      <th>1</th>\n      <td>0.2710</td>\n      <td>0.295994</td>\n      <td>0.312172</td>\n      <td>0.211770</td>\n      <td>0.812039</td>\n      <td>0.23160</td>\n      <td>0.50230</td>\n      <td>chat-gpt-p2</td>\n    </tr>\n    <tr>\n      <th>2</th>\n      <td>0.2540</td>\n      <td>0.276861</td>\n      <td>0.299468</td>\n      <td>0.195332</td>\n      <td>0.815794</td>\n      <td>0.22390</td>\n      <td>0.51065</td>\n      <td>chat-gpt-p3</td>\n    </tr>\n    <tr>\n      <th>3</th>\n      <td>0.2302</td>\n      <td>0.251550</td>\n      <td>0.275403</td>\n      <td>0.173522</td>\n      <td>0.817197</td>\n      <td>0.20865</td>\n      <td>0.51405</td>\n      <td>chat-gpt-p4</td>\n    </tr>\n    <tr>\n      <th>4</th>\n      <td>0.2540</td>\n      <td>0.275740</td>\n      <td>0.296433</td>\n      <td>0.193743</td>\n      <td>0.813080</td>\n      <td>0.22125</td>\n      <td>0.50740</td>\n      <td>chat-gpt-p5</td>\n    </tr>\n    <tr>\n      <th>5</th>\n      <td>0.2506</td>\n      <td>0.272173</td>\n      <td>0.296205</td>\n      <td>0.193616</td>\n      <td>0.817579</td>\n      <td>0.22310</td>\n      <td>0.51355</td>\n      <td>chat-gpt-p6</td>\n    </tr>\n  </tbody>\n</table>\n</div>"
     },
     "execution_count": 142,
     "metadata": {},
     "output_type": "execute_result"
    }
   ],
   "source": [
    "results_path = \"/home/diego/chat-reranking/experiments/anime/results/ranksys_eval\"\n",
    "chat_p1 = pd.read_csv(f\"{results_path}/chatgpt0613-div-p1-pzt-fold_0-@10.csv\")\n",
    "chat_p2 = pd.read_csv(f\"{results_path}/chatgpt0613-div-p2-pzt-fold_0-@10.csv\")\n",
    "chat_p3 = pd.read_csv(f\"{results_path}/chatgpt0613-div-p3-pzt-fold_0-@10.csv\")\n",
    "chat_p4 = pd.read_csv(f\"{results_path}/chatgpt0613-div-p4-pzt-fold_0-@10.csv\")\n",
    "chat_p5 = pd.read_csv(f\"{results_path}/chatgpt0613-div-p5-pzt-fold_0-@10.csv\")\n",
    "chat_p6 = pd.read_csv(f\"{results_path}/chatgpt0613-div-p6-pzt-fold_0-@10.csv\")\n",
    "\n",
    "d = {}\n",
    "for col in chat_p1.columns:\n",
    "    d[col] = [chat_p1[col][0], \n",
    "              chat_p2[col][0], \n",
    "              chat_p3[col][0], \n",
    "              chat_p4[col][0],\n",
    "              chat_p5[col][0],\n",
    "              chat_p6[col][0],\n",
    "              ]\n",
    "results = pd.DataFrame(data=d)\n",
    "results = results[[\"prec\", \"ndcg\", \"a_ndcg\", \"eild_rel\", \"eild_norel\", \"s_recall_rel\", \"s_recall_norel\"]]\n",
    "results[\"reranker\"] = [\"chat-gpt-p1\", \"chat-gpt-p2\", \"chat-gpt-p3\", \"chat-gpt-p4\", \n",
    "                       \"chat-gpt-p5\", \"chat-gpt-p6\"]\n",
    "results"
   ],
   "metadata": {
    "collapsed": false,
    "ExecuteTime": {
     "end_time": "2023-12-04T17:40:10.693282831Z",
     "start_time": "2023-12-04T17:40:10.624721818Z"
    }
   }
  },
  {
   "cell_type": "code",
   "execution_count": 142,
   "outputs": [],
   "source": [],
   "metadata": {
    "collapsed": false,
    "ExecuteTime": {
     "end_time": "2023-12-04T17:40:25.297831973Z",
     "start_time": "2023-12-04T17:40:25.253355236Z"
    }
   }
  },
  {
   "cell_type": "code",
   "execution_count": 143,
   "outputs": [
    {
     "data": {
      "text/plain": "     prec      ndcg    a_ndcg  eild_rel  eild_norel  s_recall_rel  \\\n0  0.2430  0.262564  0.286618  0.185676    0.812275       0.21915   \n1  0.2454  0.272404  0.291284  0.186974    0.813067       0.21710   \n2  0.2372  0.260093  0.281940  0.181968    0.818466       0.21340   \n3  0.2394  0.257365  0.283150  0.181650    0.813911       0.21585   \n4  0.2466  0.270360  0.292655  0.188584    0.815421       0.21930   \n5  0.2462  0.274018  0.294508  0.188309    0.813147       0.21825   \n\n   s_recall_norel         reranker  \n0         0.51010  instruct-gpt-p1  \n1         0.50565  instruct-gpt-p2  \n2         0.51370  instruct-gpt-p3  \n3         0.51060  instruct-gpt-p4  \n4         0.50480  instruct-gpt-p5  \n5         0.50360  instruct-gpt-p6  ",
      "text/html": "<div>\n<style scoped>\n    .dataframe tbody tr th:only-of-type {\n        vertical-align: middle;\n    }\n\n    .dataframe tbody tr th {\n        vertical-align: top;\n    }\n\n    .dataframe thead th {\n        text-align: right;\n    }\n</style>\n<table border=\"1\" class=\"dataframe\">\n  <thead>\n    <tr style=\"text-align: right;\">\n      <th></th>\n      <th>prec</th>\n      <th>ndcg</th>\n      <th>a_ndcg</th>\n      <th>eild_rel</th>\n      <th>eild_norel</th>\n      <th>s_recall_rel</th>\n      <th>s_recall_norel</th>\n      <th>reranker</th>\n    </tr>\n  </thead>\n  <tbody>\n    <tr>\n      <th>0</th>\n      <td>0.2430</td>\n      <td>0.262564</td>\n      <td>0.286618</td>\n      <td>0.185676</td>\n      <td>0.812275</td>\n      <td>0.21915</td>\n      <td>0.51010</td>\n      <td>instruct-gpt-p1</td>\n    </tr>\n    <tr>\n      <th>1</th>\n      <td>0.2454</td>\n      <td>0.272404</td>\n      <td>0.291284</td>\n      <td>0.186974</td>\n      <td>0.813067</td>\n      <td>0.21710</td>\n      <td>0.50565</td>\n      <td>instruct-gpt-p2</td>\n    </tr>\n    <tr>\n      <th>2</th>\n      <td>0.2372</td>\n      <td>0.260093</td>\n      <td>0.281940</td>\n      <td>0.181968</td>\n      <td>0.818466</td>\n      <td>0.21340</td>\n      <td>0.51370</td>\n      <td>instruct-gpt-p3</td>\n    </tr>\n    <tr>\n      <th>3</th>\n      <td>0.2394</td>\n      <td>0.257365</td>\n      <td>0.283150</td>\n      <td>0.181650</td>\n      <td>0.813911</td>\n      <td>0.21585</td>\n      <td>0.51060</td>\n      <td>instruct-gpt-p4</td>\n    </tr>\n    <tr>\n      <th>4</th>\n      <td>0.2466</td>\n      <td>0.270360</td>\n      <td>0.292655</td>\n      <td>0.188584</td>\n      <td>0.815421</td>\n      <td>0.21930</td>\n      <td>0.50480</td>\n      <td>instruct-gpt-p5</td>\n    </tr>\n    <tr>\n      <th>5</th>\n      <td>0.2462</td>\n      <td>0.274018</td>\n      <td>0.294508</td>\n      <td>0.188309</td>\n      <td>0.813147</td>\n      <td>0.21825</td>\n      <td>0.50360</td>\n      <td>instruct-gpt-p6</td>\n    </tr>\n  </tbody>\n</table>\n</div>"
     },
     "execution_count": 143,
     "metadata": {},
     "output_type": "execute_result"
    }
   ],
   "source": [
    "results_path = \"/home/diego/chat-reranking/experiments/anime/results/ranksys_eval\"\n",
    "instruct_p1 = pd.read_csv(f\"{results_path}/instructgpt-div-p1-pzt-fold_0-@10.csv\")\n",
    "instruct_p2 = pd.read_csv(f\"{results_path}/instructgpt-div-p2-pzt-fold_0-@10.csv\")\n",
    "instruct_p3 = pd.read_csv(f\"{results_path}/instructgpt-div-p3-pzt-fold_0-@10.csv\")\n",
    "instruct_p4 = pd.read_csv(f\"{results_path}/instructgpt-div-p4-pzt-fold_0-@10.csv\")\n",
    "instruct_p5 = pd.read_csv(f\"{results_path}/instructgpt-div-p5-pzt-fold_0-@10.csv\")\n",
    "instruct_p6 = pd.read_csv(f\"{results_path}/instructgpt-div-p6-pzt-fold_0-@10.csv\")\n",
    "\n",
    "d = {}\n",
    "for col in chat_p1.columns:\n",
    "    d[col] = [instruct_p1[col][0], \n",
    "              instruct_p2[col][0], \n",
    "              instruct_p3[col][0], \n",
    "              instruct_p4[col][0],\n",
    "              instruct_p5[col][0],\n",
    "              instruct_p6[col][0],\n",
    "              ]\n",
    "results = pd.DataFrame(data=d)\n",
    "results = results[[\"prec\", \"ndcg\", \"a_ndcg\", \"eild_rel\", \"eild_norel\", \"s_recall_rel\", \"s_recall_norel\"]]\n",
    "results[\"reranker\"] = [\"instruct-gpt-p1\", \"instruct-gpt-p2\", \"instruct-gpt-p3\", \"instruct-gpt-p4\", \n",
    "                       \"instruct-gpt-p5\", \"instruct-gpt-p6\"]\n",
    "results"
   ],
   "metadata": {
    "collapsed": false,
    "ExecuteTime": {
     "end_time": "2023-12-04T17:40:26.870525352Z",
     "start_time": "2023-12-04T17:40:26.788542623Z"
    }
   }
  },
  {
   "cell_type": "code",
   "execution_count": 143,
   "outputs": [],
   "source": [],
   "metadata": {
    "collapsed": false,
    "ExecuteTime": {
     "end_time": "2023-12-04T17:40:38.392181405Z",
     "start_time": "2023-12-04T17:40:38.345600128Z"
    }
   }
  },
  {
   "cell_type": "code",
   "execution_count": 144,
   "outputs": [
    {
     "data": {
      "text/plain": "     prec      ndcg    a_ndcg  eild_rel  eild_norel  s_recall_rel  \\\n0  0.2296  0.250901  0.277415  0.169752    0.812883       0.21020   \n1  0.2106  0.233646  0.255733  0.156441    0.818012       0.19515   \n2  0.2126  0.234732  0.259793  0.155878    0.818021       0.19620   \n3  0.2318  0.253362  0.281120  0.173538    0.810288       0.21395   \n4  0.2210  0.235086  0.269004  0.164583    0.806263       0.20665   \n5  0.2232  0.241760  0.271037  0.166399    0.805794       0.20610   \n\n   s_recall_norel   reranker  \n0         0.51205   llama-p7  \n1         0.50245   llama-p8  \n2         0.51005   llama-p9  \n3         0.51190  llama-p10  \n4         0.51185  llama-p11  \n5         0.51135  llama-p12  ",
      "text/html": "<div>\n<style scoped>\n    .dataframe tbody tr th:only-of-type {\n        vertical-align: middle;\n    }\n\n    .dataframe tbody tr th {\n        vertical-align: top;\n    }\n\n    .dataframe thead th {\n        text-align: right;\n    }\n</style>\n<table border=\"1\" class=\"dataframe\">\n  <thead>\n    <tr style=\"text-align: right;\">\n      <th></th>\n      <th>prec</th>\n      <th>ndcg</th>\n      <th>a_ndcg</th>\n      <th>eild_rel</th>\n      <th>eild_norel</th>\n      <th>s_recall_rel</th>\n      <th>s_recall_norel</th>\n      <th>reranker</th>\n    </tr>\n  </thead>\n  <tbody>\n    <tr>\n      <th>0</th>\n      <td>0.2296</td>\n      <td>0.250901</td>\n      <td>0.277415</td>\n      <td>0.169752</td>\n      <td>0.812883</td>\n      <td>0.21020</td>\n      <td>0.51205</td>\n      <td>llama-p7</td>\n    </tr>\n    <tr>\n      <th>1</th>\n      <td>0.2106</td>\n      <td>0.233646</td>\n      <td>0.255733</td>\n      <td>0.156441</td>\n      <td>0.818012</td>\n      <td>0.19515</td>\n      <td>0.50245</td>\n      <td>llama-p8</td>\n    </tr>\n    <tr>\n      <th>2</th>\n      <td>0.2126</td>\n      <td>0.234732</td>\n      <td>0.259793</td>\n      <td>0.155878</td>\n      <td>0.818021</td>\n      <td>0.19620</td>\n      <td>0.51005</td>\n      <td>llama-p9</td>\n    </tr>\n    <tr>\n      <th>3</th>\n      <td>0.2318</td>\n      <td>0.253362</td>\n      <td>0.281120</td>\n      <td>0.173538</td>\n      <td>0.810288</td>\n      <td>0.21395</td>\n      <td>0.51190</td>\n      <td>llama-p10</td>\n    </tr>\n    <tr>\n      <th>4</th>\n      <td>0.2210</td>\n      <td>0.235086</td>\n      <td>0.269004</td>\n      <td>0.164583</td>\n      <td>0.806263</td>\n      <td>0.20665</td>\n      <td>0.51185</td>\n      <td>llama-p11</td>\n    </tr>\n    <tr>\n      <th>5</th>\n      <td>0.2232</td>\n      <td>0.241760</td>\n      <td>0.271037</td>\n      <td>0.166399</td>\n      <td>0.805794</td>\n      <td>0.20610</td>\n      <td>0.51135</td>\n      <td>llama-p12</td>\n    </tr>\n  </tbody>\n</table>\n</div>"
     },
     "execution_count": 144,
     "metadata": {},
     "output_type": "execute_result"
    }
   ],
   "source": [
    "results_path = \"/home/diego/chat-reranking/experiments/anime/results/ranksys_eval\"\n",
    "llama_p7 = pd.read_csv(f\"{results_path}/Llama-2-7b-chat-hf-div-p7-pzt-fold_0-@10.csv\")\n",
    "llama_p8 = pd.read_csv(f\"{results_path}/Llama-2-7b-chat-hf-div-p8-pzt-fold_0-@10.csv\")\n",
    "llama_p9 = pd.read_csv(f\"{results_path}/Llama-2-7b-chat-hf-div-p9-pzt-fold_0-@10.csv\")\n",
    "llama_p10 = pd.read_csv(f\"{results_path}/Llama-2-7b-chat-hf-div-p10-pzt-fold_0-@10.csv\")\n",
    "llama_p11 = pd.read_csv(f\"{results_path}/Llama-2-7b-chat-hf-div-p11-pzt-fold_0-@10.csv\")\n",
    "llama_p12 = pd.read_csv(f\"{results_path}/Llama-2-7b-chat-hf-div-p12-pzt-fold_0-@10.csv\")\n",
    "\n",
    "d = {}\n",
    "for col in chat_p1.columns:\n",
    "    d[col] = [llama_p7[col][0], \n",
    "              llama_p8[col][0], \n",
    "              llama_p9[col][0], \n",
    "              llama_p10[col][0],\n",
    "              llama_p11[col][0],\n",
    "              llama_p12[col][0],\n",
    "              ]\n",
    "results = pd.DataFrame(data=d)\n",
    "results = results[[\"prec\", \"ndcg\", \"a_ndcg\", \"eild_rel\", \"eild_norel\", \"s_recall_rel\", \"s_recall_norel\"]]\n",
    "results[\"reranker\"] = [\"llama-p7\", \"llama-p8\", \"llama-p9\", \"llama-p10\", \n",
    "                       \"llama-p11\", \"llama-p12\"]\n",
    "results"
   ],
   "metadata": {
    "collapsed": false,
    "ExecuteTime": {
     "end_time": "2023-12-04T17:40:39.717247366Z",
     "start_time": "2023-12-04T17:40:39.644068042Z"
    }
   }
  },
  {
   "cell_type": "code",
   "outputs": [],
   "source": [],
   "metadata": {
    "collapsed": false
   },
   "execution_count": null
  },
  {
   "cell_type": "code",
   "outputs": [],
   "source": [],
   "metadata": {
    "collapsed": false
   },
   "execution_count": null
  },
  {
   "cell_type": "markdown",
   "source": [
    "<h2>Is list A more diverse than list B?<h2>"
   ],
   "metadata": {
    "collapsed": false
   }
  },
  {
   "cell_type": "code",
   "outputs": [
    {
     "data": {
      "text/plain": "   item_id   item_name  pop_score  prem_year  \\\n0     1535  Death Note          1       2006   \n\n                                              genres  n_genres  \n0  [Mystery, Police, Psychological, Supernatural,...         6  ",
      "text/html": "<div>\n<style scoped>\n    .dataframe tbody tr th:only-of-type {\n        vertical-align: middle;\n    }\n\n    .dataframe tbody tr th {\n        vertical-align: top;\n    }\n\n    .dataframe thead th {\n        text-align: right;\n    }\n</style>\n<table border=\"1\" class=\"dataframe\">\n  <thead>\n    <tr style=\"text-align: right;\">\n      <th></th>\n      <th>item_id</th>\n      <th>item_name</th>\n      <th>pop_score</th>\n      <th>prem_year</th>\n      <th>genres</th>\n      <th>n_genres</th>\n    </tr>\n  </thead>\n  <tbody>\n    <tr>\n      <th>0</th>\n      <td>1535</td>\n      <td>Death Note</td>\n      <td>1</td>\n      <td>2006</td>\n      <td>[Mystery, Police, Psychological, Supernatural,...</td>\n      <td>6</td>\n    </tr>\n  </tbody>\n</table>\n</div>"
     },
     "execution_count": 7,
     "metadata": {},
     "output_type": "execute_result"
    }
   ],
   "source": [
    "# import df_items\n",
    "df_anime = pd.read_csv(\"/home/diego/chat-reranking/experiments/anime/df_items.csv\")\n",
    "df_anime[\"genres\"] = df_anime.genres.apply(literal_eval)\n",
    "df_anime[\"n_genres\"] = df_anime.apply(lambda row: len(row[\"genres\"]), axis=1)\n",
    "df_anime.head(1)"
   ],
   "metadata": {
    "collapsed": false,
    "ExecuteTime": {
     "end_time": "2023-12-21T17:49:20.465689213Z",
     "start_time": "2023-12-21T17:49:20.373338767Z"
    }
   },
   "execution_count": 7
  },
  {
   "cell_type": "code",
   "outputs": [
    {
     "name": "stdout",
     "output_type": "stream",
     "text": [
      "128\n"
     ]
    },
    {
     "name": "stderr",
     "output_type": "stream",
     "text": [
      "/tmp/ipykernel_189011/905591025.py:2: SettingWithCopyWarning: \n",
      "A value is trying to be set on a copy of a slice from a DataFrame.\n",
      "Try using .loc[row_indexer,col_indexer] = value instead\n",
      "\n",
      "See the caveats in the documentation: https://pandas.pydata.org/pandas-docs/stable/user_guide/indexing.html#returning-a-view-versus-a-copy\n",
      "  df_few_genres[\"only_genre\"] = df_few_genres.apply(lambda row: row[\"genres\"][0], axis=1)\n"
     ]
    }
   ],
   "source": [
    "df_few_genres = df_anime[df_anime[\"n_genres\"] == 1]\n",
    "df_few_genres[\"only_genre\"] = df_few_genres.apply(lambda row: row[\"genres\"][0], axis=1)\n",
    "print(len(df_few_genres))"
   ],
   "metadata": {
    "collapsed": false,
    "ExecuteTime": {
     "end_time": "2023-12-21T17:53:19.555295322Z",
     "start_time": "2023-12-21T17:53:19.488004651Z"
    }
   },
   "execution_count": 14
  },
  {
   "cell_type": "code",
   "outputs": [
    {
     "name": "stdout",
     "output_type": "stream",
     "text": [
      "TO BE HERO\n",
      "Onara Goro\n",
      "JK-MESHI!\n",
      "Sparrow's Hotel\n",
      "Nyanbo!\n",
      "Scorched Bread\n",
      "Osomatsu-kun (1988)\n",
      "Usavich III\n",
      ".Koni-chan\n",
      "Usavich IV\n",
      "100% Teacher Pascal\n",
      "Princess Beware\n",
      "How to Breed Kappas\n",
      "Calimero (1992)\n",
      "Usavich V\n",
      "Bonobono\n",
      "Mr. Stain on Junk Alley\n",
      "Let's Dance with Papa\n",
      "King of Classroom, Yamazaki\n",
      "Poo-Neko\n",
      "The Adventures of the Little Koala\n",
      "Oscar's Oasis\n",
      "The Affectuous Family\n",
      "Little Wansa\n",
      "Anyway, It Doesn't Matter\n",
      "Hippo and Thomas\n",
      "Weekly Shimako\n",
      "Table Cat\n",
      "At that time Mr. Shimakoh moved!\n",
      "The Adventure of Oden-kun\n",
      "Tumulus Gal Coffy Campus Life\n",
      "Yoshimoto Insect Stories\n"
     ]
    }
   ],
   "source": [
    "df_few_genres = df_few_genres[df_few_genres[\"only_genre\"] == \"Comedy\"]\n",
    "for i, row in df_few_genres.iterrows():\n",
    "    print(row[\"item_name\"])"
   ],
   "metadata": {
    "collapsed": false,
    "ExecuteTime": {
     "end_time": "2023-12-21T17:56:17.001551513Z",
     "start_time": "2023-12-21T17:56:16.849877476Z"
    }
   },
   "execution_count": 20
  },
  {
   "cell_type": "code",
   "outputs": [
    {
     "data": {
      "text/plain": "only_genre\nComedy    32\nName: count, dtype: int64"
     },
     "execution_count": 21,
     "metadata": {},
     "output_type": "execute_result"
    }
   ],
   "source": [
    "df_few_genres[\"only_genre\"].value_counts()"
   ],
   "metadata": {
    "collapsed": false,
    "ExecuteTime": {
     "end_time": "2023-12-21T17:56:17.118160081Z",
     "start_time": "2023-12-21T17:56:17.049179555Z"
    }
   },
   "execution_count": 21
  },
  {
   "cell_type": "code",
   "outputs": [
    {
     "name": "stdout",
     "output_type": "stream",
     "text": [
      "[list(['Action', 'Sci-Fi', 'Harem', 'Romance', 'Ecchi', 'Mecha', 'School'])]\n",
      "[list(['Mystery', 'Comedy', 'Police'])]\n",
      "[list(['Horror', 'School'])]\n",
      "[list(['Drama', 'Historical', 'Romance', 'Seinen', 'Slice of Life'])]\n",
      "[list(['Drama', 'Mecha', 'Military', 'Psychological', 'Sci-Fi', 'Space'])]\n",
      "[list(['Action', 'Harem', 'Comedy', 'Supernatural', 'Magic', 'Ecchi'])]\n",
      "[list(['Fantasy', 'Kids'])]\n",
      "[list(['Comedy', 'Drama', 'Romance', 'Shounen Ai'])]\n",
      "[list(['Action', 'Adventure', 'Fantasy', 'Magic', 'Mystery'])]\n",
      "[list(['Comedy', 'Fantasy', 'Slice of Life'])]\n",
      "[list(['Action', 'Adventure', 'Seinen'])]\n"
     ]
    }
   ],
   "source": [
    "list_b = [\"Hundred\",\n",
    "\"The Millionaire Detective – Balance:UNLIMITED\",\n",
    "\"Freaky Highschool\",\n",
    "\"Arte\",\n",
    "\"Infinite Ryvius\",\n",
    "\"Is this A Zombie? of the Dead\",\n",
    "\"A Christmas Adventure\",\n",
    "\"Junjo Romantica\",\n",
    "\"Rokka:Braves of the Six Flowers\",\n",
    "\"Wooser's Hand-to-Mouth Life:Awakening Arc\",\n",
    "\"Jormungand Season 2:Perfect Order\"]\n",
    "\n",
    "for name in list_b:\n",
    "    print(df_anime[df_anime[\"item_name\"] == name][\"genres\"].values)"
   ],
   "metadata": {
    "collapsed": false,
    "ExecuteTime": {
     "end_time": "2023-12-21T18:04:10.331899454Z",
     "start_time": "2023-12-21T18:04:10.303279044Z"
    }
   },
   "execution_count": 23
  },
  {
   "cell_type": "code",
   "outputs": [],
   "source": [],
   "metadata": {
    "collapsed": false,
    "ExecuteTime": {
     "end_time": "2023-12-21T18:07:58.767943701Z",
     "start_time": "2023-12-21T18:07:58.741640720Z"
    }
   },
   "execution_count": 23
  },
  {
   "cell_type": "code",
   "outputs": [],
   "source": [
    "list_a = [\"Hundred\",\n",
    "\"The Millionaire Detective – Balance:UNLIMITED\",\n",
    "\"Freaky Highschool\",\n",
    "\"Arte\",\n",
    "\"Infinite Ryvius\",\n",
    "\"Is this A Zombie? of the Dead\",\n",
    "\"A Christmas Adventure\",\n",
    "\"Junjo Romantica\",\n",
    "\"Rokka:Braves of the Six Flowers\",\n",
    "\"Wooser's Hand-to-Mouth Life:Awakening Arc\"]\n",
    "\n",
    "list_b = [\"Jormungand Season 2:Perfect Order\",\n",
    "\"Genshiken\",\n",
    "\"Shirobako\",\n",
    "\"Scum's Wish\",\n",
    "\"Inuyashiki:Last Hero\",\n",
    "\"My Name Is Teppei\",\n",
    "\"Magical Project S\",\n",
    "\"Hand Shakers\",\n",
    "\"Tekkaman Blade\",\n",
    "\"Pretty Cure\"]"
   ],
   "metadata": {
    "collapsed": false,
    "ExecuteTime": {
     "end_time": "2023-12-21T18:10:12.117562734Z",
     "start_time": "2023-12-21T18:10:12.066141992Z"
    }
   },
   "execution_count": 24
  },
  {
   "cell_type": "code",
   "outputs": [
    {
     "name": "stdout",
     "output_type": "stream",
     "text": [
      "24\n"
     ]
    }
   ],
   "source": [
    "genres_a = set()\n",
    "df_list_a = df_anime[df_anime[\"item_name\"].isin(list_a)]\n",
    "name_to_genres_a = {}\n",
    "for i, row in df_list_a.iterrows():\n",
    "    genres_a = genres_a.union(row[\"genres\"])\n",
    "    name_to_genres_a[row[\"item_name\"]] = row[\"genres\"]\n",
    "print(len(genres_a))"
   ],
   "metadata": {
    "collapsed": false,
    "ExecuteTime": {
     "end_time": "2023-12-22T10:20:14.239765305Z",
     "start_time": "2023-12-22T10:20:14.155162757Z"
    }
   },
   "execution_count": 33
  },
  {
   "cell_type": "code",
   "outputs": [
    {
     "name": "stdout",
     "output_type": "stream",
     "text": [
      "10\n"
     ]
    },
    {
     "data": {
      "text/plain": "{'Action',\n 'Adventure',\n 'Comedy',\n 'Drama',\n 'Ecchi',\n 'Fantasy',\n 'Harem',\n 'Historical',\n 'Horror',\n 'Kids',\n 'Magic',\n 'Mecha',\n 'Military',\n 'Mystery',\n 'Police',\n 'Psychological',\n 'Romance',\n 'School',\n 'Sci-Fi',\n 'Seinen',\n 'Shounen Ai',\n 'Slice of Life',\n 'Space',\n 'Supernatural'}"
     },
     "execution_count": 63,
     "metadata": {},
     "output_type": "execute_result"
    }
   ],
   "source": [
    "print(len(df_list_a))\n",
    "genres_a"
   ],
   "metadata": {
    "collapsed": false,
    "ExecuteTime": {
     "end_time": "2023-12-23T13:25:06.127314791Z",
     "start_time": "2023-12-23T13:25:06.015262687Z"
    }
   },
   "execution_count": 63
  },
  {
   "cell_type": "code",
   "outputs": [
    {
     "name": "stdout",
     "output_type": "stream",
     "text": [
      "19\n"
     ]
    }
   ],
   "source": [
    "genres_b = set()\n",
    "df_list_b = df_anime[df_anime[\"item_name\"].isin(list_b)]\n",
    "name_to_genres_b = {}\n",
    "for i, row in df_list_b.iterrows():\n",
    "    genres_b = genres_b.union(row[\"genres\"])\n",
    "    name_to_genres_b[row[\"item_name\"]] = row[\"genres\"]\n",
    "print(len(genres_b))"
   ],
   "metadata": {
    "collapsed": false,
    "ExecuteTime": {
     "end_time": "2023-12-22T10:20:14.525602869Z",
     "start_time": "2023-12-22T10:20:14.383089548Z"
    }
   },
   "execution_count": 34
  },
  {
   "cell_type": "code",
   "outputs": [
    {
     "data": {
      "text/plain": "{'Action',\n 'Adventure',\n 'Comedy',\n 'Drama',\n 'Fantasy',\n 'Magic',\n 'Mecha',\n 'Military',\n 'Parody',\n 'Psychological',\n 'Romance',\n 'School',\n 'Sci-Fi',\n 'Seinen',\n 'Shoujo',\n 'Shounen',\n 'Slice of Life',\n 'Space',\n 'Sports'}"
     },
     "execution_count": 62,
     "metadata": {},
     "output_type": "execute_result"
    }
   ],
   "source": [
    "genres_b"
   ],
   "metadata": {
    "collapsed": false,
    "ExecuteTime": {
     "end_time": "2023-12-23T13:23:42.829705176Z",
     "start_time": "2023-12-23T13:23:42.782186555Z"
    }
   },
   "execution_count": 62
  },
  {
   "cell_type": "code",
   "outputs": [],
   "source": [
    "def jaccard_dist(ii:list, jj:list) -> float:\n",
    "    return len(set(ii).intersection(jj))/len(set(ii).union(jj))"
   ],
   "metadata": {
    "collapsed": false,
    "ExecuteTime": {
     "end_time": "2023-12-22T10:42:54.115872818Z",
     "start_time": "2023-12-22T10:42:54.026031537Z"
    }
   },
   "execution_count": 39
  },
  {
   "cell_type": "code",
   "outputs": [],
   "source": [
    "combinations_a = itertools.combinations(list_a, 2)\n",
    "combinations_b = itertools.combinations(list_b, 2)"
   ],
   "metadata": {
    "collapsed": false,
    "ExecuteTime": {
     "end_time": "2023-12-23T13:32:14.448910808Z",
     "start_time": "2023-12-23T13:32:14.395622848Z"
    }
   },
   "execution_count": 64
  },
  {
   "cell_type": "code",
   "outputs": [
    {
     "name": "stdout",
     "output_type": "stream",
     "text": [
      "0.925614077280744\n"
     ]
    }
   ],
   "source": [
    "div_list_a = 0\n",
    "n_combinations = 0\n",
    "for (item_1, item_2) in itertools.combinations(list_a, 2):\n",
    "    jaccard_score = jaccard_dist(name_to_genres_a[item_1], name_to_genres_a[item_2])\n",
    "    div_list_a += 1 - jaccard_score\n",
    "    n_combinations += 1\n",
    "print(div_list_a/n_combinations)"
   ],
   "metadata": {
    "collapsed": false,
    "ExecuteTime": {
     "end_time": "2023-12-23T13:32:14.896320073Z",
     "start_time": "2023-12-23T13:32:14.830684783Z"
    }
   },
   "execution_count": 65
  },
  {
   "cell_type": "code",
   "outputs": [
    {
     "name": "stdout",
     "output_type": "stream",
     "text": [
      "0.867369482369482\n"
     ]
    }
   ],
   "source": [
    "div_list_b = 0\n",
    "n_combinations = 0\n",
    "for (item_1, item_2) in itertools.combinations(list_b, 2):\n",
    "    jaccard_score = jaccard_dist(name_to_genres_b[item_1], name_to_genres_b[item_2])\n",
    "    div_list_b += 1 - jaccard_score\n",
    "    n_combinations += 1\n",
    "print(div_list_b/n_combinations)"
   ],
   "metadata": {
    "collapsed": false,
    "ExecuteTime": {
     "end_time": "2023-12-23T13:32:15.591113742Z",
     "start_time": "2023-12-23T13:32:15.544110208Z"
    }
   },
   "execution_count": 66
  },
  {
   "cell_type": "code",
   "outputs": [],
   "source": [
    "div_list_a = None\n",
    "div_list_b = None\n",
    "\n",
    "print(div_list_a)\n",
    "print(div_list_b)"
   ],
   "metadata": {
    "collapsed": false
   },
   "execution_count": null
  },
  {
   "cell_type": "code",
   "outputs": [],
   "source": [],
   "metadata": {
    "collapsed": false
   },
   "execution_count": null
  },
  {
   "cell_type": "code",
   "outputs": [],
   "source": [],
   "metadata": {
    "collapsed": false
   },
   "execution_count": null
  },
  {
   "cell_type": "markdown",
   "source": [
    "<h3>How deep goes re-ranking?<h3>"
   ],
   "metadata": {
    "collapsed": false
   }
  },
  {
   "cell_type": "code",
   "outputs": [
    {
     "name": "stdout",
     "output_type": "stream",
     "text": [
      "Done: chatgpt0613-div-p1-pzt-fold_0\n",
      "Done: chatgpt0613-div-p2-pzt-fold_0\n",
      "Done: chatgpt0613-div-p3-pzt-fold_0\n",
      "Done: chatgpt0613-div-p4-pzt-fold_0\n",
      "Done: chatgpt0613-div-p5-pzt-fold_0\n",
      "Done: chatgpt0613-div-p6-pzt-fold_0\n"
     ]
    }
   ],
   "source": [
    "recs_folder = \"/home/diego/chat-reranking/experiments/goodreads/recs/reranked_final\"\n",
    "\n",
    "rec_files = [\"chatgpt0613-div-p1-pzt-fold_0\",\n",
    "             \"chatgpt0613-div-p2-pzt-fold_0\",\n",
    "             \"chatgpt0613-div-p3-pzt-fold_0\",\n",
    "             \"chatgpt0613-div-p4-pzt-fold_0\",\n",
    "             \"chatgpt0613-div-p5-pzt-fold_0\",\n",
    "             \"chatgpt0613-div-p6-pzt-fold_0\"\n",
    "             ]\n",
    "\n",
    "# rec_files = [\"instructgpt-div-p1-pzt-fold_0\",\n",
    "#              \"instructgpt-div-p2-pzt-fold_0\",\n",
    "#              \"instructgpt-div-p3-pzt-fold_0\",\n",
    "#              \"instructgpt-div-p4-pzt-fold_0\",\n",
    "#              \"instructgpt-div-p5-pzt-fold_0\",\n",
    "#              \"instructgpt-div-p6-pzt-fold_0\"\n",
    "#              ]\n",
    "\n",
    "# rec_files = [\"Llama-2-7b-chat-hf-div-p7-pzt-fold_0\",\n",
    "#              \"Llama-2-7b-chat-hf-div-p8-pzt-fold_0\",\n",
    "#              \"Llama-2-7b-chat-hf-div-p9-pzt-fold_0\",\n",
    "#              \"Llama-2-7b-chat-hf-div-p10-pzt-fold_0\",\n",
    "#              \"Llama-2-7b-chat-hf-div-p11-pzt-fold_0\",\n",
    "#              \"Llama-2-7b-chat-hf-div-p12-pzt-fold_0\",\n",
    "#              ]\n",
    "\n",
    "top_n = 10\n",
    "mean_max_pos = []\n",
    "\n",
    "for recs_name in rec_files:\n",
    "    \n",
    "    # read JSON file\n",
    "    f = open(f\"{recs_folder}/{recs_name}.json\")\n",
    "    data = json.load(f)\n",
    "    f.close()\n",
    "    \n",
    "    max_pos = []\n",
    "    for entry in data:\n",
    "        base = entry['recs']\n",
    "        re_ranked = entry['reranked_recs']\n",
    "        if len(re_ranked) == 0:\n",
    "            continue\n",
    "    \n",
    "        def return_pos(j):\n",
    "            if j in base:\n",
    "                return base.index(j)\n",
    "            else:\n",
    "                return 0\n",
    "    \n",
    "        pos = [return_pos(r) for r in re_ranked]\n",
    "        max_pos.append(max(pos))\n",
    "    \n",
    "    mean_max_pos.append(np.mean(max_pos))   \n",
    "    print(f\"Done: {recs_name}\")"
   ],
   "metadata": {
    "collapsed": false,
    "ExecuteTime": {
     "end_time": "2024-01-09T21:21:00.820680487Z",
     "start_time": "2024-01-09T21:21:00.687440251Z"
    }
   },
   "execution_count": 28
  },
  {
   "cell_type": "code",
   "outputs": [
    {
     "data": {
      "text/plain": "[34.768, 25.354, 32.906, 40.27, 26.126, 32.112]"
     },
     "execution_count": 29,
     "metadata": {},
     "output_type": "execute_result"
    }
   ],
   "source": [
    "mean_max_pos"
   ],
   "metadata": {
    "collapsed": false,
    "ExecuteTime": {
     "end_time": "2024-01-09T21:21:01.502017034Z",
     "start_time": "2024-01-09T21:21:01.485318335Z"
    }
   },
   "execution_count": 29
  },
  {
   "cell_type": "code",
   "outputs": [
    {
     "data": {
      "text/plain": "31.922666666666668"
     },
     "execution_count": 30,
     "metadata": {},
     "output_type": "execute_result"
    }
   ],
   "source": [
    "np.mean(mean_max_pos)"
   ],
   "metadata": {
    "collapsed": false,
    "ExecuteTime": {
     "end_time": "2024-01-09T21:21:02.025229263Z",
     "start_time": "2024-01-09T21:21:02.014035890Z"
    }
   },
   "execution_count": 30
  },
  {
   "cell_type": "code",
   "outputs": [
    {
     "name": "stdout",
     "output_type": "stream",
     "text": [
      "Tune the length of the candidate set: baseline reranker MMR-pzt-fold_0\n",
      "Average max reranking pos: 22.578618581099345\n"
     ]
    }
   ],
   "source": [
    "rerankers = [\"MMR-pzt-fold_0\", \"RxQuAD-pzt-fold_0\", \"xQuAD-pzt-fold_0\"]\n",
    "\n",
    "print(f\"Tune the length of the candidate set: baseline reranker {rerankers[0]}\")\n",
    "base_recs = pd.read_csv(f\"/home/diego/chat-reranking/experiments/goodreads/recs/baselines/pzt-fold_0\", \n",
    "                            names=[\"userid\", \"itemid\", \"rating\"], sep=\"\\t\")\n",
    "re_ranked = pd.read_csv(f\"/home/diego/chat-reranking/experiments/goodreads/recs/reranked_final/{rerankers[0]}\", \n",
    "                            names=[\"userid\", \"itemid\", \"rating\"], sep=\"\\t\")\n",
    "\n",
    "max_pos = []\n",
    "for userid in re_ranked[\"userid\"].unique():\n",
    "    base = list(base_recs[base_recs[\"userid\"] == userid][\"itemid\"].values.tolist())\n",
    "    recs = re_ranked[re_ranked[\"userid\"] == userid][\"itemid\"].values.tolist()\n",
    "        \n",
    "    pos = [base.index(r) for r in recs]\n",
    "    max_pos.append(max(pos))\n",
    "print(f\"Average max reranking pos: {np.mean(max_pos)}\")"
   ],
   "metadata": {
    "collapsed": false,
    "ExecuteTime": {
     "end_time": "2024-01-10T08:56:07.437166763Z",
     "start_time": "2024-01-10T08:16:06.963698412Z"
    }
   },
   "execution_count": 34
  },
  {
   "cell_type": "code",
   "outputs": [
    {
     "name": "stdout",
     "output_type": "stream",
     "text": [
      "Tune the length of the candidate set: baseline reranker RxQuAD-pzt-fold_0\n"
     ]
    }
   ],
   "source": [
    "rerankers = [\"MMR-pzt-fold_0\", \"RxQuAD-pzt-fold_0\", \"xQuAD-pzt-fold_0\"]\n",
    "\n",
    "print(f\"Tune the length of the candidate set: baseline reranker {rerankers[1]}\")\n",
    "base_recs = pd.read_csv(f\"/home/diego/chat-reranking/experiments/goodreads/recs/baselines/pzt-fold_0\", \n",
    "                            names=[\"userid\", \"itemid\", \"rating\"], sep=\"\\t\")\n",
    "re_ranked = pd.read_csv(f\"/home/diego/chat-reranking/experiments/goodreads/recs/reranked_final/{rerankers[1]}\", \n",
    "                            names=[\"userid\", \"itemid\", \"rating\"], sep=\"\\t\")\n",
    "\n",
    "max_pos = []\n",
    "for userid in re_ranked[\"userid\"].unique():\n",
    "    base = list(base_recs[base_recs[\"userid\"] == userid][\"itemid\"].values.tolist())\n",
    "    recs = re_ranked[re_ranked[\"userid\"] == userid][\"itemid\"].values.tolist()\n",
    "        \n",
    "    pos = [base.index(r) for r in recs]\n",
    "    max_pos.append(max(pos))\n",
    "print(f\"Average max reranking pos: {np.mean(max_pos)}\")"
   ],
   "metadata": {
    "collapsed": false,
    "is_executing": true,
    "ExecuteTime": {
     "start_time": "2024-01-10T08:56:07.441871073Z"
    }
   },
   "execution_count": null
  },
  {
   "cell_type": "code",
   "outputs": [],
   "source": [
    "rerankers = [\"MMR-pzt-fold_0\", \"RxQuAD-pzt-fold_0\", \"xQuAD-pzt-fold_0\"]\n",
    "\n",
    "print(f\"Tune the length of the candidate set: baseline reranker {rerankers[2]}\")\n",
    "base_recs = pd.read_csv(f\"/home/diego/chat-reranking/experiments/goodreads/recs/baselines/pzt-fold_0\", \n",
    "                            names=[\"userid\", \"itemid\", \"rating\"], sep=\"\\t\")\n",
    "re_ranked = pd.read_csv(f\"/home/diego/chat-reranking/experiments/goodreads/recs/reranked_final/{rerankers[2]}\", \n",
    "                            names=[\"userid\", \"itemid\", \"rating\"], sep=\"\\t\")\n",
    "\n",
    "max_pos = []\n",
    "for userid in re_ranked[\"userid\"].unique():\n",
    "    base = list(base_recs[base_recs[\"userid\"] == userid][\"itemid\"].values.tolist())\n",
    "    recs = re_ranked[re_ranked[\"userid\"] == userid][\"itemid\"].values.tolist()\n",
    "        \n",
    "    pos = [base.index(r) for r in recs]\n",
    "    max_pos.append(max(pos))\n",
    "print(f\"Average max reranking pos: {np.mean(max_pos)}\")"
   ],
   "metadata": {
    "collapsed": false,
    "is_executing": true
   },
   "execution_count": null
  },
  {
   "cell_type": "code",
   "source": [],
   "metadata": {
    "collapsed": false,
    "ExecuteTime": {
     "end_time": "2024-04-29T17:06:08.897631Z",
     "start_time": "2024-04-29T17:06:08.894886Z"
    }
   },
   "outputs": [],
   "execution_count": 1
  },
  {
   "metadata": {
    "ExecuteTime": {
     "end_time": "2024-04-29T17:06:09.312844Z",
     "start_time": "2024-04-29T17:06:09.310048Z"
    }
   },
   "cell_type": "code",
   "source": "",
   "outputs": [],
   "execution_count": 1
  },
  {
   "metadata": {},
   "cell_type": "markdown",
   "source": "<h4>Additional scripts for plots<h4>"
  },
  {
   "metadata": {
    "ExecuteTime": {
     "end_time": "2024-04-29T17:54:39.254531Z",
     "start_time": "2024-04-29T17:54:39.237567Z"
    }
   },
   "cell_type": "code",
   "source": [
    "results_dir = \"/home/diego/chat-reranking/experiments/anime/results/ranksys_eval/\"\n",
    "rankers = [\"Llama-2-7b-chat-hf-div-p{}-pzt-fold_0-@10\"]\n",
    "prompts = [\"7\", \"8\", \"9\", \"10\", \"11\", \"12\"]\n",
    "metrics = [\"ndcg\",\"a_ndcg\",\"eild_rel\",\"eild_norel\",\"s_recall_rel\",\"s_recall_norel\"]\n",
    "for ranker in rankers:\n",
    "    for prompt_id in prompts:\n",
    "        name = ranker.format(prompt_id)\n",
    "        # read results file\n",
    "        df = pd.read_csv(f\"{results_dir}/{name}.csv\", sep=\",\")\n",
    "        df = df[metrics]\n",
    "        # print(prompt_id)\n",
    "        print(df.iloc[2].values)\n",
    "        # print(\"######\")"
   ],
   "outputs": [
    {
     "name": "stdout",
     "output_type": "stream",
     "text": [
      "[0.01731786 0.01780237 0.0138863  0.00422926 0.01207938 0.00528913]\n",
      "[0.01636567 0.01664738 0.01325456 0.00407414 0.01161214 0.00508864]\n",
      "[0.01697631 0.01744979 0.01370783 0.00416456 0.01198907 0.00535532]\n",
      "[0.01710491 0.01773179 0.01362405 0.00437727 0.01207323 0.00536295]\n",
      "[0.01689876 0.01781902 0.01383339 0.00452346 0.01235096 0.00534317]\n",
      "[0.01723047 0.0178735  0.01385849 0.00458196 0.01242485 0.00554367]\n"
     ]
    }
   ],
   "execution_count": 10
  },
  {
   "metadata": {},
   "cell_type": "code",
   "outputs": [],
   "execution_count": null,
   "source": ""
  }
 ],
 "metadata": {
  "kernelspec": {
   "display_name": "Python 3",
   "language": "python",
   "name": "python3"
  },
  "language_info": {
   "codemirror_mode": {
    "name": "ipython",
    "version": 2
   },
   "file_extension": ".py",
   "mimetype": "text/x-python",
   "name": "python",
   "nbconvert_exporter": "python",
   "pygments_lexer": "ipython2",
   "version": "2.7.6"
  }
 },
 "nbformat": 4,
 "nbformat_minor": 0
}
