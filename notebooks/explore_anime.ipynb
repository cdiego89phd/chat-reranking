{
 "cells": [
  {
   "cell_type": "markdown",
   "source": [
    "<h1>Explore anime dataset from Kaggle<h1>\n",
    "\n",
    "57M ratings on over 17k anime"
   ],
   "metadata": {
    "collapsed": false
   },
   "id": "eb62ce060f93526d"
  },
  {
   "cell_type": "code",
   "execution_count": 32,
   "outputs": [],
   "source": [
    "import pandas as pd\n",
    "import pickle "
   ],
   "metadata": {
    "collapsed": false,
    "ExecuteTime": {
     "end_time": "2023-10-26T10:01:45.363870613Z",
     "start_time": "2023-10-26T10:01:45.352173064Z"
    }
   },
   "id": "f382985de0b31f96"
  },
  {
   "cell_type": "code",
   "execution_count": 2,
   "outputs": [
    {
     "name": "stdout",
     "output_type": "stream",
     "text": [
      "<class 'pandas.core.frame.DataFrame'>\n",
      "RangeIndex: 17562 entries, 0 to 17561\n",
      "Data columns (total 35 columns):\n",
      " #   Column         Non-Null Count  Dtype \n",
      "---  ------         --------------  ----- \n",
      " 0   MAL_ID         17562 non-null  int64 \n",
      " 1   Name           17562 non-null  object\n",
      " 2   Score          17562 non-null  object\n",
      " 3   Genres         17562 non-null  object\n",
      " 4   English name   17562 non-null  object\n",
      " 5   Japanese name  17562 non-null  object\n",
      " 6   Type           17562 non-null  object\n",
      " 7   Episodes       17562 non-null  object\n",
      " 8   Aired          17562 non-null  object\n",
      " 9   Premiered      17562 non-null  object\n",
      " 10  Producers      17562 non-null  object\n",
      " 11  Licensors      17562 non-null  object\n",
      " 12  Studios        17562 non-null  object\n",
      " 13  Source         17562 non-null  object\n",
      " 14  Duration       17562 non-null  object\n",
      " 15  Rating         17562 non-null  object\n",
      " 16  Ranked         17562 non-null  object\n",
      " 17  Popularity     17562 non-null  int64 \n",
      " 18  Members        17562 non-null  int64 \n",
      " 19  Favorites      17562 non-null  int64 \n",
      " 20  Watching       17562 non-null  int64 \n",
      " 21  Completed      17562 non-null  int64 \n",
      " 22  On-Hold        17562 non-null  int64 \n",
      " 23  Dropped        17562 non-null  int64 \n",
      " 24  Plan to Watch  17562 non-null  int64 \n",
      " 25  Score-10       17562 non-null  object\n",
      " 26  Score-9        17562 non-null  object\n",
      " 27  Score-8        17562 non-null  object\n",
      " 28  Score-7        17562 non-null  object\n",
      " 29  Score-6        17562 non-null  object\n",
      " 30  Score-5        17562 non-null  object\n",
      " 31  Score-4        17562 non-null  object\n",
      " 32  Score-3        17562 non-null  object\n",
      " 33  Score-2        17562 non-null  object\n",
      " 34  Score-1        17562 non-null  object\n",
      "dtypes: int64(9), object(26)\n",
      "memory usage: 4.7+ MB\n"
     ]
    }
   ],
   "source": [
    "df_items = pd.read_csv(\"/home/diego/chat-rerank/dataset/anime/anime.csv\")\n",
    "df_items.info()"
   ],
   "metadata": {
    "collapsed": false,
    "ExecuteTime": {
     "end_time": "2023-10-26T08:56:28.578327814Z",
     "start_time": "2023-10-26T08:56:28.380796468Z"
    }
   },
   "id": "25b930b10e8aa9f2"
  },
  {
   "cell_type": "code",
   "execution_count": 3,
   "outputs": [
    {
     "name": "stdout",
     "output_type": "stream",
     "text": [
      "<class 'pandas.core.frame.DataFrame'>\n",
      "RangeIndex: 57633278 entries, 0 to 57633277\n",
      "Data columns (total 3 columns):\n",
      " #   Column    Dtype\n",
      "---  ------    -----\n",
      " 0   user_id   int64\n",
      " 1   anime_id  int64\n",
      " 2   rating    int64\n",
      "dtypes: int64(3)\n",
      "memory usage: 1.3 GB\n"
     ]
    }
   ],
   "source": [
    "df_ratings = pd.read_csv(\"/home/diego/chat-rerank/dataset/anime/rating_complete.csv\")\n",
    "df_ratings.info()"
   ],
   "metadata": {
    "collapsed": false,
    "ExecuteTime": {
     "end_time": "2023-10-26T08:58:24.455732599Z",
     "start_time": "2023-10-26T08:58:15.849155747Z"
    }
   },
   "id": "6ba78eb983e0b98e"
  },
  {
   "cell_type": "markdown",
   "source": [
    "<h3>Filtering the dataset<h3>\n",
    "\n",
    "Items:\n",
    "- Remove duplicates\n",
    "- Remove items where \"English name\" is unknown\n",
    "- Remove recent items (older than 2020). This is because language models aren't updated with fresh info (chatgpt up to Sept 2021)\n",
    "- Remove items with unknown premiered\n",
    "\n",
    "Ratings:\n",
    "- Remove users with less than 70 and more than 300 ratings\n",
    "- Remove users with less than 30 positive ratings\n",
    "- Map ratings into 1-5 stars"
   ],
   "metadata": {
    "collapsed": false
   },
   "id": "6513956cbe3c3356"
  },
  {
   "cell_type": "code",
   "execution_count": 4,
   "outputs": [
    {
     "data": {
      "text/plain": "17562"
     },
     "execution_count": 4,
     "metadata": {},
     "output_type": "execute_result"
    }
   ],
   "source": [
    "df_items.sort_values(by=\"Popularity\", ascending=True, inplace=True)\n",
    "df_items.drop_duplicates(subset=[\"English name\"], keep=\"first\")\n",
    "len(df_items)"
   ],
   "metadata": {
    "collapsed": false,
    "ExecuteTime": {
     "end_time": "2023-10-26T09:28:08.486889315Z",
     "start_time": "2023-10-26T09:28:08.423243238Z"
    }
   },
   "id": "fd466d9a1108226a"
  },
  {
   "cell_type": "code",
   "execution_count": 14,
   "outputs": [
    {
     "data": {
      "text/plain": "6997"
     },
     "execution_count": 14,
     "metadata": {},
     "output_type": "execute_result"
    }
   ],
   "source": [
    "df_items = df_items[df_items[\"English name\"] != \"Unknown\"]\n",
    "len(df_items)"
   ],
   "metadata": {
    "collapsed": false,
    "ExecuteTime": {
     "end_time": "2023-10-26T09:40:37.133494289Z",
     "start_time": "2023-10-26T09:40:37.114524165Z"
    }
   },
   "id": "d8b0b754861e9e4"
  },
  {
   "cell_type": "code",
   "execution_count": 18,
   "outputs": [
    {
     "data": {
      "text/plain": "2799"
     },
     "execution_count": 18,
     "metadata": {},
     "output_type": "execute_result"
    }
   ],
   "source": [
    "df_items = df_items[df_items[\"Premiered\"] != \"Unknown\"]\n",
    "len(df_items)"
   ],
   "metadata": {
    "collapsed": false,
    "ExecuteTime": {
     "end_time": "2023-10-26T09:43:50.856031033Z",
     "start_time": "2023-10-26T09:43:50.840712477Z"
    }
   },
   "id": "9b68bc22cec06cbe"
  },
  {
   "cell_type": "code",
   "execution_count": 22,
   "outputs": [
    {
     "data": {
      "text/plain": "      MAL_ID        Name Score  \\\n1393    1535  Death Note  8.63   \n\n                                                 Genres English name  \\\n1393  Mystery, Police, Psychological, Supernatural, ...   Death Note   \n\n     Japanese name Type Episodes                        Aired  Premiered  ...  \\\n1393         デスノート   TV       37  Oct 4, 2006 to Jun 27, 2007  Fall 2006  ...   \n\n       Score-9   Score-8   Score-7  Score-6  Score-5  Score-4 Score-3  \\\n1393  535252.0  415890.0  201522.0  68577.0  28048.0  10462.0  3692.0   \n\n      Score-2  Score-1  prem_year  \n1393   2256.0   3586.0       2006  \n\n[1 rows x 36 columns]",
      "text/html": "<div>\n<style scoped>\n    .dataframe tbody tr th:only-of-type {\n        vertical-align: middle;\n    }\n\n    .dataframe tbody tr th {\n        vertical-align: top;\n    }\n\n    .dataframe thead th {\n        text-align: right;\n    }\n</style>\n<table border=\"1\" class=\"dataframe\">\n  <thead>\n    <tr style=\"text-align: right;\">\n      <th></th>\n      <th>MAL_ID</th>\n      <th>Name</th>\n      <th>Score</th>\n      <th>Genres</th>\n      <th>English name</th>\n      <th>Japanese name</th>\n      <th>Type</th>\n      <th>Episodes</th>\n      <th>Aired</th>\n      <th>Premiered</th>\n      <th>...</th>\n      <th>Score-9</th>\n      <th>Score-8</th>\n      <th>Score-7</th>\n      <th>Score-6</th>\n      <th>Score-5</th>\n      <th>Score-4</th>\n      <th>Score-3</th>\n      <th>Score-2</th>\n      <th>Score-1</th>\n      <th>prem_year</th>\n    </tr>\n  </thead>\n  <tbody>\n    <tr>\n      <th>1393</th>\n      <td>1535</td>\n      <td>Death Note</td>\n      <td>8.63</td>\n      <td>Mystery, Police, Psychological, Supernatural, ...</td>\n      <td>Death Note</td>\n      <td>デスノート</td>\n      <td>TV</td>\n      <td>37</td>\n      <td>Oct 4, 2006 to Jun 27, 2007</td>\n      <td>Fall 2006</td>\n      <td>...</td>\n      <td>535252.0</td>\n      <td>415890.0</td>\n      <td>201522.0</td>\n      <td>68577.0</td>\n      <td>28048.0</td>\n      <td>10462.0</td>\n      <td>3692.0</td>\n      <td>2256.0</td>\n      <td>3586.0</td>\n      <td>2006</td>\n    </tr>\n  </tbody>\n</table>\n<p>1 rows × 36 columns</p>\n</div>"
     },
     "execution_count": 22,
     "metadata": {},
     "output_type": "execute_result"
    }
   ],
   "source": [
    "df_items[\"prem_year\"] = df_items.apply(lambda x:int(x[\"Premiered\"][-4:]), axis=1)\n",
    "df_items.head(1)"
   ],
   "metadata": {
    "collapsed": false,
    "ExecuteTime": {
     "end_time": "2023-10-26T09:46:24.771747200Z",
     "start_time": "2023-10-26T09:46:24.715050748Z"
    }
   },
   "id": "d170d639c5deaccd"
  },
  {
   "cell_type": "code",
   "execution_count": 23,
   "outputs": [
    {
     "data": {
      "text/plain": "2746"
     },
     "execution_count": 23,
     "metadata": {},
     "output_type": "execute_result"
    }
   ],
   "source": [
    "df_items = df_items[df_items[\"prem_year\"] < 2021]\n",
    "len(df_items)"
   ],
   "metadata": {
    "collapsed": false,
    "ExecuteTime": {
     "end_time": "2023-10-26T09:47:05.514638474Z",
     "start_time": "2023-10-26T09:47:05.483688481Z"
    }
   },
   "id": "b16a72de2ffe2086"
  },
  {
   "cell_type": "code",
   "execution_count": 24,
   "outputs": [
    {
     "data": {
      "text/plain": "Index(['MAL_ID', 'English name', 'Popularity', 'Genres'], dtype='object')"
     },
     "execution_count": 24,
     "metadata": {},
     "output_type": "execute_result"
    }
   ],
   "source": [
    "df_items = df_items[[\"MAL_ID\", \"English name\", \"Popularity\", \"Genres\"]]\n",
    "df_items.columns"
   ],
   "metadata": {
    "collapsed": false,
    "ExecuteTime": {
     "end_time": "2023-10-26T09:49:35.268548972Z",
     "start_time": "2023-10-26T09:49:35.252522665Z"
    }
   },
   "id": "4b33576440f9e3d"
  },
  {
   "cell_type": "code",
   "execution_count": 28,
   "outputs": [
    {
     "data": {
      "text/plain": "Index(['item_id', 'item_name', 'pop_score', 'Genres'], dtype='object')"
     },
     "execution_count": 28,
     "metadata": {},
     "output_type": "execute_result"
    }
   ],
   "source": [
    "df_items = df_items.rename(columns={\"MAL_ID\": \"item_id\", \"English name\": \"item_name\", \"Popularity\": \"pop_score\"})\n",
    "df_items.columns"
   ],
   "metadata": {
    "collapsed": false,
    "ExecuteTime": {
     "end_time": "2023-10-26T09:52:37.413289389Z",
     "start_time": "2023-10-26T09:52:37.388519325Z"
    }
   },
   "id": "3652dbb8970d4149"
  },
  {
   "cell_type": "code",
   "execution_count": 30,
   "outputs": [
    {
     "data": {
      "text/plain": "      item_id   item_name  pop_score  \\\n1393     1535  Death Note          1   \n\n                                                 genres  \n1393  [Mystery, Police, Psychological, Supernatural,...  ",
      "text/html": "<div>\n<style scoped>\n    .dataframe tbody tr th:only-of-type {\n        vertical-align: middle;\n    }\n\n    .dataframe tbody tr th {\n        vertical-align: top;\n    }\n\n    .dataframe thead th {\n        text-align: right;\n    }\n</style>\n<table border=\"1\" class=\"dataframe\">\n  <thead>\n    <tr style=\"text-align: right;\">\n      <th></th>\n      <th>item_id</th>\n      <th>item_name</th>\n      <th>pop_score</th>\n      <th>genres</th>\n    </tr>\n  </thead>\n  <tbody>\n    <tr>\n      <th>1393</th>\n      <td>1535</td>\n      <td>Death Note</td>\n      <td>1</td>\n      <td>[Mystery, Police, Psychological, Supernatural,...</td>\n    </tr>\n  </tbody>\n</table>\n</div>"
     },
     "execution_count": 30,
     "metadata": {},
     "output_type": "execute_result"
    }
   ],
   "source": [
    "df_items[\"genres\"] = df_items.apply(lambda x: x[\"Genres\"].split(\", \"), axis=1)\n",
    "del df_items[\"Genres\"]\n",
    "df_items.head(1)"
   ],
   "metadata": {
    "collapsed": false,
    "ExecuteTime": {
     "end_time": "2023-10-26T09:54:21.266505958Z",
     "start_time": "2023-10-26T09:54:21.230802721Z"
    }
   },
   "id": "e82542076486f01e"
  },
  {
   "cell_type": "code",
   "execution_count": 31,
   "outputs": [
    {
     "data": {
      "text/plain": "2746"
     },
     "execution_count": 31,
     "metadata": {},
     "output_type": "execute_result"
    }
   ],
   "source": [
    "len(df_items[\"item_id\"].unique())"
   ],
   "metadata": {
    "collapsed": false,
    "ExecuteTime": {
     "end_time": "2023-10-26T09:58:42.618949613Z",
     "start_time": "2023-10-26T09:58:42.599623514Z"
    }
   },
   "id": "8bc3d9584c314ec1"
  },
  {
   "cell_type": "code",
   "execution_count": 38,
   "outputs": [],
   "source": [
    "out_dir = \"/home/diego/chat-rerank/experiments/anime/\""
   ],
   "metadata": {
    "collapsed": false,
    "ExecuteTime": {
     "end_time": "2023-10-26T10:07:04.690942296Z",
     "start_time": "2023-10-26T10:07:04.673488544Z"
    }
   },
   "id": "a3f4225ade6d194"
  },
  {
   "cell_type": "code",
   "execution_count": 42,
   "outputs": [],
   "source": [
    "df_items.to_csv(f\"{out_dir}df_items.csv\", sep=\",\", index=False)"
   ],
   "metadata": {
    "collapsed": false,
    "ExecuteTime": {
     "end_time": "2023-10-26T10:07:58.789353565Z",
     "start_time": "2023-10-26T10:07:58.774577461Z"
    }
   },
   "id": "8539dcda53e769b9"
  },
  {
   "cell_type": "code",
   "execution_count": 40,
   "outputs": [],
   "source": [
    "itemid_to_name = {}\n",
    "for i, n in zip(df_items[\"item_id\"].values, df_items[\"item_name\"].values):\n",
    "    itemid_to_name[i] = n\n",
    "itemname_to_id = {v: k for k, v in itemid_to_name.items()}\n",
    "with open(f\"{out_dir}itemid_to_name.pkl\", 'wb') as fp:\n",
    "    pickle.dump(itemid_to_name, fp)\n",
    "with open(f\"{out_dir}itemname_to_id.pkl\", 'wb') as fp:\n",
    "    pickle.dump(itemname_to_id, fp)"
   ],
   "metadata": {
    "collapsed": false,
    "ExecuteTime": {
     "end_time": "2023-10-26T10:07:18.504783337Z",
     "start_time": "2023-10-26T10:07:18.465557873Z"
    }
   },
   "id": "4c013f0a05fddffc"
  },
  {
   "cell_type": "code",
   "execution_count": 41,
   "outputs": [],
   "source": [
    "# prepare generes file\n",
    "out_string = \"\"\n",
    "for i, row in df_items.iterrows():\n",
    "    for genre in row[\"genres\"]:\n",
    "        if row['item_name'] in itemname_to_id:\n",
    "            out_string += f\"{itemname_to_id[row['item_name']]}\\t{genre}\\n\"\n",
    "        else:\n",
    "            print(row)\n",
    "\n",
    "with open(f\"{out_dir}genres_file.txt\", \"w\") as text_file:\n",
    "    text_file.write(out_string)"
   ],
   "metadata": {
    "collapsed": false,
    "ExecuteTime": {
     "end_time": "2023-10-26T10:07:21.585582095Z",
     "start_time": "2023-10-26T10:07:21.415563325Z"
    }
   },
   "id": "89a47d725bf6ddfe"
  },
  {
   "cell_type": "code",
   "execution_count": null,
   "outputs": [],
   "source": [],
   "metadata": {
    "collapsed": false
   },
   "id": "8a2a13068b83accc"
  },
  {
   "cell_type": "code",
   "execution_count": 46,
   "outputs": [],
   "source": [
    "df_ratings.rename(columns={\"anime_id\": \"item_id\"}, inplace=True)"
   ],
   "metadata": {
    "collapsed": false,
    "ExecuteTime": {
     "end_time": "2023-10-26T10:09:47.017233849Z",
     "start_time": "2023-10-26T10:09:46.960295650Z"
    }
   },
   "id": "88ff83383749ef34"
  },
  {
   "cell_type": "code",
   "execution_count": 47,
   "outputs": [
    {
     "data": {
      "text/plain": "35340515"
     },
     "execution_count": 47,
     "metadata": {},
     "output_type": "execute_result"
    }
   ],
   "source": [
    "df_ratings = df_ratings[df_ratings[\"item_id\"].isin(df_items[\"item_id\"].values)]\n",
    "len(df_ratings)"
   ],
   "metadata": {
    "collapsed": false,
    "ExecuteTime": {
     "end_time": "2023-10-26T10:09:50.360472249Z",
     "start_time": "2023-10-26T10:09:48.697139626Z"
    }
   },
   "id": "2de5559b1c7a5e47"
  },
  {
   "cell_type": "code",
   "execution_count": null,
   "outputs": [],
   "source": [],
   "metadata": {
    "collapsed": false
   },
   "id": "31d099863f76ca61"
  }
 ],
 "metadata": {
  "kernelspec": {
   "display_name": "Python 3",
   "language": "python",
   "name": "python3"
  },
  "language_info": {
   "codemirror_mode": {
    "name": "ipython",
    "version": 2
   },
   "file_extension": ".py",
   "mimetype": "text/x-python",
   "name": "python",
   "nbconvert_exporter": "python",
   "pygments_lexer": "ipython2",
   "version": "2.7.6"
  }
 },
 "nbformat": 4,
 "nbformat_minor": 5
}
