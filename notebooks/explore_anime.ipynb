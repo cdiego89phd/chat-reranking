{
 "cells": [
  {
   "cell_type": "markdown",
   "source": [
    "<h1>Explore anime dataset from Kaggle<h1>\n",
    "\n",
    "57M ratings on over 17k anime"
   ],
   "metadata": {
    "collapsed": false
   },
   "id": "eb62ce060f93526d"
  },
  {
   "cell_type": "code",
   "execution_count": 38,
   "outputs": [],
   "source": [
    "import pandas as pd\n",
    "import pickle"
   ],
   "metadata": {
    "collapsed": false,
    "ExecuteTime": {
     "end_time": "2023-10-31T19:58:56.993440543Z",
     "start_time": "2023-10-31T19:58:56.938055712Z"
    }
   },
   "id": "f382985de0b31f96"
  },
  {
   "cell_type": "code",
   "execution_count": 39,
   "outputs": [
    {
     "name": "stdout",
     "output_type": "stream",
     "text": [
      "<class 'pandas.core.frame.DataFrame'>\n",
      "RangeIndex: 17562 entries, 0 to 17561\n",
      "Data columns (total 35 columns):\n",
      " #   Column         Non-Null Count  Dtype \n",
      "---  ------         --------------  ----- \n",
      " 0   MAL_ID         17562 non-null  int64 \n",
      " 1   Name           17562 non-null  object\n",
      " 2   Score          17562 non-null  object\n",
      " 3   Genres         17562 non-null  object\n",
      " 4   English name   17562 non-null  object\n",
      " 5   Japanese name  17562 non-null  object\n",
      " 6   Type           17562 non-null  object\n",
      " 7   Episodes       17562 non-null  object\n",
      " 8   Aired          17562 non-null  object\n",
      " 9   Premiered      17562 non-null  object\n",
      " 10  Producers      17562 non-null  object\n",
      " 11  Licensors      17562 non-null  object\n",
      " 12  Studios        17562 non-null  object\n",
      " 13  Source         17562 non-null  object\n",
      " 14  Duration       17562 non-null  object\n",
      " 15  Rating         17562 non-null  object\n",
      " 16  Ranked         17562 non-null  object\n",
      " 17  Popularity     17562 non-null  int64 \n",
      " 18  Members        17562 non-null  int64 \n",
      " 19  Favorites      17562 non-null  int64 \n",
      " 20  Watching       17562 non-null  int64 \n",
      " 21  Completed      17562 non-null  int64 \n",
      " 22  On-Hold        17562 non-null  int64 \n",
      " 23  Dropped        17562 non-null  int64 \n",
      " 24  Plan to Watch  17562 non-null  int64 \n",
      " 25  Score-10       17562 non-null  object\n",
      " 26  Score-9        17562 non-null  object\n",
      " 27  Score-8        17562 non-null  object\n",
      " 28  Score-7        17562 non-null  object\n",
      " 29  Score-6        17562 non-null  object\n",
      " 30  Score-5        17562 non-null  object\n",
      " 31  Score-4        17562 non-null  object\n",
      " 32  Score-3        17562 non-null  object\n",
      " 33  Score-2        17562 non-null  object\n",
      " 34  Score-1        17562 non-null  object\n",
      "dtypes: int64(9), object(26)\n",
      "memory usage: 4.7+ MB\n"
     ]
    }
   ],
   "source": [
    "df_items = pd.read_csv(\"/home/diego/chat-reranking/dataset/anime/anime.csv\")\n",
    "df_items.info()"
   ],
   "metadata": {
    "collapsed": false,
    "ExecuteTime": {
     "end_time": "2023-10-31T19:58:57.485679587Z",
     "start_time": "2023-10-31T19:58:57.145703995Z"
    }
   },
   "id": "25b930b10e8aa9f2"
  },
  {
   "cell_type": "code",
   "execution_count": 40,
   "outputs": [
    {
     "name": "stdout",
     "output_type": "stream",
     "text": [
      "<class 'pandas.core.frame.DataFrame'>\n",
      "RangeIndex: 57633278 entries, 0 to 57633277\n",
      "Data columns (total 3 columns):\n",
      " #   Column    Dtype\n",
      "---  ------    -----\n",
      " 0   user_id   int64\n",
      " 1   anime_id  int64\n",
      " 2   rating    int64\n",
      "dtypes: int64(3)\n",
      "memory usage: 1.3 GB\n"
     ]
    }
   ],
   "source": [
    "df_ratings = pd.read_csv(\"/home/diego/chat-reranking/dataset/anime/rating_complete.csv\")\n",
    "df_ratings.info()"
   ],
   "metadata": {
    "collapsed": false,
    "ExecuteTime": {
     "end_time": "2023-10-31T19:59:10.459519238Z",
     "start_time": "2023-10-31T19:58:57.420271382Z"
    }
   },
   "id": "6ba78eb983e0b98e"
  },
  {
   "cell_type": "markdown",
   "source": [
    "<h3>Filtering the dataset<h3>\n",
    "\n",
    "Items:\n",
    "- Remove duplicates\n",
    "- Remove items where \"English name\" is unknown\n",
    "- Remove recent items (older than 2020). This is because language models aren't updated with fresh info (chatgpt up to Sept 2021)\n",
    "- Remove items with unknown premiered\n",
    "\n",
    "Ratings:\n",
    "- Remove users with less than 70 and more than 300 ratings\n",
    "- Remove users with less than 30 positive ratings\n",
    "- Map ratings into 1-5 stars"
   ],
   "metadata": {
    "collapsed": false
   },
   "id": "6513956cbe3c3356"
  },
  {
   "cell_type": "code",
   "execution_count": 41,
   "outputs": [
    {
     "data": {
      "text/plain": "6831"
     },
     "execution_count": 41,
     "metadata": {},
     "output_type": "execute_result"
    }
   ],
   "source": [
    "df_items.sort_values(by=\"Popularity\", ascending=True, inplace=True)\n",
    "df_items.drop_duplicates(subset=[\"English name\"], keep=\"first\", inplace=True)\n",
    "len(df_items)"
   ],
   "metadata": {
    "collapsed": false,
    "ExecuteTime": {
     "end_time": "2023-10-31T19:59:10.565334256Z",
     "start_time": "2023-10-31T19:59:10.461795467Z"
    }
   },
   "id": "fd466d9a1108226a"
  },
  {
   "cell_type": "code",
   "execution_count": 42,
   "outputs": [
    {
     "data": {
      "text/plain": "6830"
     },
     "execution_count": 42,
     "metadata": {},
     "output_type": "execute_result"
    }
   ],
   "source": [
    "df_items = df_items[df_items[\"English name\"] != \"Unknown\"]\n",
    "len(df_items)"
   ],
   "metadata": {
    "collapsed": false,
    "ExecuteTime": {
     "end_time": "2023-10-31T19:59:10.565928209Z",
     "start_time": "2023-10-31T19:59:10.486163116Z"
    }
   },
   "id": "d8b0b754861e9e4"
  },
  {
   "cell_type": "code",
   "execution_count": 43,
   "outputs": [
    {
     "data": {
      "text/plain": "2762"
     },
     "execution_count": 43,
     "metadata": {},
     "output_type": "execute_result"
    }
   ],
   "source": [
    "df_items = df_items[df_items[\"Premiered\"] != \"Unknown\"]\n",
    "len(df_items)"
   ],
   "metadata": {
    "collapsed": false,
    "ExecuteTime": {
     "end_time": "2023-10-31T19:59:10.568460642Z",
     "start_time": "2023-10-31T19:59:10.495682365Z"
    }
   },
   "id": "9b68bc22cec06cbe"
  },
  {
   "cell_type": "code",
   "execution_count": 44,
   "outputs": [
    {
     "data": {
      "text/plain": "      MAL_ID        Name Score  \\\n1393    1535  Death Note  8.63   \n\n                                                 Genres English name  \\\n1393  Mystery, Police, Psychological, Supernatural, ...   Death Note   \n\n     Japanese name Type Episodes                        Aired  Premiered  ...  \\\n1393         デスノート   TV       37  Oct 4, 2006 to Jun 27, 2007  Fall 2006  ...   \n\n       Score-9   Score-8   Score-7  Score-6  Score-5  Score-4 Score-3  \\\n1393  535252.0  415890.0  201522.0  68577.0  28048.0  10462.0  3692.0   \n\n      Score-2  Score-1  prem_year  \n1393   2256.0   3586.0       2006  \n\n[1 rows x 36 columns]",
      "text/html": "<div>\n<style scoped>\n    .dataframe tbody tr th:only-of-type {\n        vertical-align: middle;\n    }\n\n    .dataframe tbody tr th {\n        vertical-align: top;\n    }\n\n    .dataframe thead th {\n        text-align: right;\n    }\n</style>\n<table border=\"1\" class=\"dataframe\">\n  <thead>\n    <tr style=\"text-align: right;\">\n      <th></th>\n      <th>MAL_ID</th>\n      <th>Name</th>\n      <th>Score</th>\n      <th>Genres</th>\n      <th>English name</th>\n      <th>Japanese name</th>\n      <th>Type</th>\n      <th>Episodes</th>\n      <th>Aired</th>\n      <th>Premiered</th>\n      <th>...</th>\n      <th>Score-9</th>\n      <th>Score-8</th>\n      <th>Score-7</th>\n      <th>Score-6</th>\n      <th>Score-5</th>\n      <th>Score-4</th>\n      <th>Score-3</th>\n      <th>Score-2</th>\n      <th>Score-1</th>\n      <th>prem_year</th>\n    </tr>\n  </thead>\n  <tbody>\n    <tr>\n      <th>1393</th>\n      <td>1535</td>\n      <td>Death Note</td>\n      <td>8.63</td>\n      <td>Mystery, Police, Psychological, Supernatural, ...</td>\n      <td>Death Note</td>\n      <td>デスノート</td>\n      <td>TV</td>\n      <td>37</td>\n      <td>Oct 4, 2006 to Jun 27, 2007</td>\n      <td>Fall 2006</td>\n      <td>...</td>\n      <td>535252.0</td>\n      <td>415890.0</td>\n      <td>201522.0</td>\n      <td>68577.0</td>\n      <td>28048.0</td>\n      <td>10462.0</td>\n      <td>3692.0</td>\n      <td>2256.0</td>\n      <td>3586.0</td>\n      <td>2006</td>\n    </tr>\n  </tbody>\n</table>\n<p>1 rows × 36 columns</p>\n</div>"
     },
     "execution_count": 44,
     "metadata": {},
     "output_type": "execute_result"
    }
   ],
   "source": [
    "df_items[\"prem_year\"] = df_items.apply(lambda x:int(x[\"Premiered\"][-4:]), axis=1)\n",
    "df_items.head(1)"
   ],
   "metadata": {
    "collapsed": false,
    "ExecuteTime": {
     "end_time": "2023-10-31T19:59:10.726069016Z",
     "start_time": "2023-10-31T19:59:10.538974436Z"
    }
   },
   "id": "d170d639c5deaccd"
  },
  {
   "cell_type": "code",
   "execution_count": 45,
   "outputs": [
    {
     "data": {
      "text/plain": "2711"
     },
     "execution_count": 45,
     "metadata": {},
     "output_type": "execute_result"
    }
   ],
   "source": [
    "df_items = df_items[df_items[\"prem_year\"] < 2021]\n",
    "len(df_items)"
   ],
   "metadata": {
    "collapsed": false,
    "ExecuteTime": {
     "end_time": "2023-10-31T19:59:10.726698377Z",
     "start_time": "2023-10-31T19:59:10.582802568Z"
    }
   },
   "id": "b16a72de2ffe2086"
  },
  {
   "cell_type": "code",
   "execution_count": 46,
   "outputs": [
    {
     "data": {
      "text/plain": "Index(['MAL_ID', 'English name', 'Popularity', 'Genres', 'prem_year'], dtype='object')"
     },
     "execution_count": 46,
     "metadata": {},
     "output_type": "execute_result"
    }
   ],
   "source": [
    "df_items = df_items[[\"MAL_ID\", \"English name\", \"Popularity\", \"Genres\", \"prem_year\"]]\n",
    "df_items.columns"
   ],
   "metadata": {
    "collapsed": false,
    "ExecuteTime": {
     "end_time": "2023-10-31T19:59:10.727084667Z",
     "start_time": "2023-10-31T19:59:10.583284247Z"
    }
   },
   "id": "4b33576440f9e3d"
  },
  {
   "cell_type": "code",
   "execution_count": 47,
   "outputs": [
    {
     "data": {
      "text/plain": "Index(['item_id', 'item_name', 'pop_score', 'Genres', 'prem_year'], dtype='object')"
     },
     "execution_count": 47,
     "metadata": {},
     "output_type": "execute_result"
    }
   ],
   "source": [
    "df_items = df_items.rename(columns={\"MAL_ID\": \"item_id\", \"English name\": \"item_name\", \"Popularity\": \"pop_score\"})\n",
    "df_items.columns"
   ],
   "metadata": {
    "collapsed": false,
    "ExecuteTime": {
     "end_time": "2023-10-31T19:59:10.727413366Z",
     "start_time": "2023-10-31T19:59:10.583510681Z"
    }
   },
   "id": "3652dbb8970d4149"
  },
  {
   "cell_type": "code",
   "execution_count": 48,
   "outputs": [
    {
     "data": {
      "text/plain": "      item_id   item_name  pop_score  prem_year  \\\n1393     1535  Death Note          1       2006   \n\n                                                 genres  \n1393  [Mystery, Police, Psychological, Supernatural,...  ",
      "text/html": "<div>\n<style scoped>\n    .dataframe tbody tr th:only-of-type {\n        vertical-align: middle;\n    }\n\n    .dataframe tbody tr th {\n        vertical-align: top;\n    }\n\n    .dataframe thead th {\n        text-align: right;\n    }\n</style>\n<table border=\"1\" class=\"dataframe\">\n  <thead>\n    <tr style=\"text-align: right;\">\n      <th></th>\n      <th>item_id</th>\n      <th>item_name</th>\n      <th>pop_score</th>\n      <th>prem_year</th>\n      <th>genres</th>\n    </tr>\n  </thead>\n  <tbody>\n    <tr>\n      <th>1393</th>\n      <td>1535</td>\n      <td>Death Note</td>\n      <td>1</td>\n      <td>2006</td>\n      <td>[Mystery, Police, Psychological, Supernatural,...</td>\n    </tr>\n  </tbody>\n</table>\n</div>"
     },
     "execution_count": 48,
     "metadata": {},
     "output_type": "execute_result"
    }
   ],
   "source": [
    "df_items[\"genres\"] = df_items.apply(lambda x: x[\"Genres\"].split(\", \"), axis=1)\n",
    "del df_items[\"Genres\"]\n",
    "df_items.head(1)"
   ],
   "metadata": {
    "collapsed": false,
    "ExecuteTime": {
     "end_time": "2023-10-31T19:59:10.743224781Z",
     "start_time": "2023-10-31T19:59:10.583694580Z"
    }
   },
   "id": "e82542076486f01e"
  },
  {
   "cell_type": "code",
   "execution_count": 49,
   "outputs": [
    {
     "data": {
      "text/plain": "2711"
     },
     "execution_count": 49,
     "metadata": {},
     "output_type": "execute_result"
    }
   ],
   "source": [
    "len(df_items[\"item_id\"].unique())"
   ],
   "metadata": {
    "collapsed": false,
    "ExecuteTime": {
     "end_time": "2023-10-31T19:59:10.743677028Z",
     "start_time": "2023-10-31T19:59:10.636544436Z"
    }
   },
   "id": "8bc3d9584c314ec1"
  },
  {
   "cell_type": "code",
   "execution_count": 50,
   "outputs": [],
   "source": [
    "out_dir = \"/home/diego/chat-reranking/experiments/anime/\""
   ],
   "metadata": {
    "collapsed": false,
    "ExecuteTime": {
     "end_time": "2023-10-31T19:59:10.743819848Z",
     "start_time": "2023-10-31T19:59:10.641809113Z"
    }
   },
   "id": "a3f4225ade6d194"
  },
  {
   "cell_type": "code",
   "execution_count": 51,
   "outputs": [],
   "source": [
    "df_items.to_csv(f\"{out_dir}df_items.csv\", sep=\",\", index=False)"
   ],
   "metadata": {
    "collapsed": false,
    "ExecuteTime": {
     "end_time": "2023-10-31T19:59:10.762016214Z",
     "start_time": "2023-10-31T19:59:10.647982453Z"
    }
   },
   "id": "8539dcda53e769b9"
  },
  {
   "cell_type": "code",
   "execution_count": 52,
   "outputs": [],
   "source": [
    "itemid_to_name = {}\n",
    "for i, n in zip(df_items[\"item_id\"].values, df_items[\"item_name\"].values):\n",
    "    itemid_to_name[i] = n\n",
    "itemname_to_id = {v: k for k, v in itemid_to_name.items()}\n",
    "with open(f\"{out_dir}itemid_to_name.pkl\", 'wb') as fp:\n",
    "    pickle.dump(itemid_to_name, fp)\n",
    "with open(f\"{out_dir}itemname_to_id.pkl\", 'wb') as fp:\n",
    "    pickle.dump(itemname_to_id, fp)"
   ],
   "metadata": {
    "collapsed": false,
    "ExecuteTime": {
     "end_time": "2023-10-31T19:59:10.817174424Z",
     "start_time": "2023-10-31T19:59:10.669729188Z"
    }
   },
   "id": "4c013f0a05fddffc"
  },
  {
   "cell_type": "code",
   "execution_count": 53,
   "outputs": [],
   "source": [
    "# prepare generes file\n",
    "out_string = \"\"\n",
    "for i, row in df_items.iterrows():\n",
    "    for genre in row[\"genres\"]:\n",
    "        if row['item_name'] in itemname_to_id:\n",
    "            out_string += f\"{itemname_to_id[row['item_name']]}\\t{genre}\\n\"\n",
    "        else:\n",
    "            print(row)\n",
    "\n",
    "with open(f\"{out_dir}genres_file.txt\", \"w\") as text_file:\n",
    "    text_file.write(out_string)"
   ],
   "metadata": {
    "collapsed": false,
    "ExecuteTime": {
     "end_time": "2023-10-31T19:59:11.089249351Z",
     "start_time": "2023-10-31T19:59:10.710708156Z"
    }
   },
   "id": "89a47d725bf6ddfe"
  },
  {
   "cell_type": "code",
   "execution_count": 54,
   "outputs": [
    {
     "name": "stdout",
     "output_type": "stream",
     "text": [
      "40\n"
     ]
    },
    {
     "data": {
      "text/plain": "{'Action',\n 'Adventure',\n 'Cars',\n 'Comedy',\n 'Dementia',\n 'Demons',\n 'Drama',\n 'Ecchi',\n 'Fantasy',\n 'Game',\n 'Harem',\n 'Historical',\n 'Horror',\n 'Josei',\n 'Kids',\n 'Magic',\n 'Martial Arts',\n 'Mecha',\n 'Military',\n 'Music',\n 'Mystery',\n 'Parody',\n 'Police',\n 'Psychological',\n 'Romance',\n 'Samurai',\n 'School',\n 'Sci-Fi',\n 'Seinen',\n 'Shoujo',\n 'Shoujo Ai',\n 'Shounen',\n 'Shounen Ai',\n 'Slice of Life',\n 'Space',\n 'Sports',\n 'Super Power',\n 'Supernatural',\n 'Thriller',\n 'Vampire'}"
     },
     "execution_count": 54,
     "metadata": {},
     "output_type": "execute_result"
    }
   ],
   "source": [
    "genres = set()\n",
    "for g in df_items[\"genres\"].values:\n",
    "    genres = genres.union(g)\n",
    "print(len(genres))\n",
    "genres"
   ],
   "metadata": {
    "collapsed": false,
    "ExecuteTime": {
     "end_time": "2023-10-31T19:59:11.089956978Z",
     "start_time": "2023-10-31T19:59:10.903735036Z"
    }
   },
   "id": "8a2a13068b83accc"
  },
  {
   "cell_type": "code",
   "execution_count": 68,
   "outputs": [],
   "source": [
    "itemname_to_genres = {}\n",
    "itemid_to_genres = {}\n",
    "for i, row in df_items.iterrows():\n",
    "    itemid_to_genres[row[\"item_id\"]] = row[\"genres\"]\n",
    "    itemname_to_genres[row[\"item_name\"]] = row[\"genres\"]"
   ],
   "metadata": {
    "collapsed": false,
    "ExecuteTime": {
     "end_time": "2023-11-01T18:00:18.543645676Z",
     "start_time": "2023-11-01T18:00:18.408719379Z"
    }
   },
   "id": "7068193bf995f265"
  },
  {
   "cell_type": "code",
   "execution_count": 73,
   "outputs": [],
   "source": [
    "out_dir = \"/home/diego/chat-reranking/experiments/anime/\"\n",
    "with open(f\"{out_dir}itemname_to_genres.pkl\", 'wb') as fp:\n",
    "    pickle.dump(itemname_to_genres, fp)\n",
    "with open(f\"{out_dir}itemid_to_genres.pkl\", 'wb') as fp:\n",
    "    pickle.dump(itemid_to_genres, fp)"
   ],
   "metadata": {
    "collapsed": false,
    "ExecuteTime": {
     "end_time": "2023-11-01T18:03:49.220282720Z",
     "start_time": "2023-11-01T18:03:49.205008325Z"
    }
   },
   "id": "86c2c3d1d1275a70"
  },
  {
   "cell_type": "code",
   "execution_count": 72,
   "outputs": [],
   "source": [
    " "
   ],
   "metadata": {
    "collapsed": false,
    "ExecuteTime": {
     "end_time": "2023-11-01T18:03:41.195364727Z",
     "start_time": "2023-11-01T18:03:41.172333278Z"
    }
   },
   "id": "ab4e96776e5fd19"
  },
  {
   "cell_type": "code",
   "execution_count": null,
   "outputs": [],
   "source": [],
   "metadata": {
    "collapsed": false
   },
   "id": "999905d2524248e0"
  },
  {
   "cell_type": "code",
   "execution_count": 55,
   "outputs": [],
   "source": [
    "df_ratings.rename(columns={\"anime_id\": \"item_id\"}, inplace=True)"
   ],
   "metadata": {
    "collapsed": false,
    "ExecuteTime": {
     "end_time": "2023-10-31T19:59:11.090312350Z",
     "start_time": "2023-10-31T19:59:10.947059955Z"
    }
   },
   "id": "88ff83383749ef34"
  },
  {
   "cell_type": "code",
   "execution_count": 56,
   "outputs": [
    {
     "data": {
      "text/plain": "35080540"
     },
     "execution_count": 56,
     "metadata": {},
     "output_type": "execute_result"
    }
   ],
   "source": [
    "df_ratings = df_ratings[df_ratings[\"item_id\"].isin(df_items[\"item_id\"].values)]\n",
    "len(df_ratings)"
   ],
   "metadata": {
    "collapsed": false,
    "ExecuteTime": {
     "end_time": "2023-10-31T19:59:12.582219053Z",
     "start_time": "2023-10-31T19:59:10.947148478Z"
    }
   },
   "id": "2de5559b1c7a5e47"
  },
  {
   "cell_type": "code",
   "execution_count": 57,
   "outputs": [],
   "source": [
    "upper_bound = 300\n",
    "lower_bound = 70\n",
    "to_keep = df_ratings['user_id'].value_counts()[lambda x: (x>lower_bound) & (x<upper_bound)].index.to_list()"
   ],
   "metadata": {
    "collapsed": false,
    "ExecuteTime": {
     "end_time": "2023-10-31T19:59:12.977391625Z",
     "start_time": "2023-10-31T19:59:12.892029230Z"
    }
   },
   "id": "31d099863f76ca61"
  },
  {
   "cell_type": "code",
   "execution_count": 58,
   "outputs": [
    {
     "data": {
      "text/plain": "20093374"
     },
     "execution_count": 58,
     "metadata": {},
     "output_type": "execute_result"
    }
   ],
   "source": [
    "df_ratings = df_ratings[df_ratings[\"user_id\"].isin(to_keep)]\n",
    "len(df_ratings)"
   ],
   "metadata": {
    "collapsed": false,
    "ExecuteTime": {
     "end_time": "2023-10-31T19:59:13.580288814Z",
     "start_time": "2023-10-31T19:59:12.951275931Z"
    }
   },
   "id": "1331a0d9766baece"
  },
  {
   "cell_type": "code",
   "execution_count": 59,
   "outputs": [
    {
     "data": {
      "text/plain": "5    6507912\n1    5631614\n4    4407961\n3    2958053\n2     587834\nName: rating, dtype: int64"
     },
     "execution_count": 59,
     "metadata": {},
     "output_type": "execute_result"
    }
   ],
   "source": [
    "ratings_mapper = {1: 1, 2:1, 3: 2, 4:2, 5: 3, 6:3, 7: 4, 8:1, 9: 5, 10:5}\n",
    "df_ratings[\"rating\"] = df_ratings.apply(lambda x:ratings_mapper[x[\"rating\"]], axis=1)\n",
    "df_ratings['rating'].value_counts()"
   ],
   "metadata": {
    "collapsed": false,
    "ExecuteTime": {
     "end_time": "2023-10-31T20:01:37.274935803Z",
     "start_time": "2023-10-31T19:59:13.507538010Z"
    }
   },
   "id": "7c2c4a7875f4932a"
  },
  {
   "cell_type": "code",
   "execution_count": 60,
   "outputs": [
    {
     "data": {
      "text/plain": "True     10915873\nFalse     9177501\nName: is_pos, dtype: int64"
     },
     "execution_count": 60,
     "metadata": {},
     "output_type": "execute_result"
    }
   ],
   "source": [
    "df_ratings[\"is_pos\"] = df_ratings.apply(lambda x:x[\"rating\"] > 3, axis=1)\n",
    "df_ratings['is_pos'].value_counts()"
   ],
   "metadata": {
    "collapsed": false,
    "ExecuteTime": {
     "end_time": "2023-10-31T20:03:54.041232025Z",
     "start_time": "2023-10-31T20:01:37.242937487Z"
    }
   },
   "id": "f71683552be6da79"
  },
  {
   "cell_type": "code",
   "execution_count": 61,
   "outputs": [
    {
     "data": {
      "text/plain": "17040914"
     },
     "execution_count": 61,
     "metadata": {},
     "output_type": "execute_result"
    }
   ],
   "source": [
    "df_ratings = df_ratings.groupby([\"user_id\", \"is_pos\"]).filter(lambda x: x[\"is_pos\"].count() > 50)\n",
    "len(df_ratings)"
   ],
   "metadata": {
    "collapsed": false,
    "ExecuteTime": {
     "end_time": "2023-10-31T20:04:25.455612792Z",
     "start_time": "2023-10-31T20:03:54.045920797Z"
    }
   },
   "id": "8732b83586cff8d5"
  },
  {
   "cell_type": "code",
   "execution_count": 62,
   "outputs": [
    {
     "name": "stdout",
     "output_type": "stream",
     "text": [
      "2627\n",
      "118614\n"
     ]
    }
   ],
   "source": [
    "print(len(df_ratings[\"item_id\"].unique()))\n",
    "print(len(df_ratings[\"user_id\"].unique()))"
   ],
   "metadata": {
    "collapsed": false,
    "ExecuteTime": {
     "end_time": "2023-10-31T20:04:25.694658243Z",
     "start_time": "2023-10-31T20:04:25.459122280Z"
    }
   },
   "id": "4c6c6ae40d5ed464"
  },
  {
   "cell_type": "code",
   "execution_count": 63,
   "outputs": [
    {
     "data": {
      "text/plain": "       item_id                                          item_name  pop_score  \\\n15947    40059                              Golden Kamuy Season 3       1736   \n16968    42414                          Eternity:Sweet Love Story       7027   \n16256    40610                           Healin' Good Pretty Cure       5931   \n16625    41380                   I'm standing on 1,000,000 lives.       1118   \n15418    39184                         A3! Season Spring & Summer       3660   \n16245    40591                   Kaguya-sama:Love is War Season 2        151   \n15130    38790  BOFURI:I Don't Want to Get Hurt, so I'll Max O...        516   \n16732    41638                                       Bite-Choicar      16027   \n16426    40902                         Food Wars! The Fifth Plate        524   \n15614    39463                                           Gleipnir        533   \n\n       prem_year                                             genres  \n15947       2020            [Action, Adventure, Historical, Seinen]  \n16968       2020                                   [Ecchi, Romance]  \n16256       2020                   [Action, Magic, Fantasy, Shoujo]  \n16625       2020            [Action, Game, Drama, Fantasy, Shounen]  \n15418       2020                             [Slice of Life, Drama]  \n16245       2020   [Comedy, Psychological, Romance, School, Seinen]  \n15130       2020  [Action, Game, Sci-Fi, Adventure, Comedy, Fant...  \n16732       2020                                       [Cars, Kids]  \n16426       2020                           [Ecchi, School, Shounen]  \n15614       2020     [Action, Mystery, Supernatural, Ecchi, Seinen]  ",
      "text/html": "<div>\n<style scoped>\n    .dataframe tbody tr th:only-of-type {\n        vertical-align: middle;\n    }\n\n    .dataframe tbody tr th {\n        vertical-align: top;\n    }\n\n    .dataframe thead th {\n        text-align: right;\n    }\n</style>\n<table border=\"1\" class=\"dataframe\">\n  <thead>\n    <tr style=\"text-align: right;\">\n      <th></th>\n      <th>item_id</th>\n      <th>item_name</th>\n      <th>pop_score</th>\n      <th>prem_year</th>\n      <th>genres</th>\n    </tr>\n  </thead>\n  <tbody>\n    <tr>\n      <th>15947</th>\n      <td>40059</td>\n      <td>Golden Kamuy Season 3</td>\n      <td>1736</td>\n      <td>2020</td>\n      <td>[Action, Adventure, Historical, Seinen]</td>\n    </tr>\n    <tr>\n      <th>16968</th>\n      <td>42414</td>\n      <td>Eternity:Sweet Love Story</td>\n      <td>7027</td>\n      <td>2020</td>\n      <td>[Ecchi, Romance]</td>\n    </tr>\n    <tr>\n      <th>16256</th>\n      <td>40610</td>\n      <td>Healin' Good Pretty Cure</td>\n      <td>5931</td>\n      <td>2020</td>\n      <td>[Action, Magic, Fantasy, Shoujo]</td>\n    </tr>\n    <tr>\n      <th>16625</th>\n      <td>41380</td>\n      <td>I'm standing on 1,000,000 lives.</td>\n      <td>1118</td>\n      <td>2020</td>\n      <td>[Action, Game, Drama, Fantasy, Shounen]</td>\n    </tr>\n    <tr>\n      <th>15418</th>\n      <td>39184</td>\n      <td>A3! Season Spring &amp; Summer</td>\n      <td>3660</td>\n      <td>2020</td>\n      <td>[Slice of Life, Drama]</td>\n    </tr>\n    <tr>\n      <th>16245</th>\n      <td>40591</td>\n      <td>Kaguya-sama:Love is War Season 2</td>\n      <td>151</td>\n      <td>2020</td>\n      <td>[Comedy, Psychological, Romance, School, Seinen]</td>\n    </tr>\n    <tr>\n      <th>15130</th>\n      <td>38790</td>\n      <td>BOFURI:I Don't Want to Get Hurt, so I'll Max O...</td>\n      <td>516</td>\n      <td>2020</td>\n      <td>[Action, Game, Sci-Fi, Adventure, Comedy, Fant...</td>\n    </tr>\n    <tr>\n      <th>16732</th>\n      <td>41638</td>\n      <td>Bite-Choicar</td>\n      <td>16027</td>\n      <td>2020</td>\n      <td>[Cars, Kids]</td>\n    </tr>\n    <tr>\n      <th>16426</th>\n      <td>40902</td>\n      <td>Food Wars! The Fifth Plate</td>\n      <td>524</td>\n      <td>2020</td>\n      <td>[Ecchi, School, Shounen]</td>\n    </tr>\n    <tr>\n      <th>15614</th>\n      <td>39463</td>\n      <td>Gleipnir</td>\n      <td>533</td>\n      <td>2020</td>\n      <td>[Action, Mystery, Supernatural, Ecchi, Seinen]</td>\n    </tr>\n  </tbody>\n</table>\n</div>"
     },
     "execution_count": 63,
     "metadata": {},
     "output_type": "execute_result"
    }
   ],
   "source": [
    "df_items.sort_values(\"prem_year\", ascending=False, inplace=True)\n",
    "df_items.head(10)"
   ],
   "metadata": {
    "collapsed": false,
    "ExecuteTime": {
     "end_time": "2023-10-31T20:04:25.709877972Z",
     "start_time": "2023-10-31T20:04:25.697240888Z"
    }
   },
   "id": "8ee6c6c38c414474"
  },
  {
   "cell_type": "code",
   "execution_count": 64,
   "outputs": [
    {
     "data": {
      "text/plain": "       item_id                 item_name  pop_score  prem_year  \\\n16854    42144            Jing-Ju Cats 2      17353       2017   \n17062    42660            Robocar Poli 4      17258       2015   \n17058    42654            Robocar Poli 3      17229       2014   \n16856    42146            Jing-Ju Cats 3      17213       2018   \n16059    40273                      Fuwa      17171       2007   \n17086    42740          Screechers Wild!      17160       2016   \n16740    41667                   MONKART      17143       2017   \n16731    41635  GG Bond Season 16:Racing      17111       2019   \n17207    42998          Seven Lucky Gods      17039       2020   \n14581    37941                  Cocomong      16903       2008   \n\n                                                  genres  \n16854         [Action, Adventure, Comedy, Kids, Fantasy]  \n17062                               [Cars, Comedy, Kids]  \n17058                               [Cars, Comedy, Kids]  \n16856  [Action, Adventure, Comedy, Kids, Martial Arts...  \n16059                                       [Historical]  \n17086                          [Action, Adventure, Cars]  \n16740                 [Action, Adventure, Fantasy, Kids]  \n16731           [Sci-Fi, Cars, Space, Super Power, Kids]  \n17207                       [Comedy, Kids, Supernatural]  \n14581                                             [Kids]  ",
      "text/html": "<div>\n<style scoped>\n    .dataframe tbody tr th:only-of-type {\n        vertical-align: middle;\n    }\n\n    .dataframe tbody tr th {\n        vertical-align: top;\n    }\n\n    .dataframe thead th {\n        text-align: right;\n    }\n</style>\n<table border=\"1\" class=\"dataframe\">\n  <thead>\n    <tr style=\"text-align: right;\">\n      <th></th>\n      <th>item_id</th>\n      <th>item_name</th>\n      <th>pop_score</th>\n      <th>prem_year</th>\n      <th>genres</th>\n    </tr>\n  </thead>\n  <tbody>\n    <tr>\n      <th>16854</th>\n      <td>42144</td>\n      <td>Jing-Ju Cats 2</td>\n      <td>17353</td>\n      <td>2017</td>\n      <td>[Action, Adventure, Comedy, Kids, Fantasy]</td>\n    </tr>\n    <tr>\n      <th>17062</th>\n      <td>42660</td>\n      <td>Robocar Poli 4</td>\n      <td>17258</td>\n      <td>2015</td>\n      <td>[Cars, Comedy, Kids]</td>\n    </tr>\n    <tr>\n      <th>17058</th>\n      <td>42654</td>\n      <td>Robocar Poli 3</td>\n      <td>17229</td>\n      <td>2014</td>\n      <td>[Cars, Comedy, Kids]</td>\n    </tr>\n    <tr>\n      <th>16856</th>\n      <td>42146</td>\n      <td>Jing-Ju Cats 3</td>\n      <td>17213</td>\n      <td>2018</td>\n      <td>[Action, Adventure, Comedy, Kids, Martial Arts...</td>\n    </tr>\n    <tr>\n      <th>16059</th>\n      <td>40273</td>\n      <td>Fuwa</td>\n      <td>17171</td>\n      <td>2007</td>\n      <td>[Historical]</td>\n    </tr>\n    <tr>\n      <th>17086</th>\n      <td>42740</td>\n      <td>Screechers Wild!</td>\n      <td>17160</td>\n      <td>2016</td>\n      <td>[Action, Adventure, Cars]</td>\n    </tr>\n    <tr>\n      <th>16740</th>\n      <td>41667</td>\n      <td>MONKART</td>\n      <td>17143</td>\n      <td>2017</td>\n      <td>[Action, Adventure, Fantasy, Kids]</td>\n    </tr>\n    <tr>\n      <th>16731</th>\n      <td>41635</td>\n      <td>GG Bond Season 16:Racing</td>\n      <td>17111</td>\n      <td>2019</td>\n      <td>[Sci-Fi, Cars, Space, Super Power, Kids]</td>\n    </tr>\n    <tr>\n      <th>17207</th>\n      <td>42998</td>\n      <td>Seven Lucky Gods</td>\n      <td>17039</td>\n      <td>2020</td>\n      <td>[Comedy, Kids, Supernatural]</td>\n    </tr>\n    <tr>\n      <th>14581</th>\n      <td>37941</td>\n      <td>Cocomong</td>\n      <td>16903</td>\n      <td>2008</td>\n      <td>[Kids]</td>\n    </tr>\n  </tbody>\n</table>\n</div>"
     },
     "execution_count": 64,
     "metadata": {},
     "output_type": "execute_result"
    }
   ],
   "source": [
    "df_items.sort_values(\"pop_score\", ascending=False, inplace=True)\n",
    "df_items.head(10)"
   ],
   "metadata": {
    "collapsed": false,
    "ExecuteTime": {
     "end_time": "2023-10-31T20:04:25.798502969Z",
     "start_time": "2023-10-31T20:04:25.709735364Z"
    }
   },
   "id": "14715a996c8f90a9"
  },
  {
   "cell_type": "code",
   "execution_count": 65,
   "outputs": [],
   "source": [
    "out_dir = \"/home/diego/chat-reranking/dataset/anime/\"\n",
    "df_ratings.to_csv(f\"{out_dir}ratings17M.csv\", index=False)"
   ],
   "metadata": {
    "collapsed": false,
    "ExecuteTime": {
     "end_time": "2023-10-31T20:04:44.856694232Z",
     "start_time": "2023-10-31T20:04:25.723729585Z"
    }
   },
   "id": "46bba40eaaea7859"
  },
  {
   "cell_type": "code",
   "execution_count": 66,
   "outputs": [
    {
     "data": {
      "text/plain": "True     9706303\nFalse    7334611\nName: is_pos, dtype: int64"
     },
     "execution_count": 66,
     "metadata": {},
     "output_type": "execute_result"
    }
   ],
   "source": [
    "df_ratings[\"is_pos\"].value_counts()"
   ],
   "metadata": {
    "collapsed": false,
    "ExecuteTime": {
     "end_time": "2023-10-31T20:04:44.923117583Z",
     "start_time": "2023-10-31T20:04:44.898725666Z"
    }
   },
   "id": "e0c95cfb12a808e8"
  },
  {
   "cell_type": "markdown",
   "source": [
    "DATASET STATISTICS:\n",
    "- 17M ratings\n",
    "- 2627 items\n",
    "- 118614 users\n",
    "- 143 ratings per user\n",
    "- 6486 ratings per item\n",
    "- 40 genres\n",
    "- 94.5% sparsity "
   ],
   "metadata": {
    "collapsed": false
   },
   "id": "ecdfbfc0998f2dca"
  },
  {
   "cell_type": "code",
   "execution_count": 132,
   "outputs": [],
   "source": [],
   "metadata": {
    "collapsed": false,
    "ExecuteTime": {
     "end_time": "2023-10-26T16:13:03.013518693Z",
     "start_time": "2023-10-26T16:13:02.965868089Z"
    }
   },
   "id": "e9e3ccd94ad2c4d7"
  },
  {
   "cell_type": "code",
   "execution_count": 141,
   "outputs": [
    {
     "name": "stdout",
     "output_type": "stream",
     "text": [
      "13601564\n"
     ]
    },
    {
     "data": {
      "text/plain": "True     11013277\nFalse     2588287\nName: rating, dtype: int64"
     },
     "execution_count": 141,
     "metadata": {},
     "output_type": "execute_result"
    }
   ],
   "source": [
    "a = pd.read_csv(\"/home/diego/chat-reranking/experiments/anime/fold_0/train_data.csv\", sep=\"\\t\", names=[\"userid\", \"items_id\", \"rating\"])\n",
    "print(len(a))\n",
    "a[\"rating\"].value_counts()"
   ],
   "metadata": {
    "collapsed": false,
    "ExecuteTime": {
     "end_time": "2023-10-26T16:52:26.162166368Z",
     "start_time": "2023-10-26T16:52:23.408942257Z"
    }
   },
   "id": "952a367de96e9858"
  },
  {
   "cell_type": "code",
   "execution_count": 140,
   "outputs": [
    {
     "name": "stdout",
     "output_type": "stream",
     "text": [
      "10881672\n"
     ]
    },
    {
     "data": {
      "text/plain": "True     8810991\nFalse    2070681\nName: rating, dtype: int64"
     },
     "execution_count": 140,
     "metadata": {},
     "output_type": "execute_result"
    }
   ],
   "source": [
    "a = pd.read_csv(\"/home/diego/chat-reranking/experiments/anime/fold_0/train_val_data.csv\", sep=\"\\t\", names=[\"userid\", \"items_id\", \"rating\"])\n",
    "print(len(a))\n",
    "a[\"rating\"].value_counts()"
   ],
   "metadata": {
    "collapsed": false,
    "ExecuteTime": {
     "end_time": "2023-10-26T16:52:07.013364840Z",
     "start_time": "2023-10-26T16:52:04.657358188Z"
    }
   },
   "id": "2e826f6a3cee31cb"
  },
  {
   "cell_type": "code",
   "execution_count": 32,
   "outputs": [
    {
     "name": "stdout",
     "output_type": "stream",
     "text": [
      "353392\n",
      "42883\n"
     ]
    }
   ],
   "source": [
    "rat = pd.read_csv(\"/home/diego/chat-reranking/dataset/anime/ratings17M.csv\", sep=\",\")\n",
    "print(max(rat[\"user_id\"].unique()))\n",
    "print(max(rat[\"item_id\"].unique()))"
   ],
   "metadata": {
    "collapsed": false,
    "ExecuteTime": {
     "end_time": "2023-10-31T18:00:03.212414012Z",
     "start_time": "2023-10-31T17:59:59.493541Z"
    }
   },
   "id": "8c9d2c339f9a670f"
  },
  {
   "cell_type": "code",
   "execution_count": null,
   "outputs": [],
   "source": [],
   "metadata": {
    "collapsed": false
   },
   "id": "adad0dd5bc17ddf4"
  }
 ],
 "metadata": {
  "kernelspec": {
   "display_name": "Python 3",
   "language": "python",
   "name": "python3"
  },
  "language_info": {
   "codemirror_mode": {
    "name": "ipython",
    "version": 2
   },
   "file_extension": ".py",
   "mimetype": "text/x-python",
   "name": "python",
   "nbconvert_exporter": "python",
   "pygments_lexer": "ipython2",
   "version": "2.7.6"
  }
 },
 "nbformat": 4,
 "nbformat_minor": 5
}
