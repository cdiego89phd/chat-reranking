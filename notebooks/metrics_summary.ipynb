{
 "cells": [
  {
   "cell_type": "markdown",
   "source": [
    "<h2>Diversity</h2>\n",
    "\n",
    "A diverse set of recommendations contains items that are different from one another, and\n",
    "therefore, it is more likely to contain one or more items that will satisfy the user."
   ],
   "metadata": {
    "collapsed": false
   }
  },
  {
   "cell_type": "markdown",
   "source": [
    "Intra-List Diversity (ILD) - average pairwise distance of the items in recList"
   ],
   "metadata": {
    "collapsed": false
   }
  },
  {
   "cell_type": "markdown",
   "source": [
    "Subtopic Recall (S-Recall) - the amount of subtopics covered by a recList (among the subtopics present in the catalog)"
   ],
   "metadata": {
    "collapsed": false
   }
  },
  {
   "cell_type": "markdown",
   "source": [
    "alpha-NDCG - where the score of retrieved documents is penalized if they share features with items ranked\n",
    "higher in the recList."
   ],
   "metadata": {
    "collapsed": false
   }
  },
  {
   "cell_type": "markdown",
   "source": [
    "Expected Reciprocal Rank (ERR) - intent-aware metric that measures the mean reciprocal rank of features in the recList"
   ],
   "metadata": {
    "collapsed": false
   }
  },
  {
   "cell_type": "code",
   "execution_count": null,
   "outputs": [],
   "source": [],
   "metadata": {
    "collapsed": false
   }
  },
  {
   "cell_type": "markdown",
   "source": [
    "<h2>Novelty</h2>\n",
    "\n",
    "A novel set of recommendations contains items that are unknown to the user, i.e. unpopular among the users of the recommender system."
   ],
   "metadata": {
    "collapsed": false
   }
  },
  {
   "cell_type": "markdown",
   "source": [
    "Popularity Complement (PC) - based on the intuition that the more an item (or a recommended item) is novel, the more the item is unknown to all the users in the system (unpopular, e.g. less rated, interacted with, consumed). It is measured on the recList with respect to the popularity of the catalog"
   ],
   "metadata": {
    "collapsed": false
   }
  },
  {
   "cell_type": "code",
   "execution_count": null,
   "outputs": [],
   "source": [],
   "metadata": {
    "collapsed": false,
    "ExecuteTime": {
     "end_time": "2023-06-27T08:32:52.243056743Z",
     "start_time": "2023-06-27T08:32:52.228395680Z"
    }
   }
  },
  {
   "cell_type": "code",
   "execution_count": null,
   "outputs": [],
   "source": [],
   "metadata": {
    "collapsed": false,
    "ExecuteTime": {
     "end_time": "2023-06-27T08:32:54.294286816Z",
     "start_time": "2023-06-27T08:32:54.277741487Z"
    }
   }
  },
  {
   "cell_type": "markdown",
   "source": [
    "<h2>Serendipity</h2>\n",
    "\n",
    "A serendipitous set of recommendations contains items that are surprising, i.e. unexpected, to a user."
   ],
   "metadata": {
    "collapsed": false
   }
  },
  {
   "cell_type": "markdown",
   "source": [
    "Content-Based Surprise (CBS) - it is based on the intuition that an item (or a recommended item) is surprising if it is unlike any item the user has seen before. We use the lower-bound item distance from the items in the user’s profile as an indicator of surprise, rather than the mean distance, because averaging the distance scores results in information loss (especially if the user has been exposed to diverse items)"
   ],
   "metadata": {
    "collapsed": false
   }
  },
  {
   "cell_type": "markdown",
   "source": [
    "Expected Profile Distance (EPD)"
   ],
   "metadata": {
    "collapsed": false
   }
  },
  {
   "cell_type": "markdown",
   "source": [
    "Expected Free Discovery (EFD)"
   ],
   "metadata": {
    "collapsed": false
   }
  },
  {
   "cell_type": "code",
   "execution_count": null,
   "outputs": [],
   "source": [],
   "metadata": {
    "collapsed": false
   }
  }
 ],
 "metadata": {
  "kernelspec": {
   "display_name": "Python 3",
   "language": "python",
   "name": "python3"
  },
  "language_info": {
   "codemirror_mode": {
    "name": "ipython",
    "version": 2
   },
   "file_extension": ".py",
   "mimetype": "text/x-python",
   "name": "python",
   "nbconvert_exporter": "python",
   "pygments_lexer": "ipython2",
   "version": "2.7.6"
  }
 },
 "nbformat": 4,
 "nbformat_minor": 0
}
