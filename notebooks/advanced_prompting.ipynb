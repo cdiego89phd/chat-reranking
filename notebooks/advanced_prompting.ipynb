{
 "cells": [
  {
   "metadata": {},
   "cell_type": "markdown",
   "source": "<h1>Advanced prompting<h1>",
   "id": "f6ee33045fa4d041"
  },
  {
   "metadata": {
    "ExecuteTime": {
     "end_time": "2024-04-19T14:47:20.565845Z",
     "start_time": "2024-04-19T14:47:20.563779Z"
    }
   },
   "cell_type": "code",
   "source": "",
   "id": "4423459c60d6b658",
   "execution_count": null,
   "outputs": []
  },
  {
   "metadata": {
    "ExecuteTime": {
     "end_time": "2024-04-19T15:16:25.778673Z",
     "start_time": "2024-04-19T15:16:25.775589Z"
    }
   },
   "cell_type": "code",
   "source": [
    "import json\n",
    "from llm_reranker import load_helper_dicts\n",
    "import pickle"
   ],
   "id": "fa72746d93fddcb0",
   "execution_count": 28,
   "outputs": []
  },
  {
   "metadata": {},
   "cell_type": "code",
   "execution_count": 39,
   "source": [
    "import openai\n",
    "\n",
    "openai.api_key = \"\"\n",
    "messages = [{\"role\": \"user\", \"content\": \"how are you\"}]\n",
    "response = openai.ChatCompletion.create(\n",
    "                model=\"gpt-3.5-turbo-0613\",\n",
    "                messages=messages,\n",
    "                temperature=0,  # this is the degree of randomness of the model's output\n",
    "            )"
   ],
   "id": "30bfd35385d1d5bb",
   "outputs": []
  },
  {
   "metadata": {
    "ExecuteTime": {
     "end_time": "2024-04-19T15:33:51.984865Z",
     "start_time": "2024-04-19T15:33:51.977614Z"
    }
   },
   "cell_type": "code",
   "source": "# response",
   "id": "99047fe98a04db2b",
   "execution_count": 41,
   "outputs": []
  },
  {
   "metadata": {},
   "cell_type": "code",
   "execution_count": null,
   "source": "",
   "id": "62ba801378be0fed",
   "outputs": []
  },
  {
   "metadata": {},
   "cell_type": "markdown",
   "source": "<h2>Anime<h2>",
   "id": "b5c5ebc2defd126c"
  },
  {
   "metadata": {
    "ExecuteTime": {
     "end_time": "2024-04-19T15:00:07.023659Z",
     "start_time": "2024-04-19T15:00:07.011081Z"
    }
   },
   "cell_type": "code",
   "source": [
    "# read item dict\n",
    "itemid_to_name, itemname_to_id, _, _, _, _ = load_helper_dicts(\"/home/diego/chat-reranking/experiments/anime/\")"
   ],
   "id": "3e2a033e427346fd",
   "execution_count": 13,
   "outputs": []
  },
  {
   "metadata": {
    "ExecuteTime": {
     "end_time": "2024-04-19T14:58:18.404254Z",
     "start_time": "2024-04-19T14:58:18.392727Z"
    }
   },
   "cell_type": "code",
   "source": [
    "# load raw data\n",
    "with open(\"/home/diego/chat-reranking/notebooks/raw_anime_plots.json\") as json_file:\n",
    "    raw_data = json.load(json_file)"
   ],
   "id": "9c0fe736a524847b",
   "execution_count": 10,
   "outputs": []
  },
  {
   "metadata": {
    "ExecuteTime": {
     "end_time": "2024-04-19T14:58:36.344286Z",
     "start_time": "2024-04-19T14:58:36.339948Z"
    }
   },
   "cell_type": "code",
   "source": "len(raw_data)",
   "id": "eedfa509523fb5f2",
   "execution_count": 12,
   "outputs": []
  },
  {
   "metadata": {
    "ExecuteTime": {
     "end_time": "2024-04-19T15:01:39.293556Z",
     "start_time": "2024-04-19T15:01:39.288174Z"
    }
   },
   "cell_type": "code",
   "source": [
    "raw_plots = {}\n",
    "raw_names = {}\n",
    "for el in raw_data:\n",
    "    raw_plots[el[\"id\"]] = el[\"plot\"]\n",
    "    raw_names[el[\"id\"]] = el[\"title\"]"
   ],
   "id": "544c3f16a480ac59",
   "execution_count": 15,
   "outputs": []
  },
  {
   "metadata": {
    "ExecuteTime": {
     "end_time": "2024-04-19T15:03:48.826193Z",
     "start_time": "2024-04-19T15:03:48.820183Z"
    }
   },
   "cell_type": "code",
   "source": [
    "print(len(itemid_to_name.keys()))\n",
    "# check ids are aligned\n",
    "print(len(set(itemid_to_name.keys()).union(raw_plots.keys())))"
   ],
   "id": "b36a36b58d6b181d",
   "execution_count": 18,
   "outputs": []
  },
  {
   "metadata": {
    "ExecuteTime": {
     "end_time": "2024-04-19T15:14:43.734648Z",
     "start_time": "2024-04-19T15:14:43.730194Z"
    }
   },
   "cell_type": "code",
   "source": [
    "itemid_to_nameplot = {}\n",
    "for idx in itemid_to_name:\n",
    "    if idx in raw_plots:\n",
    "        itemid_to_nameplot[idx] = f\"{itemid_to_name[idx]} [{raw_plots[idx]}]\"\n",
    "    else:\n",
    "        print(idx)"
   ],
   "id": "948cc4649f492c35",
   "execution_count": 25,
   "outputs": []
  },
  {
   "metadata": {
    "ExecuteTime": {
     "end_time": "2024-04-19T15:14:44.165725Z",
     "start_time": "2024-04-19T15:14:44.161490Z"
    }
   },
   "cell_type": "code",
   "source": "len(itemid_to_nameplot)",
   "id": "e97c2d99bc88bd12",
   "execution_count": 26,
   "outputs": []
  },
  {
   "metadata": {
    "ExecuteTime": {
     "end_time": "2024-04-19T15:17:36.113405Z",
     "start_time": "2024-04-19T15:17:36.097711Z"
    }
   },
   "cell_type": "code",
   "source": [
    "out_dir = \"/home/diego/chat-reranking/experiments/anime/\"\n",
    "with open(f\"{out_dir}itemid_to_nameplot.pkl\", 'wb') as fp:\n",
    "    pickle.dump(itemid_to_nameplot, fp)\n",
    "    \n",
    "itemnameplot_to_id = {v: k for k, v in itemid_to_nameplot.items()}\n",
    "with open(f\"{out_dir}itemnameplot_to_id.pkl\", 'wb') as fp:\n",
    "    pickle.dump(itemnameplot_to_id, fp)"
   ],
   "id": "98cfaf17cd8d4d3b",
   "execution_count": 29,
   "outputs": []
  },
  {
   "metadata": {},
   "cell_type": "code",
   "execution_count": null,
   "source": "",
   "id": "d5ce1e31a9e160a0",
   "outputs": []
  },
  {
   "metadata": {},
   "cell_type": "markdown",
   "source": "<h2>Goodreads<h2>",
   "id": "be09cc615d73eaac"
  },
  {
   "metadata": {
    "ExecuteTime": {
     "end_time": "2024-04-19T15:19:08.092196Z",
     "start_time": "2024-04-19T15:19:08.054585Z"
    }
   },
   "cell_type": "code",
   "source": [
    "# read item dict\n",
    "itemid_to_name, itemname_to_id, _, _, _, _ = load_helper_dicts(\"/home/diego/chat-reranking/experiments/goodreads/\")"
   ],
   "id": "bd447a14afac1951",
   "execution_count": 30,
   "outputs": []
  },
  {
   "metadata": {
    "ExecuteTime": {
     "end_time": "2024-04-19T15:22:07.407396Z",
     "start_time": "2024-04-19T15:22:07.386885Z"
    }
   },
   "cell_type": "code",
   "source": [
    "# load raw data\n",
    "with open(\"/home/diego/chat-reranking/notebooks/raw_goodreads_plots.json\") as json_file:\n",
    "    raw_data = json.load(json_file)"
   ],
   "id": "cf077452f04701ce",
   "execution_count": 31,
   "outputs": []
  },
  {
   "metadata": {
    "ExecuteTime": {
     "end_time": "2024-04-19T15:22:20.635533Z",
     "start_time": "2024-04-19T15:22:20.630399Z"
    }
   },
   "cell_type": "code",
   "source": "len(raw_data)",
   "id": "a515c534ca3a48de",
   "execution_count": 32,
   "outputs": []
  },
  {
   "metadata": {
    "ExecuteTime": {
     "end_time": "2024-04-19T15:22:28.304500Z",
     "start_time": "2024-04-19T15:22:28.296610Z"
    }
   },
   "cell_type": "code",
   "source": [
    "raw_plots = {}\n",
    "raw_names = {}\n",
    "for el in raw_data:\n",
    "    raw_plots[el[\"id\"]] = el[\"plot\"]\n",
    "    raw_names[el[\"id\"]] = el[\"title\"]"
   ],
   "id": "8c08213d8aca2a36",
   "execution_count": 33,
   "outputs": []
  },
  {
   "metadata": {
    "ExecuteTime": {
     "end_time": "2024-04-19T15:22:39.111200Z",
     "start_time": "2024-04-19T15:22:39.103718Z"
    }
   },
   "cell_type": "code",
   "source": [
    "print(len(itemid_to_name.keys()))\n",
    "# check ids are aligned\n",
    "print(len(set(itemid_to_name.keys()).union(raw_plots.keys())))"
   ],
   "id": "8e1bc6754f4e7ad1",
   "execution_count": 34,
   "outputs": []
  },
  {
   "metadata": {
    "ExecuteTime": {
     "end_time": "2024-04-19T15:22:52.900490Z",
     "start_time": "2024-04-19T15:22:52.888220Z"
    }
   },
   "cell_type": "code",
   "source": [
    "itemid_to_nameplot = {}\n",
    "for idx in itemid_to_name:\n",
    "    if idx in raw_plots:\n",
    "        itemid_to_nameplot[idx] = f\"{itemid_to_name[idx]} [{raw_plots[idx]}]\"\n",
    "    else:\n",
    "        print(idx)"
   ],
   "id": "e2104aedd9d949",
   "execution_count": 35,
   "outputs": []
  },
  {
   "metadata": {
    "ExecuteTime": {
     "end_time": "2024-04-19T15:23:01.276785Z",
     "start_time": "2024-04-19T15:23:01.271093Z"
    }
   },
   "cell_type": "code",
   "source": "len(itemid_to_nameplot)",
   "id": "12eb63f2c0d5c871",
   "execution_count": 36,
   "outputs": []
  },
  {
   "metadata": {
    "ExecuteTime": {
     "end_time": "2024-04-19T15:23:38.330458Z",
     "start_time": "2024-04-19T15:23:38.291745Z"
    }
   },
   "cell_type": "code",
   "source": [
    "out_dir = \"/home/diego/chat-reranking/experiments/goodreads/\"\n",
    "with open(f\"{out_dir}itemid_to_nameplot.pkl\", 'wb') as fp:\n",
    "    pickle.dump(itemid_to_nameplot, fp)\n",
    "    \n",
    "itemnameplot_to_id = {v: k for k, v in itemid_to_nameplot.items()}\n",
    "with open(f\"{out_dir}itemnameplot_to_id.pkl\", 'wb') as fp:\n",
    "    pickle.dump(itemnameplot_to_id, fp)"
   ],
   "id": "c7d6016e07e646e5",
   "execution_count": 38,
   "outputs": []
  },
  {
   "metadata": {},
   "cell_type": "code",
   "execution_count": null,
   "source": "",
   "id": "54ea7fbe3ca2de92",
   "outputs": []
  },
  {
   "metadata": {},
   "cell_type": "code",
   "execution_count": null,
   "source": "",
   "id": "f1eaeafdeb4dc7ee",
   "outputs": []
  }
 ],
 "metadata": {
  "kernelspec": {
   "display_name": "Python 3",
   "language": "python",
   "name": "python3"
  },
  "language_info": {
   "codemirror_mode": {
    "name": "ipython",
    "version": 2
   },
   "file_extension": ".py",
   "mimetype": "text/x-python",
   "name": "python",
   "nbconvert_exporter": "python",
   "pygments_lexer": "ipython2",
   "version": "2.7.6"
  }
 },
 "nbformat": 4,
 "nbformat_minor": 5
}
