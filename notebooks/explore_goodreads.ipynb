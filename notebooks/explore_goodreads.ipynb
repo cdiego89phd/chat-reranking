{
 "cells": [
  {
   "cell_type": "markdown",
   "source": [
    "<h1>Goodereads<h1>\n",
    "\n",
    "The dataset has\n",
    "- 228M ratings\n",
    "- 0.8M users\n",
    "- 2.3M items\n",
    "- Genres about books (genre tags are extracted from users' popular shelves by a simple keyword matching process)"
   ],
   "metadata": {
    "collapsed": false
   },
   "id": "3284b3acf20536d6"
  },
  {
   "cell_type": "code",
   "execution_count": 16,
   "outputs": [
    {
     "name": "stderr",
     "output_type": "stream",
     "text": [
      "/home/diego/miniconda3/envs/deeep3.9/lib/python3.9/site-packages/scipy/__init__.py:146: UserWarning: A NumPy version >=1.16.5 and <1.23.0 is required for this version of SciPy (detected version 1.24.3\n",
      "  warnings.warn(f\"A NumPy version >={np_minversion} and <{np_maxversion}\"\n"
     ]
    }
   ],
   "source": [
    "import pandas as pd\n",
    "from dask import dataframe as dd\n",
    "import time\n",
    "import pickle\n",
    "import numpy as np"
   ],
   "metadata": {
    "collapsed": false,
    "ExecuteTime": {
     "end_time": "2023-11-10T11:22:05.034917601Z",
     "start_time": "2023-11-10T11:22:04.509750785Z"
    }
   },
   "id": "initial_id"
  },
  {
   "cell_type": "code",
   "execution_count": 3,
   "outputs": [],
   "source": [],
   "metadata": {
    "collapsed": false,
    "ExecuteTime": {
     "end_time": "2023-11-06T17:13:55.076607325Z",
     "start_time": "2023-11-06T17:13:55.009287790Z"
    }
   },
   "id": "64a523a8d163d4b3"
  },
  {
   "cell_type": "markdown",
   "source": [
    "<h3>Exploring ratings first<h3>"
   ],
   "metadata": {
    "collapsed": false
   },
   "id": "d21a57caf2367a11"
  },
  {
   "cell_type": "code",
   "execution_count": 35,
   "outputs": [
    {
     "name": "stdout",
     "output_type": "stream",
     "text": [
      "Read csv with dask: 0.016644954681396484 sec\n"
     ]
    }
   ],
   "source": [
    "start = time.time()\n",
    "df_ratings = dd.read_csv(\"/home/diego/chat-reranking/dataset/goodreads/goodreads_interactions.csv\")\n",
    "end = time.time()\n",
    "print(f\"Read csv with dask: {end-start} sec\")"
   ],
   "metadata": {
    "collapsed": false,
    "ExecuteTime": {
     "end_time": "2023-11-10T11:25:24.851136940Z",
     "start_time": "2023-11-10T11:25:24.788103559Z"
    }
   },
   "id": "a03fd5679c59df73"
  },
  {
   "cell_type": "code",
   "execution_count": 36,
   "outputs": [
    {
     "name": "stdout",
     "output_type": "stream",
     "text": [
      "Index(['user_id', 'book_id', 'is_read', 'rating', 'is_reviewed'], dtype='object')\n",
      "228648342\n"
     ]
    }
   ],
   "source": [
    "print(df_ratings.columns)\n",
    "print(len(df_ratings))"
   ],
   "metadata": {
    "collapsed": false,
    "ExecuteTime": {
     "end_time": "2023-11-10T11:25:42.651942780Z",
     "start_time": "2023-11-10T11:25:25.806228736Z"
    }
   },
   "id": "7c7b2abff690b801"
  },
  {
   "cell_type": "code",
   "execution_count": 37,
   "outputs": [
    {
     "name": "stdout",
     "output_type": "stream",
     "text": [
      "Index(['user_id', 'item_id', 'is_read', 'rating', 'is_reviewed'], dtype='object')\n"
     ]
    }
   ],
   "source": [
    "df_ratings = df_ratings.rename(columns={\"book_id\": \"item_id\"})\n",
    "print(df_ratings.columns)"
   ],
   "metadata": {
    "collapsed": false,
    "ExecuteTime": {
     "end_time": "2023-11-10T11:25:42.660375910Z",
     "start_time": "2023-11-10T11:25:42.654994248Z"
    }
   },
   "id": "ae6833f7446f605d"
  },
  {
   "cell_type": "code",
   "execution_count": 38,
   "outputs": [
    {
     "name": "stdout",
     "output_type": "stream",
     "text": [
      "Index(['user_id', 'item_id', 'rating'], dtype='object')\n"
     ]
    }
   ],
   "source": [
    "df_ratings = df_ratings[['user_id', 'item_id', 'rating']]\n",
    "print(df_ratings.columns)"
   ],
   "metadata": {
    "collapsed": false,
    "ExecuteTime": {
     "end_time": "2023-11-10T11:25:42.680851016Z",
     "start_time": "2023-11-10T11:25:42.658911943Z"
    }
   },
   "id": "fe4d1c1aeb32d49f"
  },
  {
   "cell_type": "code",
   "execution_count": 39,
   "outputs": [
    {
     "data": {
      "text/plain": "104551549"
     },
     "execution_count": 39,
     "metadata": {},
     "output_type": "execute_result"
    }
   ],
   "source": [
    "df_ratings = df_ratings[df_ratings[\"rating\"] != 0]\n",
    "len(df_ratings)"
   ],
   "metadata": {
    "collapsed": false,
    "ExecuteTime": {
     "end_time": "2023-11-10T11:26:07.459660171Z",
     "start_time": "2023-11-10T11:25:42.669648746Z"
    }
   },
   "id": "91a9f267ba701e2a"
  },
  {
   "cell_type": "code",
   "execution_count": 40,
   "outputs": [
    {
     "data": {
      "text/plain": "2325541"
     },
     "execution_count": 40,
     "metadata": {},
     "output_type": "execute_result"
    }
   ],
   "source": [
    "len(df_ratings[\"item_id\"].unique())"
   ],
   "metadata": {
    "collapsed": false,
    "ExecuteTime": {
     "end_time": "2023-11-10T11:26:30.706583149Z",
     "start_time": "2023-11-10T11:26:07.464932893Z"
    }
   },
   "id": "830f7cef35b3d3de"
  },
  {
   "cell_type": "code",
   "execution_count": 41,
   "outputs": [
    {
     "data": {
      "text/plain": "816371"
     },
     "execution_count": 41,
     "metadata": {},
     "output_type": "execute_result"
    }
   ],
   "source": [
    "len(df_ratings[\"user_id\"].unique())"
   ],
   "metadata": {
    "collapsed": false,
    "ExecuteTime": {
     "end_time": "2023-11-10T11:26:51.186851208Z",
     "start_time": "2023-11-10T11:26:30.710360337Z"
    }
   },
   "id": "be5c527d52940887"
  },
  {
   "cell_type": "code",
   "execution_count": 42,
   "outputs": [],
   "source": [
    "upper_bound = 300\n",
    "lower_bound = 70\n",
    "to_keep = list(df_ratings['user_id'].value_counts()[lambda x: (x>lower_bound) & (x<upper_bound)].index)"
   ],
   "metadata": {
    "collapsed": false,
    "ExecuteTime": {
     "end_time": "2023-11-10T11:27:53.446235591Z",
     "start_time": "2023-11-10T11:26:51.195174263Z"
    }
   },
   "id": "a19f500c857e1fa8"
  },
  {
   "cell_type": "code",
   "execution_count": 43,
   "outputs": [
    {
     "data": {
      "text/plain": "39048860"
     },
     "execution_count": 43,
     "metadata": {},
     "output_type": "execute_result"
    }
   ],
   "source": [
    "df_ratings = df_ratings[df_ratings[\"user_id\"].isin(to_keep)]\n",
    "len(df_ratings)"
   ],
   "metadata": {
    "collapsed": false,
    "ExecuteTime": {
     "end_time": "2023-11-10T11:28:18.099309933Z",
     "start_time": "2023-11-10T11:27:53.451645712Z"
    }
   },
   "id": "8dd6d2e9bf3694d3"
  },
  {
   "cell_type": "code",
   "execution_count": 44,
   "outputs": [
    {
     "data": {
      "text/plain": "266891"
     },
     "execution_count": 44,
     "metadata": {},
     "output_type": "execute_result"
    }
   ],
   "source": [
    "len(df_ratings[\"user_id\"].unique())"
   ],
   "metadata": {
    "collapsed": false,
    "ExecuteTime": {
     "end_time": "2023-11-10T11:28:42.542953801Z",
     "start_time": "2023-11-10T11:28:18.096776463Z"
    }
   },
   "id": "29f43cbbdb12dac8"
  },
  {
   "cell_type": "code",
   "execution_count": 45,
   "outputs": [
    {
     "data": {
      "text/plain": "1593470"
     },
     "execution_count": 45,
     "metadata": {},
     "output_type": "execute_result"
    }
   ],
   "source": [
    "len(df_ratings[\"item_id\"].unique())"
   ],
   "metadata": {
    "collapsed": false,
    "ExecuteTime": {
     "end_time": "2023-11-10T11:29:09.360787010Z",
     "start_time": "2023-11-10T11:28:42.554107190Z"
    }
   },
   "id": "29daa4e550266124"
  },
  {
   "cell_type": "code",
   "execution_count": 46,
   "outputs": [
    {
     "data": {
      "text/plain": "pandas.core.frame.DataFrame"
     },
     "execution_count": 46,
     "metadata": {},
     "output_type": "execute_result"
    }
   ],
   "source": [
    "pandas_ratings = df_ratings.compute()\n",
    "type(pandas_ratings)"
   ],
   "metadata": {
    "collapsed": false,
    "ExecuteTime": {
     "end_time": "2023-11-10T11:29:37.366138472Z",
     "start_time": "2023-11-10T11:29:09.367554670Z"
    }
   },
   "id": "aeeff10728690e55"
  },
  {
   "cell_type": "code",
   "execution_count": 47,
   "outputs": [],
   "source": [
    "grouped_items = pandas_ratings.groupby(\"item_id\")[\"item_id\"].count()"
   ],
   "metadata": {
    "collapsed": false,
    "ExecuteTime": {
     "end_time": "2023-11-10T11:29:39.212407260Z",
     "start_time": "2023-11-10T11:29:37.298717245Z"
    }
   },
   "id": "1bf49dc98486e3d0"
  },
  {
   "cell_type": "code",
   "execution_count": 48,
   "outputs": [
    {
     "data": {
      "text/plain": "25489453"
     },
     "execution_count": 48,
     "metadata": {},
     "output_type": "execute_result"
    }
   ],
   "source": [
    "# check how many ratings you keep by filtering out unpopular items\n",
    "np.sum(grouped_items.sort_values(ascending=False)[:20000].values)"
   ],
   "metadata": {
    "collapsed": false,
    "ExecuteTime": {
     "end_time": "2023-11-10T11:29:39.352994253Z",
     "start_time": "2023-11-10T11:29:39.218644396Z"
    }
   },
   "id": "b1c39fcd4fbebf9d"
  },
  {
   "cell_type": "code",
   "execution_count": 49,
   "outputs": [
    {
     "data": {
      "text/plain": "20000"
     },
     "execution_count": 49,
     "metadata": {},
     "output_type": "execute_result"
    }
   ],
   "source": [
    "remaining_items = grouped_items.sort_values(ascending=False)[:20000].index\n",
    "len(remaining_items)"
   ],
   "metadata": {
    "collapsed": false,
    "ExecuteTime": {
     "end_time": "2023-11-10T11:29:39.501655120Z",
     "start_time": "2023-11-10T11:29:39.317830696Z"
    }
   },
   "id": "c538670e9303f71c"
  },
  {
   "cell_type": "code",
   "execution_count": 50,
   "outputs": [
    {
     "data": {
      "text/plain": "25489453"
     },
     "execution_count": 50,
     "metadata": {},
     "output_type": "execute_result"
    }
   ],
   "source": [
    "pandas_ratings = pandas_ratings[pandas_ratings[\"item_id\"].isin(remaining_items)]\n",
    "len(pandas_ratings)"
   ],
   "metadata": {
    "collapsed": false,
    "ExecuteTime": {
     "end_time": "2023-11-10T11:29:41.105386878Z",
     "start_time": "2023-11-10T11:29:39.431753677Z"
    }
   },
   "id": "ed9ab462c87297cb"
  },
  {
   "cell_type": "code",
   "execution_count": 51,
   "outputs": [
    {
     "data": {
      "text/plain": "266561"
     },
     "execution_count": 51,
     "metadata": {},
     "output_type": "execute_result"
    }
   ],
   "source": [
    "len(pandas_ratings[\"user_id\"].unique())"
   ],
   "metadata": {
    "collapsed": false,
    "ExecuteTime": {
     "end_time": "2023-11-10T11:29:41.240653629Z",
     "start_time": "2023-11-10T11:29:41.102813517Z"
    }
   },
   "id": "559fc6c6303b0a2f"
  },
  {
   "cell_type": "code",
   "execution_count": 52,
   "outputs": [],
   "source": [
    "# random.seed(895)\n",
    "# n_to_sample = 300000\n",
    "# users = random.sample(list(df_ratings['user_id'].unique()), n_to_sample)"
   ],
   "metadata": {
    "collapsed": false,
    "ExecuteTime": {
     "end_time": "2023-11-10T11:29:41.245643764Z",
     "start_time": "2023-11-10T11:29:41.238723388Z"
    }
   },
   "id": "a894d64327eece80"
  },
  {
   "cell_type": "code",
   "execution_count": 53,
   "outputs": [],
   "source": [
    "# df_ratings = df_ratings[df_ratings[\"user_id\"].isin(users)]\n",
    "# len(df_ratings)"
   ],
   "metadata": {
    "collapsed": false,
    "ExecuteTime": {
     "end_time": "2023-11-10T11:29:41.295233785Z",
     "start_time": "2023-11-10T11:29:41.243477270Z"
    }
   },
   "id": "9af818a649d2a64e"
  },
  {
   "cell_type": "code",
   "execution_count": 54,
   "outputs": [
    {
     "data": {
      "text/plain": "rating\n5    0.379890\n4    0.350483\n3    0.197756\n2    0.052855\n1    0.019016\nName: proportion, dtype: float64"
     },
     "execution_count": 54,
     "metadata": {},
     "output_type": "execute_result"
    }
   ],
   "source": [
    "pandas_ratings['rating'].value_counts(normalize=True)"
   ],
   "metadata": {
    "collapsed": false,
    "ExecuteTime": {
     "end_time": "2023-11-10T11:29:41.394490146Z",
     "start_time": "2023-11-10T11:29:41.252143678Z"
    }
   },
   "id": "5172ae5023446d7b"
  },
  {
   "cell_type": "markdown",
   "source": [
    "Around 28% of the ratings are negative. Now the dataset is around 18M"
   ],
   "metadata": {
    "collapsed": false
   },
   "id": "df6c82146d75f623"
  },
  {
   "cell_type": "code",
   "execution_count": 51,
   "outputs": [],
   "source": [
    "df_remaining = pd.DataFrame(data={\"item_id\": remaining_items})\n",
    "df_remaining.to_csv(\"/home/diego/chat-reranking/dataset/goodreads/remaining_items.csv\", index=False)"
   ],
   "metadata": {
    "collapsed": false,
    "ExecuteTime": {
     "end_time": "2023-11-07T09:22:25.513776918Z",
     "start_time": "2023-11-07T09:22:25.432396557Z"
    }
   },
   "id": "14da533d35083c5d"
  },
  {
   "cell_type": "code",
   "execution_count": 52,
   "outputs": [
    {
     "data": {
      "text/plain": "   item_id\n0      943",
      "text/html": "<div>\n<style scoped>\n    .dataframe tbody tr th:only-of-type {\n        vertical-align: middle;\n    }\n\n    .dataframe tbody tr th {\n        vertical-align: top;\n    }\n\n    .dataframe thead th {\n        text-align: right;\n    }\n</style>\n<table border=\"1\" class=\"dataframe\">\n  <thead>\n    <tr style=\"text-align: right;\">\n      <th></th>\n      <th>item_id</th>\n    </tr>\n  </thead>\n  <tbody>\n    <tr>\n      <th>0</th>\n      <td>943</td>\n    </tr>\n  </tbody>\n</table>\n</div>"
     },
     "execution_count": 52,
     "metadata": {},
     "output_type": "execute_result"
    }
   ],
   "source": [
    "df_remaining = pd.read_csv(\"/home/diego/chat-reranking/dataset/goodreads/remaining_items.csv\")\n",
    "df_remaining.head(1)"
   ],
   "metadata": {
    "collapsed": false,
    "ExecuteTime": {
     "end_time": "2023-11-07T09:22:27.990869854Z",
     "start_time": "2023-11-07T09:22:27.902877632Z"
    }
   },
   "id": "1692bf1d21f8f538"
  },
  {
   "cell_type": "code",
   "execution_count": null,
   "outputs": [],
   "source": [],
   "metadata": {
    "collapsed": false
   },
   "id": "5441aeccb9a3b347"
  },
  {
   "cell_type": "markdown",
   "source": [
    "<h3>Exploring books' titles<h3>"
   ],
   "metadata": {
    "collapsed": false
   },
   "id": "2e81b715ea0791a1"
  },
  {
   "cell_type": "code",
   "execution_count": 9,
   "outputs": [
    {
     "name": "stdout",
     "output_type": "stream",
     "text": [
      "# of remaining items: 20000\n",
      "len of dict: 416\n",
      "len of dict: 763\n",
      "len of dict: 1126\n",
      "len of dict: 1513\n",
      "len of dict: 1873\n",
      "len of dict: 2263\n",
      "len of dict: 2603\n",
      "len of dict: 2960\n",
      "len of dict: 3326\n",
      "len of dict: 3703\n",
      "len of dict: 4040\n",
      "len of dict: 4427\n",
      "len of dict: 4802\n",
      "len of dict: 5161\n",
      "len of dict: 5506\n",
      "len of dict: 5906\n",
      "len of dict: 6318\n",
      "len of dict: 6724\n",
      "len of dict: 7067\n",
      "len of dict: 7469\n",
      "len of dict: 7824\n",
      "len of dict: 8211\n",
      "len of dict: 8579\n",
      "2023-11-10 11:20:26.122989\n"
     ]
    }
   ],
   "source": [
    "import gzip\n",
    "import datetime\n",
    "import json\n",
    "\n",
    "remaining_items = pd.read_csv(\"/home/diego/chat-reranking/dataset/goodreads/remaining_items.csv\")[\"item_id\"].values\n",
    "print(f\"# of remaining items: {len(remaining_items)}\")\n",
    "books = {\"item_id\": [], \"title\": [], \"title_without_series\": [], \"publication_year\": []}\n",
    "counter = 0\n",
    "with gzip.open(\"/home/diego/chat-reranking/dataset/goodreads/goodreads_books.json.gz\", 'r') as f:\n",
    "    while True:\n",
    "        counter += 1\n",
    "        if counter % 100000 == 0:\n",
    "            # print(f\"{print(datetime.datetime.now())}: line {counter}\")\n",
    "            print(f\"len of dict: {len(books['item_id'])}\")\n",
    "        line = f.readline()\n",
    "        if not line:\n",
    "            break\n",
    "        try:\n",
    "            parsed_line = json.loads(line)\n",
    "            book_id = int(parsed_line[\"book_id\"])\n",
    "            if book_id in remaining_items:\n",
    "                books[\"item_id\"].append(book_id)\n",
    "\n",
    "                title, title_no_series, year = None, None, None\n",
    "                if parsed_line[\"title\"]:\n",
    "                    title = parsed_line[\"title\"]\n",
    "                if parsed_line[\"title_without_series\"]:\n",
    "                    title_no_series = parsed_line[\"title_without_series\"]\n",
    "                if parsed_line[\"publication_year\"]:\n",
    "                    year = parsed_line[\"publication_year\"]\n",
    "                books[\"title\"].append(title)\n",
    "                books[\"title_without_series\"].append(title_no_series)\n",
    "                books[\"publication_year\"].append(year)\n",
    "\n",
    "        except Exception:\n",
    "            print(\"exxxx\")\n",
    "            books[\"item_id\"].append(None)\n",
    "            books[\"title\"].append(None)\n",
    "            books[\"title_without_series\"].append(None)\n",
    "            books[\"publication_year\"].append(None)\n",
    "            continue\n",
    "\n",
    "df_books = pd.DataFrame.from_dict(books)\n",
    "df_books.to_csv(\"/home/diego/chat-reranking/dataset/goodreads/filtered_books.csv\", index=False)\n",
    "print(datetime.datetime.now())"
   ],
   "metadata": {
    "collapsed": false,
    "ExecuteTime": {
     "end_time": "2023-11-10T11:20:26.129784145Z",
     "start_time": "2023-11-10T11:17:50.302500071Z"
    }
   },
   "id": "b513cd16adb633a6"
  },
  {
   "cell_type": "code",
   "execution_count": 11,
   "outputs": [
    {
     "name": "stdout",
     "output_type": "stream",
     "text": [
      "Len of df 8799\n"
     ]
    },
    {
     "data": {
      "text/plain": "   item_id              title title_without_series  publication_year\n0    89377  Penny from Heaven    Penny from Heaven            2006.0",
      "text/html": "<div>\n<style scoped>\n    .dataframe tbody tr th:only-of-type {\n        vertical-align: middle;\n    }\n\n    .dataframe tbody tr th {\n        vertical-align: top;\n    }\n\n    .dataframe thead th {\n        text-align: right;\n    }\n</style>\n<table border=\"1\" class=\"dataframe\">\n  <thead>\n    <tr style=\"text-align: right;\">\n      <th></th>\n      <th>item_id</th>\n      <th>title</th>\n      <th>title_without_series</th>\n      <th>publication_year</th>\n    </tr>\n  </thead>\n  <tbody>\n    <tr>\n      <th>0</th>\n      <td>89377</td>\n      <td>Penny from Heaven</td>\n      <td>Penny from Heaven</td>\n      <td>2006.0</td>\n    </tr>\n  </tbody>\n</table>\n</div>"
     },
     "execution_count": 11,
     "metadata": {},
     "output_type": "execute_result"
    }
   ],
   "source": [
    "df_books = pd.read_csv(\"/home/diego/chat-reranking/dataset/goodreads/filtered_books.csv\")\n",
    "print(f\"Len of df {len(df_books)}\")\n",
    "df_books.head(1)"
   ],
   "metadata": {
    "collapsed": false,
    "ExecuteTime": {
     "end_time": "2023-11-10T11:21:38.756040199Z",
     "start_time": "2023-11-10T11:21:38.657664767Z"
    }
   },
   "id": "346a5134711e8fc5"
  },
  {
   "cell_type": "code",
   "execution_count": 12,
   "outputs": [
    {
     "name": "stdout",
     "output_type": "stream",
     "text": [
      "Len of df 8349\n"
     ]
    }
   ],
   "source": [
    "df_books.drop_duplicates(inplace=True)\n",
    "df_books.drop_duplicates(subset=\"item_id\", inplace=True)\n",
    "df_books.drop_duplicates(subset=\"title\", inplace=True)\n",
    "print(f\"Len of df {len(df_books)}\")"
   ],
   "metadata": {
    "collapsed": false,
    "ExecuteTime": {
     "end_time": "2023-11-10T11:21:45.512454868Z",
     "start_time": "2023-11-10T11:21:45.456177948Z"
    }
   },
   "id": "7837dd677762e253"
  },
  {
   "cell_type": "code",
   "execution_count": 13,
   "outputs": [
    {
     "name": "stdout",
     "output_type": "stream",
     "text": [
      "Len of df 8349\n"
     ]
    }
   ],
   "source": [
    "# drop any book with no title\n",
    "df_books.dropna(subset=\"title\", inplace=True)\n",
    "print(f\"Len of df {len(df_books)}\")"
   ],
   "metadata": {
    "collapsed": false,
    "ExecuteTime": {
     "end_time": "2023-11-10T11:21:49.547856857Z",
     "start_time": "2023-11-10T11:21:49.494882217Z"
    }
   },
   "id": "85f2aabb5d6c56e4"
  },
  {
   "cell_type": "code",
   "execution_count": 14,
   "outputs": [
    {
     "name": "stdout",
     "output_type": "stream",
     "text": [
      "Most recent year of publication: 2017.0\n"
     ]
    }
   ],
   "source": [
    "print(f\"Most recent year of publication: {max(df_books['publication_year'].values)}\")"
   ],
   "metadata": {
    "collapsed": false,
    "ExecuteTime": {
     "end_time": "2023-11-10T11:21:52.799486177Z",
     "start_time": "2023-11-10T11:21:52.774526818Z"
    }
   },
   "id": "9f56b7e4d5eaa28b"
  },
  {
   "cell_type": "code",
   "execution_count": 14,
   "outputs": [],
   "source": [],
   "metadata": {
    "collapsed": false,
    "ExecuteTime": {
     "end_time": "2023-11-10T11:21:54.440405210Z",
     "start_time": "2023-11-10T11:21:54.255724577Z"
    }
   },
   "id": "a514c4027e3ba7b8"
  },
  {
   "cell_type": "markdown",
   "source": [
    "<h3>Exploring books genres <h3>"
   ],
   "metadata": {
    "collapsed": false
   },
   "id": "5ccee04d2ca9f68"
  },
  {
   "cell_type": "code",
   "execution_count": 17,
   "outputs": [],
   "source": [
    "df_genres = dd.read_json(\"/home/diego/chat-reranking/dataset/goodreads/goodreads_book_genres_initial.json\")\n",
    "df_genres = df_genres.rename(columns={\"book_id\": \"item_id\"}).compute()"
   ],
   "metadata": {
    "collapsed": false,
    "ExecuteTime": {
     "end_time": "2023-11-10T11:22:44.744890609Z",
     "start_time": "2023-11-10T11:22:23.774512579Z"
    }
   },
   "id": "c3c7123a309cde29"
  },
  {
   "cell_type": "code",
   "execution_count": 18,
   "outputs": [
    {
     "name": "stdout",
     "output_type": "stream",
     "text": [
      "2360655\n"
     ]
    },
    {
     "data": {
      "text/plain": "   item_id                                         genres\n0  5333265  {'history, historical fiction, biography': 1}",
      "text/html": "<div>\n<style scoped>\n    .dataframe tbody tr th:only-of-type {\n        vertical-align: middle;\n    }\n\n    .dataframe tbody tr th {\n        vertical-align: top;\n    }\n\n    .dataframe thead th {\n        text-align: right;\n    }\n</style>\n<table border=\"1\" class=\"dataframe\">\n  <thead>\n    <tr style=\"text-align: right;\">\n      <th></th>\n      <th>item_id</th>\n      <th>genres</th>\n    </tr>\n  </thead>\n  <tbody>\n    <tr>\n      <th>0</th>\n      <td>5333265</td>\n      <td>{'history, historical fiction, biography': 1}</td>\n    </tr>\n  </tbody>\n</table>\n</div>"
     },
     "execution_count": 18,
     "metadata": {},
     "output_type": "execute_result"
    }
   ],
   "source": [
    "print(len(df_genres))\n",
    "df_genres.head(1)"
   ],
   "metadata": {
    "collapsed": false,
    "ExecuteTime": {
     "end_time": "2023-11-10T11:22:44.813978541Z",
     "start_time": "2023-11-10T11:22:44.750378472Z"
    }
   },
   "id": "cafd72a4aaf17fb1"
  },
  {
   "cell_type": "code",
   "execution_count": 19,
   "outputs": [
    {
     "data": {
      "text/plain": "2360655"
     },
     "execution_count": 19,
     "metadata": {},
     "output_type": "execute_result"
    }
   ],
   "source": [
    "genres = []\n",
    "for i, row in df_genres.iterrows():\n",
    "    if len(list(row[\"genres\"].keys())) == 0:\n",
    "        genres.append(None)\n",
    "    else:\n",
    "        genres.append(list(row[\"genres\"].keys()))\n",
    "len(genres)"
   ],
   "metadata": {
    "collapsed": false,
    "ExecuteTime": {
     "end_time": "2023-11-10T11:24:37.835991404Z",
     "start_time": "2023-11-10T11:22:44.798744938Z"
    }
   },
   "id": "c9fbc2873479ef2c"
  },
  {
   "cell_type": "code",
   "execution_count": 20,
   "outputs": [
    {
     "data": {
      "text/plain": "1951142"
     },
     "execution_count": 20,
     "metadata": {},
     "output_type": "execute_result"
    }
   ],
   "source": [
    "df_genres[\"genres\"] = genres\n",
    "df_genres.dropna(subset=\"genres\", axis=0, inplace=True)\n",
    "len(df_genres)"
   ],
   "metadata": {
    "collapsed": false,
    "ExecuteTime": {
     "end_time": "2023-11-10T11:24:38.418410676Z",
     "start_time": "2023-11-10T11:24:37.854608112Z"
    }
   },
   "id": "9f93355e4ffe0a90"
  },
  {
   "cell_type": "code",
   "execution_count": 21,
   "outputs": [
    {
     "data": {
      "text/plain": "   item_id                                    genres  \\\n0  5333265  [history, historical fiction, biography]   \n\n                           formatted_genres  \n0  [history, historical fiction, biography]  ",
      "text/html": "<div>\n<style scoped>\n    .dataframe tbody tr th:only-of-type {\n        vertical-align: middle;\n    }\n\n    .dataframe tbody tr th {\n        vertical-align: top;\n    }\n\n    .dataframe thead th {\n        text-align: right;\n    }\n</style>\n<table border=\"1\" class=\"dataframe\">\n  <thead>\n    <tr style=\"text-align: right;\">\n      <th></th>\n      <th>item_id</th>\n      <th>genres</th>\n      <th>formatted_genres</th>\n    </tr>\n  </thead>\n  <tbody>\n    <tr>\n      <th>0</th>\n      <td>5333265</td>\n      <td>[history, historical fiction, biography]</td>\n      <td>[history, historical fiction, biography]</td>\n    </tr>\n  </tbody>\n</table>\n</div>"
     },
     "execution_count": 21,
     "metadata": {},
     "output_type": "execute_result"
    }
   ],
   "source": [
    "def format_genres(list_gs):\n",
    "    ggs = []\n",
    "    for gg in list_gs:\n",
    "        splitted = gg.split(\", \")\n",
    "        for s in splitted:\n",
    "            ggs.append(s)\n",
    "    return ggs\n",
    "            \n",
    "df_genres[\"formatted_genres\"] = df_genres.apply(lambda r: format_genres(r[\"genres\"]), axis=1)\n",
    "df_genres.head(1)"
   ],
   "metadata": {
    "collapsed": false,
    "ExecuteTime": {
     "end_time": "2023-11-10T11:24:51.739602590Z",
     "start_time": "2023-11-10T11:24:38.420841315Z"
    }
   },
   "id": "245d94b0afa781a4"
  },
  {
   "cell_type": "code",
   "execution_count": 22,
   "outputs": [
    {
     "name": "stdout",
     "output_type": "stream",
     "text": [
      "16\n"
     ]
    }
   ],
   "source": [
    "genres = set()\n",
    "for g in df_genres[\"formatted_genres\"].values:\n",
    "    genres = genres.union(g)\n",
    "print(len(genres))"
   ],
   "metadata": {
    "collapsed": false,
    "ExecuteTime": {
     "end_time": "2023-11-10T11:24:53.110918437Z",
     "start_time": "2023-11-10T11:24:51.783322559Z"
    }
   },
   "id": "34097a65c98a98c7"
  },
  {
   "cell_type": "code",
   "execution_count": 23,
   "outputs": [
    {
     "name": "stdout",
     "output_type": "stream",
     "text": [
      "{'romance', 'children', 'fiction', 'history', 'young-adult', 'fantasy', 'crime', 'historical fiction', 'poetry', 'comics', 'thriller', 'biography', 'graphic', 'paranormal', 'non-fiction', 'mystery'}\n"
     ]
    }
   ],
   "source": [
    "print(genres)"
   ],
   "metadata": {
    "collapsed": false,
    "ExecuteTime": {
     "end_time": "2023-11-10T11:24:53.115785409Z",
     "start_time": "2023-11-10T11:24:53.110391719Z"
    }
   },
   "id": "8bdf4d8cb4c4038a"
  },
  {
   "cell_type": "code",
   "execution_count": 24,
   "outputs": [
    {
     "data": {
      "text/plain": "8558"
     },
     "execution_count": 24,
     "metadata": {},
     "output_type": "execute_result"
    }
   ],
   "source": [
    "df_genres = df_genres[df_genres[\"item_id\"].isin(remaining_items)]\n",
    "len(df_genres)"
   ],
   "metadata": {
    "collapsed": false,
    "ExecuteTime": {
     "end_time": "2023-11-10T11:24:53.196201505Z",
     "start_time": "2023-11-10T11:24:53.114768327Z"
    }
   },
   "id": "5c56233940458310"
  },
  {
   "cell_type": "code",
   "execution_count": 25,
   "outputs": [
    {
     "data": {
      "text/plain": "8558"
     },
     "execution_count": 25,
     "metadata": {},
     "output_type": "execute_result"
    }
   ],
   "source": [
    "df_genres.dropna(subset=\"genres\", axis=0, inplace=True)\n",
    "len(df_genres)"
   ],
   "metadata": {
    "collapsed": false,
    "ExecuteTime": {
     "end_time": "2023-11-10T11:24:53.196604192Z",
     "start_time": "2023-11-10T11:24:53.172944771Z"
    }
   },
   "id": "296f5969a792352c"
  },
  {
   "cell_type": "code",
   "execution_count": 26,
   "outputs": [
    {
     "data": {
      "text/plain": "8109"
     },
     "execution_count": 26,
     "metadata": {},
     "output_type": "execute_result"
    }
   ],
   "source": [
    "final_items = list(set(df_books[\"item_id\"]).intersection(df_genres[\"item_id\"]))\n",
    "len(final_items)"
   ],
   "metadata": {
    "collapsed": false,
    "ExecuteTime": {
     "end_time": "2023-11-10T11:24:53.352175387Z",
     "start_time": "2023-11-10T11:24:53.181546701Z"
    }
   },
   "id": "f001dbf8875dcad7"
  },
  {
   "cell_type": "code",
   "execution_count": 26,
   "outputs": [],
   "source": [],
   "metadata": {
    "collapsed": false,
    "ExecuteTime": {
     "end_time": "2023-11-10T11:24:53.352428659Z",
     "start_time": "2023-11-10T11:24:53.222815713Z"
    }
   },
   "id": "e3b52d8159fb5beb"
  },
  {
   "cell_type": "code",
   "execution_count": 27,
   "outputs": [
    {
     "data": {
      "text/plain": "False"
     },
     "execution_count": 27,
     "metadata": {},
     "output_type": "execute_result"
    }
   ],
   "source": [
    "# df_books and df_genres ARE NOT aligned!\n",
    "set(df_books[\"item_id\"]) == set(df_genres[\"item_id\"])"
   ],
   "metadata": {
    "collapsed": false,
    "ExecuteTime": {
     "end_time": "2023-11-10T11:24:53.352699280Z",
     "start_time": "2023-11-10T11:24:53.223057007Z"
    }
   },
   "id": "845f3f67a2a65989"
  },
  {
   "cell_type": "code",
   "execution_count": 28,
   "outputs": [],
   "source": [
    "df_books = df_books[df_books[\"item_id\"].isin(final_items)]\n",
    "df_genres = df_genres[df_genres[\"item_id\"].isin(final_items)]"
   ],
   "metadata": {
    "collapsed": false,
    "ExecuteTime": {
     "end_time": "2023-11-10T11:24:53.352821551Z",
     "start_time": "2023-11-10T11:24:53.223241441Z"
    }
   },
   "id": "13431cf4defd4454"
  },
  {
   "cell_type": "code",
   "execution_count": 29,
   "outputs": [
    {
     "data": {
      "text/plain": "True"
     },
     "execution_count": 29,
     "metadata": {},
     "output_type": "execute_result"
    }
   ],
   "source": [
    "# df_books and df_genres ARE aligned!\n",
    "set(df_books[\"item_id\"]) == set(df_genres[\"item_id\"])"
   ],
   "metadata": {
    "collapsed": false,
    "ExecuteTime": {
     "end_time": "2023-11-10T11:24:53.353078148Z",
     "start_time": "2023-11-10T11:24:53.223438126Z"
    }
   },
   "id": "2a0eac6cf9d15613"
  },
  {
   "cell_type": "code",
   "execution_count": 29,
   "outputs": [],
   "source": [],
   "metadata": {
    "collapsed": false,
    "ExecuteTime": {
     "end_time": "2023-11-10T11:24:53.354079764Z",
     "start_time": "2023-11-10T11:24:53.270700838Z"
    }
   },
   "id": "cc0886f855af7494"
  },
  {
   "cell_type": "code",
   "execution_count": 30,
   "outputs": [],
   "source": [
    "df_items = pd.merge(df_books, df_genres, on='item_id', how='outer')"
   ],
   "metadata": {
    "collapsed": false,
    "ExecuteTime": {
     "end_time": "2023-11-10T11:24:53.354421481Z",
     "start_time": "2023-11-10T11:24:53.270925324Z"
    }
   },
   "id": "251947d103608380"
  },
  {
   "cell_type": "code",
   "execution_count": 31,
   "outputs": [
    {
     "name": "stdout",
     "output_type": "stream",
     "text": [
      "(8109, 6)\n"
     ]
    },
    {
     "data": {
      "text/plain": "   item_id              title title_without_series  publication_year  \\\n0    89377  Penny from Heaven    Penny from Heaven            2006.0   \n\n                                              genres  \\\n0  [fiction, history, historical fiction, biograp...   \n\n                                    formatted_genres  \n0  [fiction, history, historical fiction, biograp...  ",
      "text/html": "<div>\n<style scoped>\n    .dataframe tbody tr th:only-of-type {\n        vertical-align: middle;\n    }\n\n    .dataframe tbody tr th {\n        vertical-align: top;\n    }\n\n    .dataframe thead th {\n        text-align: right;\n    }\n</style>\n<table border=\"1\" class=\"dataframe\">\n  <thead>\n    <tr style=\"text-align: right;\">\n      <th></th>\n      <th>item_id</th>\n      <th>title</th>\n      <th>title_without_series</th>\n      <th>publication_year</th>\n      <th>genres</th>\n      <th>formatted_genres</th>\n    </tr>\n  </thead>\n  <tbody>\n    <tr>\n      <th>0</th>\n      <td>89377</td>\n      <td>Penny from Heaven</td>\n      <td>Penny from Heaven</td>\n      <td>2006.0</td>\n      <td>[fiction, history, historical fiction, biograp...</td>\n      <td>[fiction, history, historical fiction, biograp...</td>\n    </tr>\n  </tbody>\n</table>\n</div>"
     },
     "execution_count": 31,
     "metadata": {},
     "output_type": "execute_result"
    }
   ],
   "source": [
    "print(df_items.shape)\n",
    "df_items.head(1)"
   ],
   "metadata": {
    "collapsed": false,
    "ExecuteTime": {
     "end_time": "2023-11-10T11:24:53.355612680Z",
     "start_time": "2023-11-10T11:24:53.271049690Z"
    }
   },
   "id": "8a1c59cb8526f9ee"
  },
  {
   "cell_type": "code",
   "execution_count": 32,
   "outputs": [],
   "source": [
    "df_items.drop(columns=[\"genres\"], inplace=True)"
   ],
   "metadata": {
    "collapsed": false,
    "ExecuteTime": {
     "end_time": "2023-11-10T11:25:11.045989725Z",
     "start_time": "2023-11-10T11:25:11.015567218Z"
    }
   },
   "id": "41a65d0a80b7f7e6"
  },
  {
   "cell_type": "code",
   "execution_count": 33,
   "outputs": [
    {
     "data": {
      "text/plain": "Index(['item_id', 'title', 'title_without_series', 'publication_year',\n       'genres'],\n      dtype='object')"
     },
     "execution_count": 33,
     "metadata": {},
     "output_type": "execute_result"
    }
   ],
   "source": [
    "df_items.rename(columns={\"formatted_genres\": \"genres\"}, inplace=True)\n",
    "df_items.columns"
   ],
   "metadata": {
    "collapsed": false,
    "ExecuteTime": {
     "end_time": "2023-11-10T11:25:11.938631268Z",
     "start_time": "2023-11-10T11:25:11.859807657Z"
    }
   },
   "id": "517520832c579543"
  },
  {
   "cell_type": "code",
   "execution_count": 34,
   "outputs": [
    {
     "data": {
      "text/plain": "Index(['item_id', 'title', 'title_without_series', 'publication_year',\n       'genres'],\n      dtype='object')"
     },
     "execution_count": 34,
     "metadata": {},
     "output_type": "execute_result"
    }
   ],
   "source": [
    "df_items.rename(columns={\"title_name\": \"item_name\"}, inplace=True)\n",
    "df_items.columns"
   ],
   "metadata": {
    "collapsed": false,
    "ExecuteTime": {
     "end_time": "2023-11-10T11:25:13.157440705Z",
     "start_time": "2023-11-10T11:25:13.092215385Z"
    }
   },
   "id": "6d4e83f1cc385f12"
  },
  {
   "cell_type": "markdown",
   "source": [
    "<h3>Craft the final datastet<h3>"
   ],
   "metadata": {
    "collapsed": false
   },
   "id": "5729228b03de7479"
  },
  {
   "cell_type": "code",
   "execution_count": 55,
   "outputs": [
    {
     "name": "stdout",
     "output_type": "stream",
     "text": [
      "# of ratings: 8452752\n",
      "# of users: 166481\n",
      "# of items: 8109\n"
     ]
    }
   ],
   "source": [
    "df_interactions = pandas_ratings[pandas_ratings[\"item_id\"].isin(df_items[\"item_id\"].values)]\n",
    "# remove users with less than 30 ratings\n",
    "to_keep = list(df_interactions['user_id'].value_counts()[lambda x: x >=30].index)\n",
    "df_interactions = df_interactions[df_interactions[\"user_id\"].isin(to_keep)]\n",
    "\n",
    "print(f\"# of ratings: {len(df_interactions)}\")\n",
    "print(f\"# of users: {len(df_interactions['user_id'].unique())}\")\n",
    "print(f\"# of items: {len(df_interactions['item_id'].unique())}\")"
   ],
   "metadata": {
    "collapsed": false,
    "ExecuteTime": {
     "end_time": "2023-11-10T11:30:24.439635072Z",
     "start_time": "2023-11-10T11:30:23.281453878Z"
    }
   },
   "id": "aec827cc50d62802"
  },
  {
   "cell_type": "code",
   "execution_count": 56,
   "outputs": [
    {
     "name": "stdout",
     "output_type": "stream",
     "text": [
      "16\n"
     ]
    }
   ],
   "source": [
    "genres = set()\n",
    "for g in df_items[\"genres\"].values:\n",
    "    genres = genres.union(g)\n",
    "print(len(genres))"
   ],
   "metadata": {
    "collapsed": false,
    "ExecuteTime": {
     "end_time": "2023-11-10T11:30:32.210780716Z",
     "start_time": "2023-11-10T11:30:32.154003359Z"
    }
   },
   "id": "eaad49e1af5368da"
  },
  {
   "cell_type": "code",
   "execution_count": 57,
   "outputs": [
    {
     "name": "stdout",
     "output_type": "stream",
     "text": [
      "{'romance', 'children', 'fiction', 'history', 'young-adult', 'fantasy', 'crime', 'historical fiction', 'poetry', 'comics', 'thriller', 'biography', 'graphic', 'non-fiction', 'paranormal', 'mystery'}\n"
     ]
    }
   ],
   "source": [
    "print(genres)"
   ],
   "metadata": {
    "collapsed": false,
    "ExecuteTime": {
     "end_time": "2023-11-10T11:30:35.150009874Z",
     "start_time": "2023-11-10T11:30:35.093198247Z"
    }
   },
   "id": "a968196547798d8e"
  },
  {
   "cell_type": "markdown",
   "source": [
    "DATASET STATISTICS:\n",
    "- 8M ratings\n",
    "- 8k items\n",
    "- 166k users\n",
    "- 50 ratings per user\n",
    "- 1042 ratings per item\n",
    "- 16 genres\n",
    "- 99.4% sparsity "
   ],
   "metadata": {
    "collapsed": false
   },
   "id": "74d6bcde45b542b5"
  },
  {
   "cell_type": "code",
   "execution_count": 58,
   "outputs": [],
   "source": [
    "out_dir = \"/home/diego/chat-reranking/experiments/goodreads/\""
   ],
   "metadata": {
    "collapsed": false,
    "ExecuteTime": {
     "end_time": "2023-11-10T11:30:41.449517385Z",
     "start_time": "2023-11-10T11:30:41.384662310Z"
    }
   },
   "id": "671e5cabe5ab6426"
  },
  {
   "cell_type": "code",
   "execution_count": 62,
   "outputs": [
    {
     "data": {
      "text/plain": "   item_id          item_name title_without_series  publication_year  \\\n0    89377  Penny from Heaven    Penny from Heaven            2006.0   \n\n                                              genres  \n0  [fiction, history, historical fiction, biograp...  ",
      "text/html": "<div>\n<style scoped>\n    .dataframe tbody tr th:only-of-type {\n        vertical-align: middle;\n    }\n\n    .dataframe tbody tr th {\n        vertical-align: top;\n    }\n\n    .dataframe thead th {\n        text-align: right;\n    }\n</style>\n<table border=\"1\" class=\"dataframe\">\n  <thead>\n    <tr style=\"text-align: right;\">\n      <th></th>\n      <th>item_id</th>\n      <th>item_name</th>\n      <th>title_without_series</th>\n      <th>publication_year</th>\n      <th>genres</th>\n    </tr>\n  </thead>\n  <tbody>\n    <tr>\n      <th>0</th>\n      <td>89377</td>\n      <td>Penny from Heaven</td>\n      <td>Penny from Heaven</td>\n      <td>2006.0</td>\n      <td>[fiction, history, historical fiction, biograp...</td>\n    </tr>\n  </tbody>\n</table>\n</div>"
     },
     "execution_count": 62,
     "metadata": {},
     "output_type": "execute_result"
    }
   ],
   "source": [
    "df_items.rename(columns={\"title\":\"item_name\"}, inplace=True)\n",
    "df_items.head(1)"
   ],
   "metadata": {
    "collapsed": false,
    "ExecuteTime": {
     "end_time": "2023-11-10T11:32:01.833532578Z",
     "start_time": "2023-11-10T11:32:01.792497745Z"
    }
   },
   "id": "1eba02ce82922584"
  },
  {
   "cell_type": "code",
   "execution_count": 63,
   "outputs": [],
   "source": [
    "df_items.to_csv(f\"{out_dir}df_items.csv\", sep=\",\", index=False)"
   ],
   "metadata": {
    "collapsed": false,
    "ExecuteTime": {
     "end_time": "2023-11-10T11:32:04.593513409Z",
     "start_time": "2023-11-10T11:32:04.496956209Z"
    }
   },
   "id": "825dd45b8e675da0"
  },
  {
   "cell_type": "code",
   "execution_count": 64,
   "outputs": [],
   "source": [
    "itemid_to_name = {}\n",
    "for i, n in zip(df_items[\"item_id\"].values, df_items[\"item_name\"].values):\n",
    "    itemid_to_name[i] = n\n",
    "itemname_to_id = {v: k for k, v in itemid_to_name.items()}\n",
    "with open(f\"{out_dir}itemid_to_name.pkl\", 'wb') as fp:\n",
    "    pickle.dump(itemid_to_name, fp)\n",
    "with open(f\"{out_dir}itemname_to_id.pkl\", 'wb') as fp:\n",
    "    pickle.dump(itemname_to_id, fp)"
   ],
   "metadata": {
    "collapsed": false,
    "ExecuteTime": {
     "end_time": "2023-11-10T11:32:05.927510420Z",
     "start_time": "2023-11-10T11:32:05.840064303Z"
    }
   },
   "id": "61d2c13702f25a7f"
  },
  {
   "cell_type": "code",
   "execution_count": 65,
   "outputs": [],
   "source": [
    "# prepare genres file\n",
    "out_string = \"\"\n",
    "for i, row in df_items.iterrows():\n",
    "    for genre in row[\"genres\"]:\n",
    "        if row['item_name'] in itemname_to_id:\n",
    "            out_string += f\"{itemname_to_id[row['item_name']]}\\t{genre}\\n\"\n",
    "        else:\n",
    "            print(row)\n",
    "\n",
    "with open(f\"{out_dir}genres_file.txt\", \"w\") as text_file:\n",
    "    text_file.write(out_string)"
   ],
   "metadata": {
    "collapsed": false,
    "ExecuteTime": {
     "end_time": "2023-11-10T11:32:07.709335235Z",
     "start_time": "2023-11-10T11:32:07.011243459Z"
    }
   },
   "id": "2417880cb48470c7"
  },
  {
   "cell_type": "code",
   "execution_count": 66,
   "outputs": [],
   "source": [
    "itemid_to_namegenres = {}\n",
    "itemnamegenres_to_id = {}\n",
    "for i, row in df_items.iterrows():\n",
    "    item_id = row[\"item_id\"]\n",
    "    genres_str = \"\"\n",
    "    item_name = row[\"item_name\"]\n",
    "    for g in row[\"genres\"]:\n",
    "        genres_str += f\"{g}, \"\n",
    "    itemid_to_namegenres[item_id] = f\"{item_name} ({genres_str[:-2]})\"\n",
    "    \n",
    "    # to convert item names to id, the dict accepts both names only or names with genres\n",
    "    itemnamegenres_to_id[f\"{item_name} ({genres_str[:-2]})\"] = item_id\n",
    "    itemnamegenres_to_id[item_name] = item_id"
   ],
   "metadata": {
    "collapsed": false,
    "ExecuteTime": {
     "end_time": "2023-11-10T11:32:09.120553274Z",
     "start_time": "2023-11-10T11:32:08.643149476Z"
    }
   },
   "id": "b364edfe3fecf7e1"
  },
  {
   "cell_type": "code",
   "execution_count": 67,
   "outputs": [],
   "source": [
    "with open(f\"{out_dir}itemid_to_namegenres.pkl\", 'wb') as fp:\n",
    "    pickle.dump(itemid_to_namegenres, fp)\n",
    "with open(f\"{out_dir}itemnamegenres_to_id.pkl\", 'wb') as fp:\n",
    "    pickle.dump(itemnamegenres_to_id, fp)"
   ],
   "metadata": {
    "collapsed": false,
    "ExecuteTime": {
     "end_time": "2023-11-10T11:32:10.097172250Z",
     "start_time": "2023-11-10T11:32:10.069327261Z"
    }
   },
   "id": "4d6b943223defac6"
  },
  {
   "cell_type": "code",
   "execution_count": 64,
   "outputs": [],
   "source": [],
   "metadata": {
    "collapsed": false,
    "ExecuteTime": {
     "end_time": "2023-11-06T15:54:09.494040777Z",
     "start_time": "2023-11-06T15:54:09.402266272Z"
    }
   },
   "id": "3f9ea89a2586df5"
  },
  {
   "cell_type": "code",
   "execution_count": 68,
   "outputs": [],
   "source": [
    "out_dir = \"/home/diego/chat-reranking/dataset/goodreads/\""
   ],
   "metadata": {
    "collapsed": false,
    "ExecuteTime": {
     "end_time": "2023-11-10T11:56:00.537334288Z",
     "start_time": "2023-11-10T11:56:00.489005944Z"
    }
   },
   "id": "d7b266dc98e94e9f"
  },
  {
   "cell_type": "code",
   "execution_count": 69,
   "outputs": [],
   "source": [
    "df_interactions.to_csv(f\"{out_dir}ratings8M.csv\", index=False)"
   ],
   "metadata": {
    "collapsed": false,
    "ExecuteTime": {
     "end_time": "2023-11-10T11:56:09.550312366Z",
     "start_time": "2023-11-10T11:56:00.853414124Z"
    }
   },
   "id": "88595633486ea386"
  },
  {
   "cell_type": "code",
   "execution_count": null,
   "outputs": [],
   "source": [],
   "metadata": {
    "collapsed": false
   },
   "id": "98a2a67c71be954f"
  },
  {
   "cell_type": "code",
   "execution_count": null,
   "outputs": [],
   "source": [],
   "metadata": {
    "collapsed": false
   },
   "id": "7ee789040da7fc92"
  },
  {
   "cell_type": "code",
   "execution_count": null,
   "outputs": [],
   "source": [],
   "metadata": {
    "collapsed": false
   },
   "id": "f3ea8f120c116fd1"
  },
  {
   "cell_type": "code",
   "execution_count": null,
   "outputs": [],
   "source": [],
   "metadata": {
    "collapsed": false
   },
   "id": "9f9a3c3da89192a6"
  },
  {
   "cell_type": "code",
   "execution_count": null,
   "outputs": [],
   "source": [],
   "metadata": {
    "collapsed": false
   },
   "id": "b05a26f0dc40a0d2"
  },
  {
   "cell_type": "code",
   "execution_count": null,
   "outputs": [],
   "source": [],
   "metadata": {
    "collapsed": false
   },
   "id": "e79ca94c3744034b"
  },
  {
   "cell_type": "code",
   "execution_count": null,
   "outputs": [],
   "source": [],
   "metadata": {
    "collapsed": false
   },
   "id": "c36d037669e6f3c"
  },
  {
   "cell_type": "code",
   "execution_count": 3,
   "outputs": [
    {
     "data": {
      "text/plain": "   item_id          item_name title_without_series  publication_year  \\\n0    89377  Penny from Heaven    Penny from Heaven            2006.0   \n\n                                              genres  \n0  ['fiction', 'history', 'historical fiction', '...  ",
      "text/html": "<div>\n<style scoped>\n    .dataframe tbody tr th:only-of-type {\n        vertical-align: middle;\n    }\n\n    .dataframe tbody tr th {\n        vertical-align: top;\n    }\n\n    .dataframe thead th {\n        text-align: right;\n    }\n</style>\n<table border=\"1\" class=\"dataframe\">\n  <thead>\n    <tr style=\"text-align: right;\">\n      <th></th>\n      <th>item_id</th>\n      <th>item_name</th>\n      <th>title_without_series</th>\n      <th>publication_year</th>\n      <th>genres</th>\n    </tr>\n  </thead>\n  <tbody>\n    <tr>\n      <th>0</th>\n      <td>89377</td>\n      <td>Penny from Heaven</td>\n      <td>Penny from Heaven</td>\n      <td>2006.0</td>\n      <td>['fiction', 'history', 'historical fiction', '...</td>\n    </tr>\n  </tbody>\n</table>\n</div>"
     },
     "execution_count": 3,
     "metadata": {},
     "output_type": "execute_result"
    }
   ],
   "source": [
    "import pandas as pd\n",
    "df_items = pd.read_csv(\"/home/diego/chat-reranking/experiments/goodreads/df_items.csv\")\n",
    "df_items.head(1)"
   ],
   "metadata": {
    "collapsed": false,
    "ExecuteTime": {
     "end_time": "2023-11-10T11:04:35.814179074Z",
     "start_time": "2023-11-10T11:04:35.457374036Z"
    }
   },
   "id": "3069384f2fae03ee"
  },
  {
   "cell_type": "code",
   "execution_count": 4,
   "outputs": [
    {
     "data": {
      "text/plain": "      item_id         item_name title_without_series  publication_year  \\\n7979      536  The Lovely Bones     The Lovely Bones            2006.0   \n\n                                                 genres  \n7979  ['fiction', 'mystery', 'thriller', 'crime', 'y...  ",
      "text/html": "<div>\n<style scoped>\n    .dataframe tbody tr th:only-of-type {\n        vertical-align: middle;\n    }\n\n    .dataframe tbody tr th {\n        vertical-align: top;\n    }\n\n    .dataframe thead th {\n        text-align: right;\n    }\n</style>\n<table border=\"1\" class=\"dataframe\">\n  <thead>\n    <tr style=\"text-align: right;\">\n      <th></th>\n      <th>item_id</th>\n      <th>item_name</th>\n      <th>title_without_series</th>\n      <th>publication_year</th>\n      <th>genres</th>\n    </tr>\n  </thead>\n  <tbody>\n    <tr>\n      <th>7979</th>\n      <td>536</td>\n      <td>The Lovely Bones</td>\n      <td>The Lovely Bones</td>\n      <td>2006.0</td>\n      <td>['fiction', 'mystery', 'thriller', 'crime', 'y...</td>\n    </tr>\n  </tbody>\n</table>\n</div>"
     },
     "execution_count": 4,
     "metadata": {},
     "output_type": "execute_result"
    }
   ],
   "source": [
    "df_items[df_items[\"item_id\"] == 536]"
   ],
   "metadata": {
    "collapsed": false,
    "ExecuteTime": {
     "end_time": "2023-11-10T11:05:06.560920631Z",
     "start_time": "2023-11-10T11:05:06.451272860Z"
    }
   },
   "id": "341d155a9ea1ef0"
  },
  {
   "cell_type": "code",
   "execution_count": 5,
   "outputs": [
    {
     "data": {
      "text/plain": "7979    ['fiction', 'mystery', 'thriller', 'crime', 'y...\nName: genres, dtype: object"
     },
     "execution_count": 5,
     "metadata": {},
     "output_type": "execute_result"
    }
   ],
   "source": [
    "df_items[df_items[\"item_id\"] == 536][\"genres\"]"
   ],
   "metadata": {
    "collapsed": false,
    "ExecuteTime": {
     "end_time": "2023-11-10T11:05:28.923967088Z",
     "start_time": "2023-11-10T11:05:28.849962899Z"
    }
   },
   "id": "e193e3079d4ab14d"
  },
  {
   "cell_type": "code",
   "execution_count": 7,
   "outputs": [
    {
     "name": "stdout",
     "output_type": "stream",
     "text": [
      "8558\n",
      "8558\n"
     ]
    }
   ],
   "source": [
    "print(len(df_items))\n",
    "df_items.drop_duplicates(subset=\"item_id\", inplace=True)\n",
    "print(len(df_items))"
   ],
   "metadata": {
    "collapsed": false,
    "ExecuteTime": {
     "end_time": "2023-11-10T11:12:54.283793220Z",
     "start_time": "2023-11-10T11:12:54.253380966Z"
    }
   },
   "id": "f5bf653bc3afd9be"
  },
  {
   "cell_type": "code",
   "execution_count": 8,
   "outputs": [
    {
     "name": "stdout",
     "output_type": "stream",
     "text": [
      "8558\n",
      "8111\n"
     ]
    }
   ],
   "source": [
    "print(len(df_items))\n",
    "df_items.drop_duplicates(subset=\"item_name\", inplace=True)\n",
    "print(len(df_items))"
   ],
   "metadata": {
    "collapsed": false,
    "ExecuteTime": {
     "end_time": "2023-11-10T11:13:12.359026229Z",
     "start_time": "2023-11-10T11:13:12.297551825Z"
    }
   },
   "id": "e7008a26ade31a7"
  },
  {
   "cell_type": "code",
   "execution_count": null,
   "outputs": [],
   "source": [],
   "metadata": {
    "collapsed": false
   },
   "id": "b91d194dae7c661e"
  }
 ],
 "metadata": {
  "kernelspec": {
   "display_name": "Python 3",
   "language": "python",
   "name": "python3"
  },
  "language_info": {
   "codemirror_mode": {
    "name": "ipython",
    "version": 2
   },
   "file_extension": ".py",
   "mimetype": "text/x-python",
   "name": "python",
   "nbconvert_exporter": "python",
   "pygments_lexer": "ipython2",
   "version": "2.7.6"
  }
 },
 "nbformat": 4,
 "nbformat_minor": 5
}
