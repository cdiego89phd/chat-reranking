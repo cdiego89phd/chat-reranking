{
 "cells": [
  {
   "cell_type": "markdown",
   "source": [
    "<h1>Goodereads<h1>\n",
    "\n",
    "The dataset has\n",
    "- 228M ratings\n",
    "- 0.8M users\n",
    "- 2.3M items\n",
    "- Genres about books (genre tags are extracted from users' popular shelves by a simple keyword matching process)"
   ],
   "metadata": {
    "collapsed": false
   },
   "id": "3284b3acf20536d6"
  },
  {
   "cell_type": "code",
   "execution_count": 172,
   "outputs": [],
   "source": [
    "import pandas as pd\n",
    "from dask import dataframe as dd\n",
    "import time\n",
    "import pickle\n",
    "import numpy as np"
   ],
   "metadata": {
    "collapsed": false,
    "ExecuteTime": {
     "end_time": "2023-11-07T17:03:49.821389051Z",
     "start_time": "2023-11-07T17:03:49.782654702Z"
    }
   },
   "id": "initial_id"
  },
  {
   "cell_type": "code",
   "execution_count": 3,
   "outputs": [],
   "source": [],
   "metadata": {
    "collapsed": false,
    "ExecuteTime": {
     "end_time": "2023-11-06T17:13:55.076607325Z",
     "start_time": "2023-11-06T17:13:55.009287790Z"
    }
   },
   "id": "64a523a8d163d4b3"
  },
  {
   "cell_type": "markdown",
   "source": [
    "<h3>Exploring ratings first<h3>"
   ],
   "metadata": {
    "collapsed": false
   },
   "id": "d21a57caf2367a11"
  },
  {
   "cell_type": "code",
   "execution_count": 33,
   "outputs": [
    {
     "name": "stdout",
     "output_type": "stream",
     "text": [
      "Read csv with dask: 0.015227317810058594 sec\n"
     ]
    }
   ],
   "source": [
    "start = time.time()\n",
    "df_ratings = dd.read_csv(\"/home/diego/chat-reranking/dataset/goodreads/goodreads_interactions.csv\")\n",
    "end = time.time()\n",
    "print(f\"Read csv with dask: {end-start} sec\")"
   ],
   "metadata": {
    "collapsed": false,
    "ExecuteTime": {
     "end_time": "2023-11-07T09:17:06.184742136Z",
     "start_time": "2023-11-07T09:17:06.130454077Z"
    }
   },
   "id": "a03fd5679c59df73"
  },
  {
   "cell_type": "code",
   "execution_count": 34,
   "outputs": [
    {
     "name": "stdout",
     "output_type": "stream",
     "text": [
      "Index(['user_id', 'book_id', 'is_read', 'rating', 'is_reviewed'], dtype='object')\n",
      "228648342\n"
     ]
    }
   ],
   "source": [
    "print(df_ratings.columns)\n",
    "print(len(df_ratings))"
   ],
   "metadata": {
    "collapsed": false,
    "ExecuteTime": {
     "end_time": "2023-11-07T09:17:19.799256391Z",
     "start_time": "2023-11-07T09:17:06.622105011Z"
    }
   },
   "id": "7c7b2abff690b801"
  },
  {
   "cell_type": "code",
   "execution_count": 35,
   "outputs": [
    {
     "name": "stdout",
     "output_type": "stream",
     "text": [
      "Index(['user_id', 'item_id', 'is_read', 'rating', 'is_reviewed'], dtype='object')\n"
     ]
    }
   ],
   "source": [
    "df_ratings = df_ratings.rename(columns={\"book_id\": \"item_id\"})\n",
    "print(df_ratings.columns)"
   ],
   "metadata": {
    "collapsed": false,
    "ExecuteTime": {
     "end_time": "2023-11-07T09:17:19.889943263Z",
     "start_time": "2023-11-07T09:17:19.801868291Z"
    }
   },
   "id": "ae6833f7446f605d"
  },
  {
   "cell_type": "code",
   "execution_count": 36,
   "outputs": [
    {
     "name": "stdout",
     "output_type": "stream",
     "text": [
      "Index(['user_id', 'item_id', 'rating'], dtype='object')\n"
     ]
    }
   ],
   "source": [
    "df_ratings = df_ratings[['user_id', 'item_id', 'rating']]\n",
    "print(df_ratings.columns)"
   ],
   "metadata": {
    "collapsed": false,
    "ExecuteTime": {
     "end_time": "2023-11-07T09:17:19.890349717Z",
     "start_time": "2023-11-07T09:17:19.805132379Z"
    }
   },
   "id": "fe4d1c1aeb32d49f"
  },
  {
   "cell_type": "code",
   "execution_count": 37,
   "outputs": [
    {
     "data": {
      "text/plain": "104551549"
     },
     "execution_count": 37,
     "metadata": {},
     "output_type": "execute_result"
    }
   ],
   "source": [
    "df_ratings = df_ratings[df_ratings[\"rating\"] != 0]\n",
    "len(df_ratings)"
   ],
   "metadata": {
    "collapsed": false,
    "ExecuteTime": {
     "end_time": "2023-11-07T09:17:42.536060873Z",
     "start_time": "2023-11-07T09:17:19.858338777Z"
    }
   },
   "id": "91a9f267ba701e2a"
  },
  {
   "cell_type": "code",
   "execution_count": 38,
   "outputs": [
    {
     "data": {
      "text/plain": "2325541"
     },
     "execution_count": 38,
     "metadata": {},
     "output_type": "execute_result"
    }
   ],
   "source": [
    "len(df_ratings[\"item_id\"].unique())"
   ],
   "metadata": {
    "collapsed": false,
    "ExecuteTime": {
     "end_time": "2023-11-07T09:18:05.218198606Z",
     "start_time": "2023-11-07T09:17:42.541702294Z"
    }
   },
   "id": "830f7cef35b3d3de"
  },
  {
   "cell_type": "code",
   "execution_count": 39,
   "outputs": [
    {
     "data": {
      "text/plain": "816371"
     },
     "execution_count": 39,
     "metadata": {},
     "output_type": "execute_result"
    }
   ],
   "source": [
    "len(df_ratings[\"user_id\"].unique())"
   ],
   "metadata": {
    "collapsed": false,
    "ExecuteTime": {
     "end_time": "2023-11-07T09:18:25.895185707Z",
     "start_time": "2023-11-07T09:18:05.092023585Z"
    }
   },
   "id": "be5c527d52940887"
  },
  {
   "cell_type": "code",
   "execution_count": 40,
   "outputs": [],
   "source": [
    "upper_bound = 300\n",
    "lower_bound = 70\n",
    "to_keep = list(df_ratings['user_id'].value_counts()[lambda x: (x>lower_bound) & (x<upper_bound)].index)"
   ],
   "metadata": {
    "collapsed": false,
    "ExecuteTime": {
     "end_time": "2023-11-07T09:19:28.892282600Z",
     "start_time": "2023-11-07T09:18:25.907904459Z"
    }
   },
   "id": "a19f500c857e1fa8"
  },
  {
   "cell_type": "code",
   "execution_count": 41,
   "outputs": [
    {
     "data": {
      "text/plain": "39048860"
     },
     "execution_count": 41,
     "metadata": {},
     "output_type": "execute_result"
    }
   ],
   "source": [
    "df_ratings = df_ratings[df_ratings[\"user_id\"].isin(to_keep)]\n",
    "len(df_ratings)"
   ],
   "metadata": {
    "collapsed": false,
    "ExecuteTime": {
     "end_time": "2023-11-07T09:19:53.880826783Z",
     "start_time": "2023-11-07T09:19:28.842448620Z"
    }
   },
   "id": "8dd6d2e9bf3694d3"
  },
  {
   "cell_type": "code",
   "execution_count": 42,
   "outputs": [
    {
     "data": {
      "text/plain": "266891"
     },
     "execution_count": 42,
     "metadata": {},
     "output_type": "execute_result"
    }
   ],
   "source": [
    "len(df_ratings[\"user_id\"].unique())"
   ],
   "metadata": {
    "collapsed": false,
    "ExecuteTime": {
     "end_time": "2023-11-07T09:20:17.113981975Z",
     "start_time": "2023-11-07T09:19:53.754916614Z"
    }
   },
   "id": "29f43cbbdb12dac8"
  },
  {
   "cell_type": "code",
   "execution_count": 43,
   "outputs": [
    {
     "data": {
      "text/plain": "1593470"
     },
     "execution_count": 43,
     "metadata": {},
     "output_type": "execute_result"
    }
   ],
   "source": [
    "len(df_ratings[\"item_id\"].unique())"
   ],
   "metadata": {
    "collapsed": false,
    "ExecuteTime": {
     "end_time": "2023-11-07T09:20:42.372131396Z",
     "start_time": "2023-11-07T09:20:17.121685239Z"
    }
   },
   "id": "29daa4e550266124"
  },
  {
   "cell_type": "code",
   "execution_count": 44,
   "outputs": [
    {
     "data": {
      "text/plain": "pandas.core.frame.DataFrame"
     },
     "execution_count": 44,
     "metadata": {},
     "output_type": "execute_result"
    }
   ],
   "source": [
    "pandas_ratings = df_ratings.compute()\n",
    "type(pandas_ratings)"
   ],
   "metadata": {
    "collapsed": false,
    "ExecuteTime": {
     "end_time": "2023-11-07T09:21:07.220844184Z",
     "start_time": "2023-11-07T09:20:42.377922327Z"
    }
   },
   "id": "aeeff10728690e55"
  },
  {
   "cell_type": "code",
   "execution_count": 45,
   "outputs": [],
   "source": [
    "grouped_items = pandas_ratings.groupby(\"item_id\")[\"item_id\"].count()"
   ],
   "metadata": {
    "collapsed": false,
    "ExecuteTime": {
     "end_time": "2023-11-07T09:21:08.436011162Z",
     "start_time": "2023-11-07T09:21:07.223462079Z"
    }
   },
   "id": "1bf49dc98486e3d0"
  },
  {
   "cell_type": "code",
   "execution_count": 46,
   "outputs": [
    {
     "data": {
      "text/plain": "25489453"
     },
     "execution_count": 46,
     "metadata": {},
     "output_type": "execute_result"
    }
   ],
   "source": [
    "# check how many ratings you keep by filtering out unpopular items\n",
    "np.sum(grouped_items.sort_values(ascending=False)[:20000].values)"
   ],
   "metadata": {
    "collapsed": false,
    "ExecuteTime": {
     "end_time": "2023-11-07T09:21:08.545297586Z",
     "start_time": "2023-11-07T09:21:08.408948930Z"
    }
   },
   "id": "b1c39fcd4fbebf9d"
  },
  {
   "cell_type": "code",
   "execution_count": 47,
   "outputs": [
    {
     "data": {
      "text/plain": "20000"
     },
     "execution_count": 47,
     "metadata": {},
     "output_type": "execute_result"
    }
   ],
   "source": [
    "remaining_items = grouped_items.sort_values(ascending=False)[:20000].index\n",
    "len(remaining_items)"
   ],
   "metadata": {
    "collapsed": false,
    "ExecuteTime": {
     "end_time": "2023-11-07T09:21:08.637765600Z",
     "start_time": "2023-11-07T09:21:08.511853700Z"
    }
   },
   "id": "c538670e9303f71c"
  },
  {
   "cell_type": "code",
   "execution_count": 48,
   "outputs": [
    {
     "data": {
      "text/plain": "25489453"
     },
     "execution_count": 48,
     "metadata": {},
     "output_type": "execute_result"
    }
   ],
   "source": [
    "pandas_ratings = pandas_ratings[pandas_ratings[\"item_id\"].isin(remaining_items)]\n",
    "len(pandas_ratings)"
   ],
   "metadata": {
    "collapsed": false,
    "ExecuteTime": {
     "end_time": "2023-11-07T09:21:09.688809371Z",
     "start_time": "2023-11-07T09:21:08.612854961Z"
    }
   },
   "id": "ed9ab462c87297cb"
  },
  {
   "cell_type": "code",
   "execution_count": 49,
   "outputs": [
    {
     "data": {
      "text/plain": "266561"
     },
     "execution_count": 49,
     "metadata": {},
     "output_type": "execute_result"
    }
   ],
   "source": [
    "len(pandas_ratings[\"user_id\"].unique())"
   ],
   "metadata": {
    "collapsed": false,
    "ExecuteTime": {
     "end_time": "2023-11-07T09:21:09.800260759Z",
     "start_time": "2023-11-07T09:21:09.689637741Z"
    }
   },
   "id": "559fc6c6303b0a2f"
  },
  {
   "cell_type": "code",
   "execution_count": 21,
   "outputs": [],
   "source": [
    "# random.seed(895)\n",
    "# n_to_sample = 300000\n",
    "# users = random.sample(list(df_ratings['user_id'].unique()), n_to_sample)"
   ],
   "metadata": {
    "collapsed": false,
    "ExecuteTime": {
     "end_time": "2023-11-06T17:17:55.850733357Z",
     "start_time": "2023-11-06T17:17:55.754493489Z"
    }
   },
   "id": "a894d64327eece80"
  },
  {
   "cell_type": "code",
   "execution_count": 22,
   "outputs": [],
   "source": [
    "# df_ratings = df_ratings[df_ratings[\"user_id\"].isin(users)]\n",
    "# len(df_ratings)"
   ],
   "metadata": {
    "collapsed": false,
    "ExecuteTime": {
     "end_time": "2023-11-06T17:17:55.850828565Z",
     "start_time": "2023-11-06T17:17:55.758951551Z"
    }
   },
   "id": "9af818a649d2a64e"
  },
  {
   "cell_type": "code",
   "execution_count": 50,
   "outputs": [
    {
     "data": {
      "text/plain": "rating\n5    0.379890\n4    0.350483\n3    0.197756\n2    0.052855\n1    0.019016\nName: proportion, dtype: float64"
     },
     "execution_count": 50,
     "metadata": {},
     "output_type": "execute_result"
    }
   ],
   "source": [
    "pandas_ratings['rating'].value_counts(normalize=True)"
   ],
   "metadata": {
    "collapsed": false,
    "ExecuteTime": {
     "end_time": "2023-11-07T09:22:12.988969589Z",
     "start_time": "2023-11-07T09:22:12.946728337Z"
    }
   },
   "id": "5172ae5023446d7b"
  },
  {
   "cell_type": "markdown",
   "source": [
    "Around 28% of the ratings are negative. Now the dataset is around 18M"
   ],
   "metadata": {
    "collapsed": false
   },
   "id": "df6c82146d75f623"
  },
  {
   "cell_type": "code",
   "execution_count": 51,
   "outputs": [],
   "source": [
    "df_remaining = pd.DataFrame(data={\"item_id\": remaining_items})\n",
    "df_remaining.to_csv(\"/home/diego/chat-reranking/dataset/goodreads/remaining_items.csv\", index=False)"
   ],
   "metadata": {
    "collapsed": false,
    "ExecuteTime": {
     "end_time": "2023-11-07T09:22:25.513776918Z",
     "start_time": "2023-11-07T09:22:25.432396557Z"
    }
   },
   "id": "14da533d35083c5d"
  },
  {
   "cell_type": "code",
   "execution_count": 52,
   "outputs": [
    {
     "data": {
      "text/plain": "   item_id\n0      943",
      "text/html": "<div>\n<style scoped>\n    .dataframe tbody tr th:only-of-type {\n        vertical-align: middle;\n    }\n\n    .dataframe tbody tr th {\n        vertical-align: top;\n    }\n\n    .dataframe thead th {\n        text-align: right;\n    }\n</style>\n<table border=\"1\" class=\"dataframe\">\n  <thead>\n    <tr style=\"text-align: right;\">\n      <th></th>\n      <th>item_id</th>\n    </tr>\n  </thead>\n  <tbody>\n    <tr>\n      <th>0</th>\n      <td>943</td>\n    </tr>\n  </tbody>\n</table>\n</div>"
     },
     "execution_count": 52,
     "metadata": {},
     "output_type": "execute_result"
    }
   ],
   "source": [
    "df_remaining = pd.read_csv(\"/home/diego/chat-reranking/dataset/goodreads/remaining_items.csv\")\n",
    "df_remaining.head(1)"
   ],
   "metadata": {
    "collapsed": false,
    "ExecuteTime": {
     "end_time": "2023-11-07T09:22:27.990869854Z",
     "start_time": "2023-11-07T09:22:27.902877632Z"
    }
   },
   "id": "1692bf1d21f8f538"
  },
  {
   "cell_type": "code",
   "execution_count": null,
   "outputs": [],
   "source": [],
   "metadata": {
    "collapsed": false
   },
   "id": "5441aeccb9a3b347"
  },
  {
   "cell_type": "markdown",
   "source": [
    "<h3>Exploring books' titles<h3>"
   ],
   "metadata": {
    "collapsed": false
   },
   "id": "2e81b715ea0791a1"
  },
  {
   "cell_type": "code",
   "execution_count": 56,
   "outputs": [],
   "source": [
    "# import gzip\n",
    "# import datetime\n",
    "# import json\n",
    "# \n",
    "# remaining_items = pd.read_csv(\"/home/diego/chat-reranking/dataset/goodreads/remaining_items.csv\")[\"item_id\"].values\n",
    "# print(f\"# of remaining items: {len(remaining_items)}\")\n",
    "# books = {\"item_id\": [], \"title\": [], \"title_without_series\": [], \"publication_year\": []}\n",
    "# counter = 0\n",
    "# with gzip.open(\"/home/diego/chat-reranking/dataset/goodreads/goodreads_books.json.gz\", 'r') as f:\n",
    "#     while True:\n",
    "#         counter += 1\n",
    "#         if counter % 100000 == 0:\n",
    "#             # print(f\"{print(datetime.datetime.now())}: line {counter}\")\n",
    "#             print(f\"len of dict: {len(books['item_id'])}\")\n",
    "#         line = f.readline()\n",
    "#         if not line:\n",
    "#             break\n",
    "#         try:\n",
    "#             parsed_line = json.loads(line)\n",
    "#             book_id = int(parsed_line[\"book_id\"])\n",
    "#             if book_id in remaining_items:\n",
    "#                 books[\"item_id\"].append(book_id)\n",
    "# \n",
    "#                 title, title_no_series, year = None, None, None\n",
    "#                 if parsed_line[\"title\"]:\n",
    "#                     title = parsed_line[\"title\"]\n",
    "#                 if parsed_line[\"title_without_series\"]:\n",
    "#                     title_no_series = parsed_line[\"title_without_series\"]\n",
    "#                 if parsed_line[\"publication_year\"]:\n",
    "#                     year = parsed_line[\"publication_year\"]\n",
    "#                 books[\"title\"].append(title)\n",
    "#                 books[\"title_without_series\"].append(title_no_series)\n",
    "#                 books[\"publication_year\"].append(year)\n",
    "# \n",
    "#         except Exception:\n",
    "#             print(\"exxxx\")\n",
    "#             books[\"item_id\"].append(None)\n",
    "#             books[\"title\"].append(None)\n",
    "#             books[\"title_without_series\"].append(None)\n",
    "#             books[\"publication_year\"].append(None)\n",
    "#             continue\n",
    "# \n",
    "# df_books = pd.DataFrame.from_dict(books)\n",
    "# df_books.to_csv(\"/home/diego/chat-reranking/dataset/goodreads/filtered_books.json.gz\", index=False, compression='gzip')\n",
    "# print(datetime.datetime.now())"
   ],
   "metadata": {
    "collapsed": false,
    "ExecuteTime": {
     "end_time": "2023-11-07T10:32:37.578923255Z",
     "start_time": "2023-11-07T10:32:37.509674791Z"
    }
   },
   "id": "b513cd16adb633a6"
  },
  {
   "cell_type": "code",
   "execution_count": 110,
   "outputs": [
    {
     "name": "stdout",
     "output_type": "stream",
     "text": [
      "Len of df 8799\n"
     ]
    },
    {
     "data": {
      "text/plain": "   item_id              title title_without_series  publication_year\n0    89377  Penny from Heaven    Penny from Heaven            2006.0",
      "text/html": "<div>\n<style scoped>\n    .dataframe tbody tr th:only-of-type {\n        vertical-align: middle;\n    }\n\n    .dataframe tbody tr th {\n        vertical-align: top;\n    }\n\n    .dataframe thead th {\n        text-align: right;\n    }\n</style>\n<table border=\"1\" class=\"dataframe\">\n  <thead>\n    <tr style=\"text-align: right;\">\n      <th></th>\n      <th>item_id</th>\n      <th>title</th>\n      <th>title_without_series</th>\n      <th>publication_year</th>\n    </tr>\n  </thead>\n  <tbody>\n    <tr>\n      <th>0</th>\n      <td>89377</td>\n      <td>Penny from Heaven</td>\n      <td>Penny from Heaven</td>\n      <td>2006.0</td>\n    </tr>\n  </tbody>\n</table>\n</div>"
     },
     "execution_count": 110,
     "metadata": {},
     "output_type": "execute_result"
    }
   ],
   "source": [
    "df_books = pd.read_csv(\"/home/diego/chat-reranking/dataset/goodreads/filtered_books.csv\")\n",
    "print(f\"Len of df {len(df_books)}\")\n",
    "df_books.head(1)"
   ],
   "metadata": {
    "collapsed": false,
    "ExecuteTime": {
     "end_time": "2023-11-07T12:51:03.659859974Z",
     "start_time": "2023-11-07T12:51:03.609977226Z"
    }
   },
   "id": "346a5134711e8fc5"
  },
  {
   "cell_type": "code",
   "execution_count": 111,
   "outputs": [
    {
     "name": "stdout",
     "output_type": "stream",
     "text": [
      "Len of df 8799\n"
     ]
    }
   ],
   "source": [
    "df_books.drop_duplicates(inplace=True)\n",
    "df_books.drop_duplicates(subset=\"item_id\", inplace=True)\n",
    "print(f\"Len of df {len(df_books)}\")"
   ],
   "metadata": {
    "collapsed": false,
    "ExecuteTime": {
     "end_time": "2023-11-07T12:51:05.081322435Z",
     "start_time": "2023-11-07T12:51:05.036309041Z"
    }
   },
   "id": "7837dd677762e253"
  },
  {
   "cell_type": "code",
   "execution_count": 112,
   "outputs": [
    {
     "name": "stdout",
     "output_type": "stream",
     "text": [
      "Len of df 8799\n"
     ]
    }
   ],
   "source": [
    "# drop any book with no title\n",
    "df_books.dropna(subset=\"title\", inplace=True)\n",
    "print(f\"Len of df {len(df_books)}\")"
   ],
   "metadata": {
    "collapsed": false,
    "ExecuteTime": {
     "end_time": "2023-11-07T12:51:05.854190164Z",
     "start_time": "2023-11-07T12:51:05.826509904Z"
    }
   },
   "id": "85f2aabb5d6c56e4"
  },
  {
   "cell_type": "code",
   "execution_count": 113,
   "outputs": [
    {
     "name": "stdout",
     "output_type": "stream",
     "text": [
      "Most recent year of publication: 2017.0\n"
     ]
    }
   ],
   "source": [
    "print(f\"Most recent year of publication: {max(df_books['publication_year'].values)}\")"
   ],
   "metadata": {
    "collapsed": false,
    "ExecuteTime": {
     "end_time": "2023-11-07T12:51:06.532455027Z",
     "start_time": "2023-11-07T12:51:06.500613209Z"
    }
   },
   "id": "9f56b7e4d5eaa28b"
  },
  {
   "cell_type": "code",
   "execution_count": 113,
   "outputs": [],
   "source": [],
   "metadata": {
    "collapsed": false,
    "ExecuteTime": {
     "end_time": "2023-11-07T12:51:07.195983990Z",
     "start_time": "2023-11-07T12:51:07.167914452Z"
    }
   },
   "id": "a514c4027e3ba7b8"
  },
  {
   "cell_type": "markdown",
   "source": [
    "<h3>Exploring books genres <h3>"
   ],
   "metadata": {
    "collapsed": false
   },
   "id": "5ccee04d2ca9f68"
  },
  {
   "cell_type": "code",
   "execution_count": 149,
   "outputs": [],
   "source": [
    "df_genres = dd.read_json(\"/home/diego/chat-reranking/dataset/goodreads/goodreads_book_genres_initial.json\")\n",
    "df_genres = df_genres.rename(columns={\"book_id\": \"item_id\"}).compute()"
   ],
   "metadata": {
    "collapsed": false,
    "ExecuteTime": {
     "end_time": "2023-11-07T16:29:50.432642674Z",
     "start_time": "2023-11-07T16:29:30.082610442Z"
    }
   },
   "id": "c3c7123a309cde29"
  },
  {
   "cell_type": "code",
   "execution_count": 150,
   "outputs": [
    {
     "name": "stdout",
     "output_type": "stream",
     "text": [
      "2360655\n"
     ]
    },
    {
     "data": {
      "text/plain": "   item_id                                         genres\n0  5333265  {'history, historical fiction, biography': 1}",
      "text/html": "<div>\n<style scoped>\n    .dataframe tbody tr th:only-of-type {\n        vertical-align: middle;\n    }\n\n    .dataframe tbody tr th {\n        vertical-align: top;\n    }\n\n    .dataframe thead th {\n        text-align: right;\n    }\n</style>\n<table border=\"1\" class=\"dataframe\">\n  <thead>\n    <tr style=\"text-align: right;\">\n      <th></th>\n      <th>item_id</th>\n      <th>genres</th>\n    </tr>\n  </thead>\n  <tbody>\n    <tr>\n      <th>0</th>\n      <td>5333265</td>\n      <td>{'history, historical fiction, biography': 1}</td>\n    </tr>\n  </tbody>\n</table>\n</div>"
     },
     "execution_count": 150,
     "metadata": {},
     "output_type": "execute_result"
    }
   ],
   "source": [
    "print(len(df_genres))\n",
    "df_genres.head(1)"
   ],
   "metadata": {
    "collapsed": false,
    "ExecuteTime": {
     "end_time": "2023-11-07T16:29:50.443206155Z",
     "start_time": "2023-11-07T16:29:50.438109689Z"
    }
   },
   "id": "cafd72a4aaf17fb1"
  },
  {
   "cell_type": "code",
   "execution_count": 151,
   "outputs": [
    {
     "data": {
      "text/plain": "2360655"
     },
     "execution_count": 151,
     "metadata": {},
     "output_type": "execute_result"
    }
   ],
   "source": [
    "genres = []\n",
    "for i, row in df_genres.iterrows():\n",
    "    if len(list(row[\"genres\"].keys())) == 0:\n",
    "        genres.append(None)\n",
    "    else:\n",
    "        genres.append(list(row[\"genres\"].keys()))\n",
    "len(genres)"
   ],
   "metadata": {
    "collapsed": false,
    "ExecuteTime": {
     "end_time": "2023-11-07T16:31:38.924760988Z",
     "start_time": "2023-11-07T16:29:50.444573118Z"
    }
   },
   "id": "c9fbc2873479ef2c"
  },
  {
   "cell_type": "code",
   "execution_count": 152,
   "outputs": [
    {
     "data": {
      "text/plain": "1951142"
     },
     "execution_count": 152,
     "metadata": {},
     "output_type": "execute_result"
    }
   ],
   "source": [
    "df_genres[\"genres\"] = genres\n",
    "df_genres.dropna(subset=\"genres\", axis=0, inplace=True)\n",
    "len(df_genres)"
   ],
   "metadata": {
    "collapsed": false,
    "ExecuteTime": {
     "end_time": "2023-11-07T16:31:39.542805522Z",
     "start_time": "2023-11-07T16:31:38.942784956Z"
    }
   },
   "id": "9f93355e4ffe0a90"
  },
  {
   "cell_type": "code",
   "execution_count": 153,
   "outputs": [
    {
     "data": {
      "text/plain": "   item_id                                    genres  \\\n0  5333265  [history, historical fiction, biography]   \n\n                           formatted_genres  \n0  [history, historical fiction, biography]  ",
      "text/html": "<div>\n<style scoped>\n    .dataframe tbody tr th:only-of-type {\n        vertical-align: middle;\n    }\n\n    .dataframe tbody tr th {\n        vertical-align: top;\n    }\n\n    .dataframe thead th {\n        text-align: right;\n    }\n</style>\n<table border=\"1\" class=\"dataframe\">\n  <thead>\n    <tr style=\"text-align: right;\">\n      <th></th>\n      <th>item_id</th>\n      <th>genres</th>\n      <th>formatted_genres</th>\n    </tr>\n  </thead>\n  <tbody>\n    <tr>\n      <th>0</th>\n      <td>5333265</td>\n      <td>[history, historical fiction, biography]</td>\n      <td>[history, historical fiction, biography]</td>\n    </tr>\n  </tbody>\n</table>\n</div>"
     },
     "execution_count": 153,
     "metadata": {},
     "output_type": "execute_result"
    }
   ],
   "source": [
    "def format_genres(list_gs):\n",
    "    ggs = []\n",
    "    for gg in list_gs:\n",
    "        splitted = gg.split(\", \")\n",
    "        for s in splitted:\n",
    "            ggs.append(s)\n",
    "    return ggs\n",
    "            \n",
    "df_genres[\"formatted_genres\"] = df_genres.apply(lambda r: format_genres(r[\"genres\"]), axis=1)\n",
    "df_genres.head(1)"
   ],
   "metadata": {
    "collapsed": false,
    "ExecuteTime": {
     "end_time": "2023-11-07T16:31:59.280452934Z",
     "start_time": "2023-11-07T16:31:45.554545557Z"
    }
   },
   "id": "245d94b0afa781a4"
  },
  {
   "cell_type": "code",
   "execution_count": 154,
   "outputs": [
    {
     "name": "stdout",
     "output_type": "stream",
     "text": [
      "16\n"
     ]
    }
   ],
   "source": [
    "genres = set()\n",
    "for g in df_genres[\"formatted_genres\"].values:\n",
    "    genres = genres.union(g)\n",
    "print(len(genres))"
   ],
   "metadata": {
    "collapsed": false,
    "ExecuteTime": {
     "end_time": "2023-11-07T16:32:00.548748551Z",
     "start_time": "2023-11-07T16:31:59.293894698Z"
    }
   },
   "id": "34097a65c98a98c7"
  },
  {
   "cell_type": "code",
   "execution_count": 155,
   "outputs": [
    {
     "name": "stdout",
     "output_type": "stream",
     "text": [
      "{'mystery', 'historical fiction', 'poetry', 'graphic', 'history', 'children', 'thriller', 'non-fiction', 'fiction', 'young-adult', 'crime', 'fantasy', 'paranormal', 'biography', 'comics', 'romance'}\n"
     ]
    }
   ],
   "source": [
    "print(genres)"
   ],
   "metadata": {
    "collapsed": false,
    "ExecuteTime": {
     "end_time": "2023-11-07T16:36:43.597229584Z",
     "start_time": "2023-11-07T16:36:43.520850589Z"
    }
   },
   "id": "8bdf4d8cb4c4038a"
  },
  {
   "cell_type": "code",
   "execution_count": 156,
   "outputs": [
    {
     "data": {
      "text/plain": "8558"
     },
     "execution_count": 156,
     "metadata": {},
     "output_type": "execute_result"
    }
   ],
   "source": [
    "df_genres = df_genres[df_genres[\"item_id\"].isin(remaining_items)]\n",
    "len(df_genres)"
   ],
   "metadata": {
    "collapsed": false,
    "ExecuteTime": {
     "end_time": "2023-11-07T16:36:47.023984120Z",
     "start_time": "2023-11-07T16:36:46.893981734Z"
    }
   },
   "id": "5c56233940458310"
  },
  {
   "cell_type": "code",
   "execution_count": 157,
   "outputs": [
    {
     "data": {
      "text/plain": "8558"
     },
     "execution_count": 157,
     "metadata": {},
     "output_type": "execute_result"
    }
   ],
   "source": [
    "df_genres.dropna(subset=\"genres\", axis=0, inplace=True)\n",
    "len(df_genres)"
   ],
   "metadata": {
    "collapsed": false,
    "ExecuteTime": {
     "end_time": "2023-11-07T16:36:48.602225075Z",
     "start_time": "2023-11-07T16:36:48.575959477Z"
    }
   },
   "id": "296f5969a792352c"
  },
  {
   "cell_type": "code",
   "execution_count": 158,
   "outputs": [
    {
     "data": {
      "text/plain": "8558"
     },
     "execution_count": 158,
     "metadata": {},
     "output_type": "execute_result"
    }
   ],
   "source": [
    "final_items = list(set(df_books[\"item_id\"]).intersection(df_genres[\"item_id\"]))\n",
    "len(final_items)"
   ],
   "metadata": {
    "collapsed": false,
    "ExecuteTime": {
     "end_time": "2023-11-07T16:36:49.779677302Z",
     "start_time": "2023-11-07T16:36:49.726177239Z"
    }
   },
   "id": "f001dbf8875dcad7"
  },
  {
   "cell_type": "code",
   "execution_count": 158,
   "outputs": [],
   "source": [],
   "metadata": {
    "collapsed": false,
    "ExecuteTime": {
     "end_time": "2023-11-07T16:36:50.397589952Z",
     "start_time": "2023-11-07T16:36:50.371960002Z"
    }
   },
   "id": "e3b52d8159fb5beb"
  },
  {
   "cell_type": "code",
   "execution_count": 159,
   "outputs": [
    {
     "data": {
      "text/plain": "True"
     },
     "execution_count": 159,
     "metadata": {},
     "output_type": "execute_result"
    }
   ],
   "source": [
    "# df_books and df_genres ARE NOT aligned!\n",
    "set(df_books[\"item_id\"]) == set(df_genres[\"item_id\"])"
   ],
   "metadata": {
    "collapsed": false,
    "ExecuteTime": {
     "end_time": "2023-11-07T16:36:51.411311158Z",
     "start_time": "2023-11-07T16:36:51.365110347Z"
    }
   },
   "id": "845f3f67a2a65989"
  },
  {
   "cell_type": "code",
   "execution_count": 160,
   "outputs": [],
   "source": [
    "df_books = df_books[df_books[\"item_id\"].isin(final_items)]\n",
    "df_genres = df_genres[df_genres[\"item_id\"].isin(final_items)]"
   ],
   "metadata": {
    "collapsed": false,
    "ExecuteTime": {
     "end_time": "2023-11-07T16:36:52.405588849Z",
     "start_time": "2023-11-07T16:36:52.342411050Z"
    }
   },
   "id": "13431cf4defd4454"
  },
  {
   "cell_type": "code",
   "execution_count": 161,
   "outputs": [
    {
     "data": {
      "text/plain": "True"
     },
     "execution_count": 161,
     "metadata": {},
     "output_type": "execute_result"
    }
   ],
   "source": [
    "# df_books and df_genres ARE aligned!\n",
    "set(df_books[\"item_id\"]) == set(df_genres[\"item_id\"])"
   ],
   "metadata": {
    "collapsed": false,
    "ExecuteTime": {
     "end_time": "2023-11-07T16:36:53.496735513Z",
     "start_time": "2023-11-07T16:36:53.428101252Z"
    }
   },
   "id": "2a0eac6cf9d15613"
  },
  {
   "cell_type": "code",
   "execution_count": 161,
   "outputs": [],
   "source": [],
   "metadata": {
    "collapsed": false,
    "ExecuteTime": {
     "end_time": "2023-11-07T16:36:54.515035844Z",
     "start_time": "2023-11-07T16:36:54.453520378Z"
    }
   },
   "id": "cc0886f855af7494"
  },
  {
   "cell_type": "code",
   "execution_count": 162,
   "outputs": [],
   "source": [
    "df_items = pd.merge(df_books, df_genres, on='item_id', how='outer')"
   ],
   "metadata": {
    "collapsed": false,
    "ExecuteTime": {
     "end_time": "2023-11-07T16:36:55.542324008Z",
     "start_time": "2023-11-07T16:36:55.471595804Z"
    }
   },
   "id": "251947d103608380"
  },
  {
   "cell_type": "code",
   "execution_count": 163,
   "outputs": [
    {
     "name": "stdout",
     "output_type": "stream",
     "text": [
      "(8558, 6)\n"
     ]
    },
    {
     "data": {
      "text/plain": "   item_id              title title_without_series  publication_year  \\\n0    89377  Penny from Heaven    Penny from Heaven            2006.0   \n\n                                              genres  \\\n0  [fiction, history, historical fiction, biograp...   \n\n                                    formatted_genres  \n0  [fiction, history, historical fiction, biograp...  ",
      "text/html": "<div>\n<style scoped>\n    .dataframe tbody tr th:only-of-type {\n        vertical-align: middle;\n    }\n\n    .dataframe tbody tr th {\n        vertical-align: top;\n    }\n\n    .dataframe thead th {\n        text-align: right;\n    }\n</style>\n<table border=\"1\" class=\"dataframe\">\n  <thead>\n    <tr style=\"text-align: right;\">\n      <th></th>\n      <th>item_id</th>\n      <th>title</th>\n      <th>title_without_series</th>\n      <th>publication_year</th>\n      <th>genres</th>\n      <th>formatted_genres</th>\n    </tr>\n  </thead>\n  <tbody>\n    <tr>\n      <th>0</th>\n      <td>89377</td>\n      <td>Penny from Heaven</td>\n      <td>Penny from Heaven</td>\n      <td>2006.0</td>\n      <td>[fiction, history, historical fiction, biograp...</td>\n      <td>[fiction, history, historical fiction, biograp...</td>\n    </tr>\n  </tbody>\n</table>\n</div>"
     },
     "execution_count": 163,
     "metadata": {},
     "output_type": "execute_result"
    }
   ],
   "source": [
    "print(df_items.shape)\n",
    "df_items.head(1)"
   ],
   "metadata": {
    "collapsed": false,
    "ExecuteTime": {
     "end_time": "2023-11-07T16:36:56.373758417Z",
     "start_time": "2023-11-07T16:36:56.310204532Z"
    }
   },
   "id": "8a1c59cb8526f9ee"
  },
  {
   "cell_type": "code",
   "execution_count": 166,
   "outputs": [],
   "source": [
    "df_items.drop(columns=[\"genres\"], inplace=True)"
   ],
   "metadata": {
    "collapsed": false,
    "ExecuteTime": {
     "end_time": "2023-11-07T16:37:26.078641312Z",
     "start_time": "2023-11-07T16:37:25.984855481Z"
    }
   },
   "id": "41a65d0a80b7f7e6"
  },
  {
   "cell_type": "code",
   "execution_count": 168,
   "outputs": [
    {
     "data": {
      "text/plain": "Index(['item_id', 'title', 'title_without_series', 'publication_year',\n       'genres'],\n      dtype='object')"
     },
     "execution_count": 168,
     "metadata": {},
     "output_type": "execute_result"
    }
   ],
   "source": [
    "df_items.rename(columns={\"formatted_genres\": \"genres\"}, inplace=True)\n",
    "df_items.columns"
   ],
   "metadata": {
    "collapsed": false,
    "ExecuteTime": {
     "end_time": "2023-11-07T16:37:35.666086553Z",
     "start_time": "2023-11-07T16:37:35.456539514Z"
    }
   },
   "id": "517520832c579543"
  },
  {
   "cell_type": "code",
   "execution_count": 180,
   "outputs": [
    {
     "data": {
      "text/plain": "Index(['item_id', 'item_name', 'title_without_series', 'publication_year',\n       'genres'],\n      dtype='object')"
     },
     "execution_count": 180,
     "metadata": {},
     "output_type": "execute_result"
    }
   ],
   "source": [
    "df_items.rename(columns={\"title_name\": \"item_name\"}, inplace=True)\n",
    "df_items.columns"
   ],
   "metadata": {
    "collapsed": false,
    "ExecuteTime": {
     "end_time": "2023-11-07T17:05:39.639149517Z",
     "start_time": "2023-11-07T17:05:39.602905869Z"
    }
   },
   "id": "6d4e83f1cc385f12"
  },
  {
   "cell_type": "markdown",
   "source": [
    "<h3>Craft the final datastet<h3>"
   ],
   "metadata": {
    "collapsed": false
   },
   "id": "5729228b03de7479"
  },
  {
   "cell_type": "code",
   "execution_count": 195,
   "outputs": [
    {
     "name": "stdout",
     "output_type": "stream",
     "text": [
      "# of ratings: 10223104\n",
      "# of users: 188130\n",
      "# of items: 8558\n"
     ]
    }
   ],
   "source": [
    "df_interactions = pandas_ratings[pandas_ratings[\"item_id\"].isin(df_items[\"item_id\"].values)]\n",
    "# remove users with less than 30 ratings\n",
    "to_keep = list(df_interactions['user_id'].value_counts()[lambda x: x >=30].index)\n",
    "df_interactions = df_interactions[df_interactions[\"user_id\"].isin(to_keep)]\n",
    "\n",
    "print(f\"# of ratings: {len(df_interactions)}\")\n",
    "print(f\"# of users: {len(df_interactions['user_id'].unique())}\")\n",
    "print(f\"# of items: {len(df_interactions['item_id'].unique())}\")"
   ],
   "metadata": {
    "collapsed": false,
    "ExecuteTime": {
     "end_time": "2023-11-07T17:47:28.596559334Z",
     "start_time": "2023-11-07T17:47:27.566307464Z"
    }
   },
   "id": "aec827cc50d62802"
  },
  {
   "cell_type": "code",
   "execution_count": 170,
   "outputs": [
    {
     "name": "stdout",
     "output_type": "stream",
     "text": [
      "16\n"
     ]
    }
   ],
   "source": [
    "genres = set()\n",
    "for g in df_items[\"genres\"].values:\n",
    "    genres = genres.union(g)\n",
    "print(len(genres))"
   ],
   "metadata": {
    "collapsed": false,
    "ExecuteTime": {
     "end_time": "2023-11-07T16:49:59.721809084Z",
     "start_time": "2023-11-07T16:49:59.695061589Z"
    }
   },
   "id": "eaad49e1af5368da"
  },
  {
   "cell_type": "code",
   "execution_count": 171,
   "outputs": [
    {
     "name": "stdout",
     "output_type": "stream",
     "text": [
      "{'mystery', 'historical fiction', 'graphic', 'poetry', 'history', 'children', 'thriller', 'non-fiction', 'fiction', 'young-adult', 'crime', 'fantasy', 'paranormal', 'biography', 'comics', 'romance'}\n"
     ]
    }
   ],
   "source": [
    "print(genres)"
   ],
   "metadata": {
    "collapsed": false,
    "ExecuteTime": {
     "end_time": "2023-11-07T16:50:00.728199788Z",
     "start_time": "2023-11-07T16:50:00.568900865Z"
    }
   },
   "id": "a968196547798d8e"
  },
  {
   "cell_type": "markdown",
   "source": [
    "DATASET STATISTICS:\n",
    "- 10M ratings\n",
    "- 8.5k items\n",
    "- 188k users\n",
    "- 54 ratings per user\n",
    "- 1194 ratings per item\n",
    "- 16 genres\n",
    "- 99.4% sparsity "
   ],
   "metadata": {
    "collapsed": false
   },
   "id": "74d6bcde45b542b5"
  },
  {
   "cell_type": "code",
   "execution_count": 181,
   "outputs": [],
   "source": [
    "out_dir = \"/home/diego/chat-reranking/experiments/goodreads/\""
   ],
   "metadata": {
    "collapsed": false,
    "ExecuteTime": {
     "end_time": "2023-11-07T17:05:48.498673588Z",
     "start_time": "2023-11-07T17:05:48.415187950Z"
    }
   },
   "id": "671e5cabe5ab6426"
  },
  {
   "cell_type": "code",
   "execution_count": 182,
   "outputs": [],
   "source": [
    "df_items.to_csv(f\"{out_dir}df_items.csv\", sep=\",\", index=False)"
   ],
   "metadata": {
    "collapsed": false,
    "ExecuteTime": {
     "end_time": "2023-11-07T17:05:48.860851750Z",
     "start_time": "2023-11-07T17:05:48.788545469Z"
    }
   },
   "id": "825dd45b8e675da0"
  },
  {
   "cell_type": "code",
   "execution_count": 183,
   "outputs": [],
   "source": [
    "itemid_to_name = {}\n",
    "for i, n in zip(df_items[\"item_id\"].values, df_items[\"item_name\"].values):\n",
    "    itemid_to_name[i] = n\n",
    "itemname_to_id = {v: k for k, v in itemid_to_name.items()}\n",
    "with open(f\"{out_dir}itemid_to_name.pkl\", 'wb') as fp:\n",
    "    pickle.dump(itemid_to_name, fp)\n",
    "with open(f\"{out_dir}itemname_to_id.pkl\", 'wb') as fp:\n",
    "    pickle.dump(itemname_to_id, fp)"
   ],
   "metadata": {
    "collapsed": false,
    "ExecuteTime": {
     "end_time": "2023-11-07T17:05:49.622611789Z",
     "start_time": "2023-11-07T17:05:49.514974339Z"
    }
   },
   "id": "61d2c13702f25a7f"
  },
  {
   "cell_type": "code",
   "execution_count": 184,
   "outputs": [],
   "source": [
    "# prepare genres file\n",
    "out_string = \"\"\n",
    "for i, row in df_items.iterrows():\n",
    "    for genre in row[\"genres\"]:\n",
    "        if row['item_name'] in itemname_to_id:\n",
    "            out_string += f\"{itemname_to_id[row['item_name']]}\\t{genre}\\n\"\n",
    "        else:\n",
    "            print(row)\n",
    "\n",
    "with open(f\"{out_dir}genres_file.txt\", \"w\") as text_file:\n",
    "    text_file.write(out_string)"
   ],
   "metadata": {
    "collapsed": false,
    "ExecuteTime": {
     "end_time": "2023-11-07T17:05:52.663470570Z",
     "start_time": "2023-11-07T17:05:51.881544760Z"
    }
   },
   "id": "2417880cb48470c7"
  },
  {
   "cell_type": "code",
   "execution_count": 185,
   "outputs": [],
   "source": [
    "itemid_to_namegenres = {}\n",
    "itemnamegenres_to_id = {}\n",
    "for i, row in df_items.iterrows():\n",
    "    item_id = row[\"item_id\"]\n",
    "    genres_str = \"\"\n",
    "    item_name = row[\"item_name\"]\n",
    "    for g in row[\"genres\"]:\n",
    "        genres_str += f\"{g}, \"\n",
    "    itemid_to_namegenres[item_id] = f\"{item_name} ({genres_str[:-2]})\"\n",
    "    \n",
    "    # to convert item names to id, the dict accepts both names only or names with genres\n",
    "    itemnamegenres_to_id[f\"{item_name} ({genres_str[:-2]})\"] = item_id\n",
    "    itemnamegenres_to_id[item_name] = item_id"
   ],
   "metadata": {
    "collapsed": false,
    "ExecuteTime": {
     "end_time": "2023-11-07T17:06:35.103803752Z",
     "start_time": "2023-11-07T17:06:34.549747684Z"
    }
   },
   "id": "b364edfe3fecf7e1"
  },
  {
   "cell_type": "code",
   "execution_count": 186,
   "outputs": [],
   "source": [
    "with open(f\"{out_dir}itemid_to_namegenres.pkl\", 'wb') as fp:\n",
    "    pickle.dump(itemid_to_namegenres, fp)\n",
    "with open(f\"{out_dir}itemnamegenres_to_id.pkl\", 'wb') as fp:\n",
    "    pickle.dump(itemnamegenres_to_id, fp)"
   ],
   "metadata": {
    "collapsed": false,
    "ExecuteTime": {
     "end_time": "2023-11-07T17:06:50.239804348Z",
     "start_time": "2023-11-07T17:06:50.132336439Z"
    }
   },
   "id": "4d6b943223defac6"
  },
  {
   "cell_type": "code",
   "execution_count": 64,
   "outputs": [],
   "source": [],
   "metadata": {
    "collapsed": false,
    "ExecuteTime": {
     "end_time": "2023-11-06T15:54:09.494040777Z",
     "start_time": "2023-11-06T15:54:09.402266272Z"
    }
   },
   "id": "3f9ea89a2586df5"
  },
  {
   "cell_type": "code",
   "execution_count": 196,
   "outputs": [],
   "source": [
    "out_dir = \"/home/diego/chat-reranking/dataset/goodreads/\""
   ],
   "metadata": {
    "collapsed": false,
    "ExecuteTime": {
     "end_time": "2023-11-07T17:51:32.802292004Z",
     "start_time": "2023-11-07T17:51:32.746893653Z"
    }
   },
   "id": "d7b266dc98e94e9f"
  },
  {
   "cell_type": "code",
   "execution_count": 197,
   "outputs": [],
   "source": [
    "df_interactions.to_csv(f\"{out_dir}ratings12M.csv\", index=False)"
   ],
   "metadata": {
    "collapsed": false,
    "ExecuteTime": {
     "end_time": "2023-11-07T17:51:43.180293820Z",
     "start_time": "2023-11-07T17:51:33.132704546Z"
    }
   },
   "id": "88595633486ea386"
  },
  {
   "cell_type": "code",
   "execution_count": 188,
   "outputs": [],
   "source": [],
   "metadata": {
    "collapsed": false,
    "ExecuteTime": {
     "end_time": "2023-11-07T17:08:36.968346794Z",
     "start_time": "2023-11-07T17:08:36.964916966Z"
    }
   },
   "id": "63925fea5e22373f"
  },
  {
   "cell_type": "code",
   "execution_count": null,
   "outputs": [],
   "source": [],
   "metadata": {
    "collapsed": false
   },
   "id": "3069384f2fae03ee"
  }
 ],
 "metadata": {
  "kernelspec": {
   "display_name": "Python 3",
   "language": "python",
   "name": "python3"
  },
  "language_info": {
   "codemirror_mode": {
    "name": "ipython",
    "version": 2
   },
   "file_extension": ".py",
   "mimetype": "text/x-python",
   "name": "python",
   "nbconvert_exporter": "python",
   "pygments_lexer": "ipython2",
   "version": "2.7.6"
  }
 },
 "nbformat": 4,
 "nbformat_minor": 5
}
