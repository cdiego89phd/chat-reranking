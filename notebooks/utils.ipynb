{
 "cells": [
  {
   "cell_type": "code",
   "execution_count": 7,
   "metadata": {
    "collapsed": true,
    "ExecuteTime": {
     "end_time": "2023-06-30T08:24:30.568600992Z",
     "start_time": "2023-06-30T08:24:30.234491127Z"
    }
   },
   "outputs": [],
   "source": [
    "import pandas as pd\n",
    "import random\n",
    "import pickle\n",
    "import json"
   ]
  },
  {
   "cell_type": "code",
   "execution_count": null,
   "outputs": [],
   "source": [],
   "metadata": {
    "collapsed": false
   }
  },
  {
   "cell_type": "markdown",
   "source": [
    "<h2>Convert rec files for Ranksys</h2>"
   ],
   "metadata": {
    "collapsed": false
   }
  },
  {
   "cell_type": "code",
   "execution_count": 41,
   "outputs": [],
   "source": [
    "recs_folder = \"/home/diego/chat-rerank/experiments/ml-100k/recs/reranked\"\n",
    "# recs_name = \"pzt-fold_0-serendipity-chatgpt\"\n",
    "recs_name = \"pzt-fold_0-chatgpt_p1\"\n",
    "top_n = 10\n",
    "\n",
    "# read JSON file\n",
    "f = open(f\"{recs_folder}/{recs_name}.json\")\n",
    "data = json.load(f)\n",
    "f.close()"
   ],
   "metadata": {
    "collapsed": false,
    "ExecuteTime": {
     "end_time": "2023-07-03T17:47:33.432188560Z",
     "start_time": "2023-07-03T17:47:33.412419366Z"
    }
   }
  },
  {
   "cell_type": "code",
   "execution_count": 42,
   "outputs": [],
   "source": [
    "train_folder = f\"/home/diego/chat-rerank/experiments/ml-100k/fold_0/train_data.csv\"\n",
    "training_data = pd.read_csv(f'{train_folder}', names=[\"userid\", \"itemid\", \"rating\"], sep=\"\\t\")"
   ],
   "metadata": {
    "collapsed": false,
    "ExecuteTime": {
     "end_time": "2023-07-03T17:47:35.124154873Z",
     "start_time": "2023-07-03T17:47:35.070647325Z"
    }
   }
  },
  {
   "cell_type": "code",
   "execution_count": 44,
   "outputs": [
    {
     "name": "stdout",
     "output_type": "stream",
     "text": [
      "268\n",
      "[303, 315, 347, 270, 300, 242, 306, 344, 289, 288, 313, 690, 332, 316, 307, 750, 304, 292, 887, 902, 56, 898, 900, 294, 324, 334, 475, 322, 882, 331, 1022, 354, 197, 271, 875, 995, 895, 937, 538, 752, 343, 879, 246, 754, 751, 299, 100, 886, 906, 350]\n",
      "268\n",
      "[272, 286, 435, 346, 333, 344, 483, 194, 271, 304, 332, 879, 326, 523, 750, 260, 174, 898, 310, 301, 288, 484, 651, 191, 182, 751, 137, 23, 246, 83, 357, 475, 175, 661, 186, 324, 689, 292, 197, 508, 334, 283, 880, 487, 902, 11, 8, 124, 514, 275]\n",
      "268\n",
      "[300, 286, 307, 475, 742, 316, 7, 748, 751, 628, 302, 271, 321, 285, 750, 591, 117, 269, 1, 689, 327, 323, 343, 310, 13, 319, 14, 886, 895, 410, 678, 222, 273, 147, 282, 151, 93, 763, 127, 332, 347, 50, 342, 655, 357, 1067, 924, 270, 246, 298]\n",
      "486\n",
      "[211, 443, 282, 172, 185, 186, 480, 520, 742, 604, 489, 419, 402, 528, 126, 269, 699, 315, 274, 280, 496, 164, 517, 655, 478, 23, 739, 474, 202, 199, 188, 135, 179, 605, 481, 607, 99, 223, 136, 127, 492, 428, 845, 71, 356, 291, 150, 125, 498, 50]\n",
      "268\n",
      "[302, 347, 327, 307, 271, 262, 305, 286, 301, 332, 246, 316, 310, 311, 321, 306, 887, 354, 245, 319, 902, 346, 1022, 896, 260, 748, 325, 242, 334, 690, 358, 350, 300, 751, 326, 331, 475, 895, 900, 882, 879, 299, 343, 1062, 750, 312, 345, 684, 682, 197]\n",
      "268\n",
      "[300, 100, 333, 237, 246, 269, 257, 117, 15, 307, 245, 25, 121, 255, 358, 111, 326, 343, 325, 151, 302, 24, 93, 181, 304, 7, 455, 291, 22, 249, 546, 222, 845, 1012, 873, 487, 273, 150, 1016, 410, 299, 126, 252, 243, 124, 274, 895, 148, 405, 271]\n",
      "268\n",
      "[285, 124, 269, 15, 181, 150, 275, 282, 255, 148, 293, 742, 245, 744, 284, 628, 748, 597, 289, 221, 276, 476, 147, 93, 283, 235, 116, 408, 515, 866, 508, 246, 242, 411, 1016, 815, 288, 127, 864, 129, 591, 323, 477, 740, 107, 1137, 696, 319, 934, 332]\n",
      "303\n",
      "[302, 327, 269, 270, 306, 307, 242, 262, 300, 321, 333, 319, 272, 332, 328, 325, 1022, 344, 311, 887, 315, 292, 331, 896, 260, 347, 874, 322, 246, 297, 299, 900, 345, 259, 995, 906, 937, 475, 236, 682, 318, 285, 902, 19, 334, 343, 513, 748, 547, 124]\n",
      "268\n",
      "[272, 269, 340, 347, 316, 690, 750, 751, 327, 332, 288, 303, 344, 245, 311, 294, 748, 271, 242, 289, 343, 319, 306, 331, 312, 326, 354, 324, 345, 334, 887, 895, 475, 246, 900, 879, 902, 749, 262, 350, 898, 882, 292, 322, 260, 682, 886, 358, 259, 538]\n",
      "268\n",
      "[270, 286, 327, 306, 242, 333, 319, 300, 272, 311, 328, 245, 344, 332, 325, 896, 347, 887, 315, 937, 271, 299, 690, 288, 345, 334, 260, 197, 875, 346, 879, 906, 1137, 1296, 292, 331, 236, 900, 285, 246, 882, 312, 326, 93, 886, 754, 475, 259, 221, 297]\n",
      "303\n",
      "[270, 286, 327, 306, 242, 333, 319, 300, 272, 311, 328, 245, 344, 332, 325, 896, 347, 887, 315, 937, 271, 299, 690, 288, 345, 334, 260, 197, 875, 346, 879, 906, 1137, 1296, 292, 331, 236, 900, 285, 246, 882, 312, 326, 93, 886, 754, 475, 259, 221, 297]\n",
      "268\n",
      "[327, 302, 328, 245, 269, 307, 294, 242, 223, 271, 321, 270, 895, 748, 879, 324, 292, 262, 313, 259, 289, 331, 260, 322, 100, 311, 678, 345, 246, 299, 872, 325, 937, 346, 304, 326, 318, 874, 347, 690, 344, 334, 873, 1022, 358, 880, 420, 79, 513, 323]\n",
      "268\n",
      "[328, 332, 678, 300, 243, 245, 327, 873, 324, 260, 258, 748, 301, 690, 303, 937, 326, 435, 879, 242, 307, 333, 299, 270, 876, 358, 306, 682, 359, 990, 984, 881, 938, 875, 246, 305, 880, 749, 302, 318, 1025, 22, 872, 331, 276, 882, 329, 988, 948, 99]\n",
      "268\n",
      "[117, 300, 121, 328, 246, 293, 222, 7, 508, 678, 248, 628, 347, 323, 282, 294, 879, 286, 249, 125, 281, 1028, 845, 751, 763, 252, 301, 472, 123, 315, 358, 237, 129, 322, 3, 269, 9, 299, 303, 831, 343, 240, 126, 271, 284, 1047, 270, 1014, 926, 56]\n",
      "268\n",
      "[251, 257, 50, 744, 100, 127, 471, 248, 1, 181, 319, 137, 298, 117, 813, 303, 269, 221, 111, 129, 531, 306, 276, 740, 302, 1142, 291, 936, 118, 13, 7, 151, 1022, 8, 93, 287, 15, 223, 245, 253, 477, 304, 475, 224, 525, 742, 246, 235, 676, 294]\n",
      "268\n",
      "[234, 100, 381, 241, 219, 246, 277, 949, 79, 561, 12, 107, 39, 135, 258, 324, 174, 42, 10, 462, 147, 52, 813, 118, 111, 298, 676, 774, 45, 739, 203, 236, 227, 448, 302, 216, 250, 126, 155, 228, 436, 652, 278, 44, 172, 955, 270, 525, 301, 864]\n",
      "268\n",
      "[302, 347, 344, 269, 346, 306, 340, 242, 301, 327, 887, 900, 750, 898, 288, 292, 258, 262, 270, 246, 310, 297, 882, 324, 300, 56, 13, 289, 312, 124, 751, 245, 328, 508, 1062, 333, 354, 100, 350, 995, 1022, 208, 906, 886, 754, 514, 332, 903, 14, 19]\n",
      "268\n",
      "[288, 333, 748, 245, 258, 259, 358, 678, 880, 323, 299, 331, 243, 302, 879, 343, 289, 304, 895, 1025, 872, 303, 305, 334, 937, 881, 246, 938, 359, 886, 877, 330, 329, 754, 242, 687, 874, 988, 272, 173, 655, 1296, 261, 306, 990, 948, 197, 339, 538, 198]\n",
      "268\n",
      "[222, 257, 471, 597, 685, 1016, 258, 748, 169, 147, 151, 172, 742, 1012, 475, 109, 252, 300, 100, 189, 235, 114, 174, 248, 111, 926, 323, 127, 333, 249, 302, 96, 847, 328, 293, 15, 176, 89, 919, 17, 288, 282, 25, 483, 246, 45, 370, 825, 291, 1047]\n",
      "268\n",
      "[96, 64, 98, 684, 230, 210, 1012, 50, 246, 97, 147, 188, 742, 568, 423, 216, 405, 100, 92, 403, 129, 276, 135, 24, 55, 313, 651, 153, 421, 408, 99, 124, 240, 223, 215, 566, 475, 1039, 385, 209, 168, 160, 132, 1019, 239, 293, 531, 184, 194, 727]\n",
      "500\n",
      "[83, 153, 174, 194, 209, 275, 56, 79, 216, 172, 603, 208, 134, 274, 515, 304, 483, 740, 657, 168, 133, 478, 186, 705, 185, 499, 431, 213, 28, 1009, 496, 177, 648, 485, 154, 228, 23, 20, 170, 584, 300, 357, 203, 69, 222, 709, 292, 737, 410, 22]\n"
     ]
    }
   ],
   "source": [
    "recs = {}\n",
    "for entry in data:\n",
    "    recs[entry['userid']] = entry['reranked_recs']\n",
    "    user_train = list(training_data[training_data[\"userid\"] == entry['userid']][\"itemid\"].values)\n",
    "    for item in entry['reranked_recs']:\n",
    "        if item in user_train:\n",
    "            # print(entry['userid'])\n",
    "            print(item)\n",
    "            print(entry['recs'])\n",
    "# recs"
   ],
   "metadata": {
    "collapsed": false,
    "ExecuteTime": {
     "end_time": "2023-07-03T17:50:27.094368709Z",
     "start_time": "2023-07-03T17:50:26.699768638Z"
    }
   }
  },
  {
   "cell_type": "code",
   "execution_count": 28,
   "outputs": [],
   "source": [
    "# print(recs[621])\n",
    "# print(268 in list(training_data[training_data[\"userid\"] == 621][\"itemid\"].values))"
   ],
   "metadata": {
    "collapsed": false,
    "ExecuteTime": {
     "end_time": "2023-07-03T08:54:37.561519367Z",
     "start_time": "2023-07-03T08:54:37.546974735Z"
    }
   }
  },
  {
   "cell_type": "code",
   "execution_count": 32,
   "outputs": [
    {
     "name": "stdout",
     "output_type": "stream",
     "text": [
      "Total users: 943\n",
      "None users: 15\n",
      "Users with some None: 2\n"
     ]
    }
   ],
   "source": [
    "none_users = 0\n",
    "users_with_none = 0\n",
    "total_users = len(recs)\n",
    "with open(f\"{recs_folder}/{recs_name}.csv\", \"w\") as f:\n",
    "    for user in recs:\n",
    "\n",
    "        if recs[user] is None:\n",
    "            none_users += 1\n",
    "            continue\n",
    "        score = float(top_n)\n",
    "        usr_str = \"\"\n",
    "        for r in recs[user]:\n",
    "            if r is None:\n",
    "                users_with_none += 1\n",
    "                usr_str = None\n",
    "                break\n",
    "            usr_str += f\"{user}\\t{r}\\t{score}\\n\"\n",
    "            score -= 1.0\n",
    "        if usr_str is not None:\n",
    "            f.write(usr_str)\n",
    "\n",
    "print(f\"Total users: {total_users}\")\n",
    "print(f\"None users: {none_users}\")\n",
    "print(f\"Users with some None: {users_with_none}\")"
   ],
   "metadata": {
    "collapsed": false,
    "ExecuteTime": {
     "end_time": "2023-07-03T09:02:05.456834434Z",
     "start_time": "2023-07-03T09:02:05.439845391Z"
    }
   }
  },
  {
   "cell_type": "code",
   "execution_count": 14,
   "outputs": [],
   "source": [],
   "metadata": {
    "collapsed": false,
    "ExecuteTime": {
     "end_time": "2023-06-15T12:38:31.853489070Z",
     "start_time": "2023-06-15T12:38:31.806431966Z"
    }
   }
  },
  {
   "cell_type": "markdown",
   "source": [
    "<h2>Results analysis</h2>"
   ],
   "metadata": {
    "collapsed": false
   }
  },
  {
   "cell_type": "code",
   "execution_count": 37,
   "outputs": [],
   "source": [
    "results_path = \"/home/diego/chat-rerank/experiments/ml-100k/results/ranksys_eval\"\n",
    "baseline_recs = pd.read_csv(f\"{results_path}/pzt-fold_0\")\n",
    "gpt_recs = pd.read_csv(f\"{results_path}/pzt-fold_0-chatgpt.csv\")\n",
    "mmr_recs = pd.read_csv(f\"{results_path}/MMR-pzt-fold_0.csv\")\n",
    "xquad_recs = pd.read_csv(f\"{results_path}/xQuAD-pzt-fold_0.csv\")\n",
    "rxquad_recs = pd.read_csv(f\"{results_path}/RxQuAD-pzt-fold_0.csv\")\n",
    "gpt_seren_recs = pd.read_csv(f\"{results_path}/pzt-fold_0-serendipity-chatgpt.csv\")"
   ],
   "metadata": {
    "collapsed": false,
    "ExecuteTime": {
     "end_time": "2023-07-03T17:37:10.610961417Z",
     "start_time": "2023-07-03T17:37:10.532501064Z"
    }
   }
  },
  {
   "cell_type": "code",
   "execution_count": 38,
   "outputs": [
    {
     "name": "stdout",
     "output_type": "stream",
     "text": [
      "ChatGPT better than baseline in the following metrics:\n",
      "s_recall_norel\n",
      "eild_norel\n",
      "binomial_norel\n",
      "cbs_norel\n",
      "cbs_rel\n",
      "epc_norel\n",
      "efd_norel\n",
      "epd_norel\n",
      "epd_rel\n"
     ]
    }
   ],
   "source": [
    "d = {\"reranker\": [\"baseline (MF)\", \"chat-gpt\", \"MMR\", \"xQuAD\", \"RxQuAD\", \"chat-gpt-S\"]}\n",
    "print(\"ChatGPT better than baseline in the following metrics:\")\n",
    "for col in gpt_recs.columns:\n",
    "    d[col] = [baseline_recs[col][0], gpt_recs[col][0], mmr_recs[col][0], xquad_recs[col][0], rxquad_recs[col][0], gpt_seren_recs[col][0]]\n",
    "    if gpt_recs[col][0] > baseline_recs[col][0]:\n",
    "        print(col)\n",
    "results = pd.DataFrame(data=d)"
   ],
   "metadata": {
    "collapsed": false,
    "ExecuteTime": {
     "end_time": "2023-07-03T17:37:11.266553071Z",
     "start_time": "2023-07-03T17:37:11.241925918Z"
    }
   }
  },
  {
   "cell_type": "code",
   "execution_count": 39,
   "outputs": [
    {
     "data": {
      "text/plain": "        reranker      prec    recall      ndcg  s_recall_norel  s_recall_rel  \\\n0  baseline (MF)  0.227147  0.267024  0.290306        0.501926      0.206117   \n1       chat-gpt  0.163203  0.165964  0.207276        0.582519      0.171792   \n2            MMR  0.202863  0.237428  0.265213        0.647821      0.208015   \n3          xQuAD  0.219512  0.252236  0.271010        0.599263      0.232293   \n4         RxQuAD  0.224178  0.258343  0.277610        0.554948      0.228107   \n5     chat-gpt-S  0.200848  0.231910  0.253708        0.497293      0.183848   \n\n     a_ndcg    err_ia  eild_norel  eild_rel  binomial_norel  binomial_rel  \\\n0  0.322673  0.155372    0.779424  0.158282        0.396710      0.311174   \n1  0.250379  0.123352    0.832728  0.112242        0.437842      0.282118   \n2  0.308786  0.147390    0.908503  0.152934        0.630131      0.342383   \n3  0.358666  0.173823    0.801650  0.153373        0.349369      0.306487   \n4  0.355004  0.180848    0.798137  0.159741        0.359947      0.318495   \n5  0.285446  0.135465    0.782174  0.136243        0.382823      0.291398   \n\n   cbs_norel   cbs_rel  epc_norel   epc_rel  efd_norel   efd_rel  epd_norel  \\\n0   0.150426  0.022305   0.795201  0.175301   8.874204  1.976686   0.787220   \n1   0.196504  0.022438   0.800794  0.125148   8.956339  1.415414   0.824287   \n2        NaN       NaN   0.802352  0.156628   8.963094  1.767976   0.845099   \n3        NaN       NaN   0.791737  0.167227   8.860434  1.895577   0.803579   \n4        NaN       NaN   0.791228  0.171029   8.848852  1.937397   0.793750   \n5   0.145918  0.019126   0.787908  0.155917   8.788886  1.754334   0.790241   \n\n    epd_rel  \n0  0.181073  \n1  0.824287  \n2  0.845099  \n3  0.803579  \n4  0.793750  \n5  0.790241  ",
      "text/html": "<div>\n<style scoped>\n    .dataframe tbody tr th:only-of-type {\n        vertical-align: middle;\n    }\n\n    .dataframe tbody tr th {\n        vertical-align: top;\n    }\n\n    .dataframe thead th {\n        text-align: right;\n    }\n</style>\n<table border=\"1\" class=\"dataframe\">\n  <thead>\n    <tr style=\"text-align: right;\">\n      <th></th>\n      <th>reranker</th>\n      <th>prec</th>\n      <th>recall</th>\n      <th>ndcg</th>\n      <th>s_recall_norel</th>\n      <th>s_recall_rel</th>\n      <th>a_ndcg</th>\n      <th>err_ia</th>\n      <th>eild_norel</th>\n      <th>eild_rel</th>\n      <th>binomial_norel</th>\n      <th>binomial_rel</th>\n      <th>cbs_norel</th>\n      <th>cbs_rel</th>\n      <th>epc_norel</th>\n      <th>epc_rel</th>\n      <th>efd_norel</th>\n      <th>efd_rel</th>\n      <th>epd_norel</th>\n      <th>epd_rel</th>\n    </tr>\n  </thead>\n  <tbody>\n    <tr>\n      <th>0</th>\n      <td>baseline (MF)</td>\n      <td>0.227147</td>\n      <td>0.267024</td>\n      <td>0.290306</td>\n      <td>0.501926</td>\n      <td>0.206117</td>\n      <td>0.322673</td>\n      <td>0.155372</td>\n      <td>0.779424</td>\n      <td>0.158282</td>\n      <td>0.396710</td>\n      <td>0.311174</td>\n      <td>0.150426</td>\n      <td>0.022305</td>\n      <td>0.795201</td>\n      <td>0.175301</td>\n      <td>8.874204</td>\n      <td>1.976686</td>\n      <td>0.787220</td>\n      <td>0.181073</td>\n    </tr>\n    <tr>\n      <th>1</th>\n      <td>chat-gpt</td>\n      <td>0.163203</td>\n      <td>0.165964</td>\n      <td>0.207276</td>\n      <td>0.582519</td>\n      <td>0.171792</td>\n      <td>0.250379</td>\n      <td>0.123352</td>\n      <td>0.832728</td>\n      <td>0.112242</td>\n      <td>0.437842</td>\n      <td>0.282118</td>\n      <td>0.196504</td>\n      <td>0.022438</td>\n      <td>0.800794</td>\n      <td>0.125148</td>\n      <td>8.956339</td>\n      <td>1.415414</td>\n      <td>0.824287</td>\n      <td>0.824287</td>\n    </tr>\n    <tr>\n      <th>2</th>\n      <td>MMR</td>\n      <td>0.202863</td>\n      <td>0.237428</td>\n      <td>0.265213</td>\n      <td>0.647821</td>\n      <td>0.208015</td>\n      <td>0.308786</td>\n      <td>0.147390</td>\n      <td>0.908503</td>\n      <td>0.152934</td>\n      <td>0.630131</td>\n      <td>0.342383</td>\n      <td>NaN</td>\n      <td>NaN</td>\n      <td>0.802352</td>\n      <td>0.156628</td>\n      <td>8.963094</td>\n      <td>1.767976</td>\n      <td>0.845099</td>\n      <td>0.845099</td>\n    </tr>\n    <tr>\n      <th>3</th>\n      <td>xQuAD</td>\n      <td>0.219512</td>\n      <td>0.252236</td>\n      <td>0.271010</td>\n      <td>0.599263</td>\n      <td>0.232293</td>\n      <td>0.358666</td>\n      <td>0.173823</td>\n      <td>0.801650</td>\n      <td>0.153373</td>\n      <td>0.349369</td>\n      <td>0.306487</td>\n      <td>NaN</td>\n      <td>NaN</td>\n      <td>0.791737</td>\n      <td>0.167227</td>\n      <td>8.860434</td>\n      <td>1.895577</td>\n      <td>0.803579</td>\n      <td>0.803579</td>\n    </tr>\n    <tr>\n      <th>4</th>\n      <td>RxQuAD</td>\n      <td>0.224178</td>\n      <td>0.258343</td>\n      <td>0.277610</td>\n      <td>0.554948</td>\n      <td>0.228107</td>\n      <td>0.355004</td>\n      <td>0.180848</td>\n      <td>0.798137</td>\n      <td>0.159741</td>\n      <td>0.359947</td>\n      <td>0.318495</td>\n      <td>NaN</td>\n      <td>NaN</td>\n      <td>0.791228</td>\n      <td>0.171029</td>\n      <td>8.848852</td>\n      <td>1.937397</td>\n      <td>0.793750</td>\n      <td>0.793750</td>\n    </tr>\n    <tr>\n      <th>5</th>\n      <td>chat-gpt-S</td>\n      <td>0.200848</td>\n      <td>0.231910</td>\n      <td>0.253708</td>\n      <td>0.497293</td>\n      <td>0.183848</td>\n      <td>0.285446</td>\n      <td>0.135465</td>\n      <td>0.782174</td>\n      <td>0.136243</td>\n      <td>0.382823</td>\n      <td>0.291398</td>\n      <td>0.145918</td>\n      <td>0.019126</td>\n      <td>0.787908</td>\n      <td>0.155917</td>\n      <td>8.788886</td>\n      <td>1.754334</td>\n      <td>0.790241</td>\n      <td>0.790241</td>\n    </tr>\n  </tbody>\n</table>\n</div>"
     },
     "execution_count": 39,
     "metadata": {},
     "output_type": "execute_result"
    }
   ],
   "source": [
    "results"
   ],
   "metadata": {
    "collapsed": false,
    "ExecuteTime": {
     "end_time": "2023-07-03T17:37:12.438006678Z",
     "start_time": "2023-07-03T17:37:12.395382560Z"
    }
   }
  },
  {
   "cell_type": "code",
   "execution_count": null,
   "outputs": [],
   "source": [],
   "metadata": {
    "collapsed": false,
    "ExecuteTime": {
     "end_time": "2023-06-29T21:55:19.998489367Z",
     "start_time": "2023-06-29T21:55:19.976637019Z"
    }
   }
  },
  {
   "cell_type": "code",
   "execution_count": null,
   "outputs": [],
   "source": [],
   "metadata": {
    "collapsed": false
   }
  },
  {
   "cell_type": "code",
   "execution_count": 66,
   "outputs": [],
   "source": [
    "filename = f\"/home/diego/chat-rerank/experiments/ml-100k/itemid_to_name.pkl\"\n",
    "with open(f\"{filename}\", 'rb') as fp:\n",
    "    itemid_to_name = pickle.load(fp)"
   ],
   "metadata": {
    "collapsed": false,
    "ExecuteTime": {
     "end_time": "2023-07-04T16:51:33.427950265Z",
     "start_time": "2023-07-04T16:51:33.409206061Z"
    }
   }
  },
  {
   "cell_type": "code",
   "execution_count": 67,
   "outputs": [
    {
     "data": {
      "text/plain": "'Sabrina'"
     },
     "execution_count": 67,
     "metadata": {},
     "output_type": "execute_result"
    }
   ],
   "source": [
    "itemid_to_name[274]"
   ],
   "metadata": {
    "collapsed": false,
    "ExecuteTime": {
     "end_time": "2023-07-04T16:51:33.995433256Z",
     "start_time": "2023-07-04T16:51:33.986163676Z"
    }
   }
  },
  {
   "cell_type": "code",
   "execution_count": 68,
   "outputs": [],
   "source": [
    "filename = f\"/home/diego/chat-rerank/experiments/ml-100k/itemname_to_id.pkl\"\n",
    "with open(f\"{filename}\", 'rb') as fp:\n",
    "    itemname_to_id = pickle.load(fp)"
   ],
   "metadata": {
    "collapsed": false,
    "ExecuteTime": {
     "end_time": "2023-07-04T16:51:59.356602562Z",
     "start_time": "2023-07-04T16:51:59.345306808Z"
    }
   }
  },
  {
   "cell_type": "code",
   "execution_count": 69,
   "outputs": [
    {
     "data": {
      "text/plain": "486"
     },
     "execution_count": 69,
     "metadata": {},
     "output_type": "execute_result"
    }
   ],
   "source": [
    "itemname_to_id[\"Sabrina\"]"
   ],
   "metadata": {
    "collapsed": false,
    "ExecuteTime": {
     "end_time": "2023-07-04T16:51:59.807117388Z",
     "start_time": "2023-07-04T16:51:59.799648619Z"
    }
   }
  },
  {
   "cell_type": "code",
   "execution_count": 56,
   "outputs": [
    {
     "data": {
      "text/plain": "         movietitle       name                                genres\n0  Toy Story (1995)  Toy Story  ['Animation', 'Childrens', 'Comedy']",
      "text/html": "<div>\n<style scoped>\n    .dataframe tbody tr th:only-of-type {\n        vertical-align: middle;\n    }\n\n    .dataframe tbody tr th {\n        vertical-align: top;\n    }\n\n    .dataframe thead th {\n        text-align: right;\n    }\n</style>\n<table border=\"1\" class=\"dataframe\">\n  <thead>\n    <tr style=\"text-align: right;\">\n      <th></th>\n      <th>movietitle</th>\n      <th>name</th>\n      <th>genres</th>\n    </tr>\n  </thead>\n  <tbody>\n    <tr>\n      <th>0</th>\n      <td>Toy Story (1995)</td>\n      <td>Toy Story</td>\n      <td>['Animation', 'Childrens', 'Comedy']</td>\n    </tr>\n  </tbody>\n</table>\n</div>"
     },
     "execution_count": 56,
     "metadata": {},
     "output_type": "execute_result"
    }
   ],
   "source": [
    "filename = f\"/home/diego/chat-rerank/experiments/ml-100k/df_items.csv\"\n",
    "df_items = pd.read_csv(filename)\n",
    "df_items.head(1)"
   ],
   "metadata": {
    "collapsed": false,
    "ExecuteTime": {
     "end_time": "2023-07-04T10:52:04.196431675Z",
     "start_time": "2023-07-04T10:52:04.180511430Z"
    }
   }
  },
  {
   "cell_type": "code",
   "execution_count": 58,
   "outputs": [
    {
     "data": {
      "text/plain": "False    1664\nTrue       18\ndtype: int64"
     },
     "execution_count": 58,
     "metadata": {},
     "output_type": "execute_result"
    }
   ],
   "source": [
    "df_items.duplicated().value_counts()"
   ],
   "metadata": {
    "collapsed": false,
    "ExecuteTime": {
     "end_time": "2023-07-04T10:54:41.515718711Z",
     "start_time": "2023-07-04T10:54:41.493834093Z"
    }
   }
  },
  {
   "cell_type": "code",
   "execution_count": null,
   "outputs": [],
   "source": [],
   "metadata": {
    "collapsed": false
   }
  }
 ],
 "metadata": {
  "kernelspec": {
   "display_name": "Python 3",
   "language": "python",
   "name": "python3"
  },
  "language_info": {
   "codemirror_mode": {
    "name": "ipython",
    "version": 2
   },
   "file_extension": ".py",
   "mimetype": "text/x-python",
   "name": "python",
   "nbconvert_exporter": "python",
   "pygments_lexer": "ipython2",
   "version": "2.7.6"
  }
 },
 "nbformat": 4,
 "nbformat_minor": 0
}
