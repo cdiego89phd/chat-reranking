{
 "cells": [
  {
   "cell_type": "code",
   "execution_count": 33,
   "metadata": {
    "collapsed": true,
    "ExecuteTime": {
     "end_time": "2023-10-27T16:03:04.206502028Z",
     "start_time": "2023-10-27T16:03:04.182693359Z"
    }
   },
   "outputs": [],
   "source": [
    "import numpy as np\n",
    "import pandas as pd\n",
    "import random\n",
    "import pickle\n",
    "import json"
   ]
  },
  {
   "cell_type": "code",
   "execution_count": null,
   "outputs": [],
   "source": [],
   "metadata": {
    "collapsed": false
   }
  },
  {
   "cell_type": "markdown",
   "source": [
    "<h2>Convert rec files for Ranksys</h2>"
   ],
   "metadata": {
    "collapsed": false
   }
  },
  {
   "cell_type": "code",
   "execution_count": 22,
   "outputs": [],
   "source": [
    "# filename = f\"/home/diego/chat-reranking/experiments/anime/itemid_to_name.pkl\"\n",
    "# with open(f\"{filename}\", 'rb') as fp:\n",
    "#     itemid_to_name = pickle.load(fp)\n",
    "# filename = f\"/home/diego/chat-reranking/experiments/anime/itemname_to_id.pkl\"\n",
    "# with open(f\"{filename}\", 'rb') as fp:\n",
    "#     itemname_to_id = pickle.load(fp)"
   ],
   "metadata": {
    "collapsed": false,
    "ExecuteTime": {
     "end_time": "2023-10-27T15:25:07.398079878Z",
     "start_time": "2023-10-27T15:25:07.379629046Z"
    }
   }
  },
  {
   "cell_type": "code",
   "execution_count": 23,
   "outputs": [],
   "source": [
    "# for i in [16498,31964,30276,20583,32182,33352,24833,34599,13601]:\n",
    "#     print(f\"{i}: {itemid_to_name[i]}\")\n",
    "# itemname_to_id[\"Assassination Classroom Second Season\"]"
   ],
   "metadata": {
    "collapsed": false,
    "ExecuteTime": {
     "end_time": "2023-10-27T15:25:07.581986709Z",
     "start_time": "2023-10-27T15:25:07.561658335Z"
    }
   }
  },
  {
   "cell_type": "code",
   "execution_count": 21,
   "outputs": [],
   "source": [],
   "metadata": {
    "collapsed": false,
    "ExecuteTime": {
     "end_time": "2023-10-27T15:24:52.012649400Z",
     "start_time": "2023-10-27T15:24:51.998850438Z"
    }
   }
  },
  {
   "cell_type": "code",
   "execution_count": 4,
   "outputs": [],
   "source": [
    "recs_folder = \"/home/diego/chat-reranking/experiments/anime/recs/reranked\"\n",
    "# recs_name = \"pzt-fold_0-serendipity-chatgpt\"\n",
    "recs_name = \"chatgpt0613-div-p1-pzt-fold_0_20_100\"\n",
    "top_n = 10\n",
    "\n",
    "# read JSON file\n",
    "f = open(f\"{recs_folder}/{recs_name}.json\")\n",
    "data = json.load(f)\n",
    "f.close()"
   ],
   "metadata": {
    "collapsed": false,
    "ExecuteTime": {
     "end_time": "2023-10-27T13:47:23.969926548Z",
     "start_time": "2023-10-27T13:47:23.943269729Z"
    }
   }
  },
  {
   "cell_type": "code",
   "execution_count": 5,
   "outputs": [],
   "source": [
    "train_folder = f\"/home/diego/chat-reranking/experiments/anime/fold_0/train_val_data.csv\"\n",
    "training_data = pd.read_csv(f'{train_folder}', names=[\"userid\", \"itemid\", \"rating\"], sep=\"\\t\")"
   ],
   "metadata": {
    "collapsed": false,
    "ExecuteTime": {
     "end_time": "2023-10-27T13:47:54.636583221Z",
     "start_time": "2023-10-27T13:47:52.671149021Z"
    }
   }
  },
  {
   "cell_type": "code",
   "execution_count": 9,
   "outputs": [
    {
     "name": "stdout",
     "output_type": "stream",
     "text": [
      "user 286312: 31964\n",
      "user 286312: 20583\n",
      "user 286312: 24833\n",
      "user 319750: 5958\n"
     ]
    }
   ],
   "source": [
    "# check whether some recommendations intersect with the training set\n",
    "recs = {}\n",
    "for entry in data:\n",
    "    recs[entry['userid']] = entry['reranked_recs']\n",
    "    user_train = list(training_data[training_data[\"userid\"] == entry['userid']][\"itemid\"].values)\n",
    "    for item in entry['reranked_recs']:\n",
    "        if item in user_train:\n",
    "            print(f\"user {entry['userid']}: {item}\")\n",
    "            # print(item)\n",
    "            # print(entry['recs'])\n",
    "            # print(\"######\")\n",
    "# recs"
   ],
   "metadata": {
    "collapsed": false,
    "ExecuteTime": {
     "end_time": "2023-10-27T13:54:31.764329871Z",
     "start_time": "2023-10-27T13:54:31.467096798Z"
    }
   }
  },
  {
   "cell_type": "code",
   "execution_count": 24,
   "outputs": [
    {
     "name": "stdout",
     "output_type": "stream",
     "text": [
      "Total users: 30\n",
      "None users: 0\n",
      "Users with some None: 0\n"
     ]
    }
   ],
   "source": [
    "# exclude users with less than 10 valid recommendations\n",
    "none_users = 0\n",
    "users_with_none = 0\n",
    "total_users = len(recs)\n",
    "with open(f\"{recs_folder}/{recs_name}\", \"w\") as f:\n",
    "    for user in recs:\n",
    "        if recs[user] is None:\n",
    "            none_users += 1\n",
    "            continue\n",
    "        score = float(top_n)\n",
    "        usr_str = \"\"\n",
    "        for r in recs[user]:\n",
    "            if r==-1:\n",
    "                users_with_none += 1\n",
    "                usr_str = None\n",
    "                break\n",
    "            usr_str += f\"{user}\\t{r}\\t{score}\\n\"\n",
    "            score -= 1.0\n",
    "        if usr_str is not None:\n",
    "            f.write(usr_str)\n",
    "\n",
    "print(f\"Total users: {total_users}\")\n",
    "print(f\"None users: {none_users}\")\n",
    "print(f\"Users with some None: {users_with_none}\")"
   ],
   "metadata": {
    "collapsed": false,
    "ExecuteTime": {
     "end_time": "2023-10-27T15:27:36.045727147Z",
     "start_time": "2023-10-27T15:27:35.900795242Z"
    }
   }
  },
  {
   "cell_type": "code",
   "execution_count": 36,
   "outputs": [
    {
     "name": "stdout",
     "output_type": "stream",
     "text": [
      "Tune the length of the candidate set: chatgpt\n",
      "Average max reranking pos: 25.733333333333334\n",
      "Average std reranking pos: 13.03567753854355\n"
     ]
    }
   ],
   "source": [
    "print(\"Tune the length of the candidate set: chatgpt\")\n",
    "max_pos = []\n",
    "for entry in data:\n",
    "    base = entry['recs']\n",
    "    re_ranked = entry['reranked_recs']\n",
    "    if len(re_ranked) == 0:\n",
    "        continue\n",
    "    \n",
    "    def return_pos(i):\n",
    "        if i in base:\n",
    "            return base.index(i)\n",
    "        else:\n",
    "            return 0\n",
    "        \n",
    "    pos = [return_pos(r) for r in re_ranked]\n",
    "    max_pos.append(max(pos))\n",
    "    \n",
    "print(f\"Average max reranking pos: {np.mean(max_pos)}\") \n",
    "print(f\"Average std reranking pos: {np.std(max_pos)}\")    "
   ],
   "metadata": {
    "collapsed": false,
    "ExecuteTime": {
     "end_time": "2023-10-27T16:05:15.751868776Z",
     "start_time": "2023-10-27T16:05:15.728403538Z"
    }
   }
  },
  {
   "cell_type": "code",
   "execution_count": 55,
   "outputs": [
    {
     "name": "stdout",
     "output_type": "stream",
     "text": [
      "Tune the length of the candidate set: baseline reranker MMR-pzt-fold_0_20_100\n",
      "Average max reranking pos: 22.436666666666667\n",
      "Average std reranking pos: 10.324049054943941\n"
     ]
    }
   ],
   "source": [
    "rerankers = [\"MMR-pzt-fold_0_20_100\", \"RxQuAD-pzt-fold_0_20_100\", \"xQuAD-pzt-fold_0_20_100\"]\n",
    "\n",
    "print(f\"Tune the length of the candidate set: baseline reranker {rerankers[0]}\")\n",
    "base_recs = pd.read_csv(f\"/home/diego/chat-reranking/experiments/anime/recs/baselines/pzt-fold_0_20_100\", \n",
    "                            names=[\"userid\", \"itemid\", \"rating\"], sep=\"\\t\")\n",
    "re_ranked = pd.read_csv(f\"/home/diego/chat-reranking/experiments/anime/recs/reranked/{rerankers[2]}\", \n",
    "                            names=[\"userid\", \"itemid\", \"rating\"], sep=\"\\t\")\n",
    "\n",
    "max_pos = []\n",
    "for userid in re_ranked[\"userid\"].unique()[:300]:\n",
    "    base = list(base_recs[base_recs[\"userid\"] == userid][\"itemid\"].values[:50])\n",
    "    recs = re_ranked[re_ranked[\"userid\"] == userid][\"itemid\"].values.tolist()\n",
    "        \n",
    "    pos = [base.index(r) for r in recs]\n",
    "    max_pos.append(max(pos))\n",
    "print(f\"Average max reranking pos: {np.mean(max_pos)}\") \n",
    "print(f\"Average std reranking pos: {np.std(max_pos)}\")  "
   ],
   "metadata": {
    "collapsed": false,
    "ExecuteTime": {
     "end_time": "2023-10-27T16:59:38.406790962Z",
     "start_time": "2023-10-27T16:59:31.843285484Z"
    }
   }
  },
  {
   "cell_type": "code",
   "execution_count": 47,
   "outputs": [
    {
     "data": {
      "text/plain": "   userid  itemid  rating\n0  198183   27899    10.0",
      "text/html": "<div>\n<style scoped>\n    .dataframe tbody tr th:only-of-type {\n        vertical-align: middle;\n    }\n\n    .dataframe tbody tr th {\n        vertical-align: top;\n    }\n\n    .dataframe thead th {\n        text-align: right;\n    }\n</style>\n<table border=\"1\" class=\"dataframe\">\n  <thead>\n    <tr style=\"text-align: right;\">\n      <th></th>\n      <th>userid</th>\n      <th>itemid</th>\n      <th>rating</th>\n    </tr>\n  </thead>\n  <tbody>\n    <tr>\n      <th>0</th>\n      <td>198183</td>\n      <td>27899</td>\n      <td>10.0</td>\n    </tr>\n  </tbody>\n</table>\n</div>"
     },
     "execution_count": 47,
     "metadata": {},
     "output_type": "execute_result"
    }
   ],
   "source": [
    "re_ranked.head(1)"
   ],
   "metadata": {
    "collapsed": false,
    "ExecuteTime": {
     "end_time": "2023-10-27T16:32:34.969098670Z",
     "start_time": "2023-10-27T16:32:34.945593162Z"
    }
   }
  },
  {
   "cell_type": "code",
   "execution_count": null,
   "outputs": [],
   "source": [],
   "metadata": {
    "collapsed": false
   }
  },
  {
   "cell_type": "markdown",
   "source": [
    "<h2>Results analysis</h2>"
   ],
   "metadata": {
    "collapsed": false
   }
  },
  {
   "cell_type": "code",
   "execution_count": 37,
   "outputs": [],
   "source": [
    "results_path = \"/home/diego/chat-rerank/experiments/ml-100k/results/ranksys_eval\"\n",
    "baseline_recs = pd.read_csv(f\"{results_path}/pzt-fold_0\")\n",
    "gpt_recs = pd.read_csv(f\"{results_path}/pzt-fold_0-chatgpt.csv\")\n",
    "mmr_recs = pd.read_csv(f\"{results_path}/MMR-pzt-fold_0.csv\")\n",
    "xquad_recs = pd.read_csv(f\"{results_path}/xQuAD-pzt-fold_0.csv\")\n",
    "rxquad_recs = pd.read_csv(f\"{results_path}/RxQuAD-pzt-fold_0.csv\")\n",
    "gpt_seren_recs = pd.read_csv(f\"{results_path}/pzt-fold_0-serendipity-chatgpt.csv\")"
   ],
   "metadata": {
    "collapsed": false,
    "ExecuteTime": {
     "end_time": "2023-07-03T17:37:10.610961417Z",
     "start_time": "2023-07-03T17:37:10.532501064Z"
    }
   }
  },
  {
   "cell_type": "code",
   "execution_count": 38,
   "outputs": [
    {
     "name": "stdout",
     "output_type": "stream",
     "text": [
      "ChatGPT better than baseline in the following metrics:\n",
      "s_recall_norel\n",
      "eild_norel\n",
      "binomial_norel\n",
      "cbs_norel\n",
      "cbs_rel\n",
      "epc_norel\n",
      "efd_norel\n",
      "epd_norel\n",
      "epd_rel\n"
     ]
    }
   ],
   "source": [
    "d = {\"reranker\": [\"baseline (MF)\", \"chat-gpt\", \"MMR\", \"xQuAD\", \"RxQuAD\", \"chat-gpt-S\"]}\n",
    "print(\"ChatGPT better than baseline in the following metrics:\")\n",
    "for col in gpt_recs.columns:\n",
    "    d[col] = [baseline_recs[col][0], gpt_recs[col][0], mmr_recs[col][0], xquad_recs[col][0], rxquad_recs[col][0], gpt_seren_recs[col][0]]\n",
    "    if gpt_recs[col][0] > baseline_recs[col][0]:\n",
    "        print(col)\n",
    "results = pd.DataFrame(data=d)"
   ],
   "metadata": {
    "collapsed": false,
    "ExecuteTime": {
     "end_time": "2023-07-03T17:37:11.266553071Z",
     "start_time": "2023-07-03T17:37:11.241925918Z"
    }
   }
  },
  {
   "cell_type": "code",
   "execution_count": 39,
   "outputs": [
    {
     "data": {
      "text/plain": "        reranker      prec    recall      ndcg  s_recall_norel  s_recall_rel  \\\n0  baseline (MF)  0.227147  0.267024  0.290306        0.501926      0.206117   \n1       chat-gpt  0.163203  0.165964  0.207276        0.582519      0.171792   \n2            MMR  0.202863  0.237428  0.265213        0.647821      0.208015   \n3          xQuAD  0.219512  0.252236  0.271010        0.599263      0.232293   \n4         RxQuAD  0.224178  0.258343  0.277610        0.554948      0.228107   \n5     chat-gpt-S  0.200848  0.231910  0.253708        0.497293      0.183848   \n\n     a_ndcg    err_ia  eild_norel  eild_rel  binomial_norel  binomial_rel  \\\n0  0.322673  0.155372    0.779424  0.158282        0.396710      0.311174   \n1  0.250379  0.123352    0.832728  0.112242        0.437842      0.282118   \n2  0.308786  0.147390    0.908503  0.152934        0.630131      0.342383   \n3  0.358666  0.173823    0.801650  0.153373        0.349369      0.306487   \n4  0.355004  0.180848    0.798137  0.159741        0.359947      0.318495   \n5  0.285446  0.135465    0.782174  0.136243        0.382823      0.291398   \n\n   cbs_norel   cbs_rel  epc_norel   epc_rel  efd_norel   efd_rel  epd_norel  \\\n0   0.150426  0.022305   0.795201  0.175301   8.874204  1.976686   0.787220   \n1   0.196504  0.022438   0.800794  0.125148   8.956339  1.415414   0.824287   \n2        NaN       NaN   0.802352  0.156628   8.963094  1.767976   0.845099   \n3        NaN       NaN   0.791737  0.167227   8.860434  1.895577   0.803579   \n4        NaN       NaN   0.791228  0.171029   8.848852  1.937397   0.793750   \n5   0.145918  0.019126   0.787908  0.155917   8.788886  1.754334   0.790241   \n\n    epd_rel  \n0  0.181073  \n1  0.824287  \n2  0.845099  \n3  0.803579  \n4  0.793750  \n5  0.790241  ",
      "text/html": "<div>\n<style scoped>\n    .dataframe tbody tr th:only-of-type {\n        vertical-align: middle;\n    }\n\n    .dataframe tbody tr th {\n        vertical-align: top;\n    }\n\n    .dataframe thead th {\n        text-align: right;\n    }\n</style>\n<table border=\"1\" class=\"dataframe\">\n  <thead>\n    <tr style=\"text-align: right;\">\n      <th></th>\n      <th>reranker</th>\n      <th>prec</th>\n      <th>recall</th>\n      <th>ndcg</th>\n      <th>s_recall_norel</th>\n      <th>s_recall_rel</th>\n      <th>a_ndcg</th>\n      <th>err_ia</th>\n      <th>eild_norel</th>\n      <th>eild_rel</th>\n      <th>binomial_norel</th>\n      <th>binomial_rel</th>\n      <th>cbs_norel</th>\n      <th>cbs_rel</th>\n      <th>epc_norel</th>\n      <th>epc_rel</th>\n      <th>efd_norel</th>\n      <th>efd_rel</th>\n      <th>epd_norel</th>\n      <th>epd_rel</th>\n    </tr>\n  </thead>\n  <tbody>\n    <tr>\n      <th>0</th>\n      <td>baseline (MF)</td>\n      <td>0.227147</td>\n      <td>0.267024</td>\n      <td>0.290306</td>\n      <td>0.501926</td>\n      <td>0.206117</td>\n      <td>0.322673</td>\n      <td>0.155372</td>\n      <td>0.779424</td>\n      <td>0.158282</td>\n      <td>0.396710</td>\n      <td>0.311174</td>\n      <td>0.150426</td>\n      <td>0.022305</td>\n      <td>0.795201</td>\n      <td>0.175301</td>\n      <td>8.874204</td>\n      <td>1.976686</td>\n      <td>0.787220</td>\n      <td>0.181073</td>\n    </tr>\n    <tr>\n      <th>1</th>\n      <td>chat-gpt</td>\n      <td>0.163203</td>\n      <td>0.165964</td>\n      <td>0.207276</td>\n      <td>0.582519</td>\n      <td>0.171792</td>\n      <td>0.250379</td>\n      <td>0.123352</td>\n      <td>0.832728</td>\n      <td>0.112242</td>\n      <td>0.437842</td>\n      <td>0.282118</td>\n      <td>0.196504</td>\n      <td>0.022438</td>\n      <td>0.800794</td>\n      <td>0.125148</td>\n      <td>8.956339</td>\n      <td>1.415414</td>\n      <td>0.824287</td>\n      <td>0.824287</td>\n    </tr>\n    <tr>\n      <th>2</th>\n      <td>MMR</td>\n      <td>0.202863</td>\n      <td>0.237428</td>\n      <td>0.265213</td>\n      <td>0.647821</td>\n      <td>0.208015</td>\n      <td>0.308786</td>\n      <td>0.147390</td>\n      <td>0.908503</td>\n      <td>0.152934</td>\n      <td>0.630131</td>\n      <td>0.342383</td>\n      <td>NaN</td>\n      <td>NaN</td>\n      <td>0.802352</td>\n      <td>0.156628</td>\n      <td>8.963094</td>\n      <td>1.767976</td>\n      <td>0.845099</td>\n      <td>0.845099</td>\n    </tr>\n    <tr>\n      <th>3</th>\n      <td>xQuAD</td>\n      <td>0.219512</td>\n      <td>0.252236</td>\n      <td>0.271010</td>\n      <td>0.599263</td>\n      <td>0.232293</td>\n      <td>0.358666</td>\n      <td>0.173823</td>\n      <td>0.801650</td>\n      <td>0.153373</td>\n      <td>0.349369</td>\n      <td>0.306487</td>\n      <td>NaN</td>\n      <td>NaN</td>\n      <td>0.791737</td>\n      <td>0.167227</td>\n      <td>8.860434</td>\n      <td>1.895577</td>\n      <td>0.803579</td>\n      <td>0.803579</td>\n    </tr>\n    <tr>\n      <th>4</th>\n      <td>RxQuAD</td>\n      <td>0.224178</td>\n      <td>0.258343</td>\n      <td>0.277610</td>\n      <td>0.554948</td>\n      <td>0.228107</td>\n      <td>0.355004</td>\n      <td>0.180848</td>\n      <td>0.798137</td>\n      <td>0.159741</td>\n      <td>0.359947</td>\n      <td>0.318495</td>\n      <td>NaN</td>\n      <td>NaN</td>\n      <td>0.791228</td>\n      <td>0.171029</td>\n      <td>8.848852</td>\n      <td>1.937397</td>\n      <td>0.793750</td>\n      <td>0.793750</td>\n    </tr>\n    <tr>\n      <th>5</th>\n      <td>chat-gpt-S</td>\n      <td>0.200848</td>\n      <td>0.231910</td>\n      <td>0.253708</td>\n      <td>0.497293</td>\n      <td>0.183848</td>\n      <td>0.285446</td>\n      <td>0.135465</td>\n      <td>0.782174</td>\n      <td>0.136243</td>\n      <td>0.382823</td>\n      <td>0.291398</td>\n      <td>0.145918</td>\n      <td>0.019126</td>\n      <td>0.787908</td>\n      <td>0.155917</td>\n      <td>8.788886</td>\n      <td>1.754334</td>\n      <td>0.790241</td>\n      <td>0.790241</td>\n    </tr>\n  </tbody>\n</table>\n</div>"
     },
     "execution_count": 39,
     "metadata": {},
     "output_type": "execute_result"
    }
   ],
   "source": [
    "results"
   ],
   "metadata": {
    "collapsed": false,
    "ExecuteTime": {
     "end_time": "2023-07-03T17:37:12.438006678Z",
     "start_time": "2023-07-03T17:37:12.395382560Z"
    }
   }
  },
  {
   "cell_type": "code",
   "execution_count": null,
   "outputs": [],
   "source": [],
   "metadata": {
    "collapsed": false,
    "ExecuteTime": {
     "end_time": "2023-06-29T21:55:19.998489367Z",
     "start_time": "2023-06-29T21:55:19.976637019Z"
    }
   }
  },
  {
   "cell_type": "code",
   "execution_count": null,
   "outputs": [],
   "source": [],
   "metadata": {
    "collapsed": false
   }
  },
  {
   "cell_type": "code",
   "execution_count": 66,
   "outputs": [],
   "source": [
    "filename = f\"/home/diego/chat-rerank/experiments/ml-100k/itemid_to_name.pkl\"\n",
    "with open(f\"{filename}\", 'rb') as fp:\n",
    "    itemid_to_name = pickle.load(fp)"
   ],
   "metadata": {
    "collapsed": false,
    "ExecuteTime": {
     "end_time": "2023-07-04T16:51:33.427950265Z",
     "start_time": "2023-07-04T16:51:33.409206061Z"
    }
   }
  },
  {
   "cell_type": "code",
   "execution_count": 67,
   "outputs": [
    {
     "data": {
      "text/plain": "'Sabrina'"
     },
     "execution_count": 67,
     "metadata": {},
     "output_type": "execute_result"
    }
   ],
   "source": [
    "itemid_to_name[274]"
   ],
   "metadata": {
    "collapsed": false,
    "ExecuteTime": {
     "end_time": "2023-07-04T16:51:33.995433256Z",
     "start_time": "2023-07-04T16:51:33.986163676Z"
    }
   }
  },
  {
   "cell_type": "code",
   "execution_count": 68,
   "outputs": [],
   "source": [
    "filename = f\"/home/diego/chat-rerank/experiments/ml-100k/itemname_to_id.pkl\"\n",
    "with open(f\"{filename}\", 'rb') as fp:\n",
    "    itemname_to_id = pickle.load(fp)"
   ],
   "metadata": {
    "collapsed": false,
    "ExecuteTime": {
     "end_time": "2023-07-04T16:51:59.356602562Z",
     "start_time": "2023-07-04T16:51:59.345306808Z"
    }
   }
  },
  {
   "cell_type": "code",
   "execution_count": 69,
   "outputs": [
    {
     "data": {
      "text/plain": "486"
     },
     "execution_count": 69,
     "metadata": {},
     "output_type": "execute_result"
    }
   ],
   "source": [
    "itemname_to_id[\"Sabrina\"]"
   ],
   "metadata": {
    "collapsed": false,
    "ExecuteTime": {
     "end_time": "2023-07-04T16:51:59.807117388Z",
     "start_time": "2023-07-04T16:51:59.799648619Z"
    }
   }
  },
  {
   "cell_type": "code",
   "execution_count": 56,
   "outputs": [
    {
     "data": {
      "text/plain": "         movietitle       name                                genres\n0  Toy Story (1995)  Toy Story  ['Animation', 'Childrens', 'Comedy']",
      "text/html": "<div>\n<style scoped>\n    .dataframe tbody tr th:only-of-type {\n        vertical-align: middle;\n    }\n\n    .dataframe tbody tr th {\n        vertical-align: top;\n    }\n\n    .dataframe thead th {\n        text-align: right;\n    }\n</style>\n<table border=\"1\" class=\"dataframe\">\n  <thead>\n    <tr style=\"text-align: right;\">\n      <th></th>\n      <th>movietitle</th>\n      <th>name</th>\n      <th>genres</th>\n    </tr>\n  </thead>\n  <tbody>\n    <tr>\n      <th>0</th>\n      <td>Toy Story (1995)</td>\n      <td>Toy Story</td>\n      <td>['Animation', 'Childrens', 'Comedy']</td>\n    </tr>\n  </tbody>\n</table>\n</div>"
     },
     "execution_count": 56,
     "metadata": {},
     "output_type": "execute_result"
    }
   ],
   "source": [
    "filename = f\"/home/diego/chat-rerank/experiments/ml-100k/df_items.csv\"\n",
    "df_items = pd.read_csv(filename)\n",
    "df_items.head(1)"
   ],
   "metadata": {
    "collapsed": false,
    "ExecuteTime": {
     "end_time": "2023-07-04T10:52:04.196431675Z",
     "start_time": "2023-07-04T10:52:04.180511430Z"
    }
   }
  },
  {
   "cell_type": "code",
   "execution_count": 58,
   "outputs": [
    {
     "data": {
      "text/plain": "False    1664\nTrue       18\ndtype: int64"
     },
     "execution_count": 58,
     "metadata": {},
     "output_type": "execute_result"
    }
   ],
   "source": [
    "df_items.duplicated().value_counts()"
   ],
   "metadata": {
    "collapsed": false,
    "ExecuteTime": {
     "end_time": "2023-07-04T10:54:41.515718711Z",
     "start_time": "2023-07-04T10:54:41.493834093Z"
    }
   }
  },
  {
   "cell_type": "code",
   "execution_count": null,
   "outputs": [],
   "source": [],
   "metadata": {
    "collapsed": false
   }
  }
 ],
 "metadata": {
  "kernelspec": {
   "display_name": "Python 3",
   "language": "python",
   "name": "python3"
  },
  "language_info": {
   "codemirror_mode": {
    "name": "ipython",
    "version": 2
   },
   "file_extension": ".py",
   "mimetype": "text/x-python",
   "name": "python",
   "nbconvert_exporter": "python",
   "pygments_lexer": "ipython2",
   "version": "2.7.6"
  }
 },
 "nbformat": 4,
 "nbformat_minor": 0
}
