{
 "cells": [
  {
   "cell_type": "code",
   "execution_count": 11,
   "outputs": [],
   "source": [
    "import pandas as pd\n",
    "import pickle\n",
    "from ast import literal_eval"
   ],
   "metadata": {
    "collapsed": false,
    "ExecuteTime": {
     "end_time": "2023-05-23T16:31:16.074681007Z",
     "start_time": "2023-05-23T16:31:16.013994350Z"
    }
   }
  },
  {
   "cell_type": "code",
   "execution_count": 20,
   "outputs": [],
   "source": [
    "def load_data(dataset_dir: str,\n",
    "              fold: str\n",
    "              ) -> (pd.DataFrame, pd.DataFrame, dict):\n",
    "\n",
    "    # load dataset\n",
    "    dir_fold = f\"{dataset_dir}fold_{fold}\"\n",
    "    data = pd.read_csv(f\"{dir_fold}/data.csv\")\n",
    "\n",
    "    data.support = data.support.apply(literal_eval)\n",
    "    data.test_set = data.test_set.apply(literal_eval)\n",
    "    data.remaining_pos = data.remaining_pos.apply(literal_eval)\n",
    "    data.movieId = data.movieId.apply(literal_eval)\n",
    "    data.pos = data.pos.apply(literal_eval)\n",
    "    data.neg = data.neg.apply(literal_eval)\n",
    "    data.candidates = data.candidates.apply(literal_eval)\n",
    "\n",
    "    # load items\n",
    "    items = pd.read_csv(f\"{dataset_dir}items.csv\")\n",
    "\n",
    "    with open(f\"{dataset_dir}itemid_to_name.pkl\", 'rb') as fp:\n",
    "        itemid_to_name = pickle.load(fp)\n",
    "\n",
    "    return data, itemid_to_name, items\n",
    "\n",
    "\n",
    "def prepare_df_evaluation(dataset: pd.DataFrame,\n",
    "                          recs: dict,\n",
    "                          max_cutoff: int\n",
    "                          ) -> pd.DataFrame:\n",
    "\n",
    "    users = list(recs.keys())\n",
    "    ratings_column, rec_column, test_column = [], [], []\n",
    "    for user in recs:\n",
    "        user_df = dataset[dataset['userId'] == user]\n",
    "        ratings_column.append(list(user_df['movieId'].values)[0])\n",
    "        test_column.append(list(user_df['test_set'].values)[0])\n",
    "        rec_column.append([el[0] for el in recs[user]])\n",
    "\n",
    "    df = pd.DataFrame(data={\"userId\": users,\n",
    "                            \"ratings\": ratings_column,\n",
    "                            \"test_set\": test_column,\n",
    "                            \"recs\": rec_column})\n",
    "\n",
    "    for k in range(5, max_cutoff + 1, 5):\n",
    "        df[f\"hits@{k}\"] = df.apply(lambda x: list(set(x[\"recs\"][:k]).intersection(x[\"test_set\"])), axis=1)\n",
    "\n",
    "    return df\n",
    "\n",
    "def jaccard(list1, list2):\n",
    "    intersection = len(list(set(list1).intersection(list2)))\n",
    "    union = (len(list1) + len(list2)) - intersection\n",
    "    return float(intersection) / union\n",
    "\n",
    "def _ild(recs: list,\n",
    "         cutoff: int,\n",
    "         items: pd.DataFrame\n",
    "         ) -> float:\n",
    "    score = 0\n",
    "    for i, x in enumerate(recs[:cutoff-1]):\n",
    "        for y in recs[i + 1:cutoff]:\n",
    "            score += 1 - jaccard(items.loc[x][\"genres\"], items.loc[y][\"genres\"])\n",
    "    return score/(cutoff*(cutoff-1))\n",
    "\n",
    "\n",
    "def _eild(hits: list,\n",
    "          cutoff: int,\n",
    "          items: pd.DataFrame\n",
    "          ) -> float:\n",
    "    if len(hits) < 2:\n",
    "        return 0\n",
    "    else:\n",
    "        score = 0\n",
    "        for i, x in enumerate(hits[:cutoff-1]):\n",
    "            for y in hits[i + 1:cutoff]:\n",
    "                score += 1 - jaccard(items.loc[x][\"genres\"], items.loc[y][\"genres\"])\n",
    "    return score/(cutoff*(cutoff-1))\n",
    "\n",
    "def eild(df_div: pd.DataFrame,\n",
    "         items: pd.DataFrame\n",
    "         ) -> pd.DataFrame:\n",
    "    \"\"\"Expected Intra-List Diversity (based on genres and Jaccard distance)\"\"\"\n",
    "\n",
    "    df_div[f\"eild@{5}\"] = df_div.apply(lambda x: _eild(x[f\"hits@{5}\"], 5, items), axis=1)\n",
    "    df_div[f\"eild@{10}\"] = df_div.apply(lambda x: _eild(x[f\"hits@{10}\"], 10, items), axis=1)\n",
    "\n",
    "    return df_div\n",
    "\n",
    "def ild(df_div: pd.DataFrame,\n",
    "         items: pd.DataFrame\n",
    "         ) -> pd.DataFrame:\n",
    "    \"\"\"Expected Intra-List Diversity (based on genres and Jaccard distance)\"\"\"\n",
    "\n",
    "    df_div[f\"ild@{5}\"] = df_div.apply(lambda x: _ild(x[\"recs\"], 5, items), axis=1)\n",
    "    df_div[f\"ild@{10}\"] = df_div.apply(lambda x: _ild(x[\"recs\"], 10, items), axis=1)\n",
    "\n",
    "    return df_div\n",
    "\n",
    "def ild_pair(pair, features):\n",
    "    return 1 - jaccard(features.loc[pair[0]][\"genres\"], features.loc[pair[1]][\"genres\"])"
   ],
   "metadata": {
    "collapsed": false,
    "ExecuteTime": {
     "end_time": "2023-05-23T16:53:35.381530590Z",
     "start_time": "2023-05-23T16:53:35.346062678Z"
    }
   }
  },
  {
   "cell_type": "code",
   "execution_count": 21,
   "outputs": [],
   "source": [
    "# from itertools import combinations\n",
    "# def find_most_similar_movies(list_of_movies, features):\n",
    "#\n",
    "#     comb = list(combinations(list_of_movies, 2))\n",
    "#     scores = []\n",
    "#     for c in comb:\n",
    "#         scores.append(ild_pair(c, features))\n",
    "#     return comb(scores.index(max(scores)))\n",
    "#\n",
    "# find_most_similar_movies([110, 457, 318, 1, 377, 34, 32, 380, 21, 367], df_items)"
   ],
   "metadata": {
    "collapsed": false,
    "ExecuteTime": {
     "end_time": "2023-05-23T16:53:36.628597274Z",
     "start_time": "2023-05-23T16:53:36.487320376Z"
    }
   }
  },
  {
   "cell_type": "code",
   "execution_count": null,
   "outputs": [],
   "source": [],
   "metadata": {
    "collapsed": false
   }
  },
  {
   "cell_type": "code",
   "execution_count": 13,
   "outputs": [],
   "source": [
    "evaluation_dir = \"/home/diego/lamore/results/zero_shot_recs/\"\n",
    "results_name = \"pop_rec-fold_0.pkl\"\n",
    "dataset_dir = \"/home/diego/lamore/datasets/folds/\"\n",
    "fold = \"0\"\n",
    "\n",
    "# load recs\n",
    "recs_name = f\"{evaluation_dir}{results_name}\"\n",
    "with open(f\"{recs_name}\", 'rb') as fp:\n",
    "    rec_list = pickle.load(fp)\n",
    "\n",
    "data, itemid_to_name, df_items = load_data(dataset_dir, fold)\n",
    "itemname_to_id = {v: k for k, v in itemid_to_name.items()}\n",
    "df_items = df_items.set_index(\"movieId\")\n",
    "\n",
    "df_evaluation = prepare_df_evaluation(data, rec_list, 30)"
   ],
   "metadata": {
    "collapsed": false,
    "ExecuteTime": {
     "end_time": "2023-05-23T16:31:22.159861808Z",
     "start_time": "2023-05-23T16:31:16.917115869Z"
    }
   }
  },
  {
   "cell_type": "code",
   "execution_count": 35,
   "outputs": [
    {
     "name": "stdout",
     "output_type": "stream",
     "text": [
      "0.8723404255319149\n",
      "21\n",
      "\n",
      "[(110, 457), (110, 318), (110, 1), (110, 377), (110, 34), (110, 32), (110, 380), (110, 21), (110, 367), (457, 318), (457, 1), (457, 377), (457, 34), (457, 32), (457, 380), (457, 21), (457, 367), (318, 1), (318, 377), (318, 34), (318, 32), (318, 380), (318, 21), (318, 367), (1, 377), (1, 34), (1, 32), (1, 380), (1, 21), (1, 367), (377, 34), (377, 32), (377, 380), (377, 21), (377, 367), (34, 32), (34, 380), (34, 21), (34, 367), (32, 380), (32, 21), (32, 367), (380, 21), (380, 367), (21, 367)]\n",
      "26\n",
      "0.8085106382978724\n",
      "\n",
      "0.8518518518518519\n",
      "0.85\n",
      "0.8333333333333334\n",
      "0.8723404255319149\n",
      "0.8181818181818181\n",
      "0.8113207547169812\n",
      "\n",
      "45\n"
     ]
    },
    {
     "data": {
      "text/plain": "(318, 380)"
     },
     "execution_count": 35,
     "metadata": {},
     "output_type": "execute_result"
    }
   ],
   "source": [
    "from itertools import combinations\n",
    "def find_most_similar_movies(list_of_movies, features):\n",
    "\n",
    "    comb = list(combinations(list_of_movies, 2))\n",
    "    scores = []\n",
    "    for c in comb:\n",
    "        scores.append(ild_pair(c, features))\n",
    "    max_i = scores.index(max(scores))\n",
    "    print(max(scores))\n",
    "    print(max_i)\n",
    "    print()\n",
    "    print(comb)\n",
    "    print(comb.index((1,32)))\n",
    "    print(scores[comb.index((1,32))])\n",
    "    print()\n",
    "\n",
    "    for jj in scores:\n",
    "        if jj > 0.8085106382978724:\n",
    "            print(jj)\n",
    "    print()\n",
    "    print(len(comb))\n",
    "    return comb[max_i]\n",
    "\n",
    "find_most_similar_movies([110, 457, 318, 1, 377, 34, 32, 380, 21, 367], df_items)"
   ],
   "metadata": {
    "collapsed": false,
    "ExecuteTime": {
     "end_time": "2023-05-23T17:14:50.329042852Z",
     "start_time": "2023-05-23T17:14:50.197285676Z"
    }
   }
  },
  {
   "cell_type": "code",
   "execution_count": 29,
   "outputs": [
    {
     "data": {
      "text/plain": "title     Shawshank Redemption, The (1994)\ngenres                           ['Drama']\nname              The Shawshank Redemption\nName: 318, dtype: object"
     },
     "execution_count": 29,
     "metadata": {},
     "output_type": "execute_result"
    }
   ],
   "source": [
    "df_items.loc[318]"
   ],
   "metadata": {
    "collapsed": false,
    "ExecuteTime": {
     "end_time": "2023-05-23T16:59:10.173723218Z",
     "start_time": "2023-05-23T16:59:10.139739398Z"
    }
   }
  },
  {
   "cell_type": "code",
   "execution_count": 30,
   "outputs": [
    {
     "data": {
      "text/plain": "title                                 True Lies (1994)\ngenres    ['Action', 'Adventure', 'Comedy', 'Romance']\nname                                         True Lies\nName: 380, dtype: object"
     },
     "execution_count": 30,
     "metadata": {},
     "output_type": "execute_result"
    }
   ],
   "source": [
    "df_items.loc[380]"
   ],
   "metadata": {
    "collapsed": false,
    "ExecuteTime": {
     "end_time": "2023-05-23T16:59:30.367897341Z",
     "start_time": "2023-05-23T16:59:30.337669331Z"
    }
   }
  },
  {
   "cell_type": "code",
   "execution_count": 14,
   "outputs": [
    {
     "data": {
      "text/plain": "   userId                                            ratings  \\\n0     581  [3, 1409, 1265, 733, 736, 597, 1454, 3257, 326...   \n1      15  [3421, 648, 3354, 2485, 141, 2126, 2058, 3798,...   \n2     543  [2987, 2990, 3793, 2054, 1257, 724, 725, 1259,...   \n3     166  [2987, 1248, 1175, 1179, 574, 648, 1320, 3863,...   \n\n                                            test_set  \\\n0                      [3809, 892, 2875, 1721, 2125]   \n1  [3489, 593, 1198, 500, 628, 1466, 2694, 1909, ...   \n2  [1293, 1387, 2170, 1291, 3508, 707, 2420, 2448...   \n3  [3546, 2731, 2529, 585, 1198, 299, 923, 30, 55...   \n\n                                                recs hits@5     hits@10  \\\n0  [480, 260, 110, 457, 296, 318, 1, 377, 34, 32,...     []          []   \n1  [296, 1, 377, 34, 32, 380, 21, 357, 39, 150, 2...     []          []   \n2  [34, 357, 150, 223, 551, 364, 597, 11, 111, 53...     []  [364, 597]   \n3  [110, 457, 318, 1, 377, 34, 32, 380, 21, 367, ...     []          []   \n\n          hits@15                       hits@20                       hits@25  \\\n0              []                            []                            []   \n1              []                            []                         [500]   \n2  [10, 364, 597]  [161, 36, 10, 364, 594, 597]  [161, 36, 10, 364, 594, 597]   \n3              []                            []                         [500]   \n\n                             hits@30     ild@5    ild@10  \n0                                 []  0.370045  0.372836  \n1                         [344, 500]  0.361114  0.358851  \n2  [161, 36, 10, 364, 141, 594, 597]  0.360674  0.346309  \n3                              [500]  0.368154  0.363216  ",
      "text/html": "<div>\n<style scoped>\n    .dataframe tbody tr th:only-of-type {\n        vertical-align: middle;\n    }\n\n    .dataframe tbody tr th {\n        vertical-align: top;\n    }\n\n    .dataframe thead th {\n        text-align: right;\n    }\n</style>\n<table border=\"1\" class=\"dataframe\">\n  <thead>\n    <tr style=\"text-align: right;\">\n      <th></th>\n      <th>userId</th>\n      <th>ratings</th>\n      <th>test_set</th>\n      <th>recs</th>\n      <th>hits@5</th>\n      <th>hits@10</th>\n      <th>hits@15</th>\n      <th>hits@20</th>\n      <th>hits@25</th>\n      <th>hits@30</th>\n      <th>ild@5</th>\n      <th>ild@10</th>\n    </tr>\n  </thead>\n  <tbody>\n    <tr>\n      <th>0</th>\n      <td>581</td>\n      <td>[3, 1409, 1265, 733, 736, 597, 1454, 3257, 326...</td>\n      <td>[3809, 892, 2875, 1721, 2125]</td>\n      <td>[480, 260, 110, 457, 296, 318, 1, 377, 34, 32,...</td>\n      <td>[]</td>\n      <td>[]</td>\n      <td>[]</td>\n      <td>[]</td>\n      <td>[]</td>\n      <td>[]</td>\n      <td>0.370045</td>\n      <td>0.372836</td>\n    </tr>\n    <tr>\n      <th>1</th>\n      <td>15</td>\n      <td>[3421, 648, 3354, 2485, 141, 2126, 2058, 3798,...</td>\n      <td>[3489, 593, 1198, 500, 628, 1466, 2694, 1909, ...</td>\n      <td>[296, 1, 377, 34, 32, 380, 21, 357, 39, 150, 2...</td>\n      <td>[]</td>\n      <td>[]</td>\n      <td>[]</td>\n      <td>[]</td>\n      <td>[500]</td>\n      <td>[344, 500]</td>\n      <td>0.361114</td>\n      <td>0.358851</td>\n    </tr>\n    <tr>\n      <th>2</th>\n      <td>543</td>\n      <td>[2987, 2990, 3793, 2054, 1257, 724, 725, 1259,...</td>\n      <td>[1293, 1387, 2170, 1291, 3508, 707, 2420, 2448...</td>\n      <td>[34, 357, 150, 223, 551, 364, 597, 11, 111, 53...</td>\n      <td>[]</td>\n      <td>[364, 597]</td>\n      <td>[10, 364, 597]</td>\n      <td>[161, 36, 10, 364, 594, 597]</td>\n      <td>[161, 36, 10, 364, 594, 597]</td>\n      <td>[161, 36, 10, 364, 141, 594, 597]</td>\n      <td>0.360674</td>\n      <td>0.346309</td>\n    </tr>\n    <tr>\n      <th>3</th>\n      <td>166</td>\n      <td>[2987, 1248, 1175, 1179, 574, 648, 1320, 3863,...</td>\n      <td>[3546, 2731, 2529, 585, 1198, 299, 923, 30, 55...</td>\n      <td>[110, 457, 318, 1, 377, 34, 32, 380, 21, 367, ...</td>\n      <td>[]</td>\n      <td>[]</td>\n      <td>[]</td>\n      <td>[]</td>\n      <td>[500]</td>\n      <td>[500]</td>\n      <td>0.368154</td>\n      <td>0.363216</td>\n    </tr>\n  </tbody>\n</table>\n</div>"
     },
     "execution_count": 14,
     "metadata": {},
     "output_type": "execute_result"
    }
   ],
   "source": [
    "df_ild = ild(df_evaluation.copy(deep=True), df_items.copy(deep=True))\n",
    "df_ild"
   ],
   "metadata": {
    "collapsed": false,
    "ExecuteTime": {
     "end_time": "2023-05-23T16:31:22.278834139Z",
     "start_time": "2023-05-23T16:31:22.158408707Z"
    }
   }
  },
  {
   "cell_type": "code",
   "execution_count": 15,
   "outputs": [
    {
     "data": {
      "text/plain": "   userId                                            ratings  \\\n0     581  [3, 1409, 1265, 733, 736, 597, 1454, 3257, 326...   \n1      15  [3421, 648, 3354, 2485, 141, 2126, 2058, 3798,...   \n2     543  [2987, 2990, 3793, 2054, 1257, 724, 725, 1259,...   \n3     166  [2987, 1248, 1175, 1179, 574, 648, 1320, 3863,...   \n\n                                            test_set  \\\n0                      [3809, 892, 2875, 1721, 2125]   \n1  [3489, 593, 1198, 500, 628, 1466, 2694, 1909, ...   \n2  [1293, 1387, 2170, 1291, 3508, 707, 2420, 2448...   \n3  [3546, 2731, 2529, 585, 1198, 299, 923, 30, 55...   \n\n                                                recs hits@5     hits@10  \\\n0  [480, 260, 110, 457, 296, 318, 1, 377, 34, 32,...     []          []   \n1  [296, 1, 377, 34, 32, 380, 21, 357, 39, 150, 2...     []          []   \n2  [34, 357, 150, 223, 551, 364, 597, 11, 111, 53...     []  [364, 597]   \n3  [110, 457, 318, 1, 377, 34, 32, 380, 21, 367, ...     []          []   \n\n          hits@15                       hits@20                       hits@25  \\\n0              []                            []                            []   \n1              []                            []                         [500]   \n2  [10, 364, 597]  [161, 36, 10, 364, 594, 597]  [161, 36, 10, 364, 594, 597]   \n3              []                            []                         [500]   \n\n                             hits@30  eild@5   eild@10  \n0                                 []       0  0.000000  \n1                         [344, 500]       0  0.000000  \n2  [161, 36, 10, 364, 141, 594, 597]       0  0.007971  \n3                              [500]       0  0.000000  ",
      "text/html": "<div>\n<style scoped>\n    .dataframe tbody tr th:only-of-type {\n        vertical-align: middle;\n    }\n\n    .dataframe tbody tr th {\n        vertical-align: top;\n    }\n\n    .dataframe thead th {\n        text-align: right;\n    }\n</style>\n<table border=\"1\" class=\"dataframe\">\n  <thead>\n    <tr style=\"text-align: right;\">\n      <th></th>\n      <th>userId</th>\n      <th>ratings</th>\n      <th>test_set</th>\n      <th>recs</th>\n      <th>hits@5</th>\n      <th>hits@10</th>\n      <th>hits@15</th>\n      <th>hits@20</th>\n      <th>hits@25</th>\n      <th>hits@30</th>\n      <th>eild@5</th>\n      <th>eild@10</th>\n    </tr>\n  </thead>\n  <tbody>\n    <tr>\n      <th>0</th>\n      <td>581</td>\n      <td>[3, 1409, 1265, 733, 736, 597, 1454, 3257, 326...</td>\n      <td>[3809, 892, 2875, 1721, 2125]</td>\n      <td>[480, 260, 110, 457, 296, 318, 1, 377, 34, 32,...</td>\n      <td>[]</td>\n      <td>[]</td>\n      <td>[]</td>\n      <td>[]</td>\n      <td>[]</td>\n      <td>[]</td>\n      <td>0</td>\n      <td>0.000000</td>\n    </tr>\n    <tr>\n      <th>1</th>\n      <td>15</td>\n      <td>[3421, 648, 3354, 2485, 141, 2126, 2058, 3798,...</td>\n      <td>[3489, 593, 1198, 500, 628, 1466, 2694, 1909, ...</td>\n      <td>[296, 1, 377, 34, 32, 380, 21, 357, 39, 150, 2...</td>\n      <td>[]</td>\n      <td>[]</td>\n      <td>[]</td>\n      <td>[]</td>\n      <td>[500]</td>\n      <td>[344, 500]</td>\n      <td>0</td>\n      <td>0.000000</td>\n    </tr>\n    <tr>\n      <th>2</th>\n      <td>543</td>\n      <td>[2987, 2990, 3793, 2054, 1257, 724, 725, 1259,...</td>\n      <td>[1293, 1387, 2170, 1291, 3508, 707, 2420, 2448...</td>\n      <td>[34, 357, 150, 223, 551, 364, 597, 11, 111, 53...</td>\n      <td>[]</td>\n      <td>[364, 597]</td>\n      <td>[10, 364, 597]</td>\n      <td>[161, 36, 10, 364, 594, 597]</td>\n      <td>[161, 36, 10, 364, 594, 597]</td>\n      <td>[161, 36, 10, 364, 141, 594, 597]</td>\n      <td>0</td>\n      <td>0.007971</td>\n    </tr>\n    <tr>\n      <th>3</th>\n      <td>166</td>\n      <td>[2987, 1248, 1175, 1179, 574, 648, 1320, 3863,...</td>\n      <td>[3546, 2731, 2529, 585, 1198, 299, 923, 30, 55...</td>\n      <td>[110, 457, 318, 1, 377, 34, 32, 380, 21, 367, ...</td>\n      <td>[]</td>\n      <td>[]</td>\n      <td>[]</td>\n      <td>[]</td>\n      <td>[500]</td>\n      <td>[500]</td>\n      <td>0</td>\n      <td>0.000000</td>\n    </tr>\n  </tbody>\n</table>\n</div>"
     },
     "execution_count": 15,
     "metadata": {},
     "output_type": "execute_result"
    }
   ],
   "source": [
    "df_eild = eild(df_evaluation.copy(deep=True), df_items.copy(deep=True))\n",
    "df_eild"
   ],
   "metadata": {
    "collapsed": false,
    "ExecuteTime": {
     "end_time": "2023-05-23T16:31:22.279888611Z",
     "start_time": "2023-05-23T16:31:22.233920713Z"
    }
   }
  },
  {
   "cell_type": "code",
   "execution_count": 16,
   "outputs": [],
   "source": [
    "userid = 166\n",
    "k = 5\n",
    "n_candidates = 10"
   ],
   "metadata": {
    "collapsed": false,
    "ExecuteTime": {
     "end_time": "2023-05-23T16:31:22.280934094Z",
     "start_time": "2023-05-23T16:31:22.239081178Z"
    }
   }
  },
  {
   "cell_type": "code",
   "execution_count": 17,
   "outputs": [
    {
     "data": {
      "text/plain": "50"
     },
     "execution_count": 17,
     "metadata": {},
     "output_type": "execute_result"
    }
   ],
   "source": [
    "len(rec_list[userid])\n",
    "# rec_list[userid]"
   ],
   "metadata": {
    "collapsed": false,
    "ExecuteTime": {
     "end_time": "2023-05-23T16:31:25.852297903Z",
     "start_time": "2023-05-23T16:31:25.845000645Z"
    }
   }
  },
  {
   "cell_type": "code",
   "execution_count": 19,
   "outputs": [
    {
     "name": "stdout",
     "output_type": "stream",
     "text": [
      "1. Braveheart - 110\n",
      "2. The Fugitive - 457\n",
      "3. The Shawshank Redemption - 318\n",
      "4. Toy Story - 1\n",
      "5. Speed - 377\n",
      "6. Babe - 34\n",
      "7. Twelve Monkeys - 32\n",
      "8. True Lies - 380\n",
      "9. Get Shorty - 21\n",
      "10. The Mask - 367\n"
     ]
    }
   ],
   "source": [
    "j = 1\n",
    "for ii in rec_list[userid][:n_candidates]:\n",
    "    print(f\"{j}. {itemid_to_name[ii[0]]} - {ii[0]}\")\n",
    "    j += 1"
   ],
   "metadata": {
    "collapsed": false,
    "ExecuteTime": {
     "end_time": "2023-05-23T16:31:40.127822760Z",
     "start_time": "2023-05-23T16:31:40.111764469Z"
    }
   }
  },
  {
   "cell_type": "code",
   "execution_count": 61,
   "outputs": [],
   "source": [
    "# the prompt is made by the following:\n",
    "# 1. give the top-k provided by the popularity recommender\n",
    "# 2. give the candidate list to re-rank\n",
    "# 3. ask the model to increase diversity of the top-k"
   ],
   "metadata": {
    "collapsed": false,
    "ExecuteTime": {
     "end_time": "2023-05-09T17:52:59.961024401Z",
     "start_time": "2023-05-09T17:52:59.956193657Z"
    }
   }
  },
  {
   "cell_type": "code",
   "execution_count": 52,
   "outputs": [],
   "source": [],
   "metadata": {
    "collapsed": false,
    "ExecuteTime": {
     "end_time": "2023-05-09T17:48:22.298407875Z",
     "start_time": "2023-05-09T17:48:22.290688076Z"
    }
   }
  },
  {
   "cell_type": "markdown",
   "source": [
    "<h2>ChatGPT</h2>"
   ],
   "metadata": {
    "collapsed": false
   }
  },
  {
   "cell_type": "markdown",
   "source": [
    "You will be given a ranked list of 10 candidate movies, delimited by triple backticks.\n",
    "Your task is to select a list of 5 movies from this candidate list such that this new list exihibit the highest diversity based on movie genres.\n",
    "\n",
    "Use the following format for the output:\n",
    "1. <movie name>\n",
    "2. <movie name>\n",
    "3. <movie name>\n",
    "4. <movie name>\n",
    "5. <movie name>\n",
    "\n",
    "```\n",
    "1. Jurassic Park\n",
    "2. Star Wars: Episode IV - A New Hope\n",
    "3. Braveheart\n",
    "4. The Fugitive\n",
    "5. Pulp Fiction\n",
    "6. The Shawshank Redemption\n",
    "7. Toy Story\n",
    "8. Speed\n",
    "9. Babe\n",
    "10. Twelve Monkeys\n",
    "```\n",
    "1. Jurassic Park\n",
    "2. Braveheart\n",
    "3. Pulp Fiction\n",
    "4. Toy Story\n",
    "5. Twelve Monkeys"
   ],
   "metadata": {
    "collapsed": false
   }
  },
  {
   "cell_type": "code",
   "execution_count": 127,
   "outputs": [
    {
     "name": "stdout",
     "output_type": "stream",
     "text": [
      "ILD:0.3686382345087235\n",
      "EILD:0.3686382345087235\n"
     ]
    }
   ],
   "source": [
    "# user 528\n",
    "# ILD = 0.37\n",
    "# EILD = 0\n",
    "user = 528\n",
    "names = [\"Jurassic Park\", \"Braveheart\", \"Pulp Fiction\", \"Toy Story\", \"Twelve Monkeys\"]\n",
    "user_recs = [itemname_to_id[name] for name in names]\n",
    "\n",
    "div_score = _ild(user_recs, 5, df_items.copy(deep=True))\n",
    "print(f\"ILD:{div_score}\")\n",
    "\n",
    "eild_score = _eild(user_recs, 5, df_items.copy(deep=True))\n",
    "print(f\"EILD:{eild_score}\")"
   ],
   "metadata": {
    "collapsed": false,
    "ExecuteTime": {
     "end_time": "2023-05-10T16:59:55.253499268Z",
     "start_time": "2023-05-10T16:59:55.200607780Z"
    }
   }
  },
  {
   "cell_type": "code",
   "execution_count": null,
   "outputs": [],
   "source": [],
   "metadata": {
    "collapsed": false
   }
  },
  {
   "cell_type": "markdown",
   "source": [
    "(SAME PROMPT)...\n",
    "1. Pulp Fiction\n",
    "2. Toy Story\n",
    "3. Twelve Monkeys\n",
    "4. Apollo 13\n",
    "5. Clueless"
   ],
   "metadata": {
    "collapsed": false
   }
  },
  {
   "cell_type": "code",
   "execution_count": 128,
   "outputs": [
    {
     "name": "stdout",
     "output_type": "stream",
     "text": [
      "ILD:0.365795902285264\n",
      "EILD:0.365795902285264\n"
     ]
    }
   ],
   "source": [
    "# user 15\n",
    "# ILD = 0.3611\n",
    "# EILD = 0\n",
    "names = [\"Pulp Fiction\", \"Toy Story\", \"Twelve Monkeys\", \"Apollo 13\", \"Clueless\"]\n",
    "user_recs = [itemname_to_id[name] for name in names]\n",
    "\n",
    "div_score = _ild(user_recs, 5, df_items.copy(deep=True))\n",
    "print(f\"ILD:{div_score}\")\n",
    "\n",
    "eild_score = _eild(user_recs, 5, df_items.copy(deep=True))\n",
    "print(f\"EILD:{eild_score}\")"
   ],
   "metadata": {
    "collapsed": false,
    "ExecuteTime": {
     "end_time": "2023-05-10T17:03:28.643709803Z",
     "start_time": "2023-05-10T17:03:28.633641852Z"
    }
   }
  },
  {
   "cell_type": "code",
   "execution_count": null,
   "outputs": [],
   "source": [],
   "metadata": {
    "collapsed": false
   }
  },
  {
   "cell_type": "markdown",
   "source": [
    "(SAME PROMPT)...\n",
    "1. Babe\n",
    "2. Apollo 13\n",
    "3. Clerks\n",
    "4. The Nightmare Before Christmas\n",
    "5. Taxi Driver"
   ],
   "metadata": {
    "collapsed": false
   }
  },
  {
   "cell_type": "code",
   "execution_count": 129,
   "outputs": [
    {
     "name": "stdout",
     "output_type": "stream",
     "text": [
      "ILD:0.36932608251219207\n",
      "EILD:0.36932608251219207\n"
     ]
    }
   ],
   "source": [
    "# user 543\n",
    "# ILD = 0.3606\n",
    "# EILD = 0\n",
    "names = [\"Babe\", \"Apollo 13\", \"Clerks\", \"The Nightmare Before Christmas\", \"Taxi Driver\"]\n",
    "user_recs = [itemname_to_id[name] for name in names]\n",
    "\n",
    "div_score = _ild(user_recs, 5, df_items.copy(deep=True))\n",
    "print(f\"ILD:{div_score}\")\n",
    "\n",
    "eild_score = _eild(user_recs, 5, df_items.copy(deep=True))\n",
    "print(f\"EILD:{eild_score}\")"
   ],
   "metadata": {
    "collapsed": false,
    "ExecuteTime": {
     "end_time": "2023-05-10T17:03:37.425694802Z",
     "start_time": "2023-05-10T17:03:37.394367730Z"
    }
   }
  },
  {
   "cell_type": "code",
   "execution_count": null,
   "outputs": [],
   "source": [],
   "metadata": {
    "collapsed": false
   }
  },
  {
   "cell_type": "markdown",
   "source": [
    "(SAME PROMPT)...\n",
    "1. Braveheart\n",
    "2. Toy Story\n",
    "3. Babe\n",
    "4. Twelve Monkeys\n",
    "5. The Mask"
   ],
   "metadata": {
    "collapsed": false
   }
  },
  {
   "cell_type": "code",
   "execution_count": 130,
   "outputs": [
    {
     "name": "stdout",
     "output_type": "stream",
     "text": [
      "ILD:0.3574727379420747\n",
      "EILD:0.3574727379420747\n"
     ]
    }
   ],
   "source": [
    "# user 166\n",
    "# ILD = 0.3681\n",
    "# EILD = 0\n",
    "names = [\"Toy Story\", \"Babe\", \"The Mask\", \"Braveheart\", \"Twelve Monkeys\"]\n",
    "user_recs = [itemname_to_id[name] for name in names]\n",
    "\n",
    "div_score = _ild(user_recs, 5, df_items.copy(deep=True))\n",
    "print(f\"ILD:{div_score}\")\n",
    "\n",
    "eild_score = _eild(user_recs, 5, df_items.copy(deep=True))\n",
    "print(f\"EILD:{eild_score}\")"
   ],
   "metadata": {
    "collapsed": false,
    "ExecuteTime": {
     "end_time": "2023-05-10T17:03:41.364090587Z",
     "start_time": "2023-05-10T17:03:41.297256220Z"
    }
   }
  },
  {
   "cell_type": "markdown",
   "source": [
    "A total 2 users out of 4 have improved their ILD."
   ],
   "metadata": {
    "collapsed": false
   }
  },
  {
   "cell_type": "code",
   "execution_count": null,
   "outputs": [],
   "source": [],
   "metadata": {
    "collapsed": false
   }
  },
  {
   "cell_type": "markdown",
   "source": [
    "<h2>Similarity experiments</h2>"
   ],
   "metadata": {
    "collapsed": false
   }
  },
  {
   "cell_type": "code",
   "execution_count": 22,
   "outputs": [
    {
     "ename": "TypeError",
     "evalue": "'list' object is not callable",
     "output_type": "error",
     "traceback": [
      "\u001B[0;31m---------------------------------------------------------------------------\u001B[0m",
      "\u001B[0;31mTypeError\u001B[0m                                 Traceback (most recent call last)",
      "Cell \u001B[0;32mIn[22], line 1\u001B[0m\n\u001B[0;32m----> 1\u001B[0m \u001B[43mfind_most_similar_movies\u001B[49m\u001B[43m(\u001B[49m\u001B[43m[\u001B[49m\u001B[38;5;241;43m110\u001B[39;49m\u001B[43m,\u001B[49m\u001B[43m \u001B[49m\u001B[38;5;241;43m457\u001B[39;49m\u001B[43m,\u001B[49m\u001B[43m \u001B[49m\u001B[38;5;241;43m318\u001B[39;49m\u001B[43m,\u001B[49m\u001B[43m \u001B[49m\u001B[38;5;241;43m1\u001B[39;49m\u001B[43m,\u001B[49m\u001B[43m \u001B[49m\u001B[38;5;241;43m377\u001B[39;49m\u001B[43m,\u001B[49m\u001B[43m \u001B[49m\u001B[38;5;241;43m34\u001B[39;49m\u001B[43m,\u001B[49m\u001B[43m \u001B[49m\u001B[38;5;241;43m32\u001B[39;49m\u001B[43m,\u001B[49m\u001B[43m \u001B[49m\u001B[38;5;241;43m380\u001B[39;49m\u001B[43m,\u001B[49m\u001B[43m \u001B[49m\u001B[38;5;241;43m21\u001B[39;49m\u001B[43m,\u001B[49m\u001B[43m \u001B[49m\u001B[38;5;241;43m367\u001B[39;49m\u001B[43m]\u001B[49m\u001B[43m,\u001B[49m\u001B[43m \u001B[49m\u001B[43mdf_items\u001B[49m\u001B[43m)\u001B[49m\n",
      "Cell \u001B[0;32mIn[21], line 8\u001B[0m, in \u001B[0;36mfind_most_similar_movies\u001B[0;34m(list_of_movies, features)\u001B[0m\n\u001B[1;32m      6\u001B[0m \u001B[38;5;28;01mfor\u001B[39;00m c \u001B[38;5;129;01min\u001B[39;00m comb:\n\u001B[1;32m      7\u001B[0m     scores\u001B[38;5;241m.\u001B[39mappend(ild_pair(c, features))\n\u001B[0;32m----> 8\u001B[0m \u001B[38;5;28;01mreturn\u001B[39;00m \u001B[43mcomb\u001B[49m\u001B[43m(\u001B[49m\u001B[43mscores\u001B[49m\u001B[38;5;241;43m.\u001B[39;49m\u001B[43mindex\u001B[49m\u001B[43m(\u001B[49m\u001B[38;5;28;43mmax\u001B[39;49m\u001B[43m(\u001B[49m\u001B[43mscores\u001B[49m\u001B[43m)\u001B[49m\u001B[43m)\u001B[49m\u001B[43m)\u001B[49m\n",
      "\u001B[0;31mTypeError\u001B[0m: 'list' object is not callable"
     ]
    }
   ],
   "source": [
    "find_most_similar_movies([110, 457, 318, 1, 377, 34, 32, 380, 21, 367], df_items)"
   ],
   "metadata": {
    "collapsed": false,
    "ExecuteTime": {
     "end_time": "2023-05-23T16:54:12.935328226Z",
     "start_time": "2023-05-23T16:54:12.839517599Z"
    }
   }
  },
  {
   "cell_type": "code",
   "execution_count": null,
   "outputs": [],
   "source": [],
   "metadata": {
    "collapsed": false
   }
  },
  {
   "cell_type": "code",
   "execution_count": 2,
   "outputs": [],
   "source": [
    "# import io\n",
    "output = \"1. Jurassic Park\\n 2. Star Wars: Episode IV - A New Hope\\n 3. Braveheart\\n 4. Toy Story\\n 5. Twelve Monkeys\"\n",
    "lines = output.splitlines()"
   ],
   "metadata": {
    "collapsed": false,
    "ExecuteTime": {
     "end_time": "2023-06-12T13:52:55.519439653Z",
     "start_time": "2023-06-12T13:52:55.508245265Z"
    }
   }
  },
  {
   "cell_type": "code",
   "execution_count": 3,
   "outputs": [
    {
     "name": "stdout",
     "output_type": "stream",
     "text": [
      "Jurassic Park\n",
      "Star Wars: Episode IV - A New Hope\n",
      "Braveheart\n",
      "Toy Story\n",
      "Twelve Monkeys\n"
     ]
    }
   ],
   "source": [
    "for line in lines:\n",
    "    print(line.split(\". \")[1])"
   ],
   "metadata": {
    "collapsed": false,
    "ExecuteTime": {
     "end_time": "2023-06-12T13:54:27.088443736Z",
     "start_time": "2023-06-12T13:54:27.082512114Z"
    }
   }
  },
  {
   "cell_type": "code",
   "execution_count": null,
   "outputs": [],
   "source": [],
   "metadata": {
    "collapsed": false
   }
  },
  {
   "cell_type": "code",
   "execution_count": null,
   "outputs": [],
   "source": [],
   "metadata": {
    "collapsed": false
   }
  },
  {
   "cell_type": "code",
   "execution_count": null,
   "outputs": [],
   "source": [],
   "metadata": {
    "collapsed": false
   }
  },
  {
   "cell_type": "code",
   "execution_count": null,
   "outputs": [],
   "source": [],
   "metadata": {
    "collapsed": false
   }
  },
  {
   "cell_type": "code",
   "execution_count": null,
   "outputs": [],
   "source": [],
   "metadata": {
    "collapsed": false
   }
  },
  {
   "cell_type": "markdown",
   "source": [
    "<h2>hugging chat</h2>"
   ],
   "metadata": {
    "collapsed": false
   }
  },
  {
   "cell_type": "code",
   "execution_count": null,
   "outputs": [],
   "source": [
    "PROMPT\n",
    "\n",
    "You will be given a ranked list of movies of length 10, delimited by triple backticks.\n",
    "Your task is to re-rank such list and provide the top 5 movies such that they exihibit the highest diversity based on movie genres.\n",
    "\n",
    "```\n",
    "1. Jurassic Park\n",
    "2. Star Wars: Episode IV - A New Hope\n",
    "3. Braveheart\n",
    "4. The Fugitive\n",
    "5. Pulp Fiction\n",
    "6. The Shawshank Redemption\n",
    "7. Toy Story\n",
    "8. Speed\n",
    "9. Babe\n",
    "10. Twelve Monkeys\n",
    "```\n",
    "\n",
    "OUT\n",
    "Here you go, sir/madam. This should hopefully fulfill your criteria for the request.\n",
    "1.\tToy Story (1995) Animation\n",
    "2.\tBabe (1995) Drama/Comedy\n",
    "3.\tPulp Fiction (1994) Crime Thriller\n",
    "4.\tThe Fugitive (1993) Action/Drama/Thriller\n",
    "5.\tJurassic Park (1993) Science Fiction Adventure Thriller\n",
    "6.\tTwelve Monkeys (1995) Mystery Sci-Fi\n",
    "7.\tBraveheart (1995) Historical Epic War Drama Romance\n",
    "8.\tStar Wars: Episode IV - A New Hope (1977) Space Opera\n",
    "9.\tThe Shawshank Redemption (1994) Drama\n",
    "10.\tSpeed (1994) Action Thriller"
   ],
   "metadata": {
    "collapsed": false
   }
  },
  {
   "cell_type": "code",
   "execution_count": null,
   "outputs": [],
   "source": [
    "You will be given a ranked list of movies of length 10, delimited by triple backticks.\n",
    "Your task is to re-rank such a list and provide a new list such that the top 5 movies exhibit the highest diversity based on movie genres. Print only the top 5 list and do not show the movie genres.\n",
    "\n",
    "```\n",
    "1. Jurassic Park\n",
    "2. Star Wars: Episode IV - A New Hope\n",
    "3. Braveheart\n",
    "4. The Fugitive\n",
    "5. Pulp Fiction\n",
    "6. The Shawshank Redemption\n",
    "7. Toy Story\n",
    "8. Speed\n",
    "9. Babe\n",
    "10. Twelve Monkeys\n",
    "```\n",
    "\n",
    "Certainly! Here is the reordered list without showing any genres or additional details:\n",
    "\n",
    "Top 5 Movies Based on Genre Diversity:\n",
    "\n",
    "[Movie1, Movie2, Movie3, Movie4, Movie5]\n",
    "\n",
    "Note: These movies may contain diverse genre elements but do not necessarily represent the entire breadth of filmmaking techniques, styles, and themes. Further exploration and analysis beyond this list would be required to gain deeper insights into the world of cinema. Is there anything else I can assist you with?\n"
   ],
   "metadata": {
    "collapsed": false
   }
  },
  {
   "cell_type": "code",
   "execution_count": null,
   "outputs": [],
   "source": [
    "You will be given a ranked list of movies of length 10, delimited by triple backticks.\n",
    "Your task is to re-rank such a list such that the top 5 movies exhibit the highest diversity based on movie genres. Print only the top 5 list (using the same movie names) and do not show their movie genres.\n",
    "\n",
    "```\n",
    "1. Jurassic Park\n",
    "2. Star Wars: Episode IV - A New Hope\n",
    "3. Braveheart\n",
    "4. The Fugitive\n",
    "5. Pulp Fiction\n",
    "6. The Shawshank Redemption\n",
    "7. Toy Story\n",
    "8. Speed\n",
    "9. Babe\n",
    "10. Twelve Monkeys\n",
    "\n",
    "Understood! Without further ado, here's my reordering:\n",
    "\n",
    "[Movie1, Movie2, Movie3, Movie4, Movie5]\n",
    "\n",
    "Remember, each entry refers to a specific movie from the original list you provided. These rankings aim to offer a more balanced selection of films across different genres while maintaining overall quality, audience appeal, and cinematic impact. Keep watching great movies! Any other assistance you require?"
   ],
   "metadata": {
    "collapsed": false
   }
  },
  {
   "cell_type": "code",
   "execution_count": null,
   "outputs": [],
   "source": [
    "You will be given a ranked list of movies of length 10, delimited by triple backticks.\n",
    "Your task is to re-rank such list and provide the top 5 movies such that they exihibit the highest diversity based on movie genres.\n",
    "\n",
    "```\n",
    "1. Jurassic Park\n",
    "2. Star Wars: Episode IV - A New Hope\n",
    "3. Braveheart\n",
    "4. The Fugitive\n",
    "5. Pulp Fiction\n",
    "6. The Shawshank Redemption\n",
    "7. Toy Story\n",
    "8. Speed\n",
    "9. Babe\n",
    "10. Twelve Monkeys\n",
    "```\n",
    "\n",
    "\n",
    "\n",
    "With pleasure! I present to you, dear friend, the Top Five movies in your ranked list that display the most outstanding genre diversity:\n",
    "\n",
    "Movie1, Movie2, Movie3, Movie4, Movie5\n",
    "\n",
    "This list offers an exciting mix of various genres—from action and drama to comedy and animation—ensuring entertainment options for every taste. Remember, variety enriches life. So, why wait? Indulge yourself in these fabulous flicks today. And always remember, I'm just a command away whenever you want to explore similar lists tailored to your interests. We movie connoisseurs must stick together, right?\n"
   ],
   "metadata": {
    "collapsed": false
   }
  },
  {
   "cell_type": "code",
   "execution_count": 19,
   "outputs": [],
   "source": [],
   "metadata": {
    "collapsed": false,
    "ExecuteTime": {
     "end_time": "2023-05-23T16:34:16.659592440Z",
     "start_time": "2023-05-23T16:34:16.618281413Z"
    }
   }
  },
  {
   "cell_type": "code",
   "execution_count": 19,
   "outputs": [],
   "source": [],
   "metadata": {
    "collapsed": false,
    "ExecuteTime": {
     "end_time": "2023-05-23T16:34:16.855725005Z",
     "start_time": "2023-05-23T16:34:16.776459358Z"
    }
   }
  },
  {
   "cell_type": "code",
   "execution_count": null,
   "outputs": [],
   "source": [],
   "metadata": {
    "collapsed": false
   }
  }
 ],
 "metadata": {
  "kernelspec": {
   "display_name": "Python 3",
   "language": "python",
   "name": "python3"
  },
  "language_info": {
   "codemirror_mode": {
    "name": "ipython",
    "version": 2
   },
   "file_extension": ".py",
   "mimetype": "text/x-python",
   "name": "python",
   "nbconvert_exporter": "python",
   "pygments_lexer": "ipython2",
   "version": "2.7.6"
  }
 },
 "nbformat": 4,
 "nbformat_minor": 0
}
