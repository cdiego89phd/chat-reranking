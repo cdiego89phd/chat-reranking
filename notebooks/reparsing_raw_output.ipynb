{
 "cells": [
  {
   "cell_type": "code",
   "id": "initial_id",
   "metadata": {
    "collapsed": true,
    "ExecuteTime": {
     "end_time": "2024-04-26T08:56:14.733438Z",
     "start_time": "2024-04-26T08:56:14.259724Z"
    }
   },
   "source": [
    "import json\n",
    "import re\n",
    "import pickle\n",
    "import pandas as pd\n",
    "import random"
   ],
   "outputs": [],
   "execution_count": 1
  },
  {
   "cell_type": "code",
   "source": [],
   "metadata": {
    "collapsed": false,
    "ExecuteTime": {
     "end_time": "2024-04-26T08:56:15.404871Z",
     "start_time": "2024-04-26T08:56:15.402592Z"
    }
   },
   "id": "d79b734461a07735",
   "outputs": [],
   "execution_count": 1
  },
  {
   "cell_type": "code",
   "source": [],
   "metadata": {
    "collapsed": false,
    "ExecuteTime": {
     "end_time": "2024-04-26T08:56:15.632216Z",
     "start_time": "2024-04-26T08:56:15.629647Z"
    }
   },
   "id": "7d3a10518c137dd5",
   "outputs": [],
   "execution_count": 1
  },
  {
   "cell_type": "markdown",
   "source": [
    "Method to add random recommendations from the candidate set when recommendation set is incomplete"
   ],
   "metadata": {
    "collapsed": false
   },
   "id": "2e2f36b267923cbc"
  },
  {
   "cell_type": "code",
   "source": [
    "def add_random_recs(initial_recs, candidate_set, userid) -> (list, int):\n",
    "    \n",
    "    initial_recs = [a for a in initial_recs if a in candidate_set]\n",
    "    \n",
    "    # a strange case where more than 10 items are recommeded\n",
    "    if len(initial_recs) > 10:\n",
    "        initial_recs = initial_recs[:10]\n",
    "\n",
    "    if len(initial_recs) == 10:\n",
    "        return initial_recs, 0\n",
    "    \n",
    "    new_candidates = list(set(candidate_set).difference(initial_recs))\n",
    "    nn = 10 - len(initial_recs)\n",
    "    random.shuffle(new_candidates)\n",
    "    try:\n",
    "        sampled = random.sample(new_candidates, nn)\n",
    "    except Exception as e:\n",
    "        print(userid)\n",
    "        print(nn)\n",
    "        print(new_candidates)\n",
    "    \n",
    "    assert len(initial_recs + sampled) == 10\n",
    "    \n",
    "    return initial_recs + sampled, nn"
   ],
   "metadata": {
    "collapsed": false,
    "ExecuteTime": {
     "end_time": "2024-04-26T08:56:17.801633Z",
     "start_time": "2024-04-26T08:56:17.797307Z"
    }
   },
   "id": "e56508e10232aba1",
   "outputs": [],
   "execution_count": 2
  },
  {
   "cell_type": "markdown",
   "source": [
    "<h2> Re-parse recs for LLama2 (Goodreads)<h2>"
   ],
   "metadata": {
    "collapsed": false
   },
   "id": "676d694b836eb57b"
  },
  {
   "cell_type": "code",
   "execution_count": 366,
   "outputs": [],
   "source": [
    "recs_folder = \"/home/diego/chat-reranking/experiments/goodreads/recs/reranked\"\n",
    "recs_name = \"instructgpt-div-p6-pzt-fold_0\"\n",
    "top_n = 10\n",
    "\n",
    "# read JSON file\n",
    "f = open(f\"{recs_folder}/{recs_name}.json\")\n",
    "data = json.load(f)\n",
    "f.close()"
   ],
   "metadata": {
    "collapsed": false,
    "ExecuteTime": {
     "end_time": "2023-12-01T10:16:12.171022821Z",
     "start_time": "2023-12-01T10:16:12.100397892Z"
    }
   },
   "id": "c9a72c890c8ad832"
  },
  {
   "cell_type": "code",
   "execution_count": 367,
   "outputs": [],
   "source": [
    "if \"p11\" in recs_name or \"p12\" in recs_name or \"p5\" in recs_name or \"p6\" in recs_name:\n",
    "    with open(f\"/home/diego/chat-reranking/experiments/goodreads/itemnamegenres_to_id.pkl\", 'rb') as fp:\n",
    "        itemname_to_id = pickle.load(fp)\n",
    "else:\n",
    "    with open(f\"/home/diego/chat-reranking/experiments/goodreads/itemname_to_id.pkl\", 'rb') as fp:\n",
    "        itemname_to_id = pickle.load(fp)"
   ],
   "metadata": {
    "collapsed": false,
    "ExecuteTime": {
     "end_time": "2023-12-01T10:16:12.851260239Z",
     "start_time": "2023-12-01T10:16:12.838842625Z"
    }
   },
   "id": "5d9b2b8c9433b3be"
  },
  {
   "cell_type": "code",
   "execution_count": 368,
   "outputs": [],
   "source": [
    "def clean_name_goodreads(name: str, prompt:str) -> (int, str):\n",
    "    \n",
    "    # check first if name is in prompt\n",
    "    if name in prompt:\n",
    "        return 0, name\n",
    "    \n",
    "    name = name.replace('\"', \"\")\n",
    "    \n",
    "    # otherwise fix all the malformed output\n",
    "    if \" (#\" in name:\n",
    "        return 1, name.split(\" (#\")[0]\n",
    "    \n",
    "    if \"(\" in name:\n",
    "        return 1, name.split(\" (\")[0]\n",
    "    \n",
    "    if \"by\" in name:\n",
    "        splitted = name.split(\" by \")\n",
    "        if len(splitted) == 2:\n",
    "            return 1, splitted[0]\n",
    "        \n",
    "    if \"-\" in name: #  in prompt p11,p12 the list of genres are given after dash\n",
    "        splitted = name.split(\" - \")\n",
    "        if len(splitted) == 2:\n",
    "            new_out = f\"{splitted[0]} ({splitted[1].lower()})\"\n",
    "            # print(new_out)\n",
    "            return 1, new_out\n",
    "    return 0, name\n",
    "\n",
    "def parse_raw_output_goodreads(raw_output:str) -> list:\n",
    "    n_fixed = 0\n",
    "    lines = raw_output.splitlines()\n",
    "    reranked_recs = []\n",
    "    for line in lines:\n",
    "        try:\n",
    "            if len(line.split(\"-> \")) > 1:\n",
    "                item_name = line.split(\"-> \")[1]\n",
    "                \n",
    "                # clean name\n",
    "                fixed, cleaned_name = clean_name_goodreads(item_name, entry[\"prompt\"])\n",
    "                n_fixed += fixed\n",
    "                reranked_recs.append(itemname_to_id[cleaned_name])\n",
    "                continue\n",
    "\n",
    "            if len(re.split('1. |2. |3. |4. |5. |6. |7. |8. |9. |10. ', line)) > 0:\n",
    "                item_name = re.split('1. |2. |3. |4. |5. |6. |7. |8. |9. |10. ', line)[1]\n",
    "                \n",
    "                # clean name\n",
    "                fixed, cleaned_name = clean_name_goodreads(item_name, entry[\"prompt\"])\n",
    "                n_fixed += fixed\n",
    "                reranked_recs.append(itemname_to_id[cleaned_name])\n",
    "        except Exception as e:\n",
    "            continue\n",
    "    # print(f\"fixed: {n_fixed} records\")\n",
    "    return reranked_recs"
   ],
   "metadata": {
    "collapsed": false,
    "ExecuteTime": {
     "end_time": "2023-12-01T10:16:13.160131668Z",
     "start_time": "2023-12-01T10:16:13.053200817Z"
    }
   },
   "id": "ee4eb292ddc61594"
  },
  {
   "cell_type": "code",
   "execution_count": 369,
   "outputs": [
    {
     "name": "stdout",
     "output_type": "stream",
     "text": [
      "# of random recommendations: 182\n"
     ]
    }
   ],
   "source": [
    "new_data = []  # store here the new json data\n",
    "n_random_added = 0\n",
    "for entry in data:\n",
    "    new_entry = {}\n",
    "    for k in entry:\n",
    "        new_entry[k] = entry[k]\n",
    "        \n",
    "    # recompute reranked recommendations based on the raw output\n",
    "    new_recs = parse_raw_output_goodreads(entry[\"raw_gpt_outputs\"])\n",
    "    \n",
    "    # add random recommendations if the recommendation set is incomplete\n",
    "    new_entry['reranked_recs'], m = add_random_recs(new_recs, entry[\"recs\"], entry[\"userid\"])\n",
    "    n_random_added += m\n",
    "    \n",
    "    # print new recommendation set\n",
    "    new_data.append(new_entry)\n",
    "print(f\"# of random recommendations: {n_random_added}\")"
   ],
   "metadata": {
    "collapsed": false,
    "ExecuteTime": {
     "end_time": "2023-12-01T10:16:13.461783118Z",
     "start_time": "2023-12-01T10:16:13.373906110Z"
    }
   },
   "id": "819131f58214ab74"
  },
  {
   "cell_type": "code",
   "execution_count": 370,
   "outputs": [],
   "source": [
    "out_folder = \"/home/diego/chat-reranking/experiments/goodreads/recs/reranked_final\"\n",
    "df = pd.DataFrame.from_dict(new_data)\n",
    "df.to_json(f'{out_folder}/{recs_name}.json', orient=\"records\")"
   ],
   "metadata": {
    "collapsed": false,
    "ExecuteTime": {
     "end_time": "2023-12-01T10:16:13.463007456Z",
     "start_time": "2023-12-01T10:16:13.400590253Z"
    }
   },
   "id": "54f9391896a531d3"
  },
  {
   "cell_type": "code",
   "execution_count": 370,
   "outputs": [],
   "source": [],
   "metadata": {
    "collapsed": false,
    "ExecuteTime": {
     "end_time": "2023-12-01T10:16:13.608297190Z",
     "start_time": "2023-12-01T10:16:13.588968455Z"
    }
   },
   "id": "7e5d25dc752bd8ae"
  },
  {
   "cell_type": "code",
   "execution_count": 183,
   "outputs": [],
   "source": [],
   "metadata": {
    "collapsed": false,
    "ExecuteTime": {
     "end_time": "2023-11-30T16:29:48.080564944Z",
     "start_time": "2023-11-30T16:29:48.050295844Z"
    }
   },
   "id": "95304a44524897a3"
  },
  {
   "cell_type": "code",
   "execution_count": 184,
   "outputs": [],
   "source": [
    "recs_folder = \"/home/diego/chat-reranking/experiments/goodreads/recs/reranked_final\"\n",
    "recs_name = \"Llama-2-7b-chat-hf-div-p7-pzt-fold_0\"\n",
    "top_n = 10\n",
    "\n",
    "# read JSON file\n",
    "f = open(f\"{recs_folder}/{recs_name}.json\")\n",
    "data = json.load(f)\n",
    "f.close()"
   ],
   "metadata": {
    "collapsed": false,
    "ExecuteTime": {
     "end_time": "2023-11-30T16:29:48.303276374Z",
     "start_time": "2023-11-30T16:29:48.272865045Z"
    }
   },
   "id": "806c2f0eff13b69c"
  },
  {
   "cell_type": "code",
   "execution_count": 185,
   "outputs": [],
   "source": [
    "n_take = 10\n",
    "for entry in data:\n",
    "    if len(entry[\"reranked_recs\"]) < 10:\n",
    "        print(entry[\"userid\"])\n",
    "        n_take -= 1\n",
    "    if n_take == 0:\n",
    "        break"
   ],
   "metadata": {
    "collapsed": false,
    "ExecuteTime": {
     "end_time": "2023-11-30T16:29:48.522941267Z",
     "start_time": "2023-11-30T16:29:48.422606079Z"
    }
   },
   "id": "84b70a8a9be3c415"
  },
  {
   "cell_type": "code",
   "execution_count": null,
   "outputs": [],
   "source": [],
   "metadata": {
    "collapsed": false
   },
   "id": "a7260906e4e13ccd"
  },
  {
   "cell_type": "code",
   "execution_count": 33,
   "outputs": [],
   "source": [],
   "metadata": {
    "collapsed": false,
    "ExecuteTime": {
     "end_time": "2023-11-24T09:30:04.292417540Z",
     "start_time": "2023-11-24T09:30:04.238308726Z"
    }
   },
   "id": "20028ca1bca76b3a"
  },
  {
   "cell_type": "code",
   "execution_count": 33,
   "outputs": [],
   "source": [],
   "metadata": {
    "collapsed": false,
    "ExecuteTime": {
     "end_time": "2023-11-24T09:30:04.525110523Z",
     "start_time": "2023-11-24T09:30:04.452365364Z"
    }
   },
   "id": "a6a0dd59a33831a6"
  },
  {
   "cell_type": "markdown",
   "source": [
    "<h2> Re-parse recs for LLama2 (anime)<h2>"
   ],
   "metadata": {
    "collapsed": false
   },
   "id": "bdec6256b6b201c4"
  },
  {
   "cell_type": "code",
   "source": [
    "recs_folder = \"/home/diego/chat-reranking/experiments/anime/recs/reranked/\"\n",
    "# recs_name = \"Llama-2-13b-chat-hf-div-p9-pzt-fold_0\"\n",
    "recs_name = \"chatgpt0613-div-p21-pzt-fold_0\"\n",
    "top_n = 10\n",
    "\n",
    "# read JSON file\n",
    "f = open(f\"{recs_folder}/{recs_name}.json\")\n",
    "data = json.load(f)\n",
    "f.close()"
   ],
   "metadata": {
    "collapsed": false,
    "ExecuteTime": {
     "end_time": "2024-04-24T20:55:33.407077Z",
     "start_time": "2024-04-24T20:55:33.385183Z"
    }
   },
   "id": "7ce3da200fec0e1c",
   "outputs": [],
   "execution_count": 3
  },
  {
   "cell_type": "code",
   "source": [
    "if \"p11\" in recs_name or \"p12\" in recs_name or \"p5\" in recs_name or \"p6\" in recs_name:\n",
    "    with open(f\"/home/diego/chat-reranking/experiments/anime/itemnamegenres_to_id.pkl\", 'rb') as fp:\n",
    "        itemname_to_id = pickle.load(fp)\n",
    "elif \"p21\" in recs_name or \"p22\" in recs_name:\n",
    "    with open(f\"/home/diego/chat-reranking/experiments/anime/itemnameplot_to_id.pkl\", 'rb') as fp:\n",
    "        itemname_to_id = pickle.load(fp)\n",
    "else:\n",
    "    with open(f\"/home/diego/chat-reranking/experiments/anime/itemname_to_id.pkl\", 'rb') as fp:\n",
    "        itemname_to_id = pickle.load(fp)"
   ],
   "metadata": {
    "collapsed": false,
    "ExecuteTime": {
     "end_time": "2024-04-24T20:55:36.318347Z",
     "start_time": "2024-04-24T20:55:36.311957Z"
    }
   },
   "id": "fb584676108b2c9c",
   "outputs": [],
   "execution_count": 4
  },
  {
   "cell_type": "code",
   "source": [
    "def clean_name_anime(name: str, prompt:str) -> (int, str):\n",
    "    \n",
    "    # check first if name is in prompt\n",
    "    if name in prompt:\n",
    "        return 0, name\n",
    "    \n",
    "    if \"(\" in name:\n",
    "        return 1, name.split(\"(\")[0][:-1]\n",
    " \n",
    "    return 0, name\n",
    "\n",
    "def parse_raw_output_anime(raw_output:str) -> list:\n",
    "    n_fixed = 0\n",
    "    lines = raw_output.splitlines()\n",
    "    reranked_recs = []\n",
    "    for line in lines:\n",
    "        try:\n",
    "            if len(line.split(\"-> \")) > 1:\n",
    "                item_name = line.split(\"-> \")[1]\n",
    "                \n",
    "                # clean name\n",
    "                fixed, cleaned_name = clean_name_anime(item_name, entry[\"prompt\"])\n",
    "                n_fixed += fixed\n",
    "                reranked_recs.append(itemname_to_id[cleaned_name])\n",
    "                continue\n",
    "\n",
    "            if len(re.split('1. |2. |3. |4. |5. |6. |7. |8. |9. |10. ', line)) > 0:\n",
    "                item_name = re.split('1. |2. |3. |4. |5. |6. |7. |8. |9. |10. ', line)[1]\n",
    "                \n",
    "                # clean name\n",
    "                fixed, cleaned_name = clean_name_anime(item_name, entry[\"prompt\"])\n",
    "                n_fixed += fixed\n",
    "                reranked_recs.append(itemname_to_id[cleaned_name])\n",
    "        except Exception as e:\n",
    "            continue\n",
    "    # print(f\"fixed: {n_fixed} records\")\n",
    "    return reranked_recs"
   ],
   "metadata": {
    "collapsed": false,
    "ExecuteTime": {
     "end_time": "2024-04-24T20:55:37.167430Z",
     "start_time": "2024-04-24T20:55:37.162326Z"
    }
   },
   "id": "335e60bb3851d316",
   "outputs": [],
   "execution_count": 5
  },
  {
   "cell_type": "code",
   "source": [
    "new_data = []  # store here the new json data\n",
    "n_random_added = 0\n",
    "for entry in data:\n",
    "    new_entry = {}\n",
    "    for k in entry:\n",
    "        new_entry[k] = entry[k]\n",
    "        \n",
    "    # recompute reranked recommendations based on the raw output\n",
    "    new_recs = parse_raw_output_anime(entry[\"raw_gpt_outputs\"])\n",
    "    \n",
    "    # add random recommendations if the recommendation set is incomplete\n",
    "    new_entry['reranked_recs'], m = add_random_recs(new_recs, entry[\"recs\"], entry[\"userid\"])\n",
    "    n_random_added += m\n",
    "    \n",
    "    # print new recommendation set\n",
    "    new_data.append(new_entry)\n",
    "print(f\"# of random recommendations: {n_random_added}\")"
   ],
   "metadata": {
    "collapsed": false,
    "ExecuteTime": {
     "end_time": "2024-04-24T20:55:40.246848Z",
     "start_time": "2024-04-24T20:55:40.219939Z"
    }
   },
   "id": "b00afb4a8778ccd9",
   "outputs": [
    {
     "name": "stdout",
     "output_type": "stream",
     "text": [
      "# of random recommendations: 1437\n"
     ]
    }
   ],
   "execution_count": 6
  },
  {
   "cell_type": "code",
   "execution_count": 38,
   "outputs": [],
   "source": [
    "out_folder = \"/home/diego/chat-reranking/experiments/anime/recs/reranked_final\"\n",
    "df = pd.DataFrame.from_dict(new_data)\n",
    "df.to_json(f'{out_folder}/{recs_name}.json', orient=\"records\")"
   ],
   "metadata": {
    "collapsed": false,
    "ExecuteTime": {
     "end_time": "2023-12-15T12:48:55.336895076Z",
     "start_time": "2023-12-15T12:48:55.313526487Z"
    }
   },
   "id": "8f00f0bc54a3bc79"
  },
  {
   "cell_type": "code",
   "execution_count": 405,
   "outputs": [],
   "source": [],
   "metadata": {
    "collapsed": false,
    "ExecuteTime": {
     "end_time": "2023-12-01T10:19:17.277142880Z",
     "start_time": "2023-12-01T10:19:17.201190655Z"
    }
   },
   "id": "4c43f9ff0387689c"
  },
  {
   "cell_type": "code",
   "execution_count": 229,
   "outputs": [],
   "source": [
    "recs_folder = \"/home/diego/chat-reranking/experiments/anime/recs/reranked_final\"\n",
    "recs_name = \"Llama-2-7b-chat-hf-div-p7-pzt-fold_0\"\n",
    "top_n = 10\n",
    "\n",
    "# read JSON file\n",
    "f = open(f\"{recs_folder}/{recs_name}.json\")\n",
    "data = json.load(f)\n",
    "f.close()"
   ],
   "metadata": {
    "collapsed": false,
    "ExecuteTime": {
     "end_time": "2023-11-30T16:52:04.592982846Z",
     "start_time": "2023-11-30T16:52:04.567302451Z"
    }
   },
   "id": "100cd8e04692ba04"
  },
  {
   "cell_type": "code",
   "execution_count": 230,
   "outputs": [],
   "source": [
    "n_take = 10\n",
    "for entry in data:\n",
    "    if len(entry[\"reranked_recs\"]) < 10:\n",
    "        print(entry[\"userid\"])\n",
    "        n_take -= 1\n",
    "    if n_take == 0:\n",
    "        break"
   ],
   "metadata": {
    "collapsed": false,
    "ExecuteTime": {
     "end_time": "2023-11-30T16:52:05.028993687Z",
     "start_time": "2023-11-30T16:52:05.000976115Z"
    }
   },
   "id": "7ad770a41b5605f0"
  },
  {
   "cell_type": "code",
   "execution_count": null,
   "outputs": [],
   "source": [],
   "metadata": {
    "collapsed": false
   },
   "id": "e47e65a0e394b24"
  },
  {
   "metadata": {},
   "cell_type": "markdown",
   "source": "<h2> Re-parse recs for GPT (anime plots)<h2>",
   "id": "662bbbedbc0252fd"
  },
  {
   "metadata": {
    "ExecuteTime": {
     "end_time": "2024-04-26T13:23:45.275636Z",
     "start_time": "2024-04-26T13:23:45.202338Z"
    }
   },
   "cell_type": "code",
   "source": [
    "recs_folder = \"/home/diego/chat-reranking/experiments/anime/recs/reranked/\"\n",
    "recs_name = \"chatgpt0613-div-p21-pzt-fold_0\"\n",
    "top_n = 10\n",
    "\n",
    "# read JSON file\n",
    "f = open(f\"{recs_folder}/{recs_name}.json\")\n",
    "data = json.load(f)\n",
    "f.close()"
   ],
   "id": "9c4324abbd6c3b6c",
   "outputs": [],
   "execution_count": 39
  },
  {
   "metadata": {
    "ExecuteTime": {
     "end_time": "2024-04-26T13:23:46.395355Z",
     "start_time": "2024-04-26T13:23:46.347799Z"
    }
   },
   "cell_type": "code",
   "source": [
    "with open(f\"/home/diego/chat-reranking/experiments/anime/itemnameplot_to_id.pkl\", 'rb') as fp:\n",
    "    itemnameplot_to_id = pickle.load(fp)\n",
    "with open(f\"/home/diego/chat-reranking/experiments/anime/itemname_to_id.pkl\", 'rb') as fp:\n",
    "    itemname_to_id = pickle.load(fp)"
   ],
   "id": "cdd5ffbbf63f8772",
   "outputs": [],
   "execution_count": 40
  },
  {
   "metadata": {
    "ExecuteTime": {
     "end_time": "2024-04-26T13:23:46.915811Z",
     "start_time": "2024-04-26T13:23:46.908086Z"
    }
   },
   "cell_type": "code",
   "source": [
    "def clean_name_anime(name: str, prompt:str) -> (int, str):\n",
    "    \n",
    "    if \": \" in name:\n",
    "        return 1, name.replace(\": \", \":\")\n",
    "    \n",
    "    if name[-1] == \" \":\n",
    "        # print(name)\n",
    "        return 1, name[:-1]\n",
    " \n",
    "    return 0, name\n",
    "\n",
    "def parse_raw_output_anime(raw_output:str) -> list:\n",
    "    n_fixed = 0\n",
    "    lines = raw_output.splitlines()\n",
    "    reranked_recs = []\n",
    "    for line in lines:\n",
    "        try:\n",
    "            if len(line.split(\"-> \")) > 1:\n",
    "                item_name = line.split(\"-> \")[1]\n",
    "                \n",
    "                if item_name in itemname_to_id:\n",
    "                    reranked_recs.append(itemname_to_id[item_name])\n",
    "                elif item_name in itemnameplot_to_id:\n",
    "                    reranked_recs.append(itemnameplot_to_id[item_name])\n",
    "                else:\n",
    "                    # try to clean the name\n",
    "                    fixed, cleaned_name = clean_name_anime(item_name, entry[\"prompt\"])\n",
    "                    n_fixed += fixed\n",
    "                    if cleaned_name in itemname_to_id:\n",
    "                        reranked_recs.append(itemname_to_id[cleaned_name])\n",
    "                    elif cleaned_name in itemnameplot_to_id:\n",
    "                        reranked_recs.append(itemnameplot_to_id[cleaned_name])\n",
    "                    else:\n",
    "                        # pass\n",
    "                        print(line)\n",
    "                        # print(itemname_to_id[item_name])\n",
    "                        # print(len(cleaned_name))\n",
    "        except Exception as e:\n",
    "            print(line)\n",
    "            continue\n",
    "    if len(reranked_recs) < 10:\n",
    "        print(lines)\n",
    "    # print(f\"# of random recommendations: {n_random_added}\")\n",
    "    # print(f\"fixed: {n_fixed} records\")\n",
    "    return reranked_recs"
   ],
   "id": "3732ecf378202527",
   "outputs": [],
   "execution_count": 41
  },
  {
   "metadata": {
    "ExecuteTime": {
     "end_time": "2024-04-26T13:23:48.083979Z",
     "start_time": "2024-04-26T13:23:48.041164Z"
    }
   },
   "cell_type": "code",
   "source": [
    "new_data = []  # store here the new json data\n",
    "n_random_added = 0\n",
    "for entry in data:\n",
    "    new_entry = {}\n",
    "    for k in entry:\n",
    "        new_entry[k] = entry[k]\n",
    "        \n",
    "    # recompute reranked recommendations based on the raw output\n",
    "    new_recs = parse_raw_output_anime(entry[\"raw_gpt_outputs\"])\n",
    "    \n",
    "    # add random recommendations if the recommendation set is incomplete\n",
    "    new_entry['reranked_recs'], m = add_random_recs(new_recs, entry[\"recs\"], entry[\"userid\"])\n",
    "    n_random_added += m\n",
    "    \n",
    "    # print new recommendation set\n",
    "    new_data.append(new_entry)\n",
    "print(f\"# of random recommendations: {n_random_added}\")"
   ],
   "id": "58aa2a4b6c7061a0",
   "outputs": [
    {
     "name": "stdout",
     "output_type": "stream",
     "text": [
      "8-> Re:ZERO - Starting Life in Another World-\n",
      "['1-> Attack on Titan', '2-> Fullmetal Alchemist: Brotherhood', '3-> Code Geass: Lelouch of the Rebellion', '4-> Sword Art Online', '5-> Demon Slayer: Kimetsu no Yaiba', '6-> One Punch Man', '7-> My Hero Academia', '8-> Re:ZERO - Starting Life in Another World-', '9-> Naruto: Shippuden', '10-> Food Wars! Shokugeki no Soma']\n",
      "3-> Re:ZERO - Starting Life in Another World- Season 2\n",
      "['1-> Attack on Titan Season 3 Part 2', '2-> Demon Slayer: Kimetsu no Yaiba', '3-> Re:ZERO - Starting Life in Another World- Season 2', '4-> The Promised Neverland', '5-> Sword Art Online: Alicization', '6-> Noragami Aragoto', '7-> Death Note', '8-> Haikyu!! 2nd Season', '9-> Toradora!', '10-> My Teen Romantic Comedy SNAFU Climax!']\n",
      "3-> Re:ZERO - Starting Life in Another World- Season 2\n",
      "['1-> Kaguya-sama: Love is War Season 2', '2-> Hyouka', '3-> Re:ZERO - Starting Life in Another World- Season 2', '4-> My Teen Romantic Comedy SNAFU Climax!', '5-> March Comes In Like A Lion 2nd Season', '6-> Hinamatsuri', '7-> anohana: The Flower We Saw That Day', '8-> Attack on Titan Season 3 Part 2', '9-> Mob Psycho 100 II', '10-> Your Lie in April']\n",
      "4-> Re:ZERO - Starting Life in Another World- Season 2\n",
      "['1-> Gurren Lagann', '2-> Mob Psycho 100 II', '3-> Kaguya-sama: Love is War', '4-> Re:ZERO - Starting Life in Another World- Season 2', '5-> KILL la KILL', '6-> The Rising of the Shield Hero', '7-> Code Geass: Lelouch of the Rebellion', '8-> Fate/Zero', '9-> Toradora!', '10-> Death Note']\n",
      "5-> Re:ZERO - Starting Life in Another World-\n",
      "['1-> Steins;Gate', '2-> ERASED', '3-> anohana: The Flower We Saw That Day', '4-> Code Geass: Lelouch of the Rebellion R2', '5-> Re:ZERO - Starting Life in Another World-', '6-> Sword Art Online', '7-> Noragami Aragoto', '8-> Terror in Resonance', '9-> From the New World', '10-> When They Cry']\n",
      "9-> Re:ZERO - Starting Life in Another World- Season 2\n",
      "['1-> Death Note', '2-> Attack on Titan Season 3 Part 2', '3-> Steins;Gate 0', '4-> My Hero Academia', '5-> ERASED', '6-> Violet Evergarden', '7-> Kaguya-sama: Love is War Season 2', '8-> Great Teacher Onizuka', '9-> Re:ZERO - Starting Life in Another World- Season 2', '10-> A Place Further Than The Universe']\n",
      "8-> Re:ZERO - Starting Life in Another World- Season 2\n",
      "['1-> Kaguya-sama: Love is War Season 2', '2-> Puella Magi Madoka Magica', '3-> Rascal Does Not Dream of Bunny Girl Senpai', '4-> anohana: The Flower We Saw That Day', '5-> Code Geass: Lelouch of the Rebellion R2', '6-> Demon Slayer: Kimetsu no Yaiba', '7-> Code Geass: Lelouch of the Rebellion', '8-> Re:ZERO - Starting Life in Another World- Season 2', '9-> Monogatari Series: Second Season', '10-> Hunter x Hunter']\n",
      "5-> Re:ZERO - Starting Life in Another World- Season 2\n",
      "['1-> My Hero Academia 3', '2-> The Rising of the Shield Hero', '3-> Goblin Slayer', '4-> Kaguya-sama: Love is War Season 2', '5-> Re:ZERO - Starting Life in Another World- Season 2', '6-> Rascal Does Not Dream of Bunny Girl Senpai', '7-> The Disastrous Life of Saiki K.', '8-> Cells at Work!', '9-> Hinamatsuri', '10-> Assassination Classroom Second Season']\n",
      "9-> Anohana: The Flower We Saw That Day\n",
      "['1-> Attack on Titan', '2-> Death Note', '3-> Fullmetal Alchemist: Brotherhood', '4-> Code Geass: Lelouch of the Rebellion R2', '5-> Your Lie in April', '6-> Sword Art Online', '7-> Clannad ~After Story~', '8-> The Melancholy of Haruhi Suzumiya', '9-> Anohana: The Flower We Saw That Day', '10-> Made in Abyss']\n",
      "8-> Re:ZERO - Starting Life in Another World-\n",
      "['1-> Neon Genesis Evangelion', '2-> The Promised Neverland', '3-> Attack on Titan Season 2', '4-> Fullmetal Alchemist: Brotherhood', '5-> Violet Evergarden', '6-> Toradora!', '7-> Code Geass: Lelouch of the Rebellion', '8-> Re:ZERO - Starting Life in Another World-', '9-> Demon Slayer: Kimetsu no Yaiba', '10-> The Future Diary']\n",
      "9-> Re:ZERO - Starting Life in Another World-\n",
      "['1-> Attack on Titan Season 3', '2-> Sword Art Online', '3-> Steins;Gate', '4-> Fullmetal Alchemist: Brotherhood', '5-> Code Geass: Lelouch of the Rebellion', '6-> Angel Beats!', '7-> One Punch Man', '8-> Toradora!', '9-> Re:ZERO - Starting Life in Another World-', '10-> Your Lie in April']\n",
      "4-> Re:ZERO - Starting Life in Another World- Season 2\n",
      "['1-> Kaguya-sama: Love is War Season 2', '2-> Attack on Titan Season 2', '3-> Steins;Gate', '4-> Re:ZERO - Starting Life in Another World- Season 2', '5-> Fullmetal Alchemist: Brotherhood', '6-> My Hero Academia', '7-> Angel Beats!', '8-> DARLING in the FRANXX', '9-> Assassination Classroom', '10-> Toradora!']\n",
      "2-> Re:ZERO - Starting Life in Another World- Season 2\n",
      "['1-> Kaguya-sama: Love is War', '2-> Re:ZERO - Starting Life in Another World- Season 2', '3-> The Promised Neverland', '4-> Violet Evergarden', '5-> Dr. Stone', '6-> Fate/stay night [Unlimited Blade Works] Season 2', '7-> No Game, No Life', '8-> Fullmetal Alchemist: Brotherhood', '9-> Sword Art Online', '10-> My Hero Academia 3']\n",
      "10-> Re:ZERO - Starting Life in Another World-\n",
      "['1-> Death Note', '2-> Attack on Titan Season 3 Part 2', '3-> Steins;Gate', '4-> The Pet Girl of Sakurasou', '5-> My Hero Academia', '6-> Hyouka', '7-> Kaguya-sama: Love is War Season 2', '8-> Noragami: Stray God', '9-> ReLIFE', '10-> Re:ZERO - Starting Life in Another World-']\n",
      "# of random recommendations: 14\n"
     ]
    }
   ],
   "execution_count": 42
  },
  {
   "metadata": {
    "ExecuteTime": {
     "end_time": "2024-04-26T13:23:54.998838Z",
     "start_time": "2024-04-26T13:23:54.977790Z"
    }
   },
   "cell_type": "code",
   "source": [
    "out_folder = \"/home/diego/chat-reranking/experiments/anime/recs/reranked_final\"\n",
    "df = pd.DataFrame.from_dict(new_data)\n",
    "df.to_json(f'{out_folder}/{recs_name}.json', orient=\"records\")"
   ],
   "id": "b03235366d1c25d8",
   "outputs": [],
   "execution_count": 43
  },
  {
   "metadata": {
    "ExecuteTime": {
     "end_time": "2024-04-26T13:23:55.444761Z",
     "start_time": "2024-04-26T13:23:55.414739Z"
    }
   },
   "cell_type": "code",
   "source": [
    "recs_folder = \"/home/diego/chat-reranking/experiments/anime/recs/reranked_final\"\n",
    "top_n = 10\n",
    "\n",
    "# read JSON file\n",
    "f = open(f\"{recs_folder}/{recs_name}.json\")\n",
    "data = json.load(f)\n",
    "f.close()"
   ],
   "id": "ecc501db135d4dae",
   "outputs": [],
   "execution_count": 44
  },
  {
   "metadata": {
    "ExecuteTime": {
     "end_time": "2024-04-26T13:23:55.874921Z",
     "start_time": "2024-04-26T13:23:55.867272Z"
    }
   },
   "cell_type": "code",
   "source": [
    "n_take = 10\n",
    "for entry in data:\n",
    "    if len(entry[\"reranked_recs\"]) < 10:\n",
    "        print(entry[\"userid\"])\n",
    "        n_take -= 1\n",
    "    if n_take == 0:\n",
    "        break"
   ],
   "id": "adade1f56b6650d7",
   "outputs": [],
   "execution_count": 45
  },
  {
   "metadata": {},
   "cell_type": "code",
   "outputs": [],
   "execution_count": null,
   "source": "",
   "id": "ca070dd51f30a6d8"
  },
  {
   "metadata": {},
   "cell_type": "code",
   "outputs": [],
   "execution_count": null,
   "source": "",
   "id": "dd9178806667fa82"
  },
  {
   "metadata": {},
   "cell_type": "markdown",
   "source": "<h2> Re-parse recs for GPT (goodreads plots)<h2>",
   "id": "d665691a0eda7d5b"
  },
  {
   "metadata": {
    "ExecuteTime": {
     "end_time": "2024-04-26T09:32:49.046426Z",
     "start_time": "2024-04-26T09:32:49.024182Z"
    }
   },
   "cell_type": "code",
   "source": [
    "recs_folder = \"/home/diego/chat-reranking/experiments/goodreads/recs/reranked/\"\n",
    "recs_name = \"chatgpt0613-div-p21-pzt-fold_0\"\n",
    "top_n = 10\n",
    "\n",
    "# read JSON file\n",
    "f = open(f\"{recs_folder}/{recs_name}.json\")\n",
    "data = json.load(f)\n",
    "f.close()"
   ],
   "id": "39f824be18a61697",
   "outputs": [],
   "execution_count": 32
  },
  {
   "metadata": {
    "ExecuteTime": {
     "end_time": "2024-04-26T09:32:49.789266Z",
     "start_time": "2024-04-26T09:32:49.770404Z"
    }
   },
   "cell_type": "code",
   "source": [
    "with open(f\"/home/diego/chat-reranking/experiments/goodreads/itemnameplot_to_id.pkl\", 'rb') as fp:\n",
    "    itemnameplot_to_id = pickle.load(fp)\n",
    "with open(f\"/home/diego/chat-reranking/experiments/goodreads/itemname_to_id.pkl\", 'rb') as fp:\n",
    "    itemname_to_id = pickle.load(fp)"
   ],
   "id": "7956f2aaa46b6581",
   "outputs": [],
   "execution_count": 33
  },
  {
   "metadata": {
    "ExecuteTime": {
     "end_time": "2024-04-26T09:32:50.261835Z",
     "start_time": "2024-04-26T09:32:50.254823Z"
    }
   },
   "cell_type": "code",
   "source": [
    "def clean_name_anime(name: str, prompt:str) -> (int, str):\n",
    "    \n",
    "    if \": \" in name:\n",
    "        return 1, name.replace(\": \", \":\")\n",
    "    \n",
    "    if name[-1] == \" \":\n",
    "        # print(name)\n",
    "        return 1, name[:-1]\n",
    " \n",
    "    return 0, name\n",
    "\n",
    "def parse_raw_output_anime(raw_output:str) -> list:\n",
    "    n_fixed = 0\n",
    "    lines = raw_output.splitlines()\n",
    "    reranked_recs = []\n",
    "    for line in lines:\n",
    "        try:\n",
    "            if len(line.split(\"-> \")) > 1:\n",
    "                item_name = line.split(\"-> \")[1]\n",
    "                \n",
    "                if item_name in itemname_to_id:\n",
    "                    reranked_recs.append(itemname_to_id[item_name])\n",
    "                elif item_name in itemnameplot_to_id:\n",
    "                    reranked_recs.append(itemnameplot_to_id[item_name])\n",
    "                else:\n",
    "                    # try to clean the name\n",
    "                    fixed, cleaned_name = clean_name_anime(item_name, entry[\"prompt\"])\n",
    "                    n_fixed += fixed\n",
    "                    if cleaned_name in itemname_to_id:\n",
    "                        reranked_recs.append(itemname_to_id[cleaned_name])\n",
    "                    elif cleaned_name in itemnameplot_to_id:\n",
    "                        reranked_recs.append(itemnameplot_to_id[cleaned_name])\n",
    "                    else:\n",
    "                        # pass\n",
    "                        print(line)\n",
    "                        # print(itemname_to_id[item_name])\n",
    "                        # print(len(cleaned_name))\n",
    "        except Exception as e:\n",
    "            print(line)\n",
    "            continue\n",
    "    if len(reranked_recs) < 10:\n",
    "        print(lines)\n",
    "    # print(f\"# of random recommendations: {n_random_added}\")\n",
    "    # print(f\"fixed: {n_fixed} records\")\n",
    "    return reranked_recs"
   ],
   "id": "315c7f6432242453",
   "outputs": [],
   "execution_count": 34
  },
  {
   "metadata": {
    "ExecuteTime": {
     "end_time": "2024-04-26T09:32:50.911873Z",
     "start_time": "2024-04-26T09:32:50.887252Z"
    }
   },
   "cell_type": "code",
   "source": [
    "new_data = []  # store here the new json data\n",
    "n_random_added = 0\n",
    "for entry in data:\n",
    "    new_entry = {}\n",
    "    for k in entry:\n",
    "        new_entry[k] = entry[k]\n",
    "        \n",
    "    # recompute reranked recommendations based on the raw output\n",
    "    new_recs = parse_raw_output_anime(entry[\"raw_gpt_outputs\"])\n",
    "    \n",
    "    # add random recommendations if the recommendation set is incomplete\n",
    "    new_entry['reranked_recs'], m = add_random_recs(new_recs, entry[\"recs\"], entry[\"userid\"])\n",
    "    n_random_added += m\n",
    "    \n",
    "    # print new recommendation set\n",
    "    new_data.append(new_entry)\n",
    "print(f\"# of random recommendations: {n_random_added}\")"
   ],
   "id": "520800eaa8421b3",
   "outputs": [
    {
     "name": "stdout",
     "output_type": "stream",
     "text": [
      "5-> Cry, the Beloved Country: A Novel of South Africa\n",
      "['1-> The Terror', '2-> The Daodejing of Laozi', '3-> The Witch of Blackbird Pond and Related Readings', '4-> The Secret Life of Bees', '5-> Cry, the Beloved Country: A Novel of South Africa', '6-> In Cold Blood', '7-> The Letters of J.R.R. Tolkien', '8-> Fates Worse Than Death', \"9-> Marley & Me: Life and Love with the World's Worst Dog\", '10-> The Truth About the Drug Companies: How They Deceive Us and What to Do About It']\n",
      "8-> The Color Purple [A collection of three novels by Alice Walker that explore themes of race, gender, and identity.]\n",
      "[\"1-> Cumbres borrascosas [The Spanish translation of Emily Brontë's classic novel 'Wuthering Heights', which tells a tale of love, revenge, and passion.]\", '2-> Dracula [The iconic vampire Count Dracula terrorizes Victorian England as a group of individuals try to stop his reign of darkness.]', '3-> The Art of War by Sun Tzu [A classic book on military strategy and tactics.]', '4-> The Catcher In The Rye [A coming-of-age novel following the rebellious teenager Holden Caulfield as he navigates through life.]', '5-> The Stranger [A story about a stranger.]', '6-> The Road To Assisi: The Essential Biography Of St. Francis [A biography of St. Francis of Assisi.]', \"7-> The Tale Of Genji [Considered the world's first novel, this classic Japanese tale follows the life and romantic exploits of Prince Genji.]\", '8-> The Color Purple [A collection of three novels by Alice Walker that explore themes of race, gender, and identity.]', '9-> The Invisible Man [A science fiction novel about a scientist who discovers the secret of invisibility and the consequences it brings.]', '10-> The Mountain of Adventure and The Ship of Adventure: Two Great Adventures [Two thrilling adventures take place in The Mountain of Adventure and The Ship of Adventure.]']\n",
      "1-> The Catcher in the Rye [A collection of materials and analysis related to J.D. Salinger's iconic novel 'The Catcher in the Rye.']\n",
      "[\"1-> The Catcher in the Rye [A collection of materials and analysis related to J.D. Salinger's iconic novel 'The Catcher in the Rye.']\", '2-> Life of Pi [A young Indian boy named Pi survives a shipwreck and finds himself stranded on a lifeboat with a Bengal tiger, testing the limits of his faith and survival skills.]', '3-> Dracula [The iconic vampire Count Dracula terrorizes Victorian England as a group of individuals try to stop his reign of darkness.]', '4-> The Shadow of the Wind [A captivating story that intertwines love, literature, and mystery in the backdrop of post-war Barcelona.]', '5-> The Silmarillion [A mythopoeic work that delves into the history and mythology of Middle-earth.]', '6-> A War Like No Other: How the Athenians & Spartans Fought the Peloponnesian War [A historical account by Victor Davis Hanson, examining the brutal and transformative Peloponnesian War between Athens and Sparta.]', '7-> Pride And Joy: The Lives And Passions Of Women Without Children [Examines the lives and experiences of women who have chosen not to have children, exploring their joys, challenges, and societal perceptions.]', \"8-> The Miner's Canary: Enlisting Race, Resisting Power, Transforming Democracy [A book that explores the intersection of race, power, and democracy.]\", '9-> The Automatic Millionaire: A Powerful One-Step Plan to Live and Finish Rich [A guide to achieving financial success through a simple one-step plan.]', '10-> The Crime of Punishment [Explores the concept of punishment and its role in society.]']\n",
      "5-> The No. 1 Ladies' Detective Agency (No. 1 Ladies' Detective Agency, #1)\n",
      "['1-> Brokeback Mountain', '2-> The Birds', '3-> The Iliad', '4-> The Lord of the Rings: The Making of the Movie Trilogy', \"5-> The No. 1 Ladies' Detective Agency (No. 1 Ladies' Detective Agency, #1)\", '6-> The Winter King (The Arthur Books, #1)', '7-> The Inner Life of Martin Frost', \"8-> Complications: A Surgeon's Notes on an Imperfect Science\", '9-> The Unknown American Revolution: The Unruly Birth of Democracy and the Struggle to Create America', '10-> The Radicalism of the American Revolution']\n",
      "4-> The Devil's Broker: Seeking Gold, God, and Glory in Fourteenth-Century Italy\n",
      "['1-> The Secret Life of Bees', '2-> Life of Pi', '3-> The Lord of the Rings: The Making of the Movie Trilogy', \"4-> The Devil's Broker: Seeking Gold, God, and Glory in Fourteenth-Century Italy\", '5-> The Last Assassin (John Rain, #5)', '6-> The Winter King (The Arthur Books, #1)', '7-> The Outsiders', '8-> Freakonomics: A Rogue Economist Explores The Hidden Side Of Everything', '9-> The Tale Of Genji', '10-> The Oresteia: Agamemnon/The Libation Bearers/The Eumenides']\n",
      "8-> The Hobbit / The Lord of the Rings\n",
      "[\"1-> The Catcher in the Rye: Innocence Under Pressure (Twayne's Masterwork Studies,  #114)\", '2-> The Color Purple', '3-> The Trust: The Private and Powerful Family Behind The New York Times', \"4-> The Miner's Canary: Enlisting Race, Resisting Power, Transforming Democracy\", '5-> The Third Life Of Grange Copeland; Meridian; The Color Purple', '6-> The Silmarillion', '7-> The Inner Life of Martin Frost', '8-> The Hobbit / The Lord of the Rings', '9-> The African Trilogy', '10-> The Nubian Prince']\n",
      "1-> The Turn of the Screw [A governess becomes convinced that the children she cares for are being haunted by ghosts.]\n",
      "['1-> The Turn of the Screw [A governess becomes convinced that the children she cares for are being haunted by ghosts.]', '2-> Waiting for Godot [A tragicomedy in two acts, this play follows two characters as they wait for the arrival of someone named Godot, who never comes.]', \"3-> The Brooklyn Follies [A man's unexpected encounter with his long-lost nephew and their subsequent adventures in Brooklyn.]\", '4-> Killing Yourself to Live: 85% of a True Story [A memoir about a road trip taken by the author to visit sites of famous rock star deaths.]', '5-> The Road To Assisi: The Essential Biography Of St. Francis [A biography of St. Francis of Assisi.]', '6-> Geisha of Gion [The autobiography of a geisha, recounting her experiences and struggles in the geisha world.]', '7-> A Hero of Our Time [A novel that follows the life and adventures of a Byronic hero in 19th-century Russia.]', '8-> The Beloved: Reflections on the Path of the Heart [Reflections on love and the journey of the heart.]', '9-> I Know Why the Caged Bird Sings [An autobiography of Maya Angelou, detailing her experiences growing up in the racially segregated South.]', '10-> The Turn of the Screw and Other Short Fiction [A collection of short stories by Henry James, including The Turn of the Screw.]']\n",
      "1-> The Catcher in the Rye [A collection of materials and analysis related to J.D. Salinger's iconic novel 'The Catcher in the Rye.']\n",
      "10-> The Aeneid: Selections from Books 1, 2, 4, 6, 10, 12 [Selected passages from Virgil's Aeneid.]\n",
      "[\"1-> The Catcher in the Rye [A collection of materials and analysis related to J.D. Salinger's iconic novel 'The Catcher in the Rye.']\", '2-> The Last Assassin (John Rain, #5) [The fifth installment of the John Rain series, where the assassin finds himself targeted by a powerful enemy.]', '3-> The Great Redwall Feast [The animals of Redwall Abbey come together to prepare for a grand feast.]', '4-> The Best Stories of Fyodor Dostoevsky [A collection of some of the greatest short stories by Fyodor Dostoevsky, showcasing his psychological insight and exploration of human nature.]', '5-> The Secret of Santa Vittoria [The residents of a small Italian town must find a way to hide a million bottles of wine from the occupying German army during World War II.]', '6-> Neverwhere [A man discovers a hidden world beneath London.]', '7-> The Oresteia [A trilogy of Greek tragedies that explore themes of justice and revenge.]', '8-> The Shadow of the Wind [A captivating story that intertwines love, literature, and mystery in the backdrop of post-war Barcelona.]', '9-> A Wrinkle in Time (A Wrinkle in Time Quintet, #1) [A young girl and her friends embark on a time-traveling adventure to rescue her scientist father from an evil force.]', \"10-> The Aeneid: Selections from Books 1, 2, 4, 6, 10, 12 [Selected passages from Virgil's Aeneid.]\"]\n",
      "6-> The No. 1 Ladies' Detective Agency (No. 1 Ladies' Detective Agency, #1)\n",
      "['1-> The Stand: Das letzte Gefecht', '2-> Life of Pi', '3-> The Shadow of the Wind', '4-> The Catcher In The Rye', \"5-> Eat, Pray, Love: One Woman's Search for Everything Across Italy, India and Indonesia\", \"6-> The No. 1 Ladies' Detective Agency (No. 1 Ladies' Detective Agency, #1)\", '7-> Mossflower (Redwall, #2)', '8-> Much Ado About Nothing (No Fear Shakespeare)', '9-> My Movie Business: A Memoir', '10-> Pardonable Lies (Maisie Dobbs, #3)']\n",
      "3-> Murasaki Shikibu: The Tale of Genji (Landmarks of World Literature)\n",
      "['1-> Gates of Fire', '2-> Triss (Redwall, #15)', '3-> Murasaki Shikibu: The Tale of Genji (Landmarks of World Literature)', \"4-> Galileo's Daughter\", '5-> Chronicles. Volume One', '6-> Eragon & Eldest (Inheritance, #1-2)', '7-> Red Prophet (Tales of Alvin Maker, #2)', '8-> How to Hear From God: Learn to Know His Voice and Make the Right Decisions', '9-> A sud delle nuvole', '10-> An American Life']\n",
      "4-> The Color Purple [A novel about a woman named Emma Bovary who seeks passion and excitement outside of her marriage.]\n",
      "['1-> The Catcher In The Rye [A coming-of-age novel following the rebellious teenager Holden Caulfield as he navigates through life.]', '2-> Julius Caesar [A historical tragedy by William Shakespeare, chronicling the events surrounding the assassination of Julius Caesar.]', '3-> The Inner Life of Martin Frost [A novel about a writer who becomes obsessed with a mysterious woman.]', '4-> The Color Purple [A novel about a woman named Emma Bovary who seeks passion and excitement outside of her marriage.]', '5-> The Legend of Luke (Redwall, #12) [A young mouse sets out on a journey to discover the truth about his legendary ancestor and reclaim a lost sword.]', '6-> The Oresteia: Agamemnon/The Libation Bearers/The Eumenides [A trilogy of plays that explore the themes of justice, revenge, and the transformation of society.]', '7-> The Eye of the I: From Which Nothing is Hidden [A spiritual book that delves into the nature of consciousness and the self.]', \"8-> The Philosophy of Tolkien: The Worldview Behind the Lord of the Rings [An exploration of the philosophical themes and worldview present in J.R.R. Tolkien's The Lord of the Rings.]\", '9-> The Long Patrol (Redwall, #10) [In the world of Redwall, a young hare must prove himself as a member of the Long Patrol, a group of warrior hares.]', '10-> The Automatic Millionaire: A Powerful One-Step Plan to Live and Finish Rich [A guide to achieving financial success through a simple one-step plan.]']\n",
      "2-> The Lord of the Rings Trilogy Jigsaw Book - Collectors Edition\n",
      "['1-> Life of Pi', '2-> The Lord of the Rings Trilogy Jigsaw Book - Collectors Edition', '3-> The Last Assassin (John Rain, #5)', '4-> The Lady of the Lake', '5-> The Prodigal Son (Roger the Chapman, #15)', '6-> The Scarlet Gang of Asakusa', '7-> The Story of My Life: An Afghan Girl on the Other Side of the Sky', '8-> The Colossus of New York', '9-> The Illustrated Dream Dictionary', '10-> The Silent Cry']\n",
      "10-> Murasaki Shikibu: The Tale of Genji (Landmarks of World Literature)\n",
      "[\"1-> The Tale of Genji: Scenes from the World's First Novel\", '2-> We the Living', '3-> Life of Pi', '4-> The Winter King (The Arthur Books, #1)', '5-> The Feynman Lectures on Physics, 3 Vols', '6-> The Border Trilogy: All the Pretty Horses, The Crossing, Cities of the Plain', \"7-> Howl's Moving Castle (Howl's Moving Castle, #1)\", '8-> All the Pretty Horses', '9-> The Gospel According to Tolkien: Visions of the Kingdom in Middle-Earth', '10-> Murasaki Shikibu: The Tale of Genji (Landmarks of World Literature)']\n",
      "6-> The No. 1 Ladies' Detective Agency (No. 1 Ladies' Detective Agency, #1)\n",
      "['1-> The Da Vinci Code (Robert Langdon, #2)', '2-> The Lord of the Rings: The Making of the Movie Trilogy', '3-> The Secret Life of Bees', '4-> Life of Pi', '5-> The Turn of the Screw', \"6-> The No. 1 Ladies' Detective Agency (No. 1 Ladies' Detective Agency, #1)\", '7-> The Road To Assisi: The Essential Biography Of St. Francis', '8-> The Oedipus Plays of Sophocles: Oedipus the King; Oedipus at Colonus; Antigone', \"9-> The Tale of Genji: Scenes from the World's First Novel\", '10-> The Millionaire Next Door: The Surprising Secrets of Americas Wealthy']\n",
      "1-> The Lord of the Rings [The epic fantasy tale of a group of heroes on a quest to destroy a powerful ring.]\n",
      "['1-> The Lord of the Rings [The epic fantasy tale of a group of heroes on a quest to destroy a powerful ring.]', '2-> Life of Pi [A young Indian boy named Pi survives a shipwreck and finds himself stranded on a lifeboat with a Bengal tiger, testing the limits of his faith and survival skills.]', '3-> Lost [A group of survivors must navigate a mysterious island after their plane crashes.]', '4-> The Scarlet Gang of Asakusa [A group of young delinquents in 1920s Tokyo form a gang and navigate the criminal underworld.]', '5-> The Best American Short Stories 2005 [A collection of the best short stories published in 2005, selected by a renowned editor.]', '6-> The Inner Life of Martin Frost [A novel about a writer who becomes obsessed with a mysterious woman.]', '7-> The Broken Gun [A story about a broken gun and its impact on the lives of those who possess it.]', '8-> The Great Redwall Feast [The animals of Redwall Abbey come together to prepare for a grand feast.]', '9-> The Lady of the Lake [Concludes the epic fantasy series as the fate of the kingdom of Camelot hangs in the balance.]', '10-> The Story of My Life: An Afghan Girl on the Other Side of the Sky [The memoir of an Afghan girl who shares her experiences growing up in war-torn Afghanistan.]']\n",
      "1-> The Lord of the Rings Trilogy Jigsaw Book - Collectors Edition\n",
      "['1-> The Lord of the Rings Trilogy Jigsaw Book - Collectors Edition', '2-> The Best American Short Stories 2005', '3-> The Random House Book of 20th Century French Poetry', '4-> Chronicles, Vol. 1', '5-> The Colossus of New York', '6-> Treasure Island', '7-> The Monsters and the Critics and other essays', '8-> The Complete Nonsense of Edward Lear', '9-> The Daring Young Man on the Flying Trapeze and Other Stories', '10-> Asterix e os Godos']\n",
      "8-> The No. 1 Ladies' Detective Agency (No. 1 Ladies' Detective Agency, #1)\n",
      "['1-> The Da Vinci Code (Robert Langdon, #2)', '2-> Brokeback Mountain', '3-> The Shadow of the Wind', '4-> Life of Pi', '5-> The Secret Life of Bees', '6-> Hamlet', '7-> The Power and the Glory', \"8-> The No. 1 Ladies' Detective Agency (No. 1 Ladies' Detective Agency, #1)\", '9-> Midnight in the Garden of Good and Evil', '10-> Star Wars Episode 1: The Phantom Menace Illustrated Screenplay']\n",
      "6-> The No. 1 Ladies' Detective Agency (No. 1 Ladies' Detective Agency, #1)\n",
      "9-> The Long Tail: Why The Future Is Selling Less Of More\n",
      "['1-> Mossflower (Redwall, #2)', '2-> Triss (Redwall, #15)', '3-> Outcast of Redwall (Redwall, #8)', '4-> The Great Bridge: The Epic Story of the Building of the Brooklyn Bridge', '5-> The Tale of Genji', \"6-> The No. 1 Ladies' Detective Agency (No. 1 Ladies' Detective Agency, #1)\", '7-> Life of Pi', '8-> The Emperor of Scent: A True Story of Perfume and Obsession', '9-> The Long Tail: Why The Future Is Selling Less Of More', '10-> Freakonomics: A Rogue Economist Explores The Hidden Side Of Everything']\n",
      "1-> The Color Purple [A collection of three novels by Alice Walker that explore themes of race, gender, and identity.]\n",
      "['1-> The Color Purple [A collection of three novels by Alice Walker that explore themes of race, gender, and identity.]', '2-> Julius Caesar [A historical tragedy by William Shakespeare, chronicling the events surrounding the assassination of Julius Caesar.]', '3-> The Trust: The Private and Powerful Family Behind The New York Times [An exploration of the private and powerful family behind The New York Times.]', \"4-> The Catcher in the Rye: Innocence Under Pressure (Twayne's Masterwork Studies,  #114) [A critical analysis of J.D. Salinger's novel The Catcher in the Rye.]\", '5-> The Silmarillion [A mythopoeic work that delves into the history and mythology of Middle-earth.]', '6-> The Third Life Of Grange Copeland; Meridian; The Color Purple [A collection of three novels by Alice Walker that explore themes of race, gender, and identity.]', '7-> The Lady of the Lake [Concludes the epic fantasy series as the fate of the kingdom of Camelot hangs in the balance.]', '8-> The Writer of Modern Life: Essays on Charles Baudelaire [A collection of essays that explore the life and work of Charles Baudelaire, a key figure in the development of modern literature.]', \"9-> The Tolkien Reader [A collection of J.R.R. Tolkien's shorter works, including essays and stories.]\", '10-> The Zürau Aphorisms [A collection of philosophical and existential aphorisms written by Franz Kafka during his stay in the village of Zürau.]']\n",
      "9-> The Wishing Chair Collection: Three Exciting Stories in One. The adventures of the Wishing Chair, The Wishing Chair Again, More Wishing Chair Tales [A collection of three exciting stories about the magical Wishing Chair and its adventures]\n",
      "['1-> The Art of War by Sun Tzu [A classic book on military strategy and tactics.]', '2-> Indian Givers: How the Indians of the Americas Transformed the World [Explores the contributions of Native Americans to the world, including their impact on agriculture, medicine, language, and government.]', '3-> The Radicalism of the American Revolution [A historical analysis of the American Revolution, arguing that it was a radical and transformative event that reshaped American society and politics.]', '4-> The Unknown American Revolution: The Unruly Birth of Democracy and the Struggle to Create America [A revisionist history of the American Revolution, highlighting the contributions of ordinary people and marginalized groups in the fight for independence.]', \"5-> The Legend of the Poinsettia [A children's book that tells the Mexican legend behind the poinsettia flower.]\", \"6-> The Philosophy of Tolkien: The Worldview Behind the Lord of the Rings [An exploration of the philosophical themes and worldview present in J.R.R. Tolkien's The Lord of the Rings.]\", '7-> The Road To Assisi: The Essential Biography Of St. Francis [A biography of St. Francis of Assisi.]', '8-> The Inner Life of Martin Frost [A novel about a writer who becomes obsessed with a mysterious woman.]', '9-> The Wishing Chair Collection: Three Exciting Stories in One. The adventures of the Wishing Chair, The Wishing Chair Again, More Wishing Chair Tales [A collection of three exciting stories about the magical Wishing Chair and its adventures]', '10-> The Shadow of the Wind [A captivating story that intertwines love, literature, and mystery in the backdrop of post-war Barcelona.]']\n",
      "1-> The Color Purple [A collection of three novels by Alice Walker that explore themes of race, gender, and identity.]\n",
      "['1-> The Color Purple [A collection of three novels by Alice Walker that explore themes of race, gender, and identity.]', '2-> The Catcher In The Rye [A coming-of-age novel following the rebellious teenager Holden Caulfield as he navigates through life.]', '3-> The Long Patrol (Redwall, #10) [In the world of Redwall, a young hare must prove himself as a member of the Long Patrol, a group of warrior hares.]', '4-> The Turn Of The Screw [A governess becomes convinced that the children she cares for are being haunted by ghosts.]', '5-> The Silmarillion [A mythopoeic work that delves into the history and mythology of Middle-earth.]', \"6-> Rocky Stories: Tales of Love, Hope, and Happiness at America's Most Famous Steps [Heartwarming stories of love, hope, and happiness that have taken place on the iconic steps of the Rocky statue in Philadelphia.]\", '7-> Pardonable Lies (Maisie Dobbs, #3) [Maisie Dobbs investigates a case involving the death of a World War I veteran.]', '8-> Tourist Season [A crime novel set in Miami, where a series of murders target tourists during the off-season.]', '9-> Empire [A gripping tale of power, politics, and ambition set in a vast empire.]', '10-> Dark Visions [A young girl with psychic abilities is recruited to join a group of others with similar powers.]']\n",
      "4-> The Color Purple [A collection of three novels by Alice Walker that explore themes of race, gender, and identity.]\n",
      "['1-> Freakonomics: A Rogue Economist Explores The Hidden Side Of Everything [An economist explores the hidden and unexpected side of various topics.]', '2-> The Catcher In The Rye [A coming-of-age novel following the rebellious teenager Holden Caulfield as he navigates through life.]', '3-> Brokeback Mountain [A forbidden love story between two cowboys in the American West.]', '4-> The Color Purple [A collection of three novels by Alice Walker that explore themes of race, gender, and identity.]', \"5-> Hamlet [The tragic story of Prince Hamlet seeking revenge for his father's murder.]\", '6-> The Power of One (The Power of One, #1) [A coming-of-age story set in South Africa during the apartheid era, following the journey of a young boy.]', '7-> Treasure Island [A young boy joins a pirate crew in search of buried treasure.]', '8-> The Legend of Old Befana [A heartwarming tale about an old woman who becomes the legendary gift-giver in Italian folklore.]', '9-> The Norton Anthology of Short Fiction [A collection of short fiction stories.]', '10-> The Oresteia: Agamemnon/The Libation Bearers/The Eumenides [A trilogy of plays that explore the themes of justice, revenge, and the transformation of society.]']\n",
      "3-> Oedipus Rex (The Theban Plays, #1)\n",
      "6-> The Long Tail: Why The Future Is Selling Less Of More\n",
      "['1-> First Into Nagasaki: The Censored Eyewitness Dispatches on Post-Atomic Japan and Its Prisoners of War', '2-> The Great Bridge: The Epic Story of the Building of the Brooklyn Bridge', '3-> Oedipus Rex (The Theban Plays, #1)', '4-> The Three Theban Plays: Antigone / Oedipus the King / Oedipus at Colonus', '5-> The Metamorphoses of Ovid', '6-> The Long Tail: Why The Future Is Selling Less Of More', '7-> The Antiquary', '8-> 1776', '9-> Ghostwritten', '10-> Gates of Fire']\n",
      "10-> The Shadow of the Hegemon (Shadow, #2)\n",
      "['1-> The Shadow of the Wind', '2-> The Iliad', '3-> The Europeans', '4-> The Stand: Das letzte Gefecht', '5-> The Power and the Glory', '6-> The Brothers K', '7-> The Painter of Signs', \"8-> The Horror Writers Association Presents Peter Straub's Ghosts\", '9-> The Hanged Man', '10-> The Shadow of the Hegemon (Shadow, #2)']\n",
      "8-> The No. 1 Ladies' Detective Agency (No. 1 Ladies' Detective Agency, #1)\n",
      "['1-> The Catcher In The Rye', '2-> Medea and Other Plays: Medea / Alcestis / The Children of Heracles / Hippolytus', '3-> The Tale Of Genji', '4-> Elizabeth Costello', '5-> The Oedipus Plays of Sophocles: Oedipus the King; Oedipus at Colonus; Antigone', '6-> Star Wars Episode 1: The Phantom Menace Illustrated Screenplay', \"7-> Complications: A Surgeon's Notes on an Imperfect Science\", \"8-> The No. 1 Ladies' Detective Agency (No. 1 Ladies' Detective Agency, #1)\", \"9-> Galileo's Daughter\", '10-> Pathologies of Power: Health, Human Rights and the New War on the Poor']\n",
      "2-> The Tale of Genji (Landmarks of World Literature)\n",
      "['1-> The Great Bridge: The Epic Story of the Building of the Brooklyn Bridge', '2-> The Tale of Genji (Landmarks of World Literature)', '3-> The Turn of the Screw', '4-> The Metamorphoses of Ovid', '5-> The Girl with a Pearl Earring', '6-> The Da Vinci Code (Robert Langdon, #2)', '7-> The Complete Guide to Middle-Earth: From the Hobbit to the Silmarillion', '8-> The Wife (Kristin Lavransdatter, #2)', '9-> The Three Theban Plays: Antigone / Oedipus the King / Oedipus at Colonus', '10-> The Long Goodbye: Memories of My Father']\n",
      "10-> Labyrinths: Selected Stories and Other Writings\n",
      "['1-> Crónica de una muerte anunciada', '2-> El otoño del patriarca', '3-> The Turn Of The Screw', '4-> Geisha of Gion', '5-> The Great Divorce', '6-> The Villa Of Mysteries (Nic Costa, #2)', '7-> The Awakening (Vampire Huntress, #2)', '8-> The Forbidden (Vampire Huntress, #5)', '9-> Memoirs Of A Geisha', '10-> Labyrinths: Selected Stories and Other Writings']\n",
      "4-> Real Kitchen: An Indespensible Guide for Anybody Who Likes to Cook\n",
      "['1-> The Great Redwall Feast', '2-> Think and Grow Rich', '3-> The Catcher in the Rye', '4-> Real Kitchen: An Indespensible Guide for Anybody Who Likes to Cook', '5-> Capitalism: The Unknown Ideal', \"6-> Rocky Stories: Tales of Love, Hope, and Happiness at America's Most Famous Steps\", '7-> Oedipus the King', '8-> The Crime of Punishment', \"9-> The Miner's Canary: Enlisting Race, Resisting Power, Transforming Democracy\", '10-> For the Good of the Earth and Sun: Teaching Poetry']\n",
      "4-> Murasaki Shikibu: The Tale of Genji (Landmarks of World Literature)\n",
      "['1-> The Catcher In The Rye', \"2-> Cliffs Notes on Homer's The Odyssey\", '3-> Elizabeth Costello', '4-> Murasaki Shikibu: The Tale of Genji (Landmarks of World Literature)', '5-> Lysistrata', '6-> Peace', '7-> Eclogues. Georgics. Aeneid: Books 1-6', \"8-> Complications: A Surgeon's Notes on an Imperfect Science\", '9-> Euripides: Medea', '10-> The Great Bridge: The Epic Story of the Building of the Brooklyn Bridge']\n",
      "2-> The Lord of the Rings Trilogy Jigsaw Book - Collectors Edition\n",
      "['1-> The Silmarillion', '2-> The Lord of the Rings Trilogy Jigsaw Book - Collectors Edition', \"3-> Charlotte's Web by E.B. White: Teacher Guide\", '4-> The Best of Cordwainer Smith', '5-> The Philosophy of Tolkien: The Worldview Behind the Lord of the Rings', '6-> Tolkien and C.S. Lewis: The Gift of a Friendship', '7-> The Compleat Works of Wllm Shkspr', '8-> The Eclogues and The Georgics', '9-> The Long Patrol (Redwall, #10)', '10-> The Crime of Punishment']\n",
      "1-> The Tale of Genji (Landmarks of World Literature)\n",
      "3-> Oedipus Rex (The Theban Plays, #1)\n",
      "['1-> The Tale of Genji (Landmarks of World Literature)', '2-> Euripides: Medea', '3-> Oedipus Rex (The Theban Plays, #1)', '4-> The Metamorphoses of Ovid', '5-> The Three Theban Plays: Antigone / Oedipus the King / Oedipus at Colonus', '6-> The Snake Pit (The Master of Hestviken, #2)', \"7-> Desire and Duty: A Sequel to Jane Austen's Pride and Prejudice\", '8-> Elizabeth Costello', '9-> The Girl with a Pearl Earring', '10-> The Brothers K']\n",
      "6-> The No. 1 Ladies' Detective Agency (No. 1 Ladies' Detective Agency, #1)\n",
      "['1-> The Tale Of Genji', '2-> The Shadow of the Wind', '3-> Snow Falling on Cedars', '4-> The Stand, Part 2 of 2', '5-> The Great Bridge: The Epic Story of the Building of the Brooklyn Bridge', \"6-> The No. 1 Ladies' Detective Agency (No. 1 Ladies' Detective Agency, #1)\", \"7-> Eat, Pray, Love: One Woman's Search for Everything Across Italy, India and Indonesia\", '8-> The Little Sparrows (The Orphan Trains Trilogy, #1)', '9-> The Gold Mine: A Novel of Lean Turnaround', '10-> The Millionaire Next Door: The Surprising Secrets of Americas Wealthy']\n",
      "2-> The Lord of the Rings Trilogy Jigsaw Book - Collectors Edition\n",
      "['1-> The Catcher In The Rye', '2-> The Lord of the Rings Trilogy Jigsaw Book - Collectors Edition', '3-> The Silmarillion', '4-> The Road To Assisi: The Essential Biography Of St. Francis', '5-> The Shadow of the Wind', '6-> Life of Pi', '7-> Love As A Foreign Language #5', '8-> Pride And Joy: The Lives And Passions Of Women Without Children', '9-> Freakonomics: A Rogue Economist Explores the Hidden Side of Everything (Freakonomics, #1)', '10-> Indian Givers: How the Indians of the Americas Transformed the World']\n",
      "7-> The No. 1 Ladies' Detective Agency (No. 1 Ladies' Detective Agency, #1)\n",
      "['1-> The Shadow of the Wind', '2-> Mossflower (Redwall, #2)', '3-> The Secret Life of Bees', '4-> The Brothers K', '5-> The Iliad', '6-> The Last Assassin (John Rain, #5)', \"7-> The No. 1 Ladies' Detective Agency (No. 1 Ladies' Detective Agency, #1)\", '8-> Enchantment', '9-> Red Prophet (Tales of Alvin Maker, #2)', '10-> Gates of Fire']\n",
      "7-> The No. 1 Ladies' Detective Agency (No. 1 Ladies' Detective Agency, #1)\n",
      "['1-> The Tale of Genji', \"2-> The Devil's Broker: Seeking Gold, God, and Glory in Fourteenth- Century Italy\", '3-> Survival in Auschwitz', '4-> The Innocent', '5-> Atonement', '6-> Ghostwritten', \"7-> The No. 1 Ladies' Detective Agency (No. 1 Ladies' Detective Agency, #1)\", \"8-> Howl's Moving Castle (Howl's Moving Castle, #1)\", '9-> The Swords of Night and Day (The Drenai Saga, #11)', '10-> The Winter King (The Arthur Books, #1)']\n",
      "1-> The Tale of Genji (Landmarks of World Literature)\n",
      "['1-> The Tale of Genji (Landmarks of World Literature)', '2-> Survival in Auschwitz', '3-> The Secret Life of Bees', '4-> The Iliad', '5-> Atonement', '6-> The Europeans', '7-> The Innocent', '8-> The Power and the Glory', '9-> The Son Avenger (The Master of Hestviken, #4)', '10-> Medea and Other Plays: Medea / Alcestis / The Children of Heracles / Hippolytus']\n",
      "2-> Cry, the Beloved Country: A Novel of South Africa\n",
      "['1-> The Secret Life of Bees', '2-> Cry, the Beloved Country: A Novel of South Africa', '3-> The Shadow of the Wind', '4-> The Brothers K', '5-> The Europeans', '6-> The Iliad', \"7-> Galileo's Daughter\", '8-> Mossflower (Redwall, #2)', '9-> Triss (Redwall, #15)', '10-> The Last Assassin (John Rain, #5)']\n",
      "4-> The No. 1 Ladies' Detective Agency (No. 1 Ladies' Detective Agency, #1)\n",
      "[\"1-> The Tale of Genji: Scenes from the World's First Novel\", '2-> The Great Bridge: The Epic Story of the Building of the Brooklyn Bridge', '3-> The Gold Mine: A Novel of Lean Turnaround', \"4-> The No. 1 Ladies' Detective Agency (No. 1 Ladies' Detective Agency, #1)\", \"5-> Desire and Duty: A Sequel to Jane Austen's Pride and Prejudice\", '6-> The Brothers K', '7-> The Little Sparrows (The Orphan Trains Trilogy, #1)', '8-> The Long Goodbye: Memories of My Father', '9-> The Tale of Genji', \"10-> An Artist's Way Of Seeing\"]\n",
      "9-> Oedipus Rex (The Theban Plays, #1)\n",
      "['1-> Snow Falling on Cedars', \"2-> The Tale of Genji: Scenes from the World's First Novel\", '3-> Lysistrata', '4-> Medea and Other Plays: Medea / Alcestis / The Children of Heracles / Hippolytus', '5-> Peace', '6-> Euripides: Medea', '7-> The Stand: Das letzte Gefecht', \"8-> George Washington's Socks\", '9-> Oedipus Rex (The Theban Plays, #1)', '10-> The Metamorphoses of Ovid']\n",
      "5-> Killing Pablo: The Hunt for the World's Greatest Outlaw\n",
      "['1-> The Tipping Point: How Little Things Can Make a Big Difference', '2-> The Decline and Fall of the Roman Empire', '3-> The Mystery of the Aleph: Mathematics, the Kabbalah, and the Search for Infinity', '4-> The Final Days', \"5-> Killing Pablo: The Hunt for the World's Greatest Outlaw\", '6-> The Girl Who Played Go', '7-> Mexico: From the Olmecs to the Aztecs', '8-> The Moonstones', '9-> Hatchet Jobs: Writings on Contemporary Fiction', '10-> Dead Wrong (Joanna Brady, #12)']\n",
      "7-> The No. 1 Ladies' Detective Agency (No. 1 Ladies' Detective Agency, #1)\n",
      "['1-> Life of Pi', '2-> Wuthering Heights', '3-> The Tale Of Genji', '4-> The Brooklyn Follies', '5-> Mossflower (Redwall, #2)', '6-> Triss (Redwall, #15)', \"7-> The No. 1 Ladies' Detective Agency (No. 1 Ladies' Detective Agency, #1)\", '8-> The Innocent', '9-> The Antiquary', \"10-> The Innovator's Dilemma: The Revolutionary Book that Will Change the Way You Do Business\"]\n",
      "5-> Cry, the Beloved Country: A Novel of South Africa\n",
      "['1-> The Color Purple', '2-> In Cold Blood', '3-> The Terror', '4-> A Very Long Engagement', '5-> Cry, the Beloved Country: A Novel of South Africa', '6-> The Naked and the Dead', '7-> The Witch of Blackbird Pond and Related Readings', '8-> The Road Not Taken and Other Poems', '9-> The Inner Life of Martin Frost', '10-> The Return']\n",
      "7-> The Chestnut Soldier (Snow Spider, #3)\n",
      "['1-> The Da Vinci Code (Robert Langdon, #2)', '2-> Life of Pi', '3-> The Shadow of the Wind', '4-> The Plot Against America', '5-> The Winter King (The Arthur Books, #1)', '6-> A Painted House', '7-> The Chestnut Soldier (Snow Spider, #3)', '8-> The Road To Assisi: The Essential Biography Of St. Francis', '9-> The Tale Of Genji', '10-> The Philosophy of Tolkien: The Worldview Behind the Lord of the Rings']\n",
      "3-> Murasaki Shikibu: The Tale of Genji (Landmarks of World Literature)\n",
      "['1-> The Tale Of Genji', \"2-> The Tale of Genji: Scenes from the World's First Novel\", '3-> Murasaki Shikibu: The Tale of Genji (Landmarks of World Literature)', '4-> How to Make Anyone Fall in Love with You', '5-> Collected Stories', '6-> An American Life', '7-> My Movie Business: A Memoir', \"8-> Cliffs Notes on Homer's The Odyssey\", '9-> Elizabeth Costello', \"10-> Desire and Duty: A Sequel to Jane Austen's Pride and Prejudice\"]\n",
      "2-> The Tale of Genji (Landmarks of World Literature)\n",
      "10-> The Long Tail: Why The Future Is Selling Less Of More\n",
      "['1-> The Da Vinci Code (Robert Langdon, #2)', '2-> The Tale of Genji (Landmarks of World Literature)', '3-> The Antiquary', '4-> The Metamorphoses of Ovid', '5-> The Tale of Peter Rabbit', '6-> The Three Theban Plays: Antigone / Oedipus the King / Oedipus at Colonus', '7-> The Long Goodbye: Memories of My Father', '8-> The Wife (Kristin Lavransdatter, #2)', '9-> The Little Sparrows (The Orphan Trains Trilogy, #1)', '10-> The Long Tail: Why The Future Is Selling Less Of More']\n",
      "6-> The Lord of the Rings Trilogy Jigsaw Book - Collectors Edition\n",
      "['1-> The Shadow of the Wind', '2-> The Catcher In The Rye', '3-> The Silmarillion', '4-> Julius Caesar', '5-> The Color Purple', '6-> The Lord of the Rings Trilogy Jigsaw Book - Collectors Edition', '7-> Freakonomics: A Rogue Economist Explores the Hidden Side of Everything (Freakonomics, #1)', '8-> The Road To Assisi: The Essential Biography Of St. Francis', '9-> The Sisters Rosensweig', '10-> The Legend of Luke (Redwall, #12)']\n",
      "2-> The Tale of Genji (Landmarks of World Literature)\n",
      "['1-> Lysistrata', '2-> The Tale of Genji (Landmarks of World Literature)', '3-> The Emperor of Scent: A True Story of Perfume and Obsession', '4-> The Story and Its Writer: An Introduction to Short Fiction', '5-> Speaks the Nightbird (Matthew Corbett, #1)', '6-> The Fall of the Kings (Riverside, #3)', '7-> The Hanged Man', '8-> The Last Assassin (John Rain, #5)', '9-> The Aeneid', \"10-> The No. 1 Ladies' Detective Agency  (No. 1 Ladies' Detective Agency, #1)\"]\n",
      "5-> Murasaki Shikibu: The Tale of Genji (Landmarks of World Literature)\n",
      "['1-> The Da Vinci Code (Robert Langdon, #2)', '2-> Think and Grow Rich', '3-> A sud delle nuvole', '4-> My Movie Business: A Memoir', '5-> Murasaki Shikibu: The Tale of Genji (Landmarks of World Literature)', '6-> Rothko', '7-> Strange Attractions', '8-> Animals on the Other Side', \"9-> Salem's Lot\", '10-> Wuthering Heights']\n",
      "10-> The Devil's Broker: Seeking Gold, God, and Glory in Fourteenth-Century Italy\n",
      "['1-> The Catcher In The Rye', '2-> Dracula', '3-> The Shadow of the Wind', '4-> The Secret Life of Bees', '5-> Life of Pi', '6-> Gates of Fire', '7-> Julius Caesar', '8-> The Last Assassin (John Rain, #5)', '9-> The Color Purple', \"10-> The Devil's Broker: Seeking Gold, God, and Glory in Fourteenth-Century Italy\"]\n",
      "# of random recommendations: 77\n"
     ]
    }
   ],
   "execution_count": 35
  },
  {
   "metadata": {
    "ExecuteTime": {
     "end_time": "2024-04-26T09:33:06.848056Z",
     "start_time": "2024-04-26T09:33:06.826272Z"
    }
   },
   "cell_type": "code",
   "source": [
    "out_folder = \"/home/diego/chat-reranking/experiments/goodreads/recs/reranked_final\"\n",
    "df = pd.DataFrame.from_dict(new_data)\n",
    "df.to_json(f'{out_folder}/{recs_name}.json', orient=\"records\")"
   ],
   "id": "ac5fd0f064ce2c86",
   "outputs": [],
   "execution_count": 36
  },
  {
   "metadata": {
    "ExecuteTime": {
     "end_time": "2024-04-26T09:33:07.359849Z",
     "start_time": "2024-04-26T09:33:07.333253Z"
    }
   },
   "cell_type": "code",
   "source": [
    "recs_folder = \"/home/diego/chat-reranking/experiments/goodreads/recs/reranked_final\"\n",
    "top_n = 10\n",
    "\n",
    "# read JSON file\n",
    "f = open(f\"{recs_folder}/{recs_name}.json\")\n",
    "data = json.load(f)\n",
    "f.close()"
   ],
   "id": "a3db1da4cd876d2",
   "outputs": [],
   "execution_count": 37
  },
  {
   "metadata": {
    "ExecuteTime": {
     "end_time": "2024-04-26T09:33:08.400352Z",
     "start_time": "2024-04-26T09:33:08.397127Z"
    }
   },
   "cell_type": "code",
   "source": [
    "n_take = 10\n",
    "for entry in data:\n",
    "    if len(entry[\"reranked_recs\"]) < 10:\n",
    "        print(entry[\"userid\"])\n",
    "        n_take -= 1\n",
    "    if n_take == 0:\n",
    "        break"
   ],
   "id": "ff558853461f0653",
   "outputs": [],
   "execution_count": 38
  },
  {
   "metadata": {},
   "cell_type": "code",
   "outputs": [],
   "execution_count": null,
   "source": "",
   "id": "31b665266a80a9e"
  }
 ],
 "metadata": {
  "kernelspec": {
   "display_name": "Python 3",
   "language": "python",
   "name": "python3"
  },
  "language_info": {
   "codemirror_mode": {
    "name": "ipython",
    "version": 2
   },
   "file_extension": ".py",
   "mimetype": "text/x-python",
   "name": "python",
   "nbconvert_exporter": "python",
   "pygments_lexer": "ipython2",
   "version": "2.7.6"
  }
 },
 "nbformat": 4,
 "nbformat_minor": 5
}
