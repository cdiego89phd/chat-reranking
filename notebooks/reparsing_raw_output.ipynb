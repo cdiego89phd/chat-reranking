{
 "cells": [
  {
   "cell_type": "code",
   "execution_count": 1,
   "id": "initial_id",
   "metadata": {
    "collapsed": true,
    "ExecuteTime": {
     "end_time": "2023-12-15T10:57:45.091103605Z",
     "start_time": "2023-12-15T10:57:44.677137946Z"
    }
   },
   "outputs": [],
   "source": [
    "import json\n",
    "import re\n",
    "import pickle\n",
    "import pandas as pd\n",
    "import random"
   ]
  },
  {
   "cell_type": "code",
   "execution_count": 12,
   "outputs": [],
   "source": [],
   "metadata": {
    "collapsed": false,
    "ExecuteTime": {
     "end_time": "2023-11-23T17:53:15.813176473Z",
     "start_time": "2023-11-23T17:53:15.783331174Z"
    }
   },
   "id": "d79b734461a07735"
  },
  {
   "cell_type": "code",
   "execution_count": null,
   "outputs": [],
   "source": [],
   "metadata": {
    "collapsed": false
   },
   "id": "7d3a10518c137dd5"
  },
  {
   "cell_type": "markdown",
   "source": [
    "Method to add random recommendations from the candidate set when recommendation set is incomplete"
   ],
   "metadata": {
    "collapsed": false
   },
   "id": "2e2f36b267923cbc"
  },
  {
   "cell_type": "code",
   "execution_count": 8,
   "outputs": [],
   "source": [
    "def add_random_recs(initial_recs, candidate_set, userid) -> (list, int):\n",
    "    \n",
    "    initial_recs = [a for a in initial_recs if a in candidate_set]\n",
    "    \n",
    "    # a strange case where more than 10 items are recommeded\n",
    "    if len(initial_recs) > 10:\n",
    "        initial_recs = initial_recs[:10]\n",
    "\n",
    "    if len(initial_recs) == 10:\n",
    "        return initial_recs, 0\n",
    "    \n",
    "    new_candidates = list(set(candidate_set).difference(initial_recs))\n",
    "    nn = 10 - len(initial_recs)\n",
    "    random.shuffle(new_candidates)\n",
    "    try:\n",
    "        sampled = random.sample(new_candidates, nn)\n",
    "    except Exception as e:\n",
    "        print(userid)\n",
    "        print(nn)\n",
    "        print(new_candidates)\n",
    "    \n",
    "    assert len(initial_recs + sampled) == 10\n",
    "    \n",
    "    return initial_recs + sampled, nn"
   ],
   "metadata": {
    "collapsed": false,
    "ExecuteTime": {
     "end_time": "2023-12-15T11:00:33.226020018Z",
     "start_time": "2023-12-15T11:00:33.206190450Z"
    }
   },
   "id": "e56508e10232aba1"
  },
  {
   "cell_type": "markdown",
   "source": [
    "<h2> Re-parse recs for LLama2 (Goodreads)<h2>"
   ],
   "metadata": {
    "collapsed": false
   },
   "id": "676d694b836eb57b"
  },
  {
   "cell_type": "code",
   "execution_count": 366,
   "outputs": [],
   "source": [
    "recs_folder = \"/home/diego/chat-reranking/experiments/goodreads/recs/reranked\"\n",
    "recs_name = \"instructgpt-div-p6-pzt-fold_0\"\n",
    "top_n = 10\n",
    "\n",
    "# read JSON file\n",
    "f = open(f\"{recs_folder}/{recs_name}.json\")\n",
    "data = json.load(f)\n",
    "f.close()"
   ],
   "metadata": {
    "collapsed": false,
    "ExecuteTime": {
     "end_time": "2023-12-01T10:16:12.171022821Z",
     "start_time": "2023-12-01T10:16:12.100397892Z"
    }
   },
   "id": "c9a72c890c8ad832"
  },
  {
   "cell_type": "code",
   "execution_count": 367,
   "outputs": [],
   "source": [
    "if \"p11\" in recs_name or \"p12\" in recs_name or \"p5\" in recs_name or \"p6\" in recs_name:\n",
    "    with open(f\"/home/diego/chat-reranking/experiments/goodreads/itemnamegenres_to_id.pkl\", 'rb') as fp:\n",
    "        itemname_to_id = pickle.load(fp)\n",
    "else:\n",
    "    with open(f\"/home/diego/chat-reranking/experiments/goodreads/itemname_to_id.pkl\", 'rb') as fp:\n",
    "        itemname_to_id = pickle.load(fp)"
   ],
   "metadata": {
    "collapsed": false,
    "ExecuteTime": {
     "end_time": "2023-12-01T10:16:12.851260239Z",
     "start_time": "2023-12-01T10:16:12.838842625Z"
    }
   },
   "id": "5d9b2b8c9433b3be"
  },
  {
   "cell_type": "code",
   "execution_count": 368,
   "outputs": [],
   "source": [
    "def clean_name_goodreads(name: str, prompt:str) -> (int, str):\n",
    "    \n",
    "    # check first if name is in prompt\n",
    "    if name in prompt:\n",
    "        return 0, name\n",
    "    \n",
    "    name = name.replace('\"', \"\")\n",
    "    \n",
    "    # otherwise fix all the malformed output\n",
    "    if \" (#\" in name:\n",
    "        return 1, name.split(\" (#\")[0]\n",
    "    \n",
    "    if \"(\" in name:\n",
    "        return 1, name.split(\" (\")[0]\n",
    "    \n",
    "    if \"by\" in name:\n",
    "        splitted = name.split(\" by \")\n",
    "        if len(splitted) == 2:\n",
    "            return 1, splitted[0]\n",
    "        \n",
    "    if \"-\" in name: #  in prompt p11,p12 the list of genres are given after dash\n",
    "        splitted = name.split(\" - \")\n",
    "        if len(splitted) == 2:\n",
    "            new_out = f\"{splitted[0]} ({splitted[1].lower()})\"\n",
    "            # print(new_out)\n",
    "            return 1, new_out\n",
    "    return 0, name\n",
    "\n",
    "def parse_raw_output_goodreads(raw_output:str) -> list:\n",
    "    n_fixed = 0\n",
    "    lines = raw_output.splitlines()\n",
    "    reranked_recs = []\n",
    "    for line in lines:\n",
    "        try:\n",
    "            if len(line.split(\"-> \")) > 1:\n",
    "                item_name = line.split(\"-> \")[1]\n",
    "                \n",
    "                # clean name\n",
    "                fixed, cleaned_name = clean_name_goodreads(item_name, entry[\"prompt\"])\n",
    "                n_fixed += fixed\n",
    "                reranked_recs.append(itemname_to_id[cleaned_name])\n",
    "                continue\n",
    "\n",
    "            if len(re.split('1. |2. |3. |4. |5. |6. |7. |8. |9. |10. ', line)) > 0:\n",
    "                item_name = re.split('1. |2. |3. |4. |5. |6. |7. |8. |9. |10. ', line)[1]\n",
    "                \n",
    "                # clean name\n",
    "                fixed, cleaned_name = clean_name_goodreads(item_name, entry[\"prompt\"])\n",
    "                n_fixed += fixed\n",
    "                reranked_recs.append(itemname_to_id[cleaned_name])\n",
    "        except Exception as e:\n",
    "            continue\n",
    "    # print(f\"fixed: {n_fixed} records\")\n",
    "    return reranked_recs"
   ],
   "metadata": {
    "collapsed": false,
    "ExecuteTime": {
     "end_time": "2023-12-01T10:16:13.160131668Z",
     "start_time": "2023-12-01T10:16:13.053200817Z"
    }
   },
   "id": "ee4eb292ddc61594"
  },
  {
   "cell_type": "code",
   "execution_count": 369,
   "outputs": [
    {
     "name": "stdout",
     "output_type": "stream",
     "text": [
      "# of random recommendations: 182\n"
     ]
    }
   ],
   "source": [
    "new_data = []  # store here the new json data\n",
    "n_random_added = 0\n",
    "for entry in data:\n",
    "    new_entry = {}\n",
    "    for k in entry:\n",
    "        new_entry[k] = entry[k]\n",
    "        \n",
    "    # recompute reranked recommendations based on the raw output\n",
    "    new_recs = parse_raw_output_goodreads(entry[\"raw_gpt_outputs\"])\n",
    "    \n",
    "    # add random recommendations if the recommendation set is incomplete\n",
    "    new_entry['reranked_recs'], m = add_random_recs(new_recs, entry[\"recs\"], entry[\"userid\"])\n",
    "    n_random_added += m\n",
    "    \n",
    "    # print new recommendation set\n",
    "    new_data.append(new_entry)\n",
    "print(f\"# of random recommendations: {n_random_added}\")"
   ],
   "metadata": {
    "collapsed": false,
    "ExecuteTime": {
     "end_time": "2023-12-01T10:16:13.461783118Z",
     "start_time": "2023-12-01T10:16:13.373906110Z"
    }
   },
   "id": "819131f58214ab74"
  },
  {
   "cell_type": "code",
   "execution_count": 370,
   "outputs": [],
   "source": [
    "out_folder = \"/home/diego/chat-reranking/experiments/goodreads/recs/reranked_final\"\n",
    "df = pd.DataFrame.from_dict(new_data)\n",
    "df.to_json(f'{out_folder}/{recs_name}.json', orient=\"records\")"
   ],
   "metadata": {
    "collapsed": false,
    "ExecuteTime": {
     "end_time": "2023-12-01T10:16:13.463007456Z",
     "start_time": "2023-12-01T10:16:13.400590253Z"
    }
   },
   "id": "54f9391896a531d3"
  },
  {
   "cell_type": "code",
   "execution_count": 370,
   "outputs": [],
   "source": [],
   "metadata": {
    "collapsed": false,
    "ExecuteTime": {
     "end_time": "2023-12-01T10:16:13.608297190Z",
     "start_time": "2023-12-01T10:16:13.588968455Z"
    }
   },
   "id": "7e5d25dc752bd8ae"
  },
  {
   "cell_type": "code",
   "execution_count": 183,
   "outputs": [],
   "source": [],
   "metadata": {
    "collapsed": false,
    "ExecuteTime": {
     "end_time": "2023-11-30T16:29:48.080564944Z",
     "start_time": "2023-11-30T16:29:48.050295844Z"
    }
   },
   "id": "95304a44524897a3"
  },
  {
   "cell_type": "code",
   "execution_count": 184,
   "outputs": [],
   "source": [
    "recs_folder = \"/home/diego/chat-reranking/experiments/goodreads/recs/reranked_final\"\n",
    "recs_name = \"Llama-2-7b-chat-hf-div-p7-pzt-fold_0\"\n",
    "top_n = 10\n",
    "\n",
    "# read JSON file\n",
    "f = open(f\"{recs_folder}/{recs_name}.json\")\n",
    "data = json.load(f)\n",
    "f.close()"
   ],
   "metadata": {
    "collapsed": false,
    "ExecuteTime": {
     "end_time": "2023-11-30T16:29:48.303276374Z",
     "start_time": "2023-11-30T16:29:48.272865045Z"
    }
   },
   "id": "806c2f0eff13b69c"
  },
  {
   "cell_type": "code",
   "execution_count": 185,
   "outputs": [],
   "source": [
    "n_take = 10\n",
    "for entry in data:\n",
    "    if len(entry[\"reranked_recs\"]) < 10:\n",
    "        print(entry[\"userid\"])\n",
    "        n_take -= 1\n",
    "    if n_take == 0:\n",
    "        break"
   ],
   "metadata": {
    "collapsed": false,
    "ExecuteTime": {
     "end_time": "2023-11-30T16:29:48.522941267Z",
     "start_time": "2023-11-30T16:29:48.422606079Z"
    }
   },
   "id": "84b70a8a9be3c415"
  },
  {
   "cell_type": "code",
   "execution_count": null,
   "outputs": [],
   "source": [],
   "metadata": {
    "collapsed": false
   },
   "id": "a7260906e4e13ccd"
  },
  {
   "cell_type": "code",
   "execution_count": 33,
   "outputs": [],
   "source": [],
   "metadata": {
    "collapsed": false,
    "ExecuteTime": {
     "end_time": "2023-11-24T09:30:04.292417540Z",
     "start_time": "2023-11-24T09:30:04.238308726Z"
    }
   },
   "id": "20028ca1bca76b3a"
  },
  {
   "cell_type": "code",
   "execution_count": 33,
   "outputs": [],
   "source": [],
   "metadata": {
    "collapsed": false,
    "ExecuteTime": {
     "end_time": "2023-11-24T09:30:04.525110523Z",
     "start_time": "2023-11-24T09:30:04.452365364Z"
    }
   },
   "id": "a6a0dd59a33831a6"
  },
  {
   "cell_type": "markdown",
   "source": [
    "<h2> Re-parse recs for LLama2 (anime)<h2>"
   ],
   "metadata": {
    "collapsed": false
   },
   "id": "bdec6256b6b201c4"
  },
  {
   "cell_type": "code",
   "execution_count": 34,
   "outputs": [],
   "source": [
    "recs_folder = \"/home/diego/chat-reranking/experiments/anime/recs/reranked/llama2-13b\"\n",
    "recs_name = \"Llama-2-13b-chat-hf-div-p9-pzt-fold_0\"\n",
    "top_n = 10\n",
    "\n",
    "# read JSON file\n",
    "f = open(f\"{recs_folder}/{recs_name}.json\")\n",
    "data = json.load(f)\n",
    "f.close()"
   ],
   "metadata": {
    "collapsed": false,
    "ExecuteTime": {
     "end_time": "2023-12-15T12:48:53.468929496Z",
     "start_time": "2023-12-15T12:48:53.442281210Z"
    }
   },
   "id": "7ce3da200fec0e1c"
  },
  {
   "cell_type": "code",
   "execution_count": 35,
   "outputs": [],
   "source": [
    "if \"p11\" in recs_name or \"p12\" in recs_name or \"p5\" in recs_name or \"p6\" in recs_name:\n",
    "    with open(f\"/home/diego/chat-reranking/experiments/anime/itemnamegenres_to_id.pkl\", 'rb') as fp:\n",
    "        itemname_to_id = pickle.load(fp)\n",
    "else:\n",
    "    with open(f\"/home/diego/chat-reranking/experiments/anime/itemname_to_id.pkl\", 'rb') as fp:\n",
    "        itemname_to_id = pickle.load(fp)"
   ],
   "metadata": {
    "collapsed": false,
    "ExecuteTime": {
     "end_time": "2023-12-15T12:48:53.714303041Z",
     "start_time": "2023-12-15T12:48:53.705062515Z"
    }
   },
   "id": "fb584676108b2c9c"
  },
  {
   "cell_type": "code",
   "execution_count": 36,
   "outputs": [],
   "source": [
    "def clean_name_anime(name: str, prompt:str) -> (int, str):\n",
    "    \n",
    "    # check first if name is in prompt\n",
    "    if name in prompt:\n",
    "        return 0, name\n",
    "    \n",
    "    if \"(\" in name:\n",
    "        return 1, name.split(\"(\")[0][:-1]\n",
    " \n",
    "    return 0, name\n",
    "\n",
    "def parse_raw_output_anime(raw_output:str) -> list:\n",
    "    n_fixed = 0\n",
    "    lines = raw_output.splitlines()\n",
    "    reranked_recs = []\n",
    "    for line in lines:\n",
    "        try:\n",
    "            if len(line.split(\"-> \")) > 1:\n",
    "                item_name = line.split(\"-> \")[1]\n",
    "                \n",
    "                # clean name\n",
    "                fixed, cleaned_name = clean_name_anime(item_name, entry[\"prompt\"])\n",
    "                n_fixed += fixed\n",
    "                reranked_recs.append(itemname_to_id[cleaned_name])\n",
    "                continue\n",
    "\n",
    "            if len(re.split('1. |2. |3. |4. |5. |6. |7. |8. |9. |10. ', line)) > 0:\n",
    "                item_name = re.split('1. |2. |3. |4. |5. |6. |7. |8. |9. |10. ', line)[1]\n",
    "                \n",
    "                # clean name\n",
    "                fixed, cleaned_name = clean_name_anime(item_name, entry[\"prompt\"])\n",
    "                n_fixed += fixed\n",
    "                reranked_recs.append(itemname_to_id[cleaned_name])\n",
    "        except Exception as e:\n",
    "            continue\n",
    "    # print(f\"fixed: {n_fixed} records\")\n",
    "    return reranked_recs"
   ],
   "metadata": {
    "collapsed": false,
    "ExecuteTime": {
     "end_time": "2023-12-15T12:48:53.980521851Z",
     "start_time": "2023-12-15T12:48:53.968846688Z"
    }
   },
   "id": "335e60bb3851d316"
  },
  {
   "cell_type": "code",
   "execution_count": 37,
   "outputs": [
    {
     "name": "stdout",
     "output_type": "stream",
     "text": [
      "# of random recommendations: 349\n"
     ]
    }
   ],
   "source": [
    "new_data = []  # store here the new json data\n",
    "n_random_added = 0\n",
    "for entry in data:\n",
    "    new_entry = {}\n",
    "    for k in entry:\n",
    "        new_entry[k] = entry[k]\n",
    "        \n",
    "    # recompute reranked recommendations based on the raw output\n",
    "    new_recs = parse_raw_output_anime(entry[\"raw_gpt_outputs\"])\n",
    "    \n",
    "    # add random recommendations if the recommendation set is incomplete\n",
    "    new_entry['reranked_recs'], m = add_random_recs(new_recs, entry[\"recs\"], entry[\"userid\"])\n",
    "    n_random_added += m\n",
    "    \n",
    "    # print new recommendation set\n",
    "    new_data.append(new_entry)\n",
    "print(f\"# of random recommendations: {n_random_added}\")"
   ],
   "metadata": {
    "collapsed": false,
    "ExecuteTime": {
     "end_time": "2023-12-15T12:48:54.581288444Z",
     "start_time": "2023-12-15T12:48:54.569934411Z"
    }
   },
   "id": "b00afb4a8778ccd9"
  },
  {
   "cell_type": "code",
   "execution_count": 38,
   "outputs": [],
   "source": [
    "out_folder = \"/home/diego/chat-reranking/experiments/anime/recs/reranked_final\"\n",
    "df = pd.DataFrame.from_dict(new_data)\n",
    "df.to_json(f'{out_folder}/{recs_name}.json', orient=\"records\")"
   ],
   "metadata": {
    "collapsed": false,
    "ExecuteTime": {
     "end_time": "2023-12-15T12:48:55.336895076Z",
     "start_time": "2023-12-15T12:48:55.313526487Z"
    }
   },
   "id": "8f00f0bc54a3bc79"
  },
  {
   "cell_type": "code",
   "execution_count": 405,
   "outputs": [],
   "source": [],
   "metadata": {
    "collapsed": false,
    "ExecuteTime": {
     "end_time": "2023-12-01T10:19:17.277142880Z",
     "start_time": "2023-12-01T10:19:17.201190655Z"
    }
   },
   "id": "4c43f9ff0387689c"
  },
  {
   "cell_type": "code",
   "execution_count": 229,
   "outputs": [],
   "source": [
    "recs_folder = \"/home/diego/chat-reranking/experiments/anime/recs/reranked_final\"\n",
    "recs_name = \"Llama-2-7b-chat-hf-div-p7-pzt-fold_0\"\n",
    "top_n = 10\n",
    "\n",
    "# read JSON file\n",
    "f = open(f\"{recs_folder}/{recs_name}.json\")\n",
    "data = json.load(f)\n",
    "f.close()"
   ],
   "metadata": {
    "collapsed": false,
    "ExecuteTime": {
     "end_time": "2023-11-30T16:52:04.592982846Z",
     "start_time": "2023-11-30T16:52:04.567302451Z"
    }
   },
   "id": "100cd8e04692ba04"
  },
  {
   "cell_type": "code",
   "execution_count": 230,
   "outputs": [],
   "source": [
    "n_take = 10\n",
    "for entry in data:\n",
    "    if len(entry[\"reranked_recs\"]) < 10:\n",
    "        print(entry[\"userid\"])\n",
    "        n_take -= 1\n",
    "    if n_take == 0:\n",
    "        break"
   ],
   "metadata": {
    "collapsed": false,
    "ExecuteTime": {
     "end_time": "2023-11-30T16:52:05.028993687Z",
     "start_time": "2023-11-30T16:52:05.000976115Z"
    }
   },
   "id": "7ad770a41b5605f0"
  },
  {
   "cell_type": "code",
   "execution_count": null,
   "outputs": [],
   "source": [],
   "metadata": {
    "collapsed": false
   },
   "id": "e47e65a0e394b24"
  }
 ],
 "metadata": {
  "kernelspec": {
   "display_name": "Python 3",
   "language": "python",
   "name": "python3"
  },
  "language_info": {
   "codemirror_mode": {
    "name": "ipython",
    "version": 2
   },
   "file_extension": ".py",
   "mimetype": "text/x-python",
   "name": "python",
   "nbconvert_exporter": "python",
   "pygments_lexer": "ipython2",
   "version": "2.7.6"
  }
 },
 "nbformat": 4,
 "nbformat_minor": 5
}
