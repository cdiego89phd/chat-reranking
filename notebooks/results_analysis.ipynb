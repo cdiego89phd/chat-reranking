{
 "cells": [
  {
   "cell_type": "code",
   "execution_count": 1,
   "metadata": {
    "collapsed": true,
    "ExecuteTime": {
     "end_time": "2023-11-01T10:22:46.265411743Z",
     "start_time": "2023-11-01T10:22:45.991406146Z"
    }
   },
   "outputs": [],
   "source": [
    "import numpy as np\n",
    "import pandas as pd\n",
    "import random\n",
    "import pickle\n",
    "import json"
   ]
  },
  {
   "cell_type": "code",
   "execution_count": 1,
   "outputs": [],
   "source": [],
   "metadata": {
    "collapsed": false,
    "ExecuteTime": {
     "end_time": "2023-11-01T10:22:46.271594461Z",
     "start_time": "2023-11-01T10:22:46.267016824Z"
    }
   }
  },
  {
   "cell_type": "markdown",
   "source": [
    "<h2>Convert rec files for Ranksys</h2>"
   ],
   "metadata": {
    "collapsed": false
   }
  },
  {
   "cell_type": "code",
   "execution_count": 22,
   "outputs": [],
   "source": [
    "# filename = f\"/home/diego/chat-reranking/experiments/anime/itemid_to_name.pkl\"\n",
    "# with open(f\"{filename}\", 'rb') as fp:\n",
    "#     itemid_to_name = pickle.load(fp)\n",
    "# filename = f\"/home/diego/chat-reranking/experiments/anime/itemname_to_id.pkl\"\n",
    "# with open(f\"{filename}\", 'rb') as fp:\n",
    "#     itemname_to_id = pickle.load(fp)"
   ],
   "metadata": {
    "collapsed": false,
    "ExecuteTime": {
     "end_time": "2023-10-27T15:25:07.398079878Z",
     "start_time": "2023-10-27T15:25:07.379629046Z"
    }
   }
  },
  {
   "cell_type": "code",
   "execution_count": 23,
   "outputs": [],
   "source": [
    "# for i in [16498,31964,30276,20583,32182,33352,24833,34599,13601]:\n",
    "#     print(f\"{i}: {itemid_to_name[i]}\")\n",
    "# itemname_to_id[\"Assassination Classroom Second Season\"]"
   ],
   "metadata": {
    "collapsed": false,
    "ExecuteTime": {
     "end_time": "2023-10-27T15:25:07.581986709Z",
     "start_time": "2023-10-27T15:25:07.561658335Z"
    }
   }
  },
  {
   "cell_type": "code",
   "execution_count": 19,
   "outputs": [],
   "source": [
    "# print(\"Tune the length of the candidate set: chatgpt\")\n",
    "# max_pos = []\n",
    "# for entry in data:\n",
    "#     base = entry['recs']\n",
    "#     re_ranked = entry['reranked_recs']\n",
    "#     if len(re_ranked) == 0:\n",
    "#         continue\n",
    "#     \n",
    "#     def return_pos(i):\n",
    "#         if i in base:\n",
    "#             return base.index(i)\n",
    "#         else:\n",
    "#             return 0\n",
    "#         \n",
    "#     pos = [return_pos(r) for r in re_ranked]\n",
    "#     max_pos.append(max(pos))\n",
    "#     \n",
    "# print(f\"Average max reranking pos: {np.mean(max_pos)}\") \n",
    "# print(f\"Average std reranking pos: {np.std(max_pos)}\")   "
   ],
   "metadata": {
    "collapsed": false,
    "ExecuteTime": {
     "end_time": "2023-11-01T11:12:06.531377782Z",
     "start_time": "2023-11-01T11:12:06.511934532Z"
    }
   }
  },
  {
   "cell_type": "code",
   "execution_count": 21,
   "outputs": [],
   "source": [],
   "metadata": {
    "collapsed": false,
    "ExecuteTime": {
     "end_time": "2023-10-27T15:24:52.012649400Z",
     "start_time": "2023-10-27T15:24:51.998850438Z"
    }
   }
  },
  {
   "cell_type": "code",
   "execution_count": 113,
   "outputs": [],
   "source": [
    "recs_folder = \"/home/diego/chat-reranking/experiments/anime/recs/reranked\"\n",
    "recs_name = \"chatgpt0613-div-p5-pzt-fold_0\"\n",
    "top_n = 10\n",
    "\n",
    "# read JSON file\n",
    "f = open(f\"{recs_folder}/{recs_name}.json\")\n",
    "data = json.load(f)\n",
    "f.close()"
   ],
   "metadata": {
    "collapsed": false,
    "ExecuteTime": {
     "end_time": "2023-11-07T08:31:48.595645369Z",
     "start_time": "2023-11-07T08:31:48.551041863Z"
    }
   }
  },
  {
   "cell_type": "code",
   "execution_count": 114,
   "outputs": [],
   "source": [
    "train_folder = f\"/home/diego/chat-reranking/experiments/anime/fold_0/train_data.csv\"\n",
    "training_data = pd.read_csv(f'{train_folder}', names=[\"userid\", \"itemid\", \"rating\"], sep=\"\\t\")"
   ],
   "metadata": {
    "collapsed": false,
    "ExecuteTime": {
     "end_time": "2023-11-07T08:31:53.226742213Z",
     "start_time": "2023-11-07T08:31:49.636996525Z"
    }
   }
  },
  {
   "cell_type": "markdown",
   "source": [
    "Some recommendations might contain \n",
    "- less than 10 items\n",
    "- items that are from the training\n",
    "\n",
    "We need to remove these items from the recommenations (and count them)"
   ],
   "metadata": {
    "collapsed": false
   }
  },
  {
   "cell_type": "code",
   "execution_count": 115,
   "outputs": [
    {
     "name": "stdout",
     "output_type": "stream",
     "text": [
      "4525\n"
     ]
    }
   ],
   "source": [
    "# check whether some recommendations don't intersect with the candidate set\n",
    "recs = {}\n",
    "candidate_set = {}\n",
    "tot_rec_before_pruning = 0\n",
    "for entry in data:\n",
    "    userid = entry['userid']\n",
    "    recs[userid] = entry['reranked_recs']\n",
    "    candidate_set[userid] = entry['recs']\n",
    "    tot_rec_before_pruning += len(recs[userid])\n",
    "    user_train = training_data[training_data[\"userid\"] == entry['userid']][\"itemid\"].values.tolist()\n",
    "    to_prune = recs[userid]\n",
    "    for i, item in enumerate(recs[userid]):\n",
    "        if item not in candidate_set[userid]:\n",
    "            del to_prune[i]\n",
    "            # print(f\"user {entry['userid']}: {item}\")\n",
    "            # print(item)\n",
    "            # print(entry['recs'])\n",
    "            # print(\"######\")\n",
    "        recs[userid] = to_prune\n",
    "print(f\"{tot_rec_before_pruning}\")"
   ],
   "metadata": {
    "collapsed": false,
    "ExecuteTime": {
     "end_time": "2023-11-07T08:31:59.540060734Z",
     "start_time": "2023-11-07T08:31:53.236811371Z"
    }
   }
  },
  {
   "cell_type": "code",
   "execution_count": 116,
   "outputs": [
    {
     "name": "stdout",
     "output_type": "stream",
     "text": [
      "# of users with less than 10 recommendations: 137\n",
      "# of users with no recommendations: 22\n",
      "avg number of recommendations per user: 9.05\n"
     ]
    }
   ],
   "source": [
    "# count users with less than 10 recommendations\n",
    "count = 0\n",
    "count_none = 0\n",
    "avg_len = []\n",
    "for userid in recs:\n",
    "    avg_len.append(len(recs[userid]))\n",
    "    if len(recs[userid]) < 10:\n",
    "        count += 1\n",
    "    if len(recs[userid]) == 0:\n",
    "        count_none += 1\n",
    "print(f\"# of users with less than 10 recommendations: {count}\")\n",
    "print(f\"# of users with no recommendations: {count_none}\")\n",
    "print(f\"avg number of recommendations per user: {np.mean(avg_len)}\")"
   ],
   "metadata": {
    "collapsed": false,
    "ExecuteTime": {
     "end_time": "2023-11-07T08:32:01.965623016Z",
     "start_time": "2023-11-07T08:32:01.930052555Z"
    }
   }
  },
  {
   "cell_type": "code",
   "execution_count": 117,
   "outputs": [
    {
     "name": "stdout",
     "output_type": "stream",
     "text": [
      "Printed!\n",
      "# of excluded users: 137\n"
     ]
    }
   ],
   "source": [
    "# print final recommendations\n",
    "exclude_violating_recs = True\n",
    "excluded = 0\n",
    "with open(f\"{recs_folder}/{recs_name}\", \"w\") as f:\n",
    "    for userid in recs:\n",
    "        if len(recs[userid]) < 10:\n",
    "            excluded += 1\n",
    "            continue\n",
    "        score = float(top_n)\n",
    "        usr_str = \"\"\n",
    "        for r in recs[userid]:\n",
    "            usr_str += f\"{userid}\\t{r}\\t{score}\\n\"\n",
    "            score -= 1.0\n",
    "        f.write(usr_str)\n",
    "print(\"Printed!\")\n",
    "print(f\"# of excluded users: {excluded}\")"
   ],
   "metadata": {
    "collapsed": false,
    "ExecuteTime": {
     "end_time": "2023-11-07T08:32:34.446601564Z",
     "start_time": "2023-11-07T08:32:34.418925303Z"
    }
   }
  },
  {
   "cell_type": "code",
   "execution_count": null,
   "outputs": [],
   "source": [],
   "metadata": {
    "collapsed": false
   }
  },
  {
   "cell_type": "code",
   "execution_count": null,
   "outputs": [],
   "source": [],
   "metadata": {
    "collapsed": false
   }
  },
  {
   "cell_type": "markdown",
   "source": [
    "<h3>Analyse results<h3>"
   ],
   "metadata": {
    "collapsed": false
   }
  },
  {
   "cell_type": "code",
   "execution_count": 55,
   "outputs": [
    {
     "name": "stdout",
     "output_type": "stream",
     "text": [
      "Tune the length of the candidate set: baseline reranker MMR-pzt-fold_0_20_100\n",
      "Average max reranking pos: 22.436666666666667\n",
      "Average std reranking pos: 10.324049054943941\n"
     ]
    }
   ],
   "source": [
    "rerankers = [\"MMR-pzt-fold_0\", \"RxQuAD-pzt-fold_0\", \"xQuAD-pzt-fold_0\"]\n",
    "\n",
    "print(f\"Tune the length of the candidate set: baseline reranker {rerankers[0]}\")\n",
    "base_recs = pd.read_csv(f\"/home/diego/chat-reranking/experiments/anime/recs/baselines/pzt-fold_0_20_100\", \n",
    "                            names=[\"userid\", \"itemid\", \"rating\"], sep=\"\\t\")\n",
    "re_ranked = pd.read_csv(f\"/home/diego/chat-reranking/experiments/anime/recs/reranked/{rerankers[2]}\", \n",
    "                            names=[\"userid\", \"itemid\", \"rating\"], sep=\"\\t\")\n",
    "\n",
    "max_pos = []\n",
    "for userid in re_ranked[\"userid\"].unique()[:300]:\n",
    "    base = list(base_recs[base_recs[\"userid\"] == userid][\"itemid\"].values[:50])\n",
    "    recs = re_ranked[re_ranked[\"userid\"] == userid][\"itemid\"].values.tolist()\n",
    "        \n",
    "    pos = [base.index(r) for r in recs]\n",
    "    max_pos.append(max(pos))\n",
    "print(f\"Average max reranking pos: {np.mean(max_pos)}\") \n",
    "print(f\"Average std reranking pos: {np.std(max_pos)}\")  "
   ],
   "metadata": {
    "collapsed": false,
    "ExecuteTime": {
     "end_time": "2023-10-27T16:59:38.406790962Z",
     "start_time": "2023-10-27T16:59:31.843285484Z"
    }
   }
  },
  {
   "cell_type": "code",
   "execution_count": 47,
   "outputs": [
    {
     "data": {
      "text/plain": "   userid  itemid  rating\n0  198183   27899    10.0",
      "text/html": "<div>\n<style scoped>\n    .dataframe tbody tr th:only-of-type {\n        vertical-align: middle;\n    }\n\n    .dataframe tbody tr th {\n        vertical-align: top;\n    }\n\n    .dataframe thead th {\n        text-align: right;\n    }\n</style>\n<table border=\"1\" class=\"dataframe\">\n  <thead>\n    <tr style=\"text-align: right;\">\n      <th></th>\n      <th>userid</th>\n      <th>itemid</th>\n      <th>rating</th>\n    </tr>\n  </thead>\n  <tbody>\n    <tr>\n      <th>0</th>\n      <td>198183</td>\n      <td>27899</td>\n      <td>10.0</td>\n    </tr>\n  </tbody>\n</table>\n</div>"
     },
     "execution_count": 47,
     "metadata": {},
     "output_type": "execute_result"
    }
   ],
   "source": [
    "re_ranked.head(1)"
   ],
   "metadata": {
    "collapsed": false,
    "ExecuteTime": {
     "end_time": "2023-10-27T16:32:34.969098670Z",
     "start_time": "2023-10-27T16:32:34.945593162Z"
    }
   }
  },
  {
   "cell_type": "code",
   "execution_count": null,
   "outputs": [],
   "source": [],
   "metadata": {
    "collapsed": false
   }
  },
  {
   "cell_type": "markdown",
   "source": [
    "<h2>Results analysis</h2>"
   ],
   "metadata": {
    "collapsed": false
   }
  },
  {
   "cell_type": "code",
   "execution_count": 44,
   "outputs": [],
   "source": [
    "results_path = \"/home/diego/chat-reranking/experiments/anime/results/ranksys_eval\"\n",
    "baseline_recs = pd.read_csv(f\"{results_path}/pzt-fold_0-@10.csv\")\n",
    "random_recs = pd.read_csv(f\"{results_path}/Random-pzt-fold_0-@10.csv\")\n",
    "gpt_recs = pd.read_csv(f\"{results_path}/chatgpt0613-div-p1-pzt-fold_0-@10.csv\")\n",
    "mmr_recs = pd.read_csv(f\"{results_path}/MMR-pzt-fold_0-@10.csv\")\n",
    "xquad_recs = pd.read_csv(f\"{results_path}/xQuAD-pzt-fold_0-@10.csv\")\n",
    "rxquad_recs = pd.read_csv(f\"{results_path}/RxQuAD-pzt-fold_0-@10.csv\")"
   ],
   "metadata": {
    "collapsed": false,
    "ExecuteTime": {
     "end_time": "2023-11-01T14:10:37.169323147Z",
     "start_time": "2023-11-01T14:10:37.070492747Z"
    }
   }
  },
  {
   "cell_type": "code",
   "execution_count": 45,
   "outputs": [
    {
     "name": "stdout",
     "output_type": "stream",
     "text": [
      "ChatGPT better than baseline in the following metrics:\n",
      "s_recall_norel\n",
      "eild_norel\n",
      "binomial_norel\n",
      "binomial_rel\n",
      "cbs_norel\n",
      "epd_norel\n"
     ]
    }
   ],
   "source": [
    "d = {\"reranker\": [\"baseline (MF)\", \"Random\", \"chat-gpt\", \"MMR\", \"xQuAD\", \"RxQuAD\"]}\n",
    "print(\"ChatGPT better than baseline in the following metrics:\")\n",
    "for col in gpt_recs.columns:\n",
    "    d[col] = [baseline_recs[col][0], random_recs[col][0], gpt_recs[col][0], mmr_recs[col][0], xquad_recs[col][0], rxquad_recs[col][0]]\n",
    "    if gpt_recs[col][0] > baseline_recs[col][0]:\n",
    "        print(col)\n",
    "results = pd.DataFrame(data=d)"
   ],
   "metadata": {
    "collapsed": false,
    "ExecuteTime": {
     "end_time": "2023-11-01T14:12:22.245739706Z",
     "start_time": "2023-11-01T14:12:22.222974931Z"
    }
   }
  },
  {
   "cell_type": "code",
   "execution_count": 48,
   "outputs": [
    {
     "name": "stderr",
     "output_type": "stream",
     "text": [
      "/tmp/ipykernel_119808/726334765.py:2: SettingWithCopyWarning: \n",
      "A value is trying to be set on a copy of a slice from a DataFrame.\n",
      "Try using .loc[row_indexer,col_indexer] = value instead\n",
      "\n",
      "See the caveats in the documentation: https://pandas.pydata.org/pandas-docs/stable/user_guide/indexing.html#returning-a-view-versus-a-copy\n",
      "  results[\"reranker\"] = [\"baseline (MF)\", \"Random\", \"chat-gpt\", \"MMR\", \"xQuAD\", \"RxQuAD\"]\n"
     ]
    },
    {
     "data": {
      "text/plain": "       prec      ndcg    a_ndcg    a_ndcg  eild_rel  eild_norel  s_recall_rel  \\\n0  0.291400  0.316022  0.324519  0.324519  0.221073    0.775894       0.23365   \n1  0.146800  0.130343  0.153897  0.153897  0.094422    0.810569       0.14475   \n2  0.251149  0.280032  0.296920  0.296920  0.190156    0.808070       0.21796   \n3  0.272000  0.298836  0.313375  0.313375  0.221876    0.874003       0.23715   \n4  0.283000  0.301404  0.350005  0.350005  0.211741    0.779803       0.25115   \n5  0.279600  0.295440  0.337932  0.337932  0.206974    0.769586       0.24370   \n\n   s_recall_norel    a_ndcg    a_ndcg       reranker  \n0        0.472850  0.324519  0.324519  baseline (MF)  \n1        0.499250  0.153897  0.153897         Random  \n2        0.505244  0.296920  0.296920       chat-gpt  \n3        0.543650  0.313375  0.313375            MMR  \n4        0.538900  0.350005  0.350005          xQuAD  \n5        0.506150  0.337932  0.337932         RxQuAD  ",
      "text/html": "<div>\n<style scoped>\n    .dataframe tbody tr th:only-of-type {\n        vertical-align: middle;\n    }\n\n    .dataframe tbody tr th {\n        vertical-align: top;\n    }\n\n    .dataframe thead th {\n        text-align: right;\n    }\n</style>\n<table border=\"1\" class=\"dataframe\">\n  <thead>\n    <tr style=\"text-align: right;\">\n      <th></th>\n      <th>prec</th>\n      <th>ndcg</th>\n      <th>a_ndcg</th>\n      <th>a_ndcg</th>\n      <th>eild_rel</th>\n      <th>eild_norel</th>\n      <th>s_recall_rel</th>\n      <th>s_recall_norel</th>\n      <th>a_ndcg</th>\n      <th>a_ndcg</th>\n      <th>reranker</th>\n    </tr>\n  </thead>\n  <tbody>\n    <tr>\n      <th>0</th>\n      <td>0.291400</td>\n      <td>0.316022</td>\n      <td>0.324519</td>\n      <td>0.324519</td>\n      <td>0.221073</td>\n      <td>0.775894</td>\n      <td>0.23365</td>\n      <td>0.472850</td>\n      <td>0.324519</td>\n      <td>0.324519</td>\n      <td>baseline (MF)</td>\n    </tr>\n    <tr>\n      <th>1</th>\n      <td>0.146800</td>\n      <td>0.130343</td>\n      <td>0.153897</td>\n      <td>0.153897</td>\n      <td>0.094422</td>\n      <td>0.810569</td>\n      <td>0.14475</td>\n      <td>0.499250</td>\n      <td>0.153897</td>\n      <td>0.153897</td>\n      <td>Random</td>\n    </tr>\n    <tr>\n      <th>2</th>\n      <td>0.251149</td>\n      <td>0.280032</td>\n      <td>0.296920</td>\n      <td>0.296920</td>\n      <td>0.190156</td>\n      <td>0.808070</td>\n      <td>0.21796</td>\n      <td>0.505244</td>\n      <td>0.296920</td>\n      <td>0.296920</td>\n      <td>chat-gpt</td>\n    </tr>\n    <tr>\n      <th>3</th>\n      <td>0.272000</td>\n      <td>0.298836</td>\n      <td>0.313375</td>\n      <td>0.313375</td>\n      <td>0.221876</td>\n      <td>0.874003</td>\n      <td>0.23715</td>\n      <td>0.543650</td>\n      <td>0.313375</td>\n      <td>0.313375</td>\n      <td>MMR</td>\n    </tr>\n    <tr>\n      <th>4</th>\n      <td>0.283000</td>\n      <td>0.301404</td>\n      <td>0.350005</td>\n      <td>0.350005</td>\n      <td>0.211741</td>\n      <td>0.779803</td>\n      <td>0.25115</td>\n      <td>0.538900</td>\n      <td>0.350005</td>\n      <td>0.350005</td>\n      <td>xQuAD</td>\n    </tr>\n    <tr>\n      <th>5</th>\n      <td>0.279600</td>\n      <td>0.295440</td>\n      <td>0.337932</td>\n      <td>0.337932</td>\n      <td>0.206974</td>\n      <td>0.769586</td>\n      <td>0.24370</td>\n      <td>0.506150</td>\n      <td>0.337932</td>\n      <td>0.337932</td>\n      <td>RxQuAD</td>\n    </tr>\n  </tbody>\n</table>\n</div>"
     },
     "execution_count": 48,
     "metadata": {},
     "output_type": "execute_result"
    }
   ],
   "source": [
    "results = results[[\"prec\", \"ndcg\", \"a_ndcg\", \"eild_rel\", \"eild_norel\", \"s_recall_rel\", \"s_recall_norel\"]]\n",
    "results[\"reranker\"] = [\"baseline (MF)\", \"Random\", \"chat-gpt\", \"MMR\", \"xQuAD\", \"RxQuAD\"]\n",
    "results"
   ],
   "metadata": {
    "collapsed": false,
    "ExecuteTime": {
     "end_time": "2023-11-01T14:16:51.182207681Z",
     "start_time": "2023-11-01T14:16:51.088839878Z"
    }
   }
  },
  {
   "cell_type": "code",
   "execution_count": 106,
   "outputs": [],
   "source": [
    "results_path = \"/home/diego/chat-reranking/experiments/anime/results/ranksys_eval\"\n",
    "baseline_recs = pd.read_csv(f\"{results_path}/pzt-fold_0-@10.csv\")\n",
    "random_recs = pd.read_csv(f\"{results_path}/Random-pzt-fold_0-@10.csv\")\n",
    "chat_p1 = pd.read_csv(f\"{results_path}/chatgpt0613-div-p1-pzt-fold_0-@10.csv\")\n",
    "chat_p2 = pd.read_csv(f\"{results_path}/chatgpt0613-div-p2-pzt-fold_0-@10.csv\")\n",
    "chat_p3 = pd.read_csv(f\"{results_path}/chatgpt0613-div-p3-pzt-fold_0-@10.csv\")\n",
    "chat_p4 = pd.read_csv(f\"{results_path}/chatgpt0613-div-p4-pzt-fold_0-@10.csv\")\n",
    "instruct_p1 = pd.read_csv(f\"{results_path}/instructgpt-div-p1-pzt-fold_0-@10.csv\")\n",
    "instruct_p2 = pd.read_csv(f\"{results_path}/instructgpt-div-p2-pzt-fold_0-@10.csv\")"
   ],
   "metadata": {
    "collapsed": false,
    "ExecuteTime": {
     "end_time": "2023-11-04T10:50:24.915744565Z",
     "start_time": "2023-11-04T10:50:24.860458107Z"
    }
   }
  },
  {
   "cell_type": "code",
   "execution_count": 107,
   "outputs": [
    {
     "data": {
      "text/plain": "       prec      ndcg    a_ndcg  eild_rel  eild_norel  s_recall_rel  \\\n0  0.291400  0.316022  0.324519  0.221073    0.775894      0.233650   \n1  0.146800  0.130343  0.153897  0.094422    0.810569      0.144750   \n2  0.251149  0.280032  0.296920  0.190156    0.808070      0.217960   \n3  0.272973  0.297034  0.312735  0.213542    0.811058      0.232601   \n4  0.265138  0.291274  0.312821  0.204644    0.816447      0.231709   \n5  0.241768  0.263188  0.285443  0.182893    0.813821      0.215168   \n6  0.248069  0.266052  0.290308  0.190251    0.810730      0.222693   \n7  0.248125  0.274012  0.294177  0.189404    0.812691      0.219271   \n\n   s_recall_norel         reranker  \n0        0.472850    baseline (MF)  \n1        0.499250           Random  \n2        0.505244      chat-gpt-p1  \n3        0.503885      chat-gpt-p2  \n4        0.513360      chat-gpt-p3  \n5        0.515244      chat-gpt-p4  \n6        0.510515  instruct-gpt-p1  \n7        0.506510  instruct-gpt-p2  ",
      "text/html": "<div>\n<style scoped>\n    .dataframe tbody tr th:only-of-type {\n        vertical-align: middle;\n    }\n\n    .dataframe tbody tr th {\n        vertical-align: top;\n    }\n\n    .dataframe thead th {\n        text-align: right;\n    }\n</style>\n<table border=\"1\" class=\"dataframe\">\n  <thead>\n    <tr style=\"text-align: right;\">\n      <th></th>\n      <th>prec</th>\n      <th>ndcg</th>\n      <th>a_ndcg</th>\n      <th>eild_rel</th>\n      <th>eild_norel</th>\n      <th>s_recall_rel</th>\n      <th>s_recall_norel</th>\n      <th>reranker</th>\n    </tr>\n  </thead>\n  <tbody>\n    <tr>\n      <th>0</th>\n      <td>0.291400</td>\n      <td>0.316022</td>\n      <td>0.324519</td>\n      <td>0.221073</td>\n      <td>0.775894</td>\n      <td>0.233650</td>\n      <td>0.472850</td>\n      <td>baseline (MF)</td>\n    </tr>\n    <tr>\n      <th>1</th>\n      <td>0.146800</td>\n      <td>0.130343</td>\n      <td>0.153897</td>\n      <td>0.094422</td>\n      <td>0.810569</td>\n      <td>0.144750</td>\n      <td>0.499250</td>\n      <td>Random</td>\n    </tr>\n    <tr>\n      <th>2</th>\n      <td>0.251149</td>\n      <td>0.280032</td>\n      <td>0.296920</td>\n      <td>0.190156</td>\n      <td>0.808070</td>\n      <td>0.217960</td>\n      <td>0.505244</td>\n      <td>chat-gpt-p1</td>\n    </tr>\n    <tr>\n      <th>3</th>\n      <td>0.272973</td>\n      <td>0.297034</td>\n      <td>0.312735</td>\n      <td>0.213542</td>\n      <td>0.811058</td>\n      <td>0.232601</td>\n      <td>0.503885</td>\n      <td>chat-gpt-p2</td>\n    </tr>\n    <tr>\n      <th>4</th>\n      <td>0.265138</td>\n      <td>0.291274</td>\n      <td>0.312821</td>\n      <td>0.204644</td>\n      <td>0.816447</td>\n      <td>0.231709</td>\n      <td>0.513360</td>\n      <td>chat-gpt-p3</td>\n    </tr>\n    <tr>\n      <th>5</th>\n      <td>0.241768</td>\n      <td>0.263188</td>\n      <td>0.285443</td>\n      <td>0.182893</td>\n      <td>0.813821</td>\n      <td>0.215168</td>\n      <td>0.515244</td>\n      <td>chat-gpt-p4</td>\n    </tr>\n    <tr>\n      <th>6</th>\n      <td>0.248069</td>\n      <td>0.266052</td>\n      <td>0.290308</td>\n      <td>0.190251</td>\n      <td>0.810730</td>\n      <td>0.222693</td>\n      <td>0.510515</td>\n      <td>instruct-gpt-p1</td>\n    </tr>\n    <tr>\n      <th>7</th>\n      <td>0.248125</td>\n      <td>0.274012</td>\n      <td>0.294177</td>\n      <td>0.189404</td>\n      <td>0.812691</td>\n      <td>0.219271</td>\n      <td>0.506510</td>\n      <td>instruct-gpt-p2</td>\n    </tr>\n  </tbody>\n</table>\n</div>"
     },
     "execution_count": 107,
     "metadata": {},
     "output_type": "execute_result"
    }
   ],
   "source": [
    "d = {}\n",
    "for col in chat_p1.columns:\n",
    "    d[col] = [baseline_recs[col][0], \n",
    "              random_recs[col][0], \n",
    "              chat_p1[col][0], \n",
    "              chat_p2[col][0], \n",
    "              chat_p3[col][0], \n",
    "              chat_p4[col][0], \n",
    "              instruct_p1[col][0],\n",
    "              instruct_p2[col][0]\n",
    "              ]\n",
    "results = pd.DataFrame(data=d)\n",
    "results = results[[\"prec\", \"ndcg\", \"a_ndcg\", \"eild_rel\", \"eild_norel\", \"s_recall_rel\", \"s_recall_norel\"]]\n",
    "results[\"reranker\"] = [\"baseline (MF)\", \"Random\", \"chat-gpt-p1\", \"chat-gpt-p2\", \"chat-gpt-p3\", \"chat-gpt-p4\", \n",
    "                       \"instruct-gpt-p1\", \"instruct-gpt-p2\"]\n",
    "results"
   ],
   "metadata": {
    "collapsed": false,
    "ExecuteTime": {
     "end_time": "2023-11-04T10:51:19.423141685Z",
     "start_time": "2023-11-04T10:51:19.383613626Z"
    }
   }
  },
  {
   "cell_type": "code",
   "execution_count": null,
   "outputs": [],
   "source": [],
   "metadata": {
    "collapsed": false
   }
  },
  {
   "cell_type": "code",
   "execution_count": null,
   "outputs": [],
   "source": [],
   "metadata": {
    "collapsed": false
   }
  },
  {
   "cell_type": "code",
   "execution_count": 66,
   "outputs": [],
   "source": [
    "filename = f\"/home/diego/chat-rerank/experiments/ml-100k/itemid_to_name.pkl\"\n",
    "with open(f\"{filename}\", 'rb') as fp:\n",
    "    itemid_to_name = pickle.load(fp)"
   ],
   "metadata": {
    "collapsed": false,
    "ExecuteTime": {
     "end_time": "2023-07-04T16:51:33.427950265Z",
     "start_time": "2023-07-04T16:51:33.409206061Z"
    }
   }
  },
  {
   "cell_type": "code",
   "execution_count": 67,
   "outputs": [
    {
     "data": {
      "text/plain": "'Sabrina'"
     },
     "execution_count": 67,
     "metadata": {},
     "output_type": "execute_result"
    }
   ],
   "source": [
    "itemid_to_name[274]"
   ],
   "metadata": {
    "collapsed": false,
    "ExecuteTime": {
     "end_time": "2023-07-04T16:51:33.995433256Z",
     "start_time": "2023-07-04T16:51:33.986163676Z"
    }
   }
  },
  {
   "cell_type": "code",
   "execution_count": 68,
   "outputs": [],
   "source": [
    "filename = f\"/home/diego/chat-rerank/experiments/ml-100k/itemname_to_id.pkl\"\n",
    "with open(f\"{filename}\", 'rb') as fp:\n",
    "    itemname_to_id = pickle.load(fp)"
   ],
   "metadata": {
    "collapsed": false,
    "ExecuteTime": {
     "end_time": "2023-07-04T16:51:59.356602562Z",
     "start_time": "2023-07-04T16:51:59.345306808Z"
    }
   }
  },
  {
   "cell_type": "code",
   "execution_count": 69,
   "outputs": [
    {
     "data": {
      "text/plain": "486"
     },
     "execution_count": 69,
     "metadata": {},
     "output_type": "execute_result"
    }
   ],
   "source": [
    "itemname_to_id[\"Sabrina\"]"
   ],
   "metadata": {
    "collapsed": false,
    "ExecuteTime": {
     "end_time": "2023-07-04T16:51:59.807117388Z",
     "start_time": "2023-07-04T16:51:59.799648619Z"
    }
   }
  },
  {
   "cell_type": "code",
   "execution_count": 56,
   "outputs": [
    {
     "data": {
      "text/plain": "         movietitle       name                                genres\n0  Toy Story (1995)  Toy Story  ['Animation', 'Childrens', 'Comedy']",
      "text/html": "<div>\n<style scoped>\n    .dataframe tbody tr th:only-of-type {\n        vertical-align: middle;\n    }\n\n    .dataframe tbody tr th {\n        vertical-align: top;\n    }\n\n    .dataframe thead th {\n        text-align: right;\n    }\n</style>\n<table border=\"1\" class=\"dataframe\">\n  <thead>\n    <tr style=\"text-align: right;\">\n      <th></th>\n      <th>movietitle</th>\n      <th>name</th>\n      <th>genres</th>\n    </tr>\n  </thead>\n  <tbody>\n    <tr>\n      <th>0</th>\n      <td>Toy Story (1995)</td>\n      <td>Toy Story</td>\n      <td>['Animation', 'Childrens', 'Comedy']</td>\n    </tr>\n  </tbody>\n</table>\n</div>"
     },
     "execution_count": 56,
     "metadata": {},
     "output_type": "execute_result"
    }
   ],
   "source": [
    "filename = f\"/home/diego/chat-rerank/experiments/ml-100k/df_items.csv\"\n",
    "df_items = pd.read_csv(filename)\n",
    "df_items.head(1)"
   ],
   "metadata": {
    "collapsed": false,
    "ExecuteTime": {
     "end_time": "2023-07-04T10:52:04.196431675Z",
     "start_time": "2023-07-04T10:52:04.180511430Z"
    }
   }
  },
  {
   "cell_type": "code",
   "execution_count": 58,
   "outputs": [
    {
     "data": {
      "text/plain": "False    1664\nTrue       18\ndtype: int64"
     },
     "execution_count": 58,
     "metadata": {},
     "output_type": "execute_result"
    }
   ],
   "source": [
    "df_items.duplicated().value_counts()"
   ],
   "metadata": {
    "collapsed": false,
    "ExecuteTime": {
     "end_time": "2023-07-04T10:54:41.515718711Z",
     "start_time": "2023-07-04T10:54:41.493834093Z"
    }
   }
  },
  {
   "cell_type": "code",
   "execution_count": null,
   "outputs": [],
   "source": [],
   "metadata": {
    "collapsed": false
   }
  }
 ],
 "metadata": {
  "kernelspec": {
   "display_name": "Python 3",
   "language": "python",
   "name": "python3"
  },
  "language_info": {
   "codemirror_mode": {
    "name": "ipython",
    "version": 2
   },
   "file_extension": ".py",
   "mimetype": "text/x-python",
   "name": "python",
   "nbconvert_exporter": "python",
   "pygments_lexer": "ipython2",
   "version": "2.7.6"
  }
 },
 "nbformat": 4,
 "nbformat_minor": 0
}
